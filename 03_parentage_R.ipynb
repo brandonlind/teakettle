{
 "cells": [
  {
   "cell_type": "markdown",
   "metadata": {},
   "source": [
    "### The following is an adaptation from Moran & Clark (2011) [\"Estimating seed and pollen movement in a monoecious plant: a hierarchical Bayesian approach integrating genetic and ecological data\"](http://onlinelibrary.wiley.com/doi/10.1111/j.1365-294X.2011.05019.x/full)\n",
    "\n",
    "There are some differences, namely the incorporation of chloroplast loci used only to determine likelihood of a given tree as a pollen donor towards a given pedigree.\n",
    "\n",
    "I go back and forth between R and python, depending on what I need to do, and how quickly I need to do it. When I do so, I generally indicate it by a note within the code."
   ]
  },
  {
   "cell_type": "code",
   "execution_count": null,
   "metadata": {},
   "outputs": [],
   "source": [
    "source('~/imports.R') "
   ]
  },
  {
   "cell_type": "markdown",
   "metadata": {},
   "source": [
    "# step 1: enter data and make prelim calculations"
   ]
  },
  {
   "cell_type": "code",
   "execution_count": null,
   "metadata": {},
   "outputs": [],
   "source": [
    "df = read.csv('~/teakettle/data/moran/all_data.txt',header=T,sep='\\t')\n",
    "head(df)"
   ]
  },
  {
   "cell_type": "markdown",
   "metadata": {},
   "source": [
    "#### <center> for pub, distinguish some adults (e.g., DBH < 20) as seedling </center>"
   ]
  },
  {
   "cell_type": "code",
   "execution_count": null,
   "metadata": {},
   "outputs": [],
   "source": [
    "bframe1 <- df[which(df[,'seedling'] == 'False'),]\n",
    "bframe2 <- df[which(df[,'seedling'] == 'True'),]\n",
    "bframe3 <- bframe2[seq(1,nrow(bframe2),2),c('xutm','yutm')]\n",
    "bframe3[,'Area'] = rep('1',nrow(bframe3))"
   ]
  },
  {
   "cell_type": "code",
   "execution_count": null,
   "metadata": {},
   "outputs": [],
   "source": [
    "head(bframe1)"
   ]
  },
  {
   "cell_type": "code",
   "execution_count": null,
   "metadata": {},
   "outputs": [],
   "source": [
    "head(bframe2)"
   ]
  },
  {
   "cell_type": "code",
   "execution_count": null,
   "metadata": {},
   "outputs": [],
   "source": [
    "head(bframe3)"
   ]
  },
  {
   "cell_type": "code",
   "execution_count": null,
   "metadata": {},
   "outputs": [],
   "source": [
    "#Then enter or calculate number of loci, adults, etc.\n",
    "nloci <- 7\n",
    "nNuclear <- 4\n",
    "nadult <- nrow(bframe1)/2 #number of adults\n",
    "noff <- nrow(bframe2)/2 #number of seedlings \n",
    "nplot <- nrow(bframe3) #number of plots, not needed in script"
   ]
  },
  {
   "cell_type": "code",
   "execution_count": null,
   "metadata": {},
   "outputs": [],
   "source": [
    "nadult"
   ]
  },
  {
   "cell_type": "code",
   "execution_count": null,
   "metadata": {},
   "outputs": [],
   "source": [
    "noff"
   ]
  },
  {
   "cell_type": "code",
   "execution_count": null,
   "metadata": {},
   "outputs": [],
   "source": [
    "nplot"
   ]
  },
  {
   "cell_type": "code",
   "execution_count": null,
   "metadata": {},
   "outputs": [],
   "source": [
    "#Weighting factor (fecundity, size, etc)\n",
    "###This needs to be len(w)=nadults because of iopol.func\n",
    "w <- bframe1[seq(1,nrow(bframe1),2),'dbh_11']\n",
    "len(w) == nadult"
   ]
  },
  {
   "cell_type": "code",
   "execution_count": null,
   "metadata": {},
   "outputs": [],
   "source": [
    "#make sure no NA in weights\n",
    "mean(w)"
   ]
  },
  {
   "cell_type": "code",
   "execution_count": null,
   "metadata": {},
   "outputs": [],
   "source": [
    "#Size of mapped area? Coordinates for the corners of the mapped area:\n",
    "pcor <- rbind(c(100,100),c(-100,100),c(-100,-100),c(100,-100)) \n",
    "pcr <- nrow(pcor) #4 corners"
   ]
  },
  {
   "cell_type": "code",
   "execution_count": null,
   "metadata": {},
   "outputs": [],
   "source": [
    "#Because there are two rows of genotypes per individual, it is handy to be able to look at only one at a time:\n",
    "ba1 <- seq(1,nrow(bframe1)-1,by=2) #first genotype, adult\n",
    "ba2 <- seq(2,nrow(bframe1),by=2) #regenotype, adult\n",
    "bo1 <- seq(1,nrow(bframe2)-1,by=2) #rows for first genotype, offspring \n",
    "bo2 <- seq(2,nrow(bframe2),by=2) #rows for regenotype, offspring"
   ]
  },
  {
   "cell_type": "code",
   "execution_count": null,
   "metadata": {},
   "outputs": [],
   "source": [
    "#Where are adults and offspring located?\n",
    "adult.loc <- cbind(bframe1[ba1,'xutm'],bframe1[ba1,'yutm']) #adult locations \n",
    "off.loc <- cbind(bframe2[bo1,'xutm'],bframe2[bo1,'yutm']) #Seedling locations"
   ]
  },
  {
   "cell_type": "code",
   "execution_count": null,
   "metadata": {},
   "outputs": [],
   "source": [
    "#Seedling census plot information:\n",
    "#seedling plot locations, size\n",
    "plot.loc <- cbind(bframe3[,1],bframe3[,2],bframe3[,3]) #seedling plot locations, not used until graphing\n",
    "nplot <- nrow(plot.loc) #number of seedling plots\n",
    "off.plot <- rep(NA,noff); #which plot is each offspring in? This is never used!!!!!\n",
    "pld <- rep(NA,noff) \n",
    "for(k in 1:noff) #I can just use the column from my seedling data to specify the plot.ID\n",
    "    {\n",
    "        for(p in 1:nplot)\n",
    "            {\n",
    "                if(off.loc[k,1]==plot.loc[p,1] & off.loc[k,2]==plot.loc[p,2])\n",
    "                    { \n",
    "                        off.plot[k] <- p\n",
    "                    }\n",
    "            }\n",
    "    }\n",
    "pld <- bframe3[,3] #size of plot each offspring is in"
   ]
  },
  {
   "cell_type": "code",
   "execution_count": null,
   "metadata": {},
   "outputs": [],
   "source": [
    "head(plot.loc)"
   ]
  },
  {
   "cell_type": "code",
   "execution_count": null,
   "metadata": {},
   "outputs": [],
   "source": [
    "###What are the genotyping error rates? Example below for nloci = 6:\n",
    "#genotyping error rates per locus\n",
    "e1 <- rep(0.05,nloci) #mistyping \n",
    "e2 <- rep(0.05,nloci) #dropout"
   ]
  },
  {
   "cell_type": "code",
   "execution_count": null,
   "metadata": {},
   "outputs": [],
   "source": [
    "#dispersal priors - truncated normal distributions\n",
    "msp <- 253 #seed mean\n",
    "sdsp <- 1000 # seed sd \n",
    "mpp <- 2000 #pollen mean \n",
    "sdpp <- 1500 # pollen sd"
   ]
  },
  {
   "cell_type": "code",
   "execution_count": null,
   "metadata": {},
   "outputs": [],
   "source": [
    "#...and these limits on the jump distribution for the Gibbs sampler provide the truncation. \n",
    "#jump distribution limits for updating seed and pollen parameters in Gibbs sampler\n",
    "los <- 10 #lower bound on us\n",
    "his <- 10000 #upper bound on us\n",
    "lop <- 1 #lower bound on up\n",
    "hip <- 15000 #upper bound on up "
   ]
  },
  {
   "cell_type": "code",
   "execution_count": null,
   "metadata": {},
   "outputs": [],
   "source": [
    "#Calculate allele frequencies, number of alleles:\n",
    "## identify alleles\n",
    "alist <- numeric(0) #list of unique alleles\n",
    "aa <- numeric(0) #list of all observed alleles \n",
    "nallele <- rep(0,nloci) #number of alleles observed\n",
    "aa1 <- c(8,10,12,14,16,17,18) #adult allele1 column\n",
    "aa2 <- c(9,11,13,15,16,17,18) #adult allele2 column\n",
    "oa1 <- c(8,10,12,14,16,17,18) #seedling allele1 column\n",
    "oa2 <- c(9,11,13,15,16,17,18) #seedling allele2 column"
   ]
  },
  {
   "cell_type": "code",
   "execution_count": null,
   "metadata": {},
   "outputs": [],
   "source": [
    "for (t in 1:nloci)\n",
    "{ \n",
    "    #c() = c(1st adult allele of the t'th locus,2nd adult allele at the t'th locus, \n",
    "        #1st seedling allele ..., 2nd seedling allele ...)\n",
    "    q <- sort(c(bframe1[ba1,aa1[t]],bframe1[ba1,aa2[t]],bframe2[bo1,oa1[t]],bframe2[bo1,oa2[t]]), \n",
    "              na.last=NA, decreasing = FALSE)\n",
    "    qq <- q[q != 0] #concatenates list of sorted alleles, excludes missing allelotypes\n",
    "    alist <- append(alist,list(unique(qq))) #IDs unique alleles from qq, adds them to alist\n",
    "    aa <- append(aa,list(qq)) \n",
    "    nallele[t] <- length(unique(qq))\n",
    "}"
   ]
  },
  {
   "cell_type": "code",
   "execution_count": null,
   "metadata": {},
   "outputs": [],
   "source": [
    "##calculate allele frequencies \n",
    "max.na <- max(nallele)\n",
    "freq <- matrix(NA,nloci,max.na)\n",
    "for (y in 1:nloci)\n",
    "{\n",
    "    f <- c(rep(0,nallele[y])) \n",
    "    for (h in 1:(nallele[y]))\n",
    "    {\n",
    "        f[h] <- (length(which(aa[[y]]==alist[[y]][h])))/(length(aa[[y]])) \n",
    "    }\n",
    "    freq[y,c(1:nallele[[y]])] <- f \n",
    "}"
   ]
  },
  {
   "cell_type": "code",
   "execution_count": null,
   "metadata": {},
   "outputs": [],
   "source": [
    "#Probability of observing a genotype given allele frequencies\n",
    "pgen <- numeric(0)\n",
    "for (l in 1:nloci)\n",
    "{\n",
    "    fx <- matrix(freq[l,1:nallele[[l]]],nrow=nallele[[l]],ncol=nallele[[l]],byrow=T)\n",
    "    fy <- matrix(freq[l,1:nallele[[l]]],nrow=nallele[[l]],ncol=nallele[[l]]) \n",
    "    pg <- fx*fy\n",
    "    pgen <- append(pgen,list(pg)) \n",
    "}"
   ]
  },
  {
   "cell_type": "code",
   "execution_count": null,
   "metadata": {},
   "outputs": [],
   "source": [
    "# the originl script has only one gadult matrix, I'm using two to allow chloroplast alleles\n",
    "    #to only be considered when considering a potential father\n",
    "#Observed genotypes.\n",
    "## adult genotypes\n",
    "ga1 <- bframe1[ba1,aa1] \n",
    "ga2 <- bframe1[ba1,aa2]\n",
    "gadult1 <- matrix(NA,nadult,nloci) \n",
    "gadult2 <- gadult1\n",
    "for (j in 1:nadult)\n",
    "{ \n",
    "    for (k in 1:nloci)\n",
    "    {\n",
    "        for (q in 1:nallele[[k]])\n",
    "        {\n",
    "            if (ga1[j,k]==alist[[k]][q]) #if the j'th adult's k'th locus's allele#1 is the same as the q'th allele of the k'th locus:\n",
    "            { \n",
    "                gadult1[j,k] <- q          #keep track of which allele is the q'th allele of locus k\n",
    "            }\n",
    "\n",
    "            if (ga1[j,k]==0)              #if the j'th adult's k'th locus's allele#1 is missing:\n",
    "            {\n",
    "                gadult1[j,k] <- 0         #mark as missing\n",
    "            }\n",
    "\n",
    "            if (ga2[j,k]==alist[[k]][q]) \n",
    "            {\n",
    "                gadult2[j,k] <- q \n",
    "            }\n",
    "\n",
    "            if (ga2[j,k]==0) \n",
    "            {\n",
    "                gadult2[j,k] <- 0\n",
    "            }\n",
    "        }\n",
    "    }\n",
    "}\n",
    "gadult <- append(list(gadult1),list(gadult2))\n",
    "gadultF <- gadult\n",
    "gadult[[1]][,5:7] <- 0\n",
    "gadult[[2]][,5:7] <- 0"
   ]
  },
  {
   "cell_type": "code",
   "execution_count": null,
   "metadata": {},
   "outputs": [],
   "source": [
    "write.table(gadult[[1]],'~/teakettle/gadult1.txt',sep='\\t')"
   ]
  },
  {
   "cell_type": "code",
   "execution_count": null,
   "metadata": {},
   "outputs": [],
   "source": [
    "# again, I am using two gadultr matrices to distinguish fathers\n",
    "# second genotyping\n",
    "gar1 <- bframe1[ba2,aa1] \n",
    "gar2 <- bframe1[ba2,aa2]\n",
    "gadultr1 <- matrix(NA,nadult,nloci)\n",
    "gadultr2 <- gadultr1\n",
    "\n",
    "for (j in 1:nadult)\n",
    "{\n",
    "    for (k in 1:nloci)\n",
    "    {\n",
    "        for (q in 1:nallele[[k]])\n",
    "        {\n",
    "            if (gar1[j,k] == alist[[k]][q]) \n",
    "            {\n",
    "                gadultr1[j,k] <- q \n",
    "            }\n",
    "            if (gar1[j,k] == 0) \n",
    "            {\n",
    "                gadultr1[j,k] <- 0\n",
    "            }\n",
    "            if (gar2[j,k] == alist[[k]][q]) \n",
    "            {\n",
    "                gadultr2[j,k] <- q \n",
    "            }\n",
    "            if (gar2[j,k] == 0)\n",
    "            {\n",
    "                gadultr2[j,k] <- 0\n",
    "            }\n",
    "        }\n",
    "    }\n",
    "}\n",
    "gadult.r <- append(list(gadultr1),list(gadultr2))\n",
    "gadultF.r <- gadult.r #father\n",
    "gadult.r[[1]][,5:7] <- 0 #mother\n",
    "gadult.r[[2]][,5:7] <- 0 #mother"
   ]
  },
  {
   "cell_type": "code",
   "execution_count": null,
   "metadata": {},
   "outputs": [],
   "source": [
    "##offspring genotypes \n",
    "go1 <- bframe2[bo1,oa1] #the rows for the offspring first genotype, the columns for the offsprings first allele of each locus\n",
    "go2 <- bframe2[bo1,oa2] #the rows for the offspring first genotype, the columns for the offsprings second allele of each locus\n",
    "goff1 <- matrix(NA,noff,nloci) #a matrix containing the first allele of a particular locus\n",
    "goff2 <- goff1 #a matrix containing the second allele of a particular locus\n",
    "for (j in 1:noff)\n",
    "{\n",
    "    for (k in 1:nloci)\n",
    "    {\n",
    "        for (q in 1:nallele[[k]]) #for the qth allele of the kth locus\n",
    "        {\n",
    "            if (go1[j,k] == alist[[k]][q]) \n",
    "            {\n",
    "                goff1[j,k] <- q #put the qth allele into the matrix cell corresponding to the jth offspring's kth locus\n",
    "            }\n",
    "            if (go1[j,k] == 0) \n",
    "            {\n",
    "                goff1[j,k] <- 0 #offspring is missing a genotype for the first allele\n",
    "            }\n",
    "            if (go2[j,k] == alist[[k]][q]) \n",
    "            {\n",
    "                goff2[j,k] <- q \n",
    "            }\n",
    "            if (go2[j,k] == 0) #offspring is missing a genotype for the second allele\n",
    "            {\n",
    "                goff2[j,k] <- 0\n",
    "            }\n",
    "        }\n",
    "    }\n",
    "}\n",
    "#a list where the 1st element is a matrix of the first allele, 2nd element is a matrix of the 2nd allele\n",
    "goff <- append(list(goff1),list(goff2)) "
   ]
  },
  {
   "cell_type": "code",
   "execution_count": null,
   "metadata": {},
   "outputs": [],
   "source": [
    "# regenotyping\n",
    "gor1 <- bframe2[bo2,oa1] \n",
    "gor2 <- bframe2[bo2,oa2]\n",
    "goff1r <- matrix(NA,noff,nloci) \n",
    "goff2r <- goff1r\n",
    "for (j in 1:noff)\n",
    "{\n",
    "    for (k in 1:nloci)\n",
    "    {\n",
    "        for (q in 1:nallele[[k]])\n",
    "        {\n",
    "            if (gor1[j,k] == alist[[k]][q])\n",
    "            { \n",
    "                goff1r[j,k] <- q \n",
    "            }\n",
    "            if (gor1[j,k] == 0) \n",
    "            {\n",
    "                goff1r[j,k] <- 0\n",
    "            }\n",
    "            if (gor2[j,k] == alist[[k]][q]) \n",
    "            {\n",
    "                goff2r[j,k] <- q \n",
    "            }\n",
    "            if (gor2[j,k] == 0) \n",
    "            {\n",
    "                goff2r[j,k] <- 0\n",
    "            }\n",
    "        }\n",
    "    }\n",
    "}\n",
    "goff.r <- append(list(goff1r),list(goff2r))"
   ]
  },
  {
   "cell_type": "markdown",
   "metadata": {},
   "source": [
    "# Step 2: Functions"
   ]
  },
  {
   "cell_type": "code",
   "execution_count": null,
   "metadata": {},
   "outputs": [],
   "source": [
    "#How far apart are adults, seedlings?\n",
    "##calculates a distance matrix \n",
    "distmat <- function(x1,y1,x2,y2)\n",
    "{\n",
    "    xd <- outer(x1,x2,function(x1,x2) (x1 - x2)^2) \n",
    "    yd <- outer(y1,y2,function(y1,y2) (y1 - y2)^2) \n",
    "    d <- t(sqrt(xd + yd))\n",
    "    return(d)\n",
    "}\n",
    "\n",
    "#The 2D-t kernel (probability per m2 of dispersing a given distance), and a truncated normal distribution:\n",
    "##2D-t dispersal function\n",
    "# where d is distance, u is disp param\n",
    "disp.func <- function(d,u)\n",
    "    {\n",
    "        1/(pi*u*(1+(d^2/u))^2)\n",
    "    }\n",
    "\n",
    "\n",
    "## truncated normal distribution, where lo is lowerbound and hi is upper bound \n",
    "tnorm <- function(n,lo,hi,mu,sig)\n",
    "{\n",
    "    z <- runif(n,0,1)\n",
    "    qlo <- pnorm((lo-mu)/sig)\n",
    "    qhi <- pnorm((hi-mu)/sig)\n",
    "    rr <- mu + sig*qnorm(qlo+z*(qhi-qlo)) \n",
    "    return(rr)\n",
    "}\n",
    "\n",
    "#If you want to calculate an expected dispersal distance from a u, or vice versa:\n",
    "#function to find a u with a mean distance \n",
    "mean.func <- function(u.in)\n",
    "    { \n",
    "        pi*(sqrt(u.in))/2 \n",
    "    }\n",
    "\n",
    "#function to find a mean distance with a u \n",
    "u.func <- function(m.in)\n",
    "    { \n",
    "        (2*m.in/pi)^2 \n",
    "    }\n",
    "\n",
    "#Probability of observed genotype (Go) given true genotype (G). Mistyping involves one step in either direction:\n",
    "pgo.func <- function(a1,a2,e1,e2,l)\n",
    "{\n",
    "    gmat <- matrix(0,nallele[l],nallele[l]) \n",
    "    PE <- rep(0,8)\n",
    "    #event 1 - no error\n",
    "    PE[1] <- ((1-e1[l])^2)*((1-e2[l])^2)/(1-e2[l]^2)\n",
    "    #event 2 - a1 mistyped\n",
    "    PE[2] <-e1[l]*(1-e1[l])*((1-e2[l])^2)/(1-e2[l]^2)\n",
    "    #event 3 - a2 mistyped\n",
    "    PE[3] <-e1[l]*(1-e1[l])*((1-e2[l])^2)/(1-e2[l]^2)\n",
    "    #event 4 - both mistyped\n",
    "    PE[4] <-(e1[l]^2)*((1-e2[l])^2)/(1-e2[l]^2)\n",
    "    #event 5 - a1 dropped (either correct or mistyped), a2 correct \n",
    "    PE[5] <-(1-e1[l])*e2[l]*(1-e2[l])/(1-e2[l]^2)\n",
    "    #event 6 - a1 correct, a2 dropped (either correct or mistyped) \n",
    "    PE[6] <-(1-e1[l])*e2[l]*(1-e2[l])/(1-e2[l]^2)\n",
    "    #event 7 - a1 dropped (either correct or mistyped), a2 mistyped \n",
    "    PE[7] <-e1[l]*(1-e2[l])*e2[l]/(1-e2[l]^2)\n",
    "    #event 8 - a1 mistyped, a2 dropped (either correct or mistyped) \n",
    "    PE[8] <-e1[l]*(1-e2[l])*e2[l]/(1-e2[l]^2)\n",
    "    # event 1\n",
    "    gmat[a1,a2] <- PE[1]*1 + gmat[a1,a2]\n",
    "    #event 5\n",
    "    gmat[a2,a2] <- PE[5]*1/2 + gmat[a2,a2]\n",
    "    #event 6\n",
    "    gmat[a1,a1] <- PE[6]*1/2 + gmat[a1,a1]\n",
    "    lmax <- nallele[l]-1\n",
    "    mt1 <- 1/(lmax)\n",
    "    # event 2\n",
    "    if(a1>1)\n",
    "    {\n",
    "        gmat[1:(a1-1),a2] <- PE[2]*mt1 + gmat[1:(a1-1),a2]\n",
    "    }\n",
    "    if(a1<nallele[l]) \n",
    "    {\n",
    "        gmat[(a1+1):nallele[l],a2] <- PE[2]*mt1 + gmat[(a1+1):nallele[l],a2]\n",
    "    }\n",
    "    # event 3\n",
    "    if(a2>1) \n",
    "    {\n",
    "        gmat[a1,1:(a2-1)] <- PE[3]*mt1 + gmat[a1,1:(a2-1)]\n",
    "    }\n",
    "    if(a2<nallele[l]) \n",
    "    {\n",
    "        gmat[a1,(a2+1):nallele[l]] <- PE[3]*mt1 + gmat[a1,(a2+1):nallele[l]]\n",
    "    }\n",
    "    # event 4\n",
    "    xx <- matrix(0,nallele[l],nallele[l])\n",
    "    if(a1>1 & a2>1) \n",
    "    {\n",
    "        xx[1:(a1-1),1:(a2-1)] <- PE[4]+xx[1:(a1-1),1:(a2-1)]\n",
    "    }\n",
    "    if(a1<nallele[l] & a2<nallele[l]) \n",
    "    {\n",
    "        xx[(a1+1):nallele[l],(a2+1):nallele[l]] <- PE[4]+xx[(a1+1):nallele[l],(a2+1):nallele[l]]\n",
    "    }\n",
    "    if(a1>1 & a2<nallele[l]) \n",
    "    {\n",
    "        xx[1:(a1-1),(a2+1):nallele[l]] <- PE[4] + xx[1:(a1- 1),(a2+1):nallele[l]]\n",
    "    }\n",
    "    if(a1<nallele[l] & a2>1) \n",
    "    {\n",
    "        xx[(a1+1):nallele[l],1:(a2-1)] <- PE[4] + xx[(a1+1):nallele[l],1:(a2-1)]\n",
    "    }\n",
    "    wx <- length(which(xx>0)) \n",
    "    gmat <- (xx/wx) + gmat\n",
    "    #event 7\n",
    "    xx <- matrix(0,nallele[l],nallele[l])\n",
    "    if(a2>1) \n",
    "    {\n",
    "        xx[1:(a2-1),1:(a2-1)] <- PE[7]\n",
    "    }\n",
    "    if(a2<nallele[l]) \n",
    "    {\n",
    "        xx[(a2+1):nallele[l],(a2+1):nallele[l]] <- PE[7]\n",
    "    }\n",
    "    wx <- length(which(xx>0)) \n",
    "    gmat <- (xx/wx) + gmat\n",
    "    #event 8\n",
    "    xx <- matrix(0,nallele[l],nallele[l])\n",
    "    if(a1>1) \n",
    "    {\n",
    "        xx[1:(a1-1),1:(a1-1)] <- PE[8]\n",
    "    }\n",
    "    if(a1<nallele[l]) \n",
    "    {\n",
    "        xx[(a1+1):nallele[l],(a1+1):nallele[l]] <- PE[8]\n",
    "    }\n",
    "    wx <- length(which(xx>0)) \n",
    "    gmat <- (xx/wx) + gmat\n",
    "    gmat <- gmat/sum(gmat)\n",
    "    \n",
    "    return(gmat) \n",
    "} #end of pgo.func function\n",
    "\n",
    "#Probability of true genotype (G) given observed genotype (Go):\n",
    "pg.func <- function(a1,a2,e1,e2,l)\n",
    "{ #gives true given observed\n",
    "    pogt <- matrix(0,nallele[l],nallele[l])\n",
    "    for (t in 1:nallele[l]) #for the tth allele at the lth locus\n",
    "    { \n",
    "        for (y in 1:nallele[l]) #for the yth allele at the lth\n",
    "        {\n",
    "            gmat <- pgo.func(t,y,e1,e2,l)\n",
    "            pogt[t,y] <- gmat[a1,a2] #probability of observed given true genotype ty \n",
    "        }\n",
    "    }\n",
    "    #divided by sum over all possible genotypes \n",
    "    ptgo <- pogt*pgen[[l]]/sum(pogt*pgen[[l]])\n",
    "    \n",
    "    return (ptgo) \n",
    "}\n",
    "\n",
    "#Probability of seed dispersal from sampled adults to location of each seedling\n",
    "dprob.func <- function(us)\n",
    "{ \n",
    "    dprob <- matrix(NA,noff,nadult)\n",
    "    for (i in 1:noff)\n",
    "    { \n",
    "        for (j in 1:nadult)\n",
    "        {#d.po is distance of sampled parent to sampled offspring \n",
    "            dprob[i,j] <- disp.func(d.po[i,j],us) \n",
    "        }\n",
    "    }\n",
    "    \n",
    "    return(dprob) \n",
    "}\n",
    "\n",
    "#Probability of pollen dispersal between sampled adults\n",
    "pprob.func <- function(up)\n",
    "{\n",
    "    pprob <- matrix(NA,nadult,nadult)\n",
    "    for (j in 1:nadult)\n",
    "    { \n",
    "        for (k in 1:nadult)\n",
    "        {#d.pp is ditance of sampled parent to sampled parent\n",
    "            pprob[j,k]<-disp.func(d.pp[j,k],up) \n",
    "            if(j==k)\n",
    "            { #no selfing allowed\n",
    "                pprob[j,k]<-0\n",
    "            }\n",
    "        }\n",
    "    } \n",
    "    return(pprob) \n",
    "}\n",
    "\n",
    "\n",
    "#Pollen expected to go from hypothetical outer tree to outer tree\n",
    "otop.func <- function(up)\n",
    "{\n",
    "    otop <- matrix(0,ldm,ldf) \n",
    "    for(j in 1:ldm)\n",
    "    {\n",
    "        ppo <- rep(0,ldf) \n",
    "        x <- 0\n",
    "\n",
    "        for(i in 1:ldf)\n",
    "        {\n",
    "            x <- dm[j]-df[i] \n",
    "            ao <- 0\n",
    "            ai <- 0\n",
    "\n",
    "            if (x>=0) \n",
    "            {\n",
    "                ao <- pi*(df[i]^2)\n",
    "                if(i>1)\n",
    "                { \n",
    "                    ao <- ao-pi*(df[i-1]^2)\n",
    "                }\n",
    "            }\n",
    "\n",
    "            if (x<0) \n",
    "            {\n",
    "                di <- dm[j]\n",
    "                R <- df[i]\n",
    "                theta <- 2*((pi/2)-asin(di/R))\n",
    "                ai <- ((R^2)/2)*(theta-sin(theta)) \n",
    "                ao <- pi*(R^2)- ai\n",
    "                if((R-5)>di)\n",
    "                {\n",
    "                    R2 <- df[i-1]\n",
    "                    theta2 <- 2*((pi/2)-asin(di/R2))\n",
    "                    ai2 <- ((R2^2)/2)*(theta2-sin(theta2)) \n",
    "                    ao2 <- pi*(R2^2)- ai2\n",
    "                    ao <- ao-ao2\n",
    "                    ai <- ai-ai2\n",
    "                } \n",
    "            }\n",
    "\n",
    "            ppo[i]<- wdens*ao*disp.func(df[i],up) #exp pol -> oop moth j from each oop father \n",
    "        }#end father-distance loop\n",
    "\n",
    "    otop[j,] <- ppo #pollen weight to outer distance j from outside \n",
    "    }# end mother-distance loop\n",
    "\n",
    "    return (otop) \n",
    "}\n",
    "\n",
    "#Expected pollen arriving at sampled trees from outside\n",
    "out.pol.func <- function(up)\n",
    "{ \n",
    "    #ldm = number of hypothetical mothers outside the plot for each side of the plot\n",
    "    op <- matrix(0,nadult,ldm)\n",
    "    for(i in 1:nadult)\n",
    "    {\n",
    "        for (j in 1:ldm)\n",
    "        {\n",
    "            k <- rep(NA,pcr) #pcr - number of corners of plot\n",
    "            for (t in 1:pcr)\n",
    "            {\n",
    "    #disp.func is the 2D-t dispersal function(d,u), where d is distance and u is shape parameter \n",
    "    #dist.omf.a is a list where dist.omf.a[[t] is the distance matrix of every adult tree to \n",
    "        # the midpoint of each (each = 1,2,...10) hypothetical parent outside of the plot of the  \n",
    "        # t'th (i=1,2,..4) side of the concentric squares surrounding the plot\n",
    "    #pollen.f[j,t] is the expected \"weight\" in the j'th ring outside of the t'th side of the plot \n",
    "        #(expected trees * expected weight)\n",
    "                k[t] <- disp.func( dist.omf.a[[t]][j,i] , up) * pollen.f[j,t]\n",
    "            } \n",
    "        ##op[i,j] is the total probability of pollen reaching the i'th sampled tree's location \n",
    "            #from the j'th distance unit outside of the plot\n",
    "            op[i,j] <- sum(k)\n",
    "        }#end j loop\n",
    "    }#end i loop \n",
    "    return(op)\n",
    "}\n",
    "\n",
    "#Pollen expected to go from sampled adults to hypothetical outside adults\n",
    "iopol.func <- function(up)\n",
    "{\n",
    "    #ldm = number of hypothetical mothers outside the plot for each side of the plot\n",
    "    iopol <- matrix(0,nadult,ldm)\n",
    "    for(j in 1:ldm)\n",
    "    { \n",
    "        for(i in 1:nadult)\n",
    "        {\n",
    "            k <- rep(NA,pcr) #pcr - number of corners of plot\n",
    "            for (t in 1:pcr)\n",
    "            {\n",
    "    #disp.func is the 2D-t dispersal function(d,u) in units of seeds/m^2, \n",
    "        #where d is distance and u is shaape parameter\n",
    "    #dist.omf.a is a list where dist.omf.a[[i]] is the distance matrix of every adult tree to \n",
    "        # the midpoint of each (each = 1,2,...10) hypothetical parent outside of the plot of the  \n",
    "        # i'th (i=1,2,..4) side of the concentric squares surrounding the plot\n",
    "    #w[i] is the weight of the i'th adult (by fecundity, size, etc)\n",
    "    #tree.m[j,t] is the expected number of the trees within the j'th ring outside of the\n",
    "        #t'th side of the plot (area * trees/area = trees)\n",
    "    #thus, k[t] is the probability of dispersal from sampled adults to a hypothetical\n",
    "        #tree outside of the t'th border of the plot\n",
    "                k[t] <- disp.func( dist.omf.a[[t]][j,i] , up) * w[i] * tree.m[j,t] \n",
    "            }\n",
    "    ##iopol[i,j] is the total probability of pollen from the i'th sampled tree's location \n",
    "        #reaching the j'th distance unit outside of the plot\n",
    "                iopol[i,j] <- sum(k) \n",
    "        }\n",
    "    }\n",
    "\n",
    "    return(iopol)\n",
    "}\n",
    "\n",
    "#Expected seed arriving at seedling plots from outside plot\n",
    "out.sd.func <- function(us)\n",
    "{ \n",
    "    #ldm = number of hypothetical mothers outside the plot for each side of the plot\n",
    "    osd <- matrix(0,noff,ldm) \n",
    "    for(i in 1:noff)\n",
    "    { \n",
    "        for (j in 1:ldm)\n",
    "        {\n",
    "            k <- rep(NA,pcr) #pcr - number of corners of plot\n",
    "            for (t in 1:pcr)\n",
    "            {\n",
    "    #disp.func is the 2D-t dispersal function(d,u) in units of seeds/m^2, \n",
    "        #where d is distance and u is shape parameter \n",
    "    #dist.omf.o is the distance of hypothetical parents to sampled seedlings\n",
    "    #seed.m[j,t] is the expected \"weight\" in the j'th ring outside of the t'th side of the plot\n",
    "        #(expected trees * expected weight)\n",
    "    #pld is the area of the plot that the seedling is located within\n",
    "    #thus, k[t] is the probability of dispersal to the seedling from a parent outside of the \n",
    "        #t'th border of the plot\n",
    "                k[t] <- disp.func( dist.omf.o[[t]][j,i] , us ) * seed.m[j,t] * pld[i] \n",
    "            }\n",
    "            #osd[i,j] is the total probability of a seed reaching the i'th seedling's location\n",
    "                #from an unsampled tree j distance units outside of the plot\n",
    "            osd[i,j] <- sum(k) \n",
    "        }#end j loop \n",
    "    }#end i loop\n",
    "    \n",
    "    return(osd) \n",
    "}"
   ]
  },
  {
   "cell_type": "markdown",
   "metadata": {},
   "source": [
    "# Step 3: Calculations depending on above functions"
   ]
  },
  {
   "cell_type": "code",
   "execution_count": null,
   "metadata": {},
   "outputs": [],
   "source": [
    "pogt <- numeric(0) \n",
    "refmat <- numeric(0)\n",
    "for(l in 1:nloci)\n",
    "{\n",
    "    m1 <- rep(seq(1,nallele[[l]]),nallele[[l]]) \n",
    "    m2 <- numeric(0)\n",
    "    for(j in 1:nallele[[l]])\n",
    "    { \n",
    "        q <- rep(j,nallele[[l]]) \n",
    "        m2 <- c(m2,q)\n",
    "    }\n",
    "    m3 <- seq(1,nallele[[l]]*nallele[[l]])\n",
    "    m <- cbind(m1,m2,m3)\n",
    "    #create a 3d array (ot) with x =nallele[[l]]^2, y = z = nallele[[l]]:\n",
    "    ot <- array(0,dim=c(nallele[[l]]*nallele[[l]],nallele[[l]],nallele[[l]])) \n",
    "    for(i in 1:nallele[[l]])\n",
    "    {\n",
    "        for(j in 1:nallele[[l]])\n",
    "        {#pgo.func is the probability of observed genotype (Go) given true genotype (G)\n",
    "            ot[m[,1]==i & m[,2]==j,,] <- pgo.func(i,j,e1,e2,l)\n",
    "        }\n",
    "    }# end allele loops\n",
    "    pogt <- append(pogt,list(ot)) #probabilities of genotypes for each locus\n",
    "    refmat <- append(refmat,list(m)) \n",
    "}# end locus loop\""
   ]
  },
  {
   "cell_type": "code",
   "execution_count": null,
   "metadata": {},
   "outputs": [],
   "source": [
    "#adult to adult distances within plot\n",
    "d.pp <- matrix(NA,nadult,nadult)\n",
    "for (i in 1:nadult)\n",
    "    { \n",
    "        for (j in 1:nadult)\n",
    "        {\n",
    "            t <- distmat(adult.loc[i,1],adult.loc[i,2],adult.loc[j,1],adult.loc[j,2])\n",
    "            d.pp[i,j] <- t \n",
    "        }\n",
    "    }"
   ]
  },
  {
   "cell_type": "code",
   "execution_count": null,
   "metadata": {},
   "outputs": [],
   "source": [
    "#adult to offspring distances within plot\n",
    "d.po <- matrix(NA,noff,nadult) \n",
    "for (k in 1:noff)\n",
    "{\n",
    "    for (j in 1:nadult)\n",
    "    {\n",
    "        t <- distmat(off.loc[k,1],off.loc[k,2],adult.loc[j,1],adult.loc[j,2]) \n",
    "        d.po[k,j] <- t\n",
    "    }\n",
    "}"
   ]
  },
  {
   "cell_type": "code",
   "execution_count": null,
   "metadata": {},
   "outputs": [],
   "source": [
    "#distance between cornerposts of stand\n",
    "post.dist <- distmat(pcor[,1],pcor[,2],pcor[,1],pcor[,2])"
   ]
  },
  {
   "cell_type": "code",
   "execution_count": null,
   "metadata": {},
   "outputs": [],
   "source": [
    "pcor"
   ]
  },
  {
   "cell_type": "code",
   "execution_count": null,
   "metadata": {},
   "outputs": [],
   "source": [
    "post.dist"
   ]
  },
  {
   "cell_type": "code",
   "execution_count": null,
   "metadata": {},
   "outputs": [],
   "source": [
    "#length and width of stand as means, for cases in which stand is not perfectly rectangular\n",
    "ln <- round(mean(c(post.dist[1,2],post.dist[4,3])),digits=1) #length \n",
    "wd <- round(mean(c(post.dist[1,4],post.dist[2,3])),digits=1) #width \n",
    "edge.length <- c(wd,ln,wd,ln)"
   ]
  },
  {
   "cell_type": "code",
   "execution_count": null,
   "metadata": {},
   "outputs": [],
   "source": [
    "edge.length"
   ]
  },
  {
   "cell_type": "code",
   "execution_count": null,
   "metadata": {},
   "outputs": [],
   "source": [
    "#Find midpoints of stand edges\n",
    "em1a <- mean(c(pcor[1,1],pcor[2,1])); \n",
    "em1b <- mean(c(pcor[1,2],pcor[2,2])) \n",
    "em2a <- mean(c(pcor[2,1],pcor[3,1])); \n",
    "em2b <- mean(c(pcor[2,2],pcor[3,2])) \n",
    "em3a <- mean(c(pcor[3,1],pcor[4,1])); \n",
    "em3b <- mean(c(pcor[3,2],pcor[4,2])) \n",
    "em4a <- mean(c(pcor[4,1],pcor[1,1])); \n",
    "em4b <- mean(c(pcor[4,2],pcor[1,2]))\n",
    "edgemid <- rbind(c(em1a,em1b),c(em2a,em2b),c(em3a,em3b),c(em4a,em4b))"
   ]
  },
  {
   "cell_type": "code",
   "execution_count": null,
   "metadata": {},
   "outputs": [],
   "source": [
    "#What is the area of the mapped stand?\n",
    "parea <- wd*ln"
   ]
  },
  {
   "cell_type": "code",
   "execution_count": null,
   "metadata": {},
   "outputs": [],
   "source": [
    "parea == 200**2"
   ]
  },
  {
   "cell_type": "code",
   "execution_count": null,
   "metadata": {},
   "outputs": [],
   "source": [
    "##Approximation for dispersal from outside stand: Consider potential \n",
    "#parents out to 100 m from the edge of the stand, at 10 m intervals (both \n",
    "#these numbers can be changed, but OD must be equal to or less than the minimum stand edge length).\n",
    "OD <- 100 \n",
    "OI <- 10\n",
    "dm <- seq(OI,OD,by=OI) #seq. of hypothetical mother distances from plot \n",
    "ldm <- length(dm) # len = OI\n",
    "df <- seq(OI,OD,by=OI) # seq. of hypothetical father distances from plot \n",
    "ldf <- length(df) # len = OI\n",
    "e.l <- matrix(0,ldm,4) \n",
    "for(i in 1:ldm)\n",
    "{\n",
    "    e.l[i,]<-edge.length+(dm[i]*2) #edge length of outer rings \n",
    "}"
   ]
  },
  {
   "cell_type": "code",
   "execution_count": null,
   "metadata": {},
   "outputs": [],
   "source": [
    "#What weight attributed to each adult?\n",
    "weight <- bframe1[ba1,4]\n",
    "mw <- mean(weight) #average weight"
   ]
  },
  {
   "cell_type": "code",
   "execution_count": null,
   "metadata": {},
   "outputs": [],
   "source": [
    "mw"
   ]
  },
  {
   "cell_type": "code",
   "execution_count": null,
   "metadata": {},
   "outputs": [],
   "source": [
    "#total sampled \"weight\" \n",
    "tw<- sum(weight)\n",
    "tw"
   ]
  },
  {
   "cell_type": "markdown",
   "metadata": {},
   "source": [
    "# fix parea\n",
    "200 x 200 x 12"
   ]
  },
  {
   "cell_type": "code",
   "execution_count": null,
   "metadata": {},
   "outputs": [],
   "source": [
    "#weight or trees per area: \n",
    "# wdens <- tw/parea\n",
    "# tdens <- nadult/parea\n",
    "wdens <- tw/200*200*12\n",
    "tdens <- nadult/200*200*12"
   ]
  },
  {
   "cell_type": "code",
   "execution_count": null,
   "metadata": {},
   "outputs": [],
   "source": [
    "#Location of hypothetical out-of-plot parents – at midpoint of each trapezoidal quarter-ring going outward from stand\n",
    "out.mf <- numeric(0) \n",
    "for (k in 1:4) #for each side of a square\n",
    "{\n",
    "    hop <- matrix(0,ldm,2) \n",
    "    for(i in 1:ldm)\n",
    "    {\n",
    "        if(k==1) #for top/north of square\n",
    "        {\n",
    "            hop[i,]<- c(edgemid[1,1],edgemid[1,2]+dm[i])\n",
    "        } \n",
    "        if(k==2) #for left/west side of square\n",
    "        {\n",
    "            hop[i,]<- c(edgemid[2,1]-dm[i],edgemid[2,2]) \n",
    "        }\n",
    "        if(k==3) #for bottom/south side of square\n",
    "        {\n",
    "            hop[i,]<- c(edgemid[3,1],edgemid[3,2]-dm[i])\n",
    "        } \n",
    "        if(k==4) #for right/east side of square\n",
    "        {\n",
    "            hop[i,]<- c(edgemid[4,1]+dm[i],edgemid[4,2]) \n",
    "        }\n",
    "    }# end ldm loop\n",
    "    #out.mf is a list for each side of the sqaure, with [[i]] = a list of len=OI of coordinates of midpoints of outer line to draw\n",
    "    out.mf <- append(out.mf,list(hop)) \n",
    "}"
   ]
  },
  {
   "cell_type": "code",
   "execution_count": null,
   "metadata": {},
   "outputs": [],
   "source": [
    "#Location of hypothetical out-of-plot parents – at midpoint of each trapezoidal quarter-ring going outward from stand\n",
    "out.mf <- numeric(0) \n",
    "for (k in 1:4) #for each side of a square\n",
    "{\n",
    "    hop <- matrix(0,ldm,2) \n",
    "    for(i in 1:ldm)\n",
    "    {\n",
    "        if(k==1) #for top/north of square\n",
    "        {\n",
    "            hop[i,]<- c(edgemid[1,1],edgemid[1,2]+dm[i])\n",
    "        } \n",
    "        if(k==2) #for left/west side of square\n",
    "        {\n",
    "            hop[i,]<- c(edgemid[2,1]-dm[i],edgemid[2,2]) \n",
    "        }\n",
    "        if(k==3) #for bottom/south side of square\n",
    "        {\n",
    "            hop[i,]<- c(edgemid[3,1],edgemid[3,2]-dm[i])\n",
    "        } \n",
    "        if(k==4) #for right/east side of square\n",
    "        {\n",
    "            hop[i,]<- c(edgemid[4,1]+dm[i],edgemid[4,2]) \n",
    "        }\n",
    "    }# end ldm loop\n",
    "    #out.mf is a list for each side of the sqaure, with [[i]] = a list of len=OI of coordinates of midpoints of outer line to draw\n",
    "    out.mf <- append(out.mf,list(hop)) \n",
    "}"
   ]
  },
  {
   "cell_type": "code",
   "execution_count": null,
   "metadata": {},
   "outputs": [],
   "source": [
    "#Distance of hypothetical parents to sampled trees\n",
    "plot.adult.loc <- cbind(bframe1[ba1,'x'],bframe1[ba1,'y'])\n",
    "\n",
    "dist.omf.a <- numeric(0) \n",
    "for(k in 1:4)\n",
    "{\n",
    "    # dx has rows = outs, cols = in parents\n",
    "    # dx is a distance matrix with dx[i,j] being distance of the ith outside midpoint to the jth adult\n",
    "    dx <- distmat(plot.adult.loc[,1],plot.adult.loc[,2],out.mf[[k]][,1],out.mf[[k]][,2]) \n",
    "    #at the end of the for(loop) dist.omf.a is a list where dist.omf.a[[i]] is the distance matrix of every \n",
    "        #adult tree to the midpoint of each (each = 1,2,...10) hypothetical parent outside of the plot \n",
    "        #of the i'th (i=1,2,..4) side of the concentric squares surrounding the plot\n",
    "    dist.omf.a <- append(dist.omf.a,list(dx)) \n",
    "}"
   ]
  },
  {
   "cell_type": "code",
   "execution_count": null,
   "metadata": {},
   "outputs": [],
   "source": [
    "#Distance of hypothetical parents to seedlings\n",
    "plot.off.loc <- cbind(bframe2[bo1,'x'],bframe2[bo1,'y'])\n",
    "\n",
    "dist.omf.o <- numeric(0)\n",
    "for(k in 1:4)\n",
    "{\n",
    "    dx <- distmat(plot.off.loc[,1],plot.off.loc[,2],out.mf[[k]][,1],out.mf[[k]][,2])\n",
    "    #rows = outs, cols = offspring \n",
    "    dist.omf.o <- append(dist.omf.o,list(dx))\n",
    "}"
   ]
  },
  {
   "cell_type": "code",
   "execution_count": null,
   "metadata": {},
   "outputs": [],
   "source": [
    "#areas of rectangular rings around plot\n",
    "a.out.m <- matrix(0,ldm,4) \n",
    "for (i in 1:ldm) #for each of the concentric squares\n",
    "{\n",
    "    for(e in 1:pcr) #for each side of a square (pcr = 4)\n",
    "    {\n",
    "        a.out.m[i,e]<- OI*((edge.length[e]+e.l[i,e])/2)\n",
    "    }\n",
    "}"
   ]
  },
  {
   "cell_type": "code",
   "execution_count": null,
   "metadata": {},
   "outputs": [],
   "source": [
    "tree.m <- a.out.m*tdens #expected trees in each ring side  (area * trees/area = trees)\n",
    "# mw = mean(weight) \n",
    "seed.m <- tree.m*mw #expected \"weight\" in each ring side\n",
    "#change pollen.f if pollen and seed production are not equally \n",
    "    #weighted within single trees\n",
    "pollen.f = seed.m "
   ]
  },
  {
   "cell_type": "code",
   "execution_count": null,
   "metadata": {},
   "outputs": [],
   "source": [
    "#Distance of offspring to an edge\n",
    "#this is not distance to an edge, this is distance to the edge midpoint\n",
    "d.edge.o <- matrix(NA,noff,4)\n",
    "for (i in 1:noff)\n",
    "{ \n",
    "    for (j in 1:4)\n",
    "    {\n",
    "        t <- distmat(plot.off.loc[i,1],plot.off.loc[i,2],edgemid[j,1],edgemid[j,2])\n",
    "        d.edge.o[i,j] <- t \n",
    "    }\n",
    "}"
   ]
  },
  {
   "cell_type": "code",
   "execution_count": null,
   "metadata": {},
   "outputs": [],
   "source": [
    "#Distance of adults to an edge\n",
    "#this is not distance to an edge, this is distance to the edge midpoint\n",
    "d.edge.a <- matrix(NA,nadult,4)\n",
    "for (i in 1:nadult)\n",
    "{ \n",
    "    for (j in 1:4)\n",
    "    {\n",
    "        t <- distmat(plot.adult.loc[i,1],plot.adult.loc[i,2],edgemid[j,1],edgemid[j,2])\n",
    "        d.edge.a[i,j] <- t \n",
    "    }\n",
    "}"
   ]
  },
  {
   "cell_type": "markdown",
   "metadata": {},
   "source": [
    "# Step 4: Functions for comparing genotypes"
   ]
  },
  {
   "cell_type": "code",
   "execution_count": null,
   "metadata": {},
   "outputs": [],
   "source": [
    "x = freq[3,1:nallele[3]]"
   ]
  },
  {
   "cell_type": "code",
   "execution_count": null,
   "metadata": {},
   "outputs": [],
   "source": [
    "y = rep(1,nallele[3])\n",
    "len(x) == len(y)"
   ]
  },
  {
   "cell_type": "code",
   "execution_count": null,
   "metadata": {},
   "outputs": [],
   "source": [
    "len(x)"
   ]
  },
  {
   "cell_type": "code",
   "execution_count": null,
   "metadata": {},
   "outputs": [],
   "source": [
    "len(y)"
   ]
  },
  {
   "cell_type": "code",
   "execution_count": null,
   "metadata": {},
   "outputs": [],
   "source": [
    "#Calculate probability of offspring genotype given parental genotypes\n",
    "nmat.func <- function(pg1,pg2,pg1.b,pg2.b,la) #la = lth allele from a for(loop)\n",
    "{ \n",
    "    if (pg1[1,la]>0)\n",
    "    { #a genotype is observed\n",
    "        #calculate probabilty of true genotype given observed genotype\n",
    "        ptgo1 <- pg.func(pg1[1,la],pg1[2,la],e1,e2,la) #pg.func = prob of true genotype (G) given observed genotype (Go)\n",
    "        p1a <- apply(ptgo1,1,sum) #probs for true allele 1 given allele 1\n",
    "        p1b <- apply(ptgo1,2,sum) #probs for true allele 2 given allele 1\n",
    "        if(pg1.b[1,la]>0)\n",
    "        { #if locus regenotyped\n",
    "            ptgo1.r <- pg.func(pg1.b[1,la],pg1.b[2,la],e1,e2,la)\n",
    "            p1a.r <- apply(ptgo1.r,1,sum)\n",
    "            p1b.r <- apply(ptgo1.r,2,sum)\n",
    "            p1a <- p1a*p1a.r; p1b <- p1b*p1b.r\n",
    "        } #end 2nd\n",
    "    } #end 'if observed'\n",
    "    if (pg1[1,la]==0)\n",
    "    {#if no genotype observed \n",
    "        if (la>4) # 4 = Nnuclear\n",
    "        {\n",
    "            #if we're considering chloroplast markers\n",
    "            p1a <- rep(1,nallele[[la]]) #we want the probability of chloroplast markers to be independent of mother\n",
    "            p1b <- rep(1,nallele[[la]]) #we want the probability of chloroplast markers to be independent of mother\n",
    "        }         \n",
    "        else\n",
    "        {\n",
    "            p1a <- freq[la,1:nallele[[la]]]\n",
    "            p1b <- freq[la,1:nallele[[la]]]   \n",
    "        }\n",
    "    }\n",
    "    if (pg2[1,la]>0)\n",
    "    { #a genotype is observed\n",
    "        ptgo2 <- pg.func(pg2[1,la],pg2[2,la],e1,e2,la)\n",
    "        p2a <- apply(ptgo2,1,sum) #probs for allele 1 \n",
    "        p2b <- apply(ptgo2,2,sum) #probs for allele 2\n",
    "        if(pg2.b[1,la]>0)\n",
    "        { #if locus regenotyped\n",
    "            ptgo2.r <- pg.func(pg2.b[1,la],pg2.b[2,la],e1,e2,la)\n",
    "            p2a.r <- apply(ptgo2.r,1,sum)\n",
    "            p2b.r <- apply(ptgo2.r,2,sum)\n",
    "            p2a <- p2a*p2a.r\n",
    "            p2b <- p2b*p2b.r\n",
    "        } #end 2nd\n",
    "    }# end 'if observed'\n",
    "    if (pg2[1,la]==0)\n",
    "    { #if no genotype observed\n",
    "        p2a <- freq[la,1:nallele[[la]]]\n",
    "        p2b <- freq[la,1:nallele[[la]]] \n",
    "    }\n",
    "    #probability of all possible offspring genotypes\n",
    "    p1a.m1 <- matrix(p1a,nallele[[la]],nallele[[la]])\n",
    "    p2a.m1 <- matrix(p2a,nallele[[la]],nallele[[la]],byrow=T) \n",
    "    p1b.m1 <- matrix(p1b,nallele[[la]],nallele[[la]])\n",
    "    p2b.m1 <- matrix(p2b,nallele[[la]],nallele[[la]],byrow=T)\n",
    "    h1.b <- (p1a.m1*p2a.m1)/8\n",
    "    h2.b <- (t(p1a.m1)*t(p2a.m1))/8 \n",
    "    h3.b <- (p1a.m1*p2b.m1)/8 \n",
    "    h4.b <- (t(p1a.m1)*t(p2b.m1))/8 \n",
    "    h5.b <- (p1b.m1*p2a.m1)/8 \n",
    "    h6.b <- (t(p1b.m1)*t(p2a.m1))/8 \n",
    "    h7.b <- (p1b.m1*p2b.m1)/8 \n",
    "    h8.b <- (t(p1b.m1)*t(p2b.m1))/8\n",
    "    nmat <- h1.b+h2.b+h3.b+h4.b+h5.b+h6.b+h7.b+h8.b\n",
    "\n",
    "    return(nmat) \n",
    "}#end function"
   ]
  },
  {
   "cell_type": "code",
   "execution_count": null,
   "metadata": {},
   "outputs": [],
   "source": [
    "#Probability of observing the given offspring genotype given all possible true genotypes:\n",
    "omat.func <- function(og,og.b,la) #la = lth allele from a for(loop)\n",
    "{ #prob of observing off gen, given true \n",
    "    if(og[1,la]>0)\n",
    "    { #if a genotype observed\n",
    "        if(og.b[1,la]==0)\n",
    "        { #if not regenotyped \n",
    "            omat <- matrix(0,nallele[[la]],nallele[[la]])\n",
    "            for(x in 1:nallele[[la]])\n",
    "            { \n",
    "                for (y in 1:nallele[[la]])\n",
    "                {\n",
    "                    u <- pogt[[la]][refmat[[la]][,1]==x & refmat[[la]][,2]==y,,]\n",
    "                    omat[x,y] <- u[og[1,la],og[2,la]] \n",
    "                }\n",
    "            }\n",
    "        } #end no 2nd\n",
    "        if(og.b[1,la]>0)\n",
    "        { #if regenotyped\n",
    "            omat <- matrix(0,nallele[[la]],nallele[[la]]) \n",
    "            omat.r <- matrix(0,nallele[[la]],nallele[[la]])\n",
    "            for(x in 1:nallele[[la]])\n",
    "                { \n",
    "                    for (y in 1:nallele[[la]])\n",
    "                    {\n",
    "                        u <- pogt[[la]][refmat[[la]][,1]==x & refmat[[la]][,2]==y,,] \n",
    "                        omat[x,y] <- u[og[1,la],og[2,la]]\n",
    "                        omat.r[x,y] <- u[og.b[1,la],og.b[2,la]]\n",
    "                    }\n",
    "                }\n",
    "            omat <- omat*omat.r\n",
    "        } #end 2nd\n",
    "    }# end 'if observed'\n",
    "    if (og[1,la]==0) #if not genotyped\n",
    "    { \n",
    "        omat <- matrix(1,nallele[[la]],nallele[[la]]) \n",
    "        omat <- omat/sum(omat)\n",
    "    }\n",
    "    return(omat) \n",
    "}"
   ]
  },
  {
   "cell_type": "markdown",
   "metadata": {},
   "source": [
    "# way way way way too slow, multiprocessing to the rescue"
   ]
  },
  {
   "cell_type": "code",
   "execution_count": null,
   "metadata": {},
   "outputs": [],
   "source": [
    "dir <- function(dir,name){\n",
    "    return(paste(dir,name,sep=\"\"))\n",
    "}"
   ]
  },
  {
   "cell_type": "code",
   "execution_count": null,
   "metadata": {},
   "outputs": [],
   "source": [
    "DIR = '/home/lindb/teakettle/data/moran/dependencies/'"
   ]
  },
  {
   "cell_type": "code",
   "execution_count": null,
   "metadata": {},
   "outputs": [],
   "source": [
    "for (obj in ls()){\n",
    "    saveRDS(get(obj),dir(DIR,sprintf(\"%s.RDS\",obj)))\n",
    "}"
   ]
  },
  {
   "cell_type": "markdown",
   "metadata": {},
   "source": [
    "go to multiprocess.ipynb"
   ]
  },
  {
   "cell_type": "code",
   "execution_count": null,
   "metadata": {},
   "outputs": [],
   "source": [
    "dname = '/home/lindb/teakettle/data/moran/dependencies/'\n",
    "for (f in list.files(dname)){\n",
    "    if (endsWith(f,'RDS'))\n",
    "    {\n",
    "        cat(sprintf (\"loading %s file\\n\",f))\n",
    "        fname = paste(dname,f,sep=\"\")\n",
    "        obj = strsplit(f,split='.RDS')[[1]]\n",
    "        assign(obj,readRDS(fname))    \n",
    "    }\n",
    "}"
   ]
  },
  {
   "cell_type": "code",
   "execution_count": null,
   "metadata": {},
   "outputs": [],
   "source": [
    "nadult"
   ]
  },
  {
   "cell_type": "code",
   "execution_count": null,
   "metadata": {},
   "outputs": [],
   "source": [
    "#Probability that all potential parent pairs could produce the observed offspring genotype. \n",
    "    #Yields a list of matrices, one for each offspring (nadult+1 x nadult+1). The slowest step in the whole model.\n",
    "amat <- numeric(0)\n",
    "for (k in 1:noff)\n",
    "{\n",
    "    a <- matrix(0,(nadult+1),(nadult+1)) \n",
    "    amat <- append(amat,list(a))\n",
    "}\n",
    "\n",
    "#############can adjust prob that mom and father are same tree\n",
    "pgout <- matrix(0,2,nloci)\n",
    "for(i in 1:(nadult+1))\n",
    "{ \n",
    "    for(j in 1:(nadult+1))\n",
    "    {\n",
    "        track <- matrix(0,(nadult+1),(nadult+1)) #0s are replaced with 1s after the probability has been calculated\n",
    "        if(track[i,j]==0)\n",
    "        { # if reciprocal has not yet been done...\n",
    "            if(i==j & i<(nadult+1)) #this is the diagonal, can't have same sampled mother and father\n",
    "            {\n",
    "                unimportant = 1+1 # amat is already 0 on the diagonal, save some time by not looping\n",
    "#                 for (k in 1:noff)\n",
    "#                 {\n",
    "#                     amat[[k]][i,j] <- 0   \n",
    "#                 }\n",
    "            }\n",
    "            if(i==j & i==(nadult+1)) #can have two out-of-plot parents\n",
    "            { \n",
    "                nmat <- numeric(0)\n",
    "                pg1 <- pgout \n",
    "                pg1.b <- pgout \n",
    "                pg2 <- pgout \n",
    "                pg2.b <- pgout\n",
    "                for(la in 1:nloci) \n",
    "                {#Calculate probability of offspring genotype given parental genotypes using global allele frequencies\n",
    "                    #at the la'th locus\n",
    "                    nm <- nmat.func(pg1,pg2,pg1.b,pg2.b,la) #returns a matrix with ncol = nrow = nallele @ la'th locus\n",
    "                    nmat <- append(nmat,list(nm))\n",
    "                }\n",
    "                for(k in 1:noff)\n",
    "                {\n",
    "                    pq <- 1 #incorrectly overwriting pq is bad, mkay\n",
    "                    og <- rbind(goff[[1]][k,],goff[[2]][k,]) #get the offspring's observed first and second alleles\n",
    "                    og.b <- rbind(goff.r[[1]][k,],goff.r[[2]][k,]) #get any offspring's observed regenotyping results\n",
    "                    for(la in 1:nloci)\n",
    "                    { \n",
    "                        #om = probability of observing the given offspring genotype given all possible true genotypes\n",
    "                        om <- omat.func(og,og.b,la) \n",
    "                    #pq = probability of observing the given offspring genotype given the observed parental genotypes\n",
    "                        pq <- pq*sum(nmat[[la]]*om)\n",
    "                        #if the posited parents are not the parents, no use in doing futher calculations @ other loci\n",
    "                        if(pq==0) \n",
    "                        {\n",
    "                            break \n",
    "                        }\n",
    "                    }\n",
    "                    amat[[k]][i,j] <- pq #pq same as above, for the k'th offspring for the i'th and j'th parent\n",
    "                    amat[[k]][j,i] <- pq \n",
    "                }# end offspring loop\n",
    "            }# end two-out-of-plot loop\n",
    "            if(i!=j) #if not on the diagonal\n",
    "            { #all other combos... \n",
    "                nmat <- numeric(0)\n",
    "                if(i<(nadult+1)) #if posited parent one of those who were sampled\n",
    "                {\n",
    "                    #gadult# == nrow=nadult ncol=nloci\n",
    "                    pg1 <- rbind(gadult[[1]][i,],gadult[[2]][i,])  #get first and second alleles for all loci\n",
    "                    pg1.b <- rbind(gadult.r[[1]][i,],gadult.r[[2]][i,]) #get first and second alleles for regenotyping\n",
    "                } \n",
    "                if(j<(nadult+1)) #if posited parent one of those who were sampled\n",
    "                {\n",
    "                    pg2 <- rbind(gadultF[[1]][j,],gadultF[[2]][j,])\n",
    "                    pg2.b <- rbind(gadultF.r[[1]][j,],gadultF.r[[2]][j,]) \n",
    "                }\n",
    "                if(i==(nadult+1)) #if posited parent is not one of those who were sampled\n",
    "                { \n",
    "                    pg1 <- pgout \n",
    "                    pg1.b <- pgout\n",
    "                } \n",
    "                if(j==(nadult+1)) #if posited parent is not one of those who were sampled\n",
    "                {\n",
    "                    pg2 <- pgout #put in all zeros\n",
    "                    pg2.b <- pgout #put in all zeros\n",
    "                }\n",
    "                for(la in 1:nloci)\n",
    "                {#Calculate probability of offspring genotype given parental genotypes using global allele frequencies\n",
    "                    #at the la'th locus\n",
    "                    nm <- nmat.func(pg1,pg2,pg1.b,pg2.b,la) \n",
    "                    nmat <- append(nmat,list(nm))\n",
    "                }\n",
    "                for(k in 1:noff)\n",
    "                { #pre-calc nmat at all loci for parent pair\n",
    "                    pq <- 1 #incorrectly overwriting is still bad, mkay\n",
    "                    og <- rbind(goff[[1]][k,],goff[[2]][k,]) #get the k'th offspring's 1st and 2nd alleles @ all loci\n",
    "                    og.b <- rbind(goff.r[[1]][k,],goff.r[[2]][k,])\n",
    "                    for(la in 1:nloci)\n",
    "                    {\n",
    "                        #om = probability of observing the given offspring genotype given all possible true genotypes\n",
    "                        om <- omat.func(og,og.b,la)\n",
    "                        #pq = probability of observing the given offspring genotype given the observed parental genotypes\n",
    "                        pq <- pq*sum(nmat[[la]]*om)\n",
    "                        if(pq==0) \n",
    "                        {\n",
    "                        #if the posited parents are not the parents, no use in doing futher calculations @ other loci\n",
    "                            break \n",
    "                        }\n",
    "                    }\n",
    "                    amat[[k]][i,j] <- pq \n",
    "                    amat[[k]][j,i] <- pq \n",
    "                }# end offspring loop\n",
    "            }#end \"all other combos\" loop\n",
    "            track[i,j] <- 1\n",
    "            track[j,i] <- 1\n",
    "        } # mark pair as done (and don't do reciprocal)\n",
    "        print(i) \n",
    "    }\n",
    "} # end parent loops\n",
    "\n",
    "for (k in 1:noff)\n",
    "{\n",
    "    amat[[k]] <- amat[[k]]/sum(amat[[k]])   \n",
    "}"
   ]
  },
  {
   "cell_type": "code",
   "execution_count": null,
   "metadata": {},
   "outputs": [],
   "source": [
    "nadult"
   ]
  },
  {
   "cell_type": "code",
   "execution_count": null,
   "metadata": {},
   "outputs": [],
   "source": []
  },
  {
   "cell_type": "code",
   "execution_count": null,
   "metadata": {},
   "outputs": [],
   "source": [
    "j"
   ]
  },
  {
   "cell_type": "code",
   "execution_count": null,
   "metadata": {},
   "outputs": [],
   "source": []
  },
  {
   "cell_type": "code",
   "execution_count": null,
   "metadata": {},
   "outputs": [],
   "source": []
  },
  {
   "cell_type": "code",
   "execution_count": null,
   "metadata": {},
   "outputs": [],
   "source": []
  },
  {
   "cell_type": "code",
   "execution_count": null,
   "metadata": {},
   "outputs": [],
   "source": []
  },
  {
   "cell_type": "code",
   "execution_count": null,
   "metadata": {},
   "outputs": [],
   "source": []
  },
  {
   "cell_type": "code",
   "execution_count": null,
   "metadata": {},
   "outputs": [],
   "source": []
  },
  {
   "cell_type": "code",
   "execution_count": null,
   "metadata": {},
   "outputs": [],
   "source": []
  },
  {
   "cell_type": "code",
   "execution_count": null,
   "metadata": {},
   "outputs": [],
   "source": []
  },
  {
   "cell_type": "code",
   "execution_count": null,
   "metadata": {},
   "outputs": [],
   "source": []
  },
  {
   "cell_type": "code",
   "execution_count": null,
   "metadata": {},
   "outputs": [],
   "source": []
  },
  {
   "cell_type": "code",
   "execution_count": null,
   "metadata": {},
   "outputs": [],
   "source": []
  },
  {
   "cell_type": "code",
   "execution_count": null,
   "metadata": {},
   "outputs": [],
   "source": []
  },
  {
   "cell_type": "code",
   "execution_count": null,
   "metadata": {},
   "outputs": [],
   "source": []
  },
  {
   "cell_type": "markdown",
   "metadata": {},
   "source": [
    "# To do\n",
    "1. check on pcor\n",
    "1. check on pcr\n",
    "1. adult.loc\n",
    "1. off.loc\n",
    "1. e1,e2\n",
    "1. dispersal priors"
   ]
  },
  {
   "cell_type": "markdown",
   "metadata": {},
   "source": [
    "# for Moran\n",
    "1. pg.func in nmat.func loop\n",
    "1. amat[[k]] in (if(==j % i<(nadult+1))\n",
    "1. amat sum at end of loop"
   ]
  },
  {
   "cell_type": "code",
   "execution_count": null,
   "metadata": {},
   "outputs": [],
   "source": []
  },
  {
   "cell_type": "code",
   "execution_count": null,
   "metadata": {},
   "outputs": [],
   "source": []
  },
  {
   "cell_type": "code",
   "execution_count": null,
   "metadata": {},
   "outputs": [],
   "source": []
  },
  {
   "cell_type": "code",
   "execution_count": null,
   "metadata": {},
   "outputs": [],
   "source": []
  },
  {
   "cell_type": "code",
   "execution_count": null,
   "metadata": {},
   "outputs": [],
   "source": []
  },
  {
   "cell_type": "code",
   "execution_count": null,
   "metadata": {},
   "outputs": [],
   "source": []
  },
  {
   "cell_type": "code",
   "execution_count": null,
   "metadata": {},
   "outputs": [],
   "source": []
  },
  {
   "cell_type": "code",
   "execution_count": null,
   "metadata": {},
   "outputs": [],
   "source": []
  },
  {
   "cell_type": "code",
   "execution_count": null,
   "metadata": {},
   "outputs": [],
   "source": []
  },
  {
   "cell_type": "code",
   "execution_count": null,
   "metadata": {},
   "outputs": [],
   "source": []
  },
  {
   "cell_type": "code",
   "execution_count": null,
   "metadata": {},
   "outputs": [],
   "source": []
  },
  {
   "cell_type": "code",
   "execution_count": null,
   "metadata": {},
   "outputs": [],
   "source": []
  },
  {
   "cell_type": "code",
   "execution_count": null,
   "metadata": {},
   "outputs": [],
   "source": []
  }
 ],
 "metadata": {
  "kernelspec": {
   "display_name": "R 3.3",
   "language": "R",
   "name": "ir33"
  },
  "language_info": {
   "codemirror_mode": "r",
   "file_extension": ".r",
   "mimetype": "text/x-r-source",
   "name": "R",
   "pygments_lexer": "r",
   "version": "3.3.1"
  }
 },
 "nbformat": 4,
 "nbformat_minor": 1
}
