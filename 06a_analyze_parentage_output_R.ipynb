{
 "cells": [
  {
   "cell_type": "markdown",
   "metadata": {},
   "source": [
    "# load depenedencies, get shape parameters"
   ]
  },
  {
   "cell_type": "code",
   "execution_count": null,
   "metadata": {},
   "outputs": [],
   "source": [
    "source('~/imports.R')\n",
    "library(coda)"
   ]
  },
  {
   "cell_type": "code",
   "execution_count": null,
   "metadata": {},
   "outputs": [],
   "source": [
    "dname = '~/eckertlab/brandon/teakettle/dependencies/'\n",
    "files = c()\n",
    "for (f in list.files(dname)){\n",
    "    if (endsWith(f,'RDS'))\n",
    "    {\n",
    "        cat(sprintf (\"loading %s file\\n\",f))\n",
    "        Fname = fname(dname,f)\n",
    "        obj = strsplit(f,split='.RDS')[[1]]\n",
    "        assign(obj,readRDS(Fname))    \n",
    "    }\n",
    "}"
   ]
  },
  {
   "cell_type": "code",
   "execution_count": null,
   "metadata": {},
   "outputs": [],
   "source": [
    "usgibbs   <- readRDS('~/teakettle/data/gibbs/first/end_of_cyc_files/usgibbs_all_cycs.RDS')\n",
    "upgibbs   <- readRDS('~/teakettle/data/gibbs/first/end_of_cyc_files/upgibbs_all_cycs.RDS')\n",
    "ped.gibbs <- readRDS('~/teakettle/data/gibbs/first/end_of_cyc_files/pedgibbs_all_cycs.RDS')\n",
    "ncyc      <- 150000"
   ]
  },
  {
   "cell_type": "code",
   "execution_count": null,
   "metadata": {},
   "outputs": [],
   "source": [
    "c(len(usgibbs),len(upgibbs),len(ped.gibbs))"
   ]
  },
  {
   "cell_type": "markdown",
   "metadata": {},
   "source": [
    "# get plot posts so we include the full mapping area"
   ]
  },
  {
   "cell_type": "code",
   "execution_count": null,
   "metadata": {},
   "outputs": [],
   "source": [
    "pc <- matrix(rep(0,8),ncol=2)\n",
    "xmin <- min(adult.loc[,1]) - 10\n",
    "ymin = min(adult.loc[,2]) - 10\n",
    "xmax = max(adult.loc[,1]) + 10\n",
    "ymax = max(adult.loc[,2]) + 10\n",
    "pc[4,1] <- pc[1,1] <- xmax\n",
    "pc[2,2] <- pc[1,2] <- ymax\n",
    "pc[3,1] <- pc[2,1] <- xmin\n",
    "pc[4,2] <- pc[3,2] <- ymin\n",
    "pcor <- pc\n",
    "\n",
    "outpar <- matrix(NA,2,4) \n",
    "#burn  <- 3000                              #end of burn-in - original script had burn @ 3K, paper had 30K\n",
    "burn   <- 30000                              #end of burn-in\n",
    "thin   <- seq(burn,(length(usgibbs)),by=1500)  #thin the gibbs sequence\n",
    "gmat   <- cbind(usgibbs[thin],upgibbs[thin])\n",
    "outpar[,1]       <- apply(gmat,2,mean)\n",
    "outpar[,2]       <- apply(gmat,2,sd)\n",
    "outpar[,3:4]     <- t(apply(gmat,2,quantile,c(.025,.975)))\n",
    "colnames(outpar) <- c('estimate','se','.025','.975')\n",
    "rownames(outpar) <- c('us','up')\n",
    "signif(outpar,2)"
   ]
  },
  {
   "cell_type": "code",
   "execution_count": null,
   "metadata": {},
   "outputs": [],
   "source": [
    "c(mean.func(mean(usgibbs)),mean.func(mean(usgibbs[thin])))"
   ]
  },
  {
   "cell_type": "code",
   "execution_count": null,
   "metadata": {},
   "outputs": [],
   "source": [
    "c(mean.func(mean(upgibbs)),mean.func(mean(upgibbs[thin])))"
   ]
  },
  {
   "cell_type": "markdown",
   "metadata": {},
   "source": [
    "# plot shape parameters in R"
   ]
  },
  {
   "cell_type": "code",
   "execution_count": null,
   "metadata": {},
   "outputs": [],
   "source": [
    "par(mfcol=c(2,1))\n",
    "plot(usgibbs,type='l',xaxt='n')\n",
    "abline(h=mean(usgibbs[thin]))\n",
    "axis(1,at=seq(5000,150000,by=5000))\n",
    "plot(upgibbs,type='l',xaxt='n')\n",
    "abline(h=mean(upgibbs[thin]))\n",
    "axis(1,at=seq(5000,150000,by=5000))"
   ]
  },
  {
   "cell_type": "code",
   "execution_count": null,
   "metadata": {},
   "outputs": [],
   "source": [
    "effectiveSize(usgibbs[30000:len(usgibbs)])"
   ]
  },
  {
   "cell_type": "code",
   "execution_count": null,
   "metadata": {},
   "outputs": [],
   "source": [
    "effectiveSize(upgibbs[30000:len(upgibbs)])"
   ]
  },
  {
   "cell_type": "code",
   "execution_count": null,
   "metadata": {},
   "outputs": [],
   "source": [
    "len(upgibbs)"
   ]
  },
  {
   "cell_type": "markdown",
   "metadata": {},
   "source": [
    "## Which parent pairs came up which percentage of the time?  "
   ]
  },
  {
   "cell_type": "code",
   "execution_count": null,
   "metadata": {},
   "outputs": [],
   "source": [
    "c(burn,ncyc,nadult,noff)"
   ]
  },
  {
   "cell_type": "code",
   "execution_count": null,
   "metadata": {},
   "outputs": [],
   "source": [
    "par.mat <- numeric(0)\n",
    "# f.vec <- m.vec   <- matrix(0,noff,nadult+1) # never used\n",
    "for(k in 1:noff)\n",
    "{\n",
    "    print(k)\n",
    "    p.m <- matrix(0,nadult+1,nadult+1)\n",
    "    for(d in burn:ncyc)\n",
    "    {\n",
    "        p.m[ped.gibbs[[d]][k,1],ped.gibbs[[d]][k,2]] <- 1 + p.m[ped.gibbs[[d]][k,1],ped.gibbs[[d]][k,2]] \n",
    "    }\n",
    "    p.m <- p.m/sum(p.m)\n",
    "    par.mat <- append(par.mat,list(p.m))\n",
    "}"
   ]
  },
  {
   "cell_type": "code",
   "execution_count": null,
   "metadata": {},
   "outputs": [],
   "source": [
    "# Identify most frequent parent pair for each offspring.  M is most likely mother, f is most likely father, \n",
    "## per the percentage of time they were matched with offspring.\n",
    "m <- rep(NA,noff)\n",
    "f <- rep(NA,noff)\n",
    "per <- rep(NA,noff) \n",
    "for(k in 1:noff){\n",
    "      v <- matrix(0,nadult+1,nadult+1)\n",
    "      v[which(par.mat[[k]][,]==max(par.mat[[k]]))]<-1\n",
    "\n",
    "      f[k]<- which(apply(v,1,sum)==1)\n",
    "      m[k]<- which(apply(v,2,sum)==1)\n",
    "      per[k] <- max(par.mat[[k]])\n",
    "}"
   ]
  },
  {
   "cell_type": "code",
   "execution_count": null,
   "metadata": {},
   "outputs": [],
   "source": [
    "table(m)"
   ]
  },
  {
   "cell_type": "code",
   "execution_count": null,
   "metadata": {},
   "outputs": [],
   "source": [
    "table(f)"
   ]
  },
  {
   "cell_type": "code",
   "execution_count": null,
   "metadata": {},
   "outputs": [],
   "source": [
    "# save RDS\n",
    "DIR = '/home/lindb/teakettle/data/gibbs/first/end_of_cyc_files'\n",
    "objects <- c('par.mat','m','f','per','outpar')\n",
    "\n",
    "for (obj in objects){\n",
    "    filename = sprintf(\"%s.RDS\",obj)\n",
    "    cat(sprintf('saving %s\\n',filename))\n",
    "    saveRDS(get(obj),fname(DIR,filename))\n",
    "}"
   ]
  },
  {
   "cell_type": "markdown",
   "metadata": {},
   "source": [
    "## Map parent-offspring relationships"
   ]
  },
  {
   "cell_type": "code",
   "execution_count": null,
   "metadata": {},
   "outputs": [],
   "source": [
    "#cornerposts  \n",
    "X <- pcor[,1]\n",
    "Y <- pcor[,2]\n",
    "plot(X,Y)\n",
    "#adults\n",
    "#d2 <- w\n",
    "d2 <- rep(4,nadult)\n",
    "symbols(adult.loc[,1],adult.loc[,2],squares=d2,inches=F,fg=4,add=T)\n",
    "# #plots\n",
    "# d3 <- rep(2,nrow(plot.loc))\n",
    "# symbols(plot.loc[,1],plot.loc[,2],squares=d3,inches=F,fg=1,add=T)\n",
    "#seedlings\n",
    "d4 <- rep(4,noff)\n",
    "symbols(off.loc[,1],off.loc[,2],circles=d4,inches=F,fg=3,add=T)"
   ]
  },
  {
   "cell_type": "markdown",
   "metadata": {},
   "source": [
    "## plot parent-offspring connections"
   ]
  },
  {
   "cell_type": "code",
   "execution_count": null,
   "metadata": {},
   "outputs": [],
   "source": [
    "#cornerposts  \n",
    "X <- pcor[,1]\n",
    "Y <- pcor[,2]\n",
    "plot(X,Y)\n",
    "#adults\n",
    "#d2 <- w\n",
    "d2 <- rep(4,nadult)\n",
    "symbols(adult.loc[,1],adult.loc[,2],squares=d2,inches=F,fg=4,add=T)\n",
    "#seedlings\n",
    "d4 <- rep(4,noff)\n",
    "symbols(off.loc[,1],off.loc[,2],circles=d4,inches=F,fg=3,add=T)\n",
    "\n",
    "x0 <- numeric(0)\n",
    "y0 <- x0\n",
    "x1 <- x0\n",
    "y1 <- x0\n",
    "x0b <- x0\n",
    "y0b <- x0\n",
    "x1b <- x0\n",
    "y1b <- x0\n",
    "x0c <- x0\n",
    "y0c <- x0\n",
    "x1c <- x0\n",
    "y1c <- x0\n",
    "x0.o <- x0\n",
    "y0.o <- x0\n",
    "x1.o <- x0\n",
    "y1.o <- x0\n",
    "x0b.o <- x0\n",
    "y0b.o <- x0\n",
    "x1b.o <- x0\n",
    "y1b.o <- x0\n",
    "\n",
    "for (k in 1:noff){\n",
    "    if(m[k]<nadult+1){      # if mother is in the plot\n",
    "        # offspring locations\n",
    "        x0 <- c(x0,off.loc[k,1])\n",
    "        y0 <- c(y0,off.loc[k,2])\n",
    "        # mother locations\n",
    "        x1 <- c(x1,adult.loc[m[k],1])\n",
    "        y1 <- c(y1,adult.loc[m[k],2])\n",
    "        \n",
    "        if(f[k]<nadult+1) { # if father is in the plot\n",
    "            # mother locations\n",
    "            x0b <- c(x0b,adult.loc[m[k],1])\n",
    "            y0b <- c(y0b,adult.loc[m[k],2])\n",
    "            # father locations\n",
    "            x1b <- c(x1b,adult.loc[f[k],1])\n",
    "            y1b <- c(y1b,adult.loc[f[k],2])\n",
    "            x0c <- c(x0c,adult.loc[f[k],1])\n",
    "            y0c <- c(y0c,adult.loc[f[k],2])\n",
    "            # offspring locations\n",
    "#             x1c <- c(x0,off.loc[k,1]) # this can't be right\n",
    "#             y1c <- c(y0,off.loc[k,2]) # this can't be right\n",
    "            x1c <- c(x1c,off.loc[k,1])  # replace with this\n",
    "            y1c <- c(y1c,off.loc[k,2])  # replace with this\n",
    "        } \n",
    "        if(f[k]==nadult+1){ # if father is outside the plot\n",
    "            # mother locations\n",
    "            x0b.o <- c(x0b.o,adult.loc[m[k],1])\n",
    "            y0b.o <- c(y0b.o,adult.loc[m[k],2])\n",
    "            # out-of-plot father locations\n",
    "            md <- which(d.edge.a[m[k],]==min(d.edge.a[m[k],]))\n",
    "            x1b.o[k] <- edgemid[md,1]\n",
    "            y1b.o[k] <- edgemid[md,2] \n",
    "        }\n",
    "    }\n",
    "    if(m[k]==nadult+1){     # if mother is outside the plot\n",
    "        x0.o <- c(x0.o,off.loc[k,1])\n",
    "        y0.o <- c(y0.o,off.loc[k,2])\n",
    "        md <- which(d.edge.o[k,]==min(d.edge.o[k,]))\n",
    "        x1.o <- c(x1.o,edgemid[md,1])\n",
    "        y1.o <- c(y1.o,edgemid[md,2])\n",
    "    }\n",
    "}\n",
    "\n",
    "#segments(x0b,y0b,x1b,y1b,col=\"red\",lwd=1) #inplot father to mother\n",
    "segments(x0c,y0c,x1c,y1c,lty=2,lwd =1) #inplot father to offspring\n",
    "#segments(x0,y0,x1,y1,lwd=1)  #inplot mother to offspring"
   ]
  },
  {
   "cell_type": "code",
   "execution_count": null,
   "metadata": {},
   "outputs": [],
   "source": [
    "c(len(x1b),len(y1b),len(x1c),len(y1c))"
   ]
  },
  {
   "cell_type": "markdown",
   "metadata": {},
   "source": [
    "## hist of mother-off-father distances"
   ]
  },
  {
   "cell_type": "code",
   "execution_count": null,
   "metadata": {},
   "outputs": [],
   "source": [
    "distance = function(a0,a1,b0,b1){\n",
    "    ddd <- rep(0,len(a0))\n",
    "    for (i in 1:len(a0)){\n",
    "        adiff = (a0[i]-a1[i])**2\n",
    "        bdiff = (b0[i]-b1[i])**2\n",
    "        diff = sqrt(adiff+bdiff)\n",
    "        ddd[i] <- diff\n",
    "    }\n",
    "    return (ddd)\n",
    "}"
   ]
  },
  {
   "cell_type": "markdown",
   "metadata": {},
   "source": [
    "#### mother-offspring"
   ]
  },
  {
   "cell_type": "code",
   "execution_count": null,
   "metadata": {},
   "outputs": [],
   "source": [
    "#x0 y0 x1 y1\n",
    "m.off <- distance(x0,x1,y0,y1)"
   ]
  },
  {
   "cell_type": "code",
   "execution_count": null,
   "metadata": {},
   "outputs": [],
   "source": [
    "c(mean(m.off),median(m.off))"
   ]
  },
  {
   "cell_type": "code",
   "execution_count": null,
   "metadata": {},
   "outputs": [],
   "source": [
    "mean.func(mean(usgibbs))"
   ]
  },
  {
   "cell_type": "code",
   "execution_count": null,
   "metadata": {},
   "outputs": [],
   "source": [
    "mean.func(mean(usgibbs[thin]))"
   ]
  },
  {
   "cell_type": "code",
   "execution_count": null,
   "metadata": {},
   "outputs": [],
   "source": [
    "hist(m.off, main=\"mother-offspring distances\",xlab =\"meters\")"
   ]
  },
  {
   "cell_type": "markdown",
   "metadata": {},
   "source": [
    "#### father-offspring"
   ]
  },
  {
   "cell_type": "code",
   "execution_count": null,
   "metadata": {},
   "outputs": [],
   "source": [
    "f.off <- distance(x0c,x1c,y0c,y1c)"
   ]
  },
  {
   "cell_type": "code",
   "execution_count": null,
   "metadata": {},
   "outputs": [],
   "source": [
    "c(len(x0c),len(x1c),len(y0c),len(y1c))"
   ]
  },
  {
   "cell_type": "code",
   "execution_count": null,
   "metadata": {},
   "outputs": [],
   "source": [
    "hist(f.off,main=\"father-offspring distances\",xlab=\"meters\")"
   ]
  },
  {
   "cell_type": "markdown",
   "metadata": {},
   "source": [
    "#### mother-father"
   ]
  },
  {
   "cell_type": "code",
   "execution_count": null,
   "metadata": {},
   "outputs": [],
   "source": [
    "c(len(x0b),len(y0b),len(x1b),len(y1b))"
   ]
  },
  {
   "cell_type": "code",
   "execution_count": null,
   "metadata": {},
   "outputs": [],
   "source": [
    "m.f <- distance(x0b,x1b,y0b,y1b)"
   ]
  },
  {
   "cell_type": "code",
   "execution_count": null,
   "metadata": {},
   "outputs": [],
   "source": [
    "hist(m.f,main=\"mother-father distances\",xlab=\"meters\")"
   ]
  },
  {
   "cell_type": "markdown",
   "metadata": {},
   "source": [
    "# rep 2"
   ]
  },
  {
   "cell_type": "code",
   "execution_count": null,
   "metadata": {},
   "outputs": [],
   "source": [
    "usgibbs2 <- readRDS('~/teakettle/data/gibbs/first_rep2/end_of_cyc_files/usgibbs_all_cycs.RDS')\n",
    "upgibbs2 <- readRDS('~/teakettle/data/gibbs/first_rep2/end_of_cyc_files/upgibbs_all_cycs.RDS')\n",
    "#ped.gibbs <- readRDS('~/teakettle/data/gibbs/first_rep2/end_of_cyc_files/pedgibbs_all_cycs.RDS')"
   ]
  },
  {
   "cell_type": "code",
   "execution_count": null,
   "metadata": {},
   "outputs": [],
   "source": [
    "par(mfcol=c(2,1))\n",
    "plot(usgibbs2,type='l')\n",
    "abline(h=mean(usgibbs2[thin]))\n",
    "plot(upgibbs2,type='l')\n",
    "abline(h=mean(upgibbs2[thin]))"
   ]
  },
  {
   "cell_type": "code",
   "execution_count": null,
   "metadata": {},
   "outputs": [],
   "source": [
    "c(mean(usgibbs[thin]),mean(usgibbs2[thin]))"
   ]
  },
  {
   "cell_type": "code",
   "execution_count": null,
   "metadata": {},
   "outputs": [],
   "source": [
    "c(mean.func(mean(usgibbs[thin])),mean.func(mean(usgibbs2[thin])))"
   ]
  },
  {
   "cell_type": "code",
   "execution_count": null,
   "metadata": {},
   "outputs": [],
   "source": [
    "len(usgibbs2)"
   ]
  },
  {
   "cell_type": "code",
   "execution_count": null,
   "metadata": {},
   "outputs": [],
   "source": [
    "effectiveSize(usgibbs2[30000:len(usgibbs2)])"
   ]
  },
  {
   "cell_type": "code",
   "execution_count": null,
   "metadata": {},
   "outputs": [],
   "source": [
    "effectiveSize(upgibbs2)"
   ]
  },
  {
   "cell_type": "markdown",
   "metadata": {},
   "source": [
    "# rep 3"
   ]
  },
  {
   "cell_type": "code",
   "execution_count": null,
   "metadata": {},
   "outputs": [],
   "source": [
    "usgibbs3 <- readRDS('~/teakettle/data/gibbs/first_rep3/end_of_cyc_files/usgibbs_all_cycs.RDS')\n",
    "upgibbs3 <- readRDS('~/teakettle/data/gibbs/first_rep3/end_of_cyc_files/upgibbs_all_cycs.RDS')\n",
    "#ped.gibbs <- readRDS('~/teakettle/data/gibbs/first_rep3/end_of_cyc_files/pedgibbs_all_cycs.RDS')"
   ]
  },
  {
   "cell_type": "code",
   "execution_count": null,
   "metadata": {},
   "outputs": [],
   "source": [
    "par(mfcol=c(2,1))\n",
    "plot(usgibbs3,type='l')\n",
    "abline(h=mean(usgibbs3[thin]))\n",
    "plot(upgibbs3,type='l')\n",
    "abline(h=mean(upgibbs3[thin]))"
   ]
  },
  {
   "cell_type": "code",
   "execution_count": null,
   "metadata": {},
   "outputs": [],
   "source": [
    "c(mean(usgibbs[thin]),mean(usgibbs2[thin]),mean(usgibbs3[thin]))"
   ]
  },
  {
   "cell_type": "code",
   "execution_count": null,
   "metadata": {},
   "outputs": [],
   "source": [
    "c(mean.func(mean(usgibbs[thin])),mean.func(mean(usgibbs2[thin])),mean.func(mean(usgibbs3[thin])))"
   ]
  },
  {
   "cell_type": "code",
   "execution_count": null,
   "metadata": {},
   "outputs": [],
   "source": [
    "effectiveSize(usgibbs3[30000:len(usgibbs3)])"
   ]
  },
  {
   "cell_type": "code",
   "execution_count": null,
   "metadata": {},
   "outputs": [],
   "source": [
    "effectiveSize(upgibbs3[30000:len(upgibbs3)])"
   ]
  },
  {
   "cell_type": "code",
   "execution_count": null,
   "metadata": {},
   "outputs": [],
   "source": [
    "effectiveSize(upgibbs3)"
   ]
  },
  {
   "cell_type": "code",
   "execution_count": null,
   "metadata": {},
   "outputs": [],
   "source": [
    "library(adegenet)"
   ]
  },
  {
   "cell_type": "code",
   "execution_count": null,
   "metadata": {},
   "outputs": [],
   "source": [
    "library(PopGenReport)"
   ]
  },
  {
   "cell_type": "code",
   "execution_count": null,
   "metadata": {},
   "outputs": [],
   "source": [
    "install.packages('PopGenReport')"
   ]
  },
  {
   "cell_type": "code",
   "execution_count": null,
   "metadata": {},
   "outputs": [],
   "source": [
    "install.packages('png')"
   ]
  },
  {
   "cell_type": "code",
   "execution_count": null,
   "metadata": {},
   "outputs": [],
   "source": [
    "install.packages('RgoogleMaps')"
   ]
  },
  {
   "cell_type": "code",
   "execution_count": null,
   "metadata": {},
   "outputs": [],
   "source": []
  },
  {
   "cell_type": "code",
   "execution_count": null,
   "metadata": {},
   "outputs": [],
   "source": []
  },
  {
   "cell_type": "code",
   "execution_count": null,
   "metadata": {},
   "outputs": [],
   "source": []
  },
  {
   "cell_type": "code",
   "execution_count": null,
   "metadata": {},
   "outputs": [],
   "source": []
  },
  {
   "cell_type": "code",
   "execution_count": null,
   "metadata": {},
   "outputs": [],
   "source": []
  },
  {
   "cell_type": "code",
   "execution_count": null,
   "metadata": {},
   "outputs": [],
   "source": []
  },
  {
   "cell_type": "code",
   "execution_count": null,
   "metadata": {},
   "outputs": [],
   "source": []
  },
  {
   "cell_type": "code",
   "execution_count": null,
   "metadata": {},
   "outputs": [],
   "source": []
  },
  {
   "cell_type": "code",
   "execution_count": null,
   "metadata": {},
   "outputs": [],
   "source": []
  },
  {
   "cell_type": "code",
   "execution_count": null,
   "metadata": {},
   "outputs": [],
   "source": []
  },
  {
   "cell_type": "code",
   "execution_count": null,
   "metadata": {},
   "outputs": [],
   "source": []
  },
  {
   "cell_type": "code",
   "execution_count": null,
   "metadata": {},
   "outputs": [],
   "source": []
  },
  {
   "cell_type": "code",
   "execution_count": null,
   "metadata": {},
   "outputs": [],
   "source": []
  },
  {
   "cell_type": "code",
   "execution_count": null,
   "metadata": {},
   "outputs": [],
   "source": []
  },
  {
   "cell_type": "code",
   "execution_count": null,
   "metadata": {},
   "outputs": [],
   "source": []
  },
  {
   "cell_type": "code",
   "execution_count": null,
   "metadata": {},
   "outputs": [],
   "source": []
  },
  {
   "cell_type": "code",
   "execution_count": null,
   "metadata": {},
   "outputs": [],
   "source": []
  },
  {
   "cell_type": "code",
   "execution_count": null,
   "metadata": {},
   "outputs": [],
   "source": []
  },
  {
   "cell_type": "code",
   "execution_count": null,
   "metadata": {},
   "outputs": [],
   "source": []
  },
  {
   "cell_type": "code",
   "execution_count": null,
   "metadata": {},
   "outputs": [],
   "source": []
  },
  {
   "cell_type": "code",
   "execution_count": null,
   "metadata": {},
   "outputs": [],
   "source": []
  },
  {
   "cell_type": "code",
   "execution_count": null,
   "metadata": {},
   "outputs": [],
   "source": []
  },
  {
   "cell_type": "code",
   "execution_count": null,
   "metadata": {},
   "outputs": [],
   "source": []
  },
  {
   "cell_type": "code",
   "execution_count": null,
   "metadata": {},
   "outputs": [],
   "source": []
  },
  {
   "cell_type": "code",
   "execution_count": null,
   "metadata": {},
   "outputs": [],
   "source": []
  },
  {
   "cell_type": "code",
   "execution_count": null,
   "metadata": {},
   "outputs": [],
   "source": []
  },
  {
   "cell_type": "code",
   "execution_count": null,
   "metadata": {},
   "outputs": [],
   "source": []
  },
  {
   "cell_type": "code",
   "execution_count": null,
   "metadata": {},
   "outputs": [],
   "source": []
  },
  {
   "cell_type": "code",
   "execution_count": null,
   "metadata": {},
   "outputs": [],
   "source": []
  },
  {
   "cell_type": "code",
   "execution_count": null,
   "metadata": {},
   "outputs": [],
   "source": []
  }
 ],
 "metadata": {
  "kernelspec": {
   "display_name": "R 3.3",
   "language": "R",
   "name": "ir33"
  },
  "language_info": {
   "codemirror_mode": "r",
   "file_extension": ".r",
   "mimetype": "text/x-r-source",
   "name": "R",
   "pygments_lexer": "r",
   "version": "3.3.1"
  }
 },
 "nbformat": 4,
 "nbformat_minor": 2
}
