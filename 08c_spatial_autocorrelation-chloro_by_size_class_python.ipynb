{
 "cells": [
  {
   "cell_type": "code",
   "execution_count": null,
   "metadata": {},
   "outputs": [],
   "source": [
    "imp = open('/home/lindb/pythonimports.py').read()\n",
    "exec(imp)\n",
    "from __future__ import division\n",
    "%matplotlib inline "
   ]
  },
  {
   "cell_type": "code",
   "execution_count": null,
   "metadata": {},
   "outputs": [],
   "source": [
    "mDIR ='/home/lindb/teakettle/postmoran/chloro/size_class'\n",
    "if not op.exists(mDIR):\n",
    "    mkdir(mDIR)"
   ]
  },
  {
   "cell_type": "markdown",
   "metadata": {},
   "source": [
    "# for all of teakettle - chloro - adults x adults\n",
    "### Put into R\n",
    "```R\n",
    "source('~/imports.R')\n",
    "library(PopGenReport)\n",
    "library(adegenet)\n",
    "\n",
    "### load dependencies\n",
    "cd('~/fragment/postmoran/final')\n",
    "getrds()\n",
    "\n",
    "\n",
    "### make a blank df to fill in later\n",
    "popgen <- matrix(0,ncol=len(loci)+1,nrow=luni(moran$samp))\n",
    "popgen <- data.frame(popgen)\n",
    "colnames(popgen) <- c('pop',loci)\n",
    "rownames(popgen) <- uni(moran$samp)\n",
    "head(popgen)\n",
    "\n",
    "### make dfs with either plot or treatment\n",
    "popgen.tfk  <- getdf(treatment='tfk')  # one single pop\n",
    "head(popgen.tfk)\n",
    "# df with only loci as columns\n",
    "pg.tfk <- popgen.tfk[,chloro]\n",
    "head(pg.tfk)\n",
    "\n",
    "### convert to class(genind)\n",
    "tfkpop  <- popgen.tfk$pop\n",
    "gentfk  <- df2genind(pg.tfk,ploidy=2,sep=\":\",pop=tfkpop)\n",
    "\n",
    "### calc gen dist\n",
    "gd <- gd.smouse(gentfk)\n",
    "gdmat <- as.matrix(gd)\n",
    "dim(gdmat)\n",
    "gdmat[1:5,1:5]\n",
    "\n",
    "### get euclidian distance\n",
    "distmat <- readRDS('~/fragment/postmoran/final/distmat.RDS')\n",
    "dmat <- distmat[which(rownames(distmat) %in% rownames(gdmat)),which(colnames(distmat) %in% colnames(gdmat))]\n",
    "all(rownames(dmat) == rownames(gdmat))\n",
    "all(colnames(dmat) == colnames(gdmat))\n",
    "luni(rownames(dmat)) == nrow(gdmat)\n",
    "luni(rownames(gdmat)) == nrow(dmat)\n",
    "all(dim(dmat) == dim(gdmat))\n",
    "\n",
    "### limit euclidian and genetic distance matrix so that it is only for adults\n",
    "adults <- simpmoran[which(simpmoran[,'seedling'] == 'False'),'samp'] # should be 599 (nadult)\n",
    "gdmat <- gdmat[which(rownames(gdmat) %in% adults),which(colnames(gdmat) %in% adults)]\n",
    "dmat  <- dmat[which(rownames(dmat) %in% adults)  ,which(colnames(dmat) %in% adults)]\n",
    "all(rownames(dmat) == rownames(gdmat))\n",
    "all(colnames(dmat) == colnames(gdmat))\n",
    "luni(rownames(dmat)) == nrow(gdmat)\n",
    "luni(rownames(gdmat)) == nrow(dmat)\n",
    "all(dim(dmat) == dim(gdmat))\n",
    "\n",
    "### get spatial autocorrelation\n",
    "bins = ceiling(.max(dmat)/10) # = 173\n",
    "sauto <- spautocor(gdmat,dmat,bins = 173)\n",
    "range(sauto$r)\n",
    "plot(sauto$bin,sauto$r)\n",
    "\n",
    "### save environment\n",
    "DIR = '/Users/Brandon1/fragment/postmoran/all_tfk-chloro/by_size_class/adultxadult'\n",
    "if (!(file.exists(DIR))){\n",
    "    dir.create(DIR)\n",
    "}\n",
    "cd(DIR)\n",
    "rds()\n",
    "```"
   ]
  },
  {
   "cell_type": "code",
   "execution_count": null,
   "metadata": {},
   "outputs": [],
   "source": [
    "DIR = '/home/lindb/teakettle/postmoran/chloro/size_class/adultxadult/final'\n",
    "if not op.exists(DIR):\n",
    "    mkdir(DIR)"
   ]
  },
  {
   "cell_type": "code",
   "execution_count": null,
   "metadata": {},
   "outputs": [],
   "source": [
    "# copy from desktop to godel\n",
    "# scp ~/fragment/postmoran/all_tfk-chloro/by_size_class/adultxadult/*RDS godel:/home/lindb/teakettle/postmoran/chloro/size_class/adultxadult/final"
   ]
  },
  {
   "cell_type": "code",
   "execution_count": null,
   "metadata": {},
   "outputs": [],
   "source": [
    "DIR = '/home/lindb/teakettle/postmoran/chloro/size_class/adultxadult/null/rfiles'\n",
    "if not op.exists(DIR):\n",
    "    mkdir(DIR)\n",
    "DIR = '/home/lindb/teakettle/postmoran/chloro/size_class/adultxadult/null/shfiles'\n",
    "if not op.exists(DIR):\n",
    "    mkdir(DIR)\n",
    "DIR = '/home/lindb/teakettle/postmoran/chloro/size_class/adultxadult/null/outfiles/'\n",
    "if not op.exists(DIR):\n",
    "    mkdir(DIR)"
   ]
  },
  {
   "cell_type": "code",
   "execution_count": null,
   "metadata": {},
   "outputs": [],
   "source": [
    "for i in range(999):\n",
    "    text = '''\n",
    "source('~/imports.R')\n",
    "cd('/home/lindb/teakettle/postmoran/chloro/size_class/adultxadult/final')\n",
    "\n",
    "# load dependencies\n",
    "getrds()\n",
    "\n",
    "spautocor <- function (gen.m, eucl.m, shuffle = FALSE, bins = 10) \n",
    "{\n",
    "    gd <- gen.m\n",
    "    ed <- eucl.m\n",
    "    if (shuffle == TRUE) {\n",
    "        gdd <- as.dist(gd)\n",
    "        gdsample <- sample(1:length(gdd), length(gdd))\n",
    "        gd[lower.tri(gd)] <- gdd[gdsample]\n",
    "        gd[upper.tri(gd)] <- gdd[gdsample]\n",
    "        diag(gd) <- 0\n",
    "    }\n",
    "    cdmat <- function(gd) {\n",
    "        dimen <- nrow(gd)\n",
    "        sgd <- sum(gd, na.rm = TRUE)\n",
    "        cscd <- matrix(colSums(gd, na.rm = TRUE), dimen, dimen)\n",
    "        rscd <- matrix(rowSums(gd, na.rm = TRUE), dimen, dimen, \n",
    "            byrow = TRUE)\n",
    "        cd <- 0.5 * (-gd + 1/dimen * (cscd + rscd) - 1/dimen^2 * \n",
    "            (sgd))\n",
    "        cd\n",
    "    }\n",
    "    cd <- cdmat(gd)\n",
    "    ed[upper.tri(ed)] <- NA\n",
    "    diag(ed) <- NA\n",
    "    r <- NA\n",
    "    distance <- NA\n",
    "    N <- NA\n",
    "    steps <- signif(diff(range(ed, na.rm = TRUE))/bins, 4)\n",
    "    for (d in 1:bins) {\n",
    "        index <- which(ed <= d * steps & ed > (d - 1) * steps, \n",
    "            arr.ind = TRUE)\n",
    "        cx <- sum(cd[index])\n",
    "        cxii <- sum(diag(cd)[index[, 1]])\n",
    "        cxjj <- sum(diag(cd)[index[, 2]])\n",
    "        r[d] <- 2 * cx/(cxii + cxjj)\n",
    "        distance[d] <- steps * d\n",
    "        N[d] <- length(index)\n",
    "    }\n",
    "    if (shuffle == FALSE) \n",
    "        res <- data.frame(bin = distance, N = N, r = r)\n",
    "    else res <- data.frame(r = r)\n",
    "    res\n",
    "}\n",
    "\n",
    "# get null value\n",
    "shuff <- spautocor(gdmat,dmat,bins=bins,shuffle=T)\n",
    "filE = sprintf('/home/lindb/teakettle/postmoran/chloro/size_class/adultxadult/null/outfiles/shuff_%%s.RDS',sprintf('%%03d',%s))\n",
    "saveRDS(shuff,filE)\n",
    "\n",
    "''' % (i)\n",
    "    filE = '/home/lindb/teakettle/postmoran/chloro/size_class/adultxadult/null/rfiles/null_%s.R' % str(i).zfill(3)\n",
    "    with open(filE,'w') as o:\n",
    "        o.write(\"%s\" % text)\n",
    "    o.close()"
   ]
  },
  {
   "cell_type": "code",
   "execution_count": null,
   "metadata": {},
   "outputs": [],
   "source": [
    "files = fs('/home/lindb/teakettle/postmoran/chloro/size_class/adultxadult/null/rfiles/')\n",
    "\n",
    "fcount  = 0\n",
    "shcount = 0\n",
    "rcount  = 0\n",
    "for f in files:\n",
    "    num = op.basename(f).split(\".R\")[0].split(\"_\")[1]\n",
    "    if rcount == 0:\n",
    "        text = '''#!/bin/bash\n",
    "#$ -N shuff%s\n",
    "#$ -S /bin/bash\n",
    "#$ -V\n",
    "#$ -j y\n",
    "#$ -cwd\n",
    "\n",
    "cd %s\n",
    "R --no-save < %s\n",
    "''' % (num,\n",
    "       op.dirname(f),\n",
    "       f)\n",
    "    else:\n",
    "        newtext = '''\n",
    "cd %s\n",
    "R --no-save < %s\n",
    "''' % (op.dirname(f),\n",
    "       f)\n",
    "        text = text + newtext\n",
    "    fcount += 1\n",
    "    rcount += 1\n",
    "    \n",
    "    if rcount == 6 or fcount == len(files):\n",
    "        filE = '/home/lindb/teakettle/postmoran/chloro/size_class/adultxadult/null/shfiles/shuff_%s.sh' % str(shcount).zfill(3)\n",
    "        with open(filE,'w') as o:\n",
    "            o.write(\"%s\" % text)\n",
    "        rcount = 0\n",
    "        shcount += 1"
   ]
  },
  {
   "cell_type": "code",
   "execution_count": null,
   "metadata": {},
   "outputs": [],
   "source": [
    "DIR = '/home/lindb/teakettle/postmoran/chloro/size_class/adultxadult/null/shfiles'\n",
    "shfiles = fs(DIR)\n",
    "len(shfiles)"
   ]
  },
  {
   "cell_type": "code",
   "execution_count": null,
   "metadata": {},
   "outputs": [],
   "source": [
    "cd(DIR)\n",
    "for s in shfiles:\n",
    "    !qsub $s"
   ]
  },
  {
   "cell_type": "code",
   "execution_count": null,
   "metadata": {},
   "outputs": [],
   "source": [
    "# check on progress\n",
    "len(ls('/home/lindb/teakettle/postmoran/chloro/size_class/adultxadult/null/outfiles/'))"
   ]
  },
  {
   "cell_type": "markdown",
   "metadata": {},
   "source": [
    "### combine null runs"
   ]
  },
  {
   "cell_type": "code",
   "execution_count": null,
   "metadata": {},
   "outputs": [],
   "source": [
    "text = '''\n",
    "source('~/imports.R')\n",
    "cd('/home/lindb/teakettle/postmoran/chloro/size_class/adultxadult/')\n",
    "\n",
    "sauto <- readRDS('/home/lindb/teakettle/postmoran/chloro/size_class/adultxadult/final/sauto.RDS')\n",
    "\n",
    "# get a list of all of the null runs\n",
    "DIR = '/home/lindb/teakettle/postmoran/chloro/size_class/adultxadult/null/outfiles/'\n",
    "R <- list()\n",
    "for (f in list.files(DIR,full.names=T,pattern='.RDS')){\n",
    "    r <- readRDS(f)\n",
    "    R <- append(R,list(r))\n",
    "    names(R)[len(R)] <- as.character(len(R))\n",
    "}\n",
    "r <- data.frame(sauto$r)\n",
    "names(r) <- 'r'\n",
    "R <- append(R,list(r))\n",
    "names(R)[1000] <- as.character(1000)\n",
    "\n",
    "# get a list for each distance class, appending values from 1000 null runs\n",
    "Rm <- list()\n",
    "for (i in 1:173){\n",
    "    print(i)\n",
    "    lst <- c()\n",
    "    for (j in 1:len(R)){\n",
    "        lst <- c(lst, R[[as.character(j)]][i,'r'])\n",
    "    }\n",
    "    Rm <- append(Rm,list(lst))\n",
    "}\n",
    "\n",
    "# get 2.5th and 97.5th quantiles\n",
    "null <- list()\n",
    "for (i in 1:len(Rm)){\n",
    "    low = sort(Rm[[i]])[25]\n",
    "    high = sort(Rm[[i]])[975]\n",
    "    null <- append(null,list(c(low,high)))\n",
    "}\n",
    "\n",
    "\n",
    "filE = fname(getwd(),'chloro_null.RDS')\n",
    "saveRDS(null,filE)\n",
    "filE = fname(getwd(),'chloro_R.RDS')\n",
    "saveRDS(R,filE)\n",
    "filE = fname(getwd(),'chloro_Rm.RDS')\n",
    "saveRDS(Rm,filE)\n",
    "'''\n",
    "filE = '/home/lindb/teakettle/postmoran/chloro/size_class/adultxadult/combine_R_vector_chloro.R'\n",
    "with open(filE,'w') as o:\n",
    "    o.write(\"%s\" % text)\n",
    "o.close()"
   ]
  },
  {
   "cell_type": "code",
   "execution_count": null,
   "metadata": {},
   "outputs": [],
   "source": [
    "# !cd /home/lindb/teakettle/postmoran/chloro/size_class/adultxadult\n",
    "# !R --no-save < /home/lindb/teakettle/postmoran/chloro/size_class/adultxadult/combine_R_vector_chloro.R"
   ]
  },
  {
   "cell_type": "code",
   "execution_count": null,
   "metadata": {},
   "outputs": [],
   "source": [
    "# scp godel:/home/lindb/teakettle/postmoran/chloro/size_class/adultxadult/chloro_null.RDS ~/Downloads/all_tfk_chloro_adultxadult"
   ]
  },
  {
   "cell_type": "markdown",
   "metadata": {},
   "source": [
    "# plot spatial autocorrelation\n",
    "### put into R\n",
    "```R\n",
    "source('~/imports.R')\n",
    "cd('~/Downloads/all_tfk_chloro_adultxadult')\n",
    "\n",
    "### load Rm, R, and sauto\n",
    "getrds()\n",
    "null <- chloro_null\n",
    "sauto <- readRDS('~/fragment/postmoran/all_tfk-chloro/by_size_class/adultxadult/sauto.RDS')\n",
    "\n",
    "# get quantiles for each distance class\n",
    "lows <- c()\n",
    "his <- c()\n",
    "for (i in 1:len(null)){\n",
    "\tlows <- c(lows,null[[i]][1])\n",
    "\this <- c(his,null[[i]][2])\n",
    "}\n",
    "\n",
    "plot(sauto$bin,sauto$r,type=\"l\",xlab=\"Distance (meters)\",ylab=\"r\",ylim=c(-0.13,0.13),xaxt=\"n\")\n",
    "xtick <- seq(0,max(sauto$bin),100)\n",
    "axis(side=1,at=xtick)\n",
    "#axis(side=1,at=xtick,labels=FALSE)\n",
    "#text(x=xtick,par(\"usr\")[3],labels=xtick\n",
    "polygon(c(sauto$bin,rev(sauto$bin)),c(lows,rev(his)),col='grey75',border=FALSE)\n",
    "lines(sauto$bin,sauto$r,lwd=2)\n",
    "lines(sauto$bin,lows,col=\"red\",lty=2)\n",
    "lines(sauto$bin,his,col=\"red\",lty=2)\n",
    "```"
   ]
  },
  {
   "cell_type": "code",
   "execution_count": null,
   "metadata": {},
   "outputs": [],
   "source": [
    "# scp ~/fragment/postmoran/all_tfk_chloro_adultxadult.pdf godel:/home/lindb/teakettle/postmoran/figs"
   ]
  },
  {
   "cell_type": "code",
   "execution_count": null,
   "metadata": {},
   "outputs": [],
   "source": [
    "from wand.image import Image as WImage\n",
    "img = WImage(filename='/home/lindb/teakettle/postmoran/figs/all_tfk_chloro_adultxadult.pdf')\n",
    "img"
   ]
  },
  {
   "cell_type": "code",
   "execution_count": null,
   "metadata": {},
   "outputs": [],
   "source": []
  },
  {
   "cell_type": "code",
   "execution_count": null,
   "metadata": {},
   "outputs": [],
   "source": []
  },
  {
   "cell_type": "code",
   "execution_count": null,
   "metadata": {},
   "outputs": [],
   "source": []
  },
  {
   "cell_type": "code",
   "execution_count": null,
   "metadata": {},
   "outputs": [],
   "source": []
  },
  {
   "cell_type": "code",
   "execution_count": null,
   "metadata": {},
   "outputs": [],
   "source": []
  },
  {
   "cell_type": "code",
   "execution_count": null,
   "metadata": {},
   "outputs": [],
   "source": []
  },
  {
   "cell_type": "code",
   "execution_count": null,
   "metadata": {},
   "outputs": [],
   "source": []
  },
  {
   "cell_type": "code",
   "execution_count": null,
   "metadata": {},
   "outputs": [],
   "source": []
  },
  {
   "cell_type": "code",
   "execution_count": null,
   "metadata": {},
   "outputs": [],
   "source": []
  },
  {
   "cell_type": "code",
   "execution_count": null,
   "metadata": {},
   "outputs": [],
   "source": []
  },
  {
   "cell_type": "code",
   "execution_count": null,
   "metadata": {},
   "outputs": [],
   "source": []
  },
  {
   "cell_type": "code",
   "execution_count": null,
   "metadata": {},
   "outputs": [],
   "source": []
  },
  {
   "cell_type": "code",
   "execution_count": null,
   "metadata": {},
   "outputs": [],
   "source": []
  },
  {
   "cell_type": "code",
   "execution_count": null,
   "metadata": {},
   "outputs": [],
   "source": []
  },
  {
   "cell_type": "code",
   "execution_count": null,
   "metadata": {},
   "outputs": [],
   "source": []
  },
  {
   "cell_type": "code",
   "execution_count": null,
   "metadata": {},
   "outputs": [],
   "source": []
  },
  {
   "cell_type": "code",
   "execution_count": null,
   "metadata": {},
   "outputs": [],
   "source": []
  },
  {
   "cell_type": "code",
   "execution_count": null,
   "metadata": {},
   "outputs": [],
   "source": []
  }
 ],
 "metadata": {
  "kernelspec": {
   "display_name": "Python 2",
   "language": "python",
   "name": "python2"
  },
  "language_info": {
   "codemirror_mode": {
    "name": "ipython",
    "version": 2
   },
   "file_extension": ".py",
   "mimetype": "text/x-python",
   "name": "python",
   "nbconvert_exporter": "python",
   "pygments_lexer": "ipython2",
   "version": "2.7.13"
  }
 },
 "nbformat": 4,
 "nbformat_minor": 2
}
