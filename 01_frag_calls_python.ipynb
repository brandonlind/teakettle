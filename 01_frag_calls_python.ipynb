{
 "cells": [
  {
   "cell_type": "markdown",
   "metadata": {},
   "source": [
    "# Outline\n",
    "1. [get samp names](#samps)<br>\n",
    "1. [map samp names to aug, leftover, combo, redo, plate 7](#map)<br>\n",
    "1. [get genotype calls](#geno calls)<br>\n",
    "1. [print results to table](#print)<br>\n",
    "1. [calc mistying and dropouts](#calcs)<br>\n",
    "1. [make moran infile](#infile)"
   ]
  },
  {
   "cell_type": "code",
   "execution_count": null,
   "metadata": {},
   "outputs": [],
   "source": [
    "imp = open('/home/lindb/pythonimports.py').read()\n",
    "exec(imp)\n",
    "from __future__ import division\n",
    "\n",
    "from scipy.special import comb\n",
    "from tabulate import tabulate\n",
    "%matplotlib inline "
   ]
  },
  {
   "cell_type": "code",
   "execution_count": null,
   "metadata": {},
   "outputs": [],
   "source": [
    "# first run needed to be compared between regenotyping; fix errors\n",
    "# src = '/home/lindb/teakettle/genemarker/outfiles/' \n",
    "# dst = '/home/lindb/teakettle/genemarker/outfiles_first/'\n",
    "# shutil.move(src,dst)\n",
    "# if not op.exists(src):\n",
    "#     mkdir(src)"
   ]
  },
  {
   "cell_type": "markdown",
   "metadata": {},
   "source": [
    "<a id=\"samps\"></a>\n",
    "# Get samp names"
   ]
  },
  {
   "cell_type": "markdown",
   "metadata": {},
   "source": [
    "Determine which samps were regenotyped, and the plates that they're in. By the end of this I would like to have a list of plates that have samps that were genotyped more than once"
   ]
  },
  {
   "cell_type": "code",
   "execution_count": null,
   "metadata": {},
   "outputs": [],
   "source": [
    "#get tree location data from master data \n",
    "t = pd.read_csv('/home/lindb/teakettle/data/trees.txt',sep='\\t',index_col=None)\n",
    "t.replace(\"TRUE\",True,inplace=True)\n",
    "t.replace(\"FALSE\",False,inplace=True)\n",
    "t.replace('True',True,inplace=True)\n",
    "t.replace('False',False,inplace=True)\n",
    "t = t.loc[t['sampled'] != False,:].copy()\n",
    "t.index = np.arange(len(t.index))\n",
    "t.head()"
   ]
  },
  {
   "cell_type": "code",
   "execution_count": null,
   "metadata": {},
   "outputs": [],
   "source": [
    "def convert(s):\n",
    "    num,plot = (s[:-3],s[-3:])\n",
    "    if 'new' in num:\n",
    "        num,new = (num[:-3],num[-3:])\n",
    "        while len(num) < 3:\n",
    "            num = '0%s' % num\n",
    "    else:\n",
    "        new = \"\"\n",
    "    samp = \"%s_%s%s\" % (plot,new,num)\n",
    "    return(samp)\n",
    "t['converted'] = t['COMBO'].apply(lambda x: convert(x))\n",
    "filE = '/home/lindb/teakettle/data/trees_with_converted.txt'\n",
    "t.to_csv(filE, header=True,index=False,sep='\\t')"
   ]
  },
  {
   "cell_type": "code",
   "execution_count": null,
   "metadata": {},
   "outputs": [],
   "source": [
    "'COMBO' in t"
   ]
  },
  {
   "cell_type": "code",
   "execution_count": null,
   "metadata": {},
   "outputs": [],
   "source": [
    "'converted' in t"
   ]
  },
  {
   "cell_type": "code",
   "execution_count": null,
   "metadata": {},
   "outputs": [],
   "source": [
    "'11un1' in t['COMBO'].tolist()"
   ]
  },
  {
   "cell_type": "code",
   "execution_count": null,
   "metadata": {},
   "outputs": [],
   "source": [
    "'un1_11' in t['converted'].tolist()"
   ]
  },
  {
   "cell_type": "markdown",
   "metadata": {},
   "source": [
    "<a id=\"map\"></a>\n",
    "# map samp names to aug, leftover, combo, redo, plate 7"
   ]
  },
  {
   "cell_type": "code",
   "execution_count": null,
   "metadata": {},
   "outputs": [],
   "source": [
    "# make dictionary to fill in samples for combined, redo, aug, and leftover plates\n",
    "# mfiles contain the well ID and samp name to be used as a map for Cornell outfiles\n",
    "DIR = '/home/lindb/teakettle/genemarker/map/locfirst/'\n",
    "mfiles = [f for f in fs(DIR) if '_fam' not in f and '_ned' not in f]\n",
    "locfirst = [f for f in fs(DIR) if '_fam' not in f and '_ned' not in f]\n",
    "DIR = '/home/lindb/teakettle/genemarker/map/loclast/'\n",
    "[mfiles.append(f) for f in fs(DIR) if '_fam' not in f and '_ned' not in f]\n",
    "loclast = [f for f in fs(DIR) if '_fam' not in f and '_ned' not in f]\n",
    "len(mfiles)"
   ]
  },
  {
   "cell_type": "code",
   "execution_count": null,
   "metadata": {},
   "outputs": [],
   "source": [
    "# known samps that won't be in t['converted'], most are Jeffrey pine that were accidentally included\n",
    "skips = ['uc2_3141',\n",
    "         'uc2_5185',\n",
    "         'uc2_9554',\n",
    "         'uc2_9592',\n",
    "         'un1_2749',\n",
    "         'un2_3126',\n",
    "         'un3_2588',\n",
    "         'us3_1752',\n",
    "         'un1_5587',\n",
    "         'bc1_7932',\n",
    "         'uc3_533',\n",
    "         'uc3_549',\n",
    "         'un1_3180',\n",
    "         'us3_new461'\n",
    "        ]"
   ]
  },
  {
   "cell_type": "code",
   "execution_count": null,
   "metadata": {},
   "outputs": [],
   "source": [
    "# make sure the samp name is legit\n",
    "def fixsamp(s):\n",
    "    if 'pije' in s:\n",
    "        s = s.split(\"_pije\")[0]\n",
    "    if 'new' in s:\n",
    "        while s not in t['converted'].tolist():\n",
    "            plt_new,num = (s[:7],s[7:])\n",
    "            s = \"\".join([plt_new,\"0%s\" % num])\n",
    "    elif '0' in s:\n",
    "        plot,num = s.split(\"_\")\n",
    "        if num.startswith(\"0\"):\n",
    "            while s not in t['converted'].tolist():\n",
    "                num = num[1:]\n",
    "                s = \"_\".join([plot,num])\n",
    "    if s == 'uc2_9920':\n",
    "        s = 'uc2_9220'\n",
    "    if s == '691uc1_691':\n",
    "        s = 'uc1_691'\n",
    "    if 'blank' not in s:\n",
    "        if s not in skips:\n",
    "            assert s in t['converted'].tolist()\n",
    "    return(s)\n",
    "\n",
    "def doit(args):\n",
    "    fmapp = OrderedDict()\n",
    "    df, pos = args\n",
    "    for row in df.index:\n",
    "        samp = df.loc[row,1]\n",
    "        splits = samp.split(\"_\")\n",
    "        if pos == 'first':\n",
    "            locus = splits[0]\n",
    "            if not 'blank' in splits:\n",
    "                samp = \"_\".join([splits[1],splits[2]])\n",
    "            else:\n",
    "                samp = 'blank'\n",
    "        if pos == 'last':\n",
    "            locus = splits[-1]\n",
    "            if not 'blank' in splits:\n",
    "                samp = \"_\".join([splits[0],splits[1]])\n",
    "            else:\n",
    "                samp = 'blank'\n",
    "        assert len(samp) > 2    \n",
    "        if not samp in skips:\n",
    "            samp = fixsamp(samp)\n",
    "        fmapp[df.loc[row,0]] = samp #df.loc[row,0] is the well ID\n",
    "    return(fmapp)"
   ]
  },
  {
   "cell_type": "code",
   "execution_count": null,
   "metadata": {},
   "outputs": [],
   "source": [
    "# for each plate that doesn't have samp in filename, for each locus make a dict with k=well and v=samp\n",
    "mapp = OrderedDict()\n",
    "for f in mfiles:\n",
    "    filE = op.basename(f).split(\".txt\")[0].split(\"_\")\n",
    "    plate = \"_\".join(filE[0:2])\n",
    "    locus = filE[-1]\n",
    "    #print plate, locus\n",
    "    if not plate in mapp:\n",
    "        mapp[plate] = OrderedDict()\n",
    "    if not locus in mapp[plate]:\n",
    "        mapp[plate][locus] = OrderedDict()\n",
    "    df = pd.read_csv(f,sep='\\t',header=None)\n",
    "    args = [df]\n",
    "    if f in locfirst:\n",
    "        args.append('first')\n",
    "        mapp[plate][locus] = doit(args)\n",
    "    if f in loclast:\n",
    "        args.append('last')\n",
    "        mapp[plate][locus] = doit(args)        "
   ]
  },
  {
   "cell_type": "code",
   "execution_count": null,
   "metadata": {},
   "outputs": [],
   "source": [
    "fixsamp('691uc1_691')"
   ]
  },
  {
   "cell_type": "code",
   "execution_count": null,
   "metadata": {},
   "outputs": [],
   "source": [
    "fixsamp('bc1_new5')"
   ]
  },
  {
   "cell_type": "code",
   "execution_count": null,
   "metadata": {},
   "outputs": [],
   "source": [
    "fixsamp('bc1_019')"
   ]
  },
  {
   "cell_type": "markdown",
   "metadata": {},
   "source": [
    "<a id=\"geno calls\"></a>\n",
    "# get genotype calls for each sample"
   ]
  },
  {
   "cell_type": "code",
   "execution_count": null,
   "metadata": {},
   "outputs": [],
   "source": [
    "# aug left samps eg 'leftover_01_A01'\n",
    "# redo02_chloro and redo03_chloro could be excluded to minimize error calcs\n",
    "DIR = '/home/lindb/teakettle/genemarker/outfiles/'\n",
    "augleft = [f for f in fs(DIR) if 'aug' in f]\n",
    "[augleft.append(f) for f in fs(DIR) if 'leftover' in f]\n",
    "len(augleft)"
   ]
  },
  {
   "cell_type": "code",
   "execution_count": null,
   "metadata": {},
   "outputs": [],
   "source": [
    "#these have 'samp' in the samp name, need slightly different samp ID attribution\n",
    "#eg 'combo_02_samp_A01'\n",
    "DIR = '/home/lindb/teakettle/genemarker/outfiles/'\n",
    "comboredoplate7 = [f for f in fs(DIR) if 'combi' in f]\n",
    "[comboredoplate7.append(f) for f in fs(DIR) if 'redo' in f]\n",
    "[comboredoplate7.append(f) for f in fs(DIR) if 'plate' in f]\n",
    "len(comboredoplate7)"
   ]
  },
  {
   "cell_type": "code",
   "execution_count": null,
   "metadata": {},
   "outputs": [],
   "source": [
    "DIR = '/home/lindb/teakettle/genemarker/outfiles/'\n",
    "files = fs(DIR)\n",
    "len(files)"
   ]
  },
  {
   "cell_type": "code",
   "execution_count": null,
   "metadata": {},
   "outputs": [],
   "source": [
    "nuc = ['rps39', 'rps12', 'rps2', 'rps50']"
   ]
  },
  {
   "cell_type": "code",
   "execution_count": null,
   "metadata": {},
   "outputs": [],
   "source": [
    "#get the results from the shitty outfiles from GeneMarker (softgenics)\n",
    "DIR = '/home/lindb/teakettle/genemarker/outfiles/'\n",
    "files = fs(DIR)\n",
    "\n",
    "regen = OrderedDict()\n",
    "res = OrderedDict() # key = samp, val = key (locus) value = genotype\n",
    "loci = ['pt71936','rps39','pc10','pt87268','rps12','rps2','rps50']\n",
    "Fs = OrderedDict()\n",
    "crap = OrderedDict()\n",
    "gtcalls = OrderedDict() # key = file, value = key (samp) value = genotypes\n",
    "for g in files:\n",
    "    count =0\n",
    "    locus = op.basename(g).split(\"_\")[-1].split(\".TXT\")[0]\n",
    "    if not g in gtcalls:\n",
    "        gtcalls[g] = OrderedDict()\n",
    "\n",
    "    with open(g,'rb') as f:\n",
    "        \n",
    "        df = f.readlines()[13:]\n",
    "        for line in df:\n",
    "            line = line.split(\"\\t\")\n",
    "            if not line[0] == '':\n",
    "                \n",
    "                #have to figure out sample name\n",
    "                if g in augleft:\n",
    "                    plate = op.basename(g).split(\"_\")\n",
    "                    plate = \"_\".join(plate[0:2])\n",
    "                    splits = line[1].split(\"_\")\n",
    "                    well = splits[2].split(\".fsa\")[0]\n",
    "                    samp = mapp[plate][locus][well]\n",
    "                elif g in comboredoplate7:\n",
    "                    splits = line[1].split(\"_\")\n",
    "                    plate = \"_\".join(splits[0:2])\n",
    "                    if 'combo' in plate:\n",
    "                        plate = 'combined_%s' % splits[1]\n",
    "                    well = splits[-1].split(\".fsa\")[0]\n",
    "                    samp = mapp[plate][locus][well]\n",
    "                else:\n",
    "                    samp = \"_\".join(line[1].split(\"_\")[0:2])\n",
    "                    if '.fsa' in samp:\n",
    "                        samp = samp.split(\".fsa\")[0]\n",
    "\n",
    "                if 'blank' not in samp:\n",
    "                    #correct the samp name if necessary\n",
    "                    samp = fixsamp(samp)\n",
    "                    \n",
    "                    if samp not in res: #create the spotholders to be filled in\n",
    "                        res[samp] = OrderedDict()\n",
    "                        Fs[samp] = OrderedDict()\n",
    "                        for l in loci:\n",
    "                            res[samp][l] = []\n",
    "                            Fs[samp][l] = []\n",
    "#                     else:\n",
    "#                         print \"%s in res\" % samp \n",
    "                    if samp not in regen:\n",
    "                        regen[samp] = OrderedDict()\n",
    "                        for l in loci:\n",
    "                            regen[samp][l] = []\n",
    "#                     else:\n",
    "#                         print \"%s in regen\" % samp\n",
    "                    \n",
    "                    regen[samp][locus].append(g)\n",
    "                    oldysamp = samp\n",
    "                    try:\n",
    "                        assert samp not in gtcalls[g]\n",
    "                    except AssertionError:\n",
    "                        print samp,locus,g\n",
    "                    gtcalls[g][samp] = []\n",
    "\n",
    "                    if len(res[samp][locus])>0: #possible regenotyping\n",
    "#                         print samp,locus,res[samp][locus],Fs[samp][locus]\n",
    "#                         print locus,line\n",
    "#                         print op.basename(g)\n",
    "#                         print '\\n'\n",
    "                        count +=1\n",
    "                        if not 'dup' in samp:\n",
    "                            samp = samp + '_dup'\n",
    "                        scount = 0\n",
    "                        while samp in res:\n",
    "                            samp = samp + str(scount)\n",
    "                            scount += 1\n",
    "                        res[samp] = OrderedDict()\n",
    "                        Fs[samp] = OrderedDict()\n",
    "                        for l in loci:\n",
    "                            res[samp][l] = []\n",
    "                            Fs[samp][l] = []\n",
    "\n",
    "                    for x in line[2:]:\n",
    "                        if not x in ['\\r\\n','','\\n']:\n",
    "                            if '\\r\\n' in x: #not the same as: if not x in ['\\r\\n','','\\n']\n",
    "                                x = x.split('\\r\\n')[0]\n",
    "                                print x,line\n",
    "                            if samp == 'un3_1242':\n",
    "#                                 print x\n",
    "                                hhhh = 1\n",
    "                            res[samp][locus].append(x)\n",
    "                            gtcalls[g][oldysamp].append(x)\n",
    "                            Fs[samp][locus].append(op.basename(g))\n",
    "#             if samp == 'un3_1242':\n",
    "#                 print locus,line, '\\t', g"
   ]
  },
  {
   "cell_type": "code",
   "execution_count": null,
   "metadata": {},
   "outputs": [],
   "source": [
    "plate,locus,well"
   ]
  },
  {
   "cell_type": "code",
   "execution_count": null,
   "metadata": {},
   "outputs": [],
   "source": [
    "gtcalls[g][oldysamp]"
   ]
  },
  {
   "cell_type": "code",
   "execution_count": null,
   "metadata": {},
   "outputs": [],
   "source": [
    "# how to get the well from the samp name\n",
    "print mapp['aug_01']['pc10'].keys()[mapp['aug_01']['pc10'].values().index('uc3_123')]"
   ]
  },
  {
   "cell_type": "markdown",
   "metadata": {},
   "source": [
    "<a id=\"print\"></a>\n",
    "# print out samps that have regenotyping data"
   ]
  },
  {
   "cell_type": "code",
   "execution_count": null,
   "metadata": {},
   "outputs": [],
   "source": [
    "# for plates with files that include samp name, add these to mapp.dict\n",
    "def mapit(p):\n",
    "    splits = op.basename(p).split(\"_\")\n",
    "    platey = \"_\".join([splits[0],splits[1]]).replace(\"-\",\"_\")\n",
    "    mappy = OrderedDict()\n",
    "    with open(p,'rb') as f:\n",
    "        df = f.readlines()[13:]\n",
    "        for line in df:\n",
    "            line = line.split(\"\\t\")\n",
    "            if not line[0] == '':\n",
    "                samp = \"_\".join(line[1].split(\"_\")[0:2])        \n",
    "                if '.fsa' in samp:\n",
    "                    samp = samp.split(\".fsa\")[0]\n",
    "                if not 'blank' in samp:\n",
    "                    if not samp in skips:\n",
    "                        samp = fixsamp(samp)\n",
    "#                     well = convert[int(line[0])]\n",
    "                    well = pm[platey][samp]\n",
    "                    #assert well not in mapp[plate][locus]\n",
    "                    samp = fixsamp(samp)\n",
    "                    mappy[well] = samp\n",
    "    return(mappy)\n",
    "\n",
    "# #make a dictionary to convert the line number to the well number\n",
    "# wells = []\n",
    "# for letter in string.uppercase[0:8]:\n",
    "#     for i in range(12):\n",
    "#         j = i + 1\n",
    "#         well = '%s%s' % (letter,str(j).zfill(2))\n",
    "#         wells.append(well)\n",
    "# convert = {}\n",
    "# for i in range(96):\n",
    "#     convert[i+1] = wells[i]\n",
    "    \n",
    "# get the file to convert samp to well ID\n",
    "platemap = pd.read_csv('/home/lindb/teakettle/genemarker/plates3.csv',header=0,sep=',')\n",
    "pm = {}\n",
    "for col in platemap.columns[1:]:\n",
    "    pm[col] = {}\n",
    "    for row in platemap.index:\n",
    "        samp = platemap.loc[row,col]\n",
    "        samp = fixsamp(samp)\n",
    "        pm[col][samp] = platemap.loc[row,'well']"
   ]
  },
  {
   "cell_type": "code",
   "execution_count": null,
   "metadata": {},
   "outputs": [],
   "source": [
    "#print out all of the samples with regenotyping data\n",
    "regenotyped = []\n",
    "for samp in sorted(regen):\n",
    "    for locus in sorted(loci):\n",
    "        if locus in regen[samp].keys():\n",
    "            if len(regen[samp][locus]) > 1:\n",
    "                if samp not in regenotyped:\n",
    "                    regenotyped.append(samp)\n",
    "                print samp\n",
    "                for f in regen[samp][locus]:\n",
    "                    splits = op.basename(f).split(\"_\")\n",
    "                    plate = \"_\".join([splits[0],splits[1]])\n",
    "                    if not plate in mapp: # these plates had the sample name as input\n",
    "                        mapp[plate] = OrderedDict()\n",
    "                    if not locus in mapp[plate]:\n",
    "                        mapp[plate][locus] = mapit(f)\n",
    "                    well = mapp[plate][locus].keys()[mapp[plate][locus].values().index(samp)]\n",
    "                    calls = gtcalls[f][samp]\n",
    "                    print well, calls, f\n",
    "        else:\n",
    "            print '%s not in regen[samp].keys()' % locus\n",
    "            sys.exit()\n",
    "print 'count = %s' % len(regenotyped) #count = 728"
   ]
  },
  {
   "cell_type": "code",
   "execution_count": null,
   "metadata": {},
   "outputs": [],
   "source": [
    "#of the samples with regenotyping data, print out only those that have at least one called allele\n",
    "regenotyped = []\n",
    "for samp in sorted(regen):\n",
    "    for locus in sorted(loci):\n",
    "        if locus in regen[samp].keys():\n",
    "            if len(regen[samp][locus]) > 1:\n",
    "                if samp not in regenotyped:\n",
    "                    regenotyped.append(samp)\n",
    "                \n",
    "                count = 0\n",
    "                data = []\n",
    "                for f in regen[samp][locus]:\n",
    "                    splits = op.basename(f).split(\"_\")\n",
    "                    plate = \"_\".join([splits[0],splits[1]])\n",
    "                    if not plate in mapp: # these plates had the sample name as input\n",
    "                        mapp[plate] = OrderedDict()\n",
    "                    if not locus in mapp[plate]:\n",
    "                        mapp[plate][locus] = mapit(f)\n",
    "                    well = mapp[plate][locus].keys()[mapp[plate][locus].values().index(samp)]\n",
    "                    calls = gtcalls[f][samp]\n",
    "                    data.append((well,calls,f))\n",
    "                    \n",
    "                    if len(calls) > 0:\n",
    "                        count += 1\n",
    "                if count > 0:\n",
    "                    print samp\n",
    "                    for d in data:\n",
    "                        print d\n",
    "        else:\n",
    "            print '%s not in regen[samp].keys()' % locus\n",
    "            sys.exit()\n",
    "print 'count = %s' % len(regenotyped) #count = 728"
   ]
  },
  {
   "cell_type": "code",
   "execution_count": null,
   "metadata": {},
   "outputs": [],
   "source": [
    "# for outfiles_corrected\n",
    "#of the samples with regenotyping data, print out only those that have at least one called allele\n",
    "regenotyped = []\n",
    "for samp in sorted(regen):\n",
    "    for locus in sorted(loci):\n",
    "        if locus in regen[samp].keys():\n",
    "            if len(regen[samp][locus]) > 1:\n",
    "                if samp not in regenotyped:\n",
    "                    regenotyped.append(samp)\n",
    "                \n",
    "                count = 0\n",
    "                data = []\n",
    "                for f in regen[samp][locus]:\n",
    "                    splits = op.basename(f).split(\"_\")\n",
    "                    plate = \"_\".join([splits[0],splits[1]])\n",
    "                    if not plate in mapp: # these plates had the sample name as input\n",
    "                        mapp[plate] = OrderedDict()\n",
    "                    if not locus in mapp[plate]:\n",
    "                        mapp[plate][locus] = mapit(f)\n",
    "                    well = mapp[plate][locus].keys()[mapp[plate][locus].values().index(samp)]\n",
    "                    calls = gtcalls[f][samp]\n",
    "                    data.append((well,calls,f))\n",
    "                    \n",
    "                    if len(calls) > 0:\n",
    "                        count += 1\n",
    "                if count > 0:\n",
    "                    print samp\n",
    "                    for d in data:\n",
    "                        print d\n",
    "        else:\n",
    "            print '%s not in regen[samp].keys()' % locus\n",
    "            sys.exit()\n",
    "print 'count = %s' % len(regenotyped) #count = 728"
   ]
  },
  {
   "cell_type": "markdown",
   "metadata": {},
   "source": [
    "<a id=\"calcs\"></a>\n",
    "# calc dropout, mistyping"
   ]
  },
  {
   "cell_type": "code",
   "execution_count": null,
   "metadata": {},
   "outputs": [],
   "source": [
    "# save for easy upload later if notebook dies\n",
    "rfilE = '/home/lindb/teakettle/genemarker/regengtpickles/regen_jan.pkl'\n",
    "pkldump(regen,rfilE)\n",
    "gfilE = '/home/lindb/teakettle/genemarker/regengtpickles/gtcalls_jan.pkl'\n",
    "pkldump(gtcalls,gfilE)"
   ]
  },
  {
   "cell_type": "code",
   "execution_count": null,
   "metadata": {},
   "outputs": [],
   "source": [
    "nuc = sorted(['rps39', 'rps12', 'rps2', 'rps50'])\n",
    "nuc"
   ]
  },
  {
   "cell_type": "code",
   "execution_count": null,
   "metadata": {},
   "outputs": [],
   "source": [
    "# round calls to integers\n",
    "def irf(n):\n",
    "    return int(round(float(n)))\n",
    "\n",
    "# is genotype homozygous?\n",
    "def homozy(C):\n",
    "    if luni(C) == 1:\n",
    "        return(True)\n",
    "    else:\n",
    "        return(False)\n",
    "\n",
    "# calc dropout\n",
    "def dropout(c):\n",
    "    d = 0 # n dropouts (one for each dropout per locus per sample)\n",
    "    t = 0 # total number of locus comparisons  (samples * loci)\n",
    "    for i,icall in enumerate(c):\n",
    "        c1 = icall.count('NA')\n",
    "        h1 = homozy(icall)\n",
    "        for j,jcall in enumerate(c):\n",
    "            c2 = jcall.count('NA')\n",
    "            h2 = homozy(jcall)\n",
    "            \n",
    "            if i < j: # n choose 2           \n",
    "                t += 2\n",
    "                if (c1,c2) != (2,2): # make sure both aren't NA (this may happen when len(c) > 2)\n",
    "                    # if both have genotype calls and aren't blank\n",
    "                    if c1 == 0 and c2 == 0:\n",
    "                        # if one homozy and other het\n",
    "                        if (h1,h2) == (True,False) or (h1,h2) == (False,True):\n",
    "                            d += 1\n",
    "                        # any other combo with both having genotype calls is due to genotyping error\n",
    "\n",
    "                    # if one homo and other blank   \n",
    "                    elif h1 and c2 == 2:\n",
    "                        d += 2\n",
    "                    elif h2 and c1 == 2:\n",
    "                        d += 2\n",
    "\n",
    "                    # if one het and other blank\n",
    "                    elif c1 == 0 and c2 == 2:\n",
    "                        d += 2\n",
    "                    elif c2 == 0 and c1 == 2:\n",
    "                        d += 2\n",
    "    return (d,t)\n",
    "\n",
    "# calc error rates based on threshold\n",
    "def error(c,thresh): # thresh is adjustable to account for same geno within a few bps\n",
    "# for program, want thresh = 0\n",
    "# for curiosity, want: 0 <= thresh <= 4\n",
    "    e = 0\n",
    "    t = 0\n",
    "    for i,icall in enumerate(c):\n",
    "        c1 = icall.count('NA')\n",
    "        h1 = homozy(icall)\n",
    "        for j,jcall in enumerate(c):\n",
    "            c2 = jcall.count('NA')\n",
    "            h2 = homozy(jcall)\n",
    "            \n",
    "            if i < j: # n choose 2           \n",
    "                if (c1,c2) != (2,2):        # make sure both aren't NA (this may happen when len(c) > 2)\n",
    "                    if c1 == 0 and c2 == 0:     # if both have genotype calls; this is redundant to (c1,c2) != (2,2)\n",
    "                        t += 2\n",
    "                        if not icall == jcall:  # can skip those with same calls as these don't have errors\n",
    "                            \n",
    "                            # if one homozy and other het\n",
    "                            if (h1,h2) == (True,False):    # if icall is homozy\n",
    "                                if abs(icall[0] - jcall[0]) > thresh:\n",
    "                                    e += 1\n",
    "                                if abs(icall[0] - jcall[1]) > thresh:\n",
    "                                    e += 1\n",
    "                            elif (h1,h2) == (False,True):  # if jcall is homozy\n",
    "                                if abs(jcall[0] - icall[0]) > thresh:\n",
    "                                    e += 1\n",
    "                                if abs(jcall[0] - icall[1]) > thresh:\n",
    "                                    e += 1\n",
    "\n",
    "                            # if both homozy - all chloro will fall into here\n",
    "                            elif (h1,h2) == (True,True):\n",
    "                                if abs(icall[0] - jcall[0]) > thresh: \n",
    "                                    e += 2\n",
    "\n",
    "                            # if both het\n",
    "#                             elif (h1,h2) == (False,False):\n",
    "#                                 jmatched = ''\n",
    "#                                 for i,J in enumerate(jcall):\n",
    "#                                     matched = False\n",
    "#                                     if not abs(icall[0] - J) > thresh:\n",
    "#                                         matched = True\n",
    "#                                         jmatched = J\n",
    "#                                     if not matched:\n",
    "#                                         if not abs(icall[1] - J) > thresh:\n",
    "#                                             matched = True\n",
    "#                                             jmatched = J\n",
    "#                                     if not matched:\n",
    "#                                         e += 1    \n",
    "                                        \n",
    "                            elif (h1,h2) == (False,False):\n",
    "                                imatched = ''\n",
    "                                for J in jcall:\n",
    "                                    matched = False\n",
    "                                    if not abs(icall[0] - J) > thresh:\n",
    "                                        if not imatched == icall[0]:\n",
    "                                            matched = True\n",
    "                                            imatched = icall[0]\n",
    "                                    if not matched:\n",
    "                                        if not abs(icall[1] - J) > thresh:\n",
    "                                            if not imatched == icall[1]:\n",
    "                                                matched = True\n",
    "                                                imatched = icall[1]\n",
    "                                    if not matched:\n",
    "                                        e += 1    \n",
    "    return (e,t)\n",
    "\n",
    "# get calls from a list of all genemarker outfiles used for (re)genotyping a specific sample\n",
    "def getcalls(s,l):\n",
    "    calls = []\n",
    "    for g in sorted(regen[s][l]):\n",
    "        call = gtcalls[g][s]\n",
    "        assert type(call) == list\n",
    "        assert len(call) <= 2\n",
    "        if l in nuc:\n",
    "            if len(call) == 0: # if blank use call twice\n",
    "                calls.append(('NA','NA')) # call will not be in a list, will be a single string\n",
    "            elif len(call) == 1:\n",
    "                calls.append((irf(call[0]),irf(call[0])))\n",
    "            else:\n",
    "                calls.append((irf(call[0]),irf(call[1])))\n",
    "        else: # if chloro marker\n",
    "            if len(call) == 0:\n",
    "                calls.append(('NA','NA'))\n",
    "            else:\n",
    "                calls.append((irf(call[0]),irf(call[0])))\n",
    "    return (calls)"
   ]
  },
  {
   "cell_type": "code",
   "execution_count": null,
   "metadata": {},
   "outputs": [],
   "source": [
    "error([(154,555),(155,154)],1), error([(155,154),(154,555)],1)"
   ]
  },
  {
   "cell_type": "code",
   "execution_count": null,
   "metadata": {},
   "outputs": [],
   "source": [
    "samp = 'uc2_new004'\n",
    "locus"
   ]
  },
  {
   "cell_type": "code",
   "execution_count": null,
   "metadata": {},
   "outputs": [],
   "source": [
    "error([(154,555),(154,154)],0), error([(154,154),(154,555)],0)"
   ]
  },
  {
   "cell_type": "code",
   "execution_count": null,
   "metadata": {},
   "outputs": [],
   "source": [
    "error([(154,555),(155,154)],1), error([(155,154),(154,555)],1)"
   ]
  },
  {
   "cell_type": "code",
   "execution_count": null,
   "metadata": {},
   "outputs": [],
   "source": [
    "regen[samp][locus]"
   ]
  },
  {
   "cell_type": "code",
   "execution_count": null,
   "metadata": {},
   "outputs": [],
   "source": [
    "gtcalls[regen[samp][locus][0]][samp]"
   ]
  },
  {
   "cell_type": "code",
   "execution_count": null,
   "metadata": {},
   "outputs": [],
   "source": [
    "getcalls(samp,locus)"
   ]
  },
  {
   "cell_type": "code",
   "execution_count": null,
   "metadata": {},
   "outputs": [],
   "source": [
    "error([[145,154],[165,154]],0)"
   ]
  },
  {
   "cell_type": "code",
   "execution_count": null,
   "metadata": {},
   "outputs": [],
   "source": [
    "# test it out\n",
    "dropout([('NA','NA'),('NA','NA')]), error([('NA','NA'),('NA','NA')],0)"
   ]
  },
  {
   "cell_type": "code",
   "execution_count": null,
   "metadata": {},
   "outputs": [],
   "source": [
    "dropout([(154, 154),(154,153)]), error([(154, 154),(154,153)],0)"
   ]
  },
  {
   "cell_type": "code",
   "execution_count": null,
   "metadata": {},
   "outputs": [],
   "source": [
    "dropout([('NA', 'NA'), ('NA', 'NA'),(154,154)]),error([('NA', 'NA'), ('NA', 'NA'),(154,154)],0)"
   ]
  },
  {
   "cell_type": "code",
   "execution_count": null,
   "metadata": {},
   "outputs": [],
   "source": [
    "dropout([('NA', 'NA'), (165, 15),(154,154)]), error([('NA', 'NA'), (153,167),(165,154)],1)"
   ]
  },
  {
   "cell_type": "code",
   "execution_count": null,
   "metadata": {},
   "outputs": [],
   "source": [
    "dropout([(143, 155), (137, 154)]), error([(143, 155), (137, 154)],1)"
   ]
  },
  {
   "cell_type": "code",
   "execution_count": null,
   "metadata": {},
   "outputs": [],
   "source": [
    "# create dict to hold outputs for each locus\n",
    "dropouts = {}\n",
    "errors   = {}\n",
    "for locus in loci:\n",
    "    dropouts[locus] = {}\n",
    "    errors[locus]   = {}\n",
    "    for x in ['d','t']:\n",
    "        dropouts[locus][x] = 0\n",
    "        errors[locus][x] = 0\n",
    "\n",
    "        \n",
    "# determine dropout and error prob\n",
    "for samp in sorted(regen): # loop through all samples; regen[samp][locus] is a list of files\n",
    "    \n",
    "    if samp in t['converted'].tolist(): # assert sample name\n",
    "        for locus in sorted(loci):\n",
    "#         for locus in ['pc10']:\n",
    "#         for locus in ['rps39']:\n",
    "            if locus in regen[samp].keys(): # if a samp has been genotyped for this locus\n",
    "                \n",
    "                # determine genotype calls across all files with samp genotyped for this locus\n",
    "                calls = getcalls(samp,locus)\n",
    "#                 for g in sorted(regen[samp][locus]): # this is now getcalls()\n",
    "#                     call = gtcalls[g][samp]\n",
    "#                     assert type(call) == list\n",
    "#                     assert len(call) <= 2\n",
    "#                     if locus in nuc:\n",
    "#                         if len(call) == 0: # if blank use call twice\n",
    "#                             calls.append(('NA','NA')) # call will not be in a list, will be a single string\n",
    "#                         elif len(call) == 1:\n",
    "#                             calls.append((irf(call[0]),irf(call[0])))\n",
    "#                         else:\n",
    "#                             calls.append((irf(call[0]),irf(call[1])))\n",
    "#                     else: # if chloro marker\n",
    "#                         if len(call) == 0:\n",
    "#                             calls.append(('NA','NA'))\n",
    "#                         else:\n",
    "#                             calls.append((irf(call[0]),irf(call[0])))\n",
    "                \n",
    "                \n",
    "                # how many calls aren't blank?\n",
    "                full = len([call for call in calls if not call == ('NA','NA')])\n",
    "                \n",
    "                # determine dropout, error, and total number of comparisons\n",
    "                do = 0\n",
    "                tot = 0\n",
    "                err = 0\n",
    "                etot = 0\n",
    "                if full > 0: # if calls aren't all blank\n",
    "                    if len(calls) > 1: # can't do dropout/error calcs if samp genotyped only once\n",
    "                        do,tot   = dropout(calls)\n",
    "                        err,etot = error(calls,0)\n",
    "#                         if err > 0:\n",
    "#                             print samp,locus,calls,do,tot,err,etot\n",
    "                dropouts[locus]['d'] += do\n",
    "                dropouts[locus]['t'] += tot\n",
    "                errors[locus]['d']   += err\n",
    "                errors[locus]['t']   += etot\n",
    "            \n",
    "            else:\n",
    "                print '%s has no locus %s' % (samp,locus)\n",
    "    else:\n",
    "        print \"%s not in TFK\" % samp"
   ]
  },
  {
   "cell_type": "code",
   "execution_count": null,
   "metadata": {},
   "outputs": [],
   "source": [
    "error([(143, 155), (137, 154)],2)"
   ]
  },
  {
   "cell_type": "code",
   "execution_count": null,
   "metadata": {},
   "outputs": [],
   "source": [
    "# look at raw dropouts and totals per locus\n",
    "dropouts"
   ]
  },
  {
   "cell_type": "code",
   "execution_count": null,
   "metadata": {},
   "outputs": [],
   "source": [
    "# look at dropout percentages\n",
    "lst = []\n",
    "for locus in dropouts: # if (c1,c2) != (2,2)\n",
    "    lst.append([locus, dropouts[locus]['d']/dropouts[locus]['t']])\n",
    "print tabulate(lst, headers=['locus','drop perc'])"
   ]
  },
  {
   "cell_type": "code",
   "execution_count": null,
   "metadata": {},
   "outputs": [],
   "source": [
    "# look at raw errors and totals per locus - thresh = 0\n",
    "errors"
   ]
  },
  {
   "cell_type": "code",
   "execution_count": null,
   "metadata": {},
   "outputs": [],
   "source": [
    "# look at error percentages - thres = 0\n",
    "lst = []\n",
    "for locus in sorted(errors):\n",
    "    lst.append([locus, errors[locus]['d']/errors[locus]['t']])\n",
    "print tabulate(lst,headers=['locus','error perc'])"
   ]
  },
  {
   "cell_type": "code",
   "execution_count": null,
   "metadata": {},
   "outputs": [],
   "source": [
    "# look at raw errors and totals per locus - thresh = 4\n",
    "errors"
   ]
  },
  {
   "cell_type": "code",
   "execution_count": null,
   "metadata": {},
   "outputs": [],
   "source": [
    "# look at error percentages - thres = 4\n",
    "lst = []\n",
    "for locus in sorted(errors):\n",
    "    lst.append([locus, errors[locus]['d']/errors[locus]['t']])\n",
    "print tabulate(lst,headers=['locus','error perc'])"
   ]
  },
  {
   "cell_type": "markdown",
   "metadata": {},
   "source": [
    "<a id=\"infile\"></a>\n",
    "# Create infile to Moran & Clark"
   ]
  },
  {
   "cell_type": "code",
   "execution_count": null,
   "metadata": {},
   "outputs": [],
   "source": [
    "# create a blank dict to use for final moran infile\n",
    "# I want in specific order so I can print to file later\n",
    "final = OrderedDict()\n",
    "for samp in sorted(regen.keys()):\n",
    "    if samp in t['converted'].tolist():\n",
    "        if not samp in final:\n",
    "            final[samp]           = OrderedDict()\n",
    "            final[samp]['first']  = OrderedDict()\n",
    "            final[samp]['second'] = OrderedDict()\n",
    "        for locus in sorted(loci,reverse=True):\n",
    "            if not locus in nuc:\n",
    "                final[samp]['first'][locus]  = OrderedDict()\n",
    "                final[samp]['second'][locus] = OrderedDict()\n",
    "            else:\n",
    "                final[samp]['first'][locus]  = OrderedDict()\n",
    "                final[samp]['first'][\"%s_2\"  % locus] = OrderedDict()\n",
    "                final[samp]['second'][locus] = OrderedDict()\n",
    "                final[samp]['second'][\"%s_2\" % locus] = OrderedDict()\n",
    "    else:\n",
    "        print samp"
   ]
  },
  {
   "cell_type": "code",
   "execution_count": null,
   "metadata": {},
   "outputs": [],
   "source": [
    "final.keys()[0]"
   ]
  },
  {
   "cell_type": "code",
   "execution_count": null,
   "metadata": {},
   "outputs": [],
   "source": [
    "final[final.keys()[0]]"
   ]
  },
  {
   "cell_type": "code",
   "execution_count": null,
   "metadata": {},
   "outputs": [],
   "source": [
    "# fill in final moran infile dict\n",
    "clens = [] # so I don't have to write a bunch of exceptions\n",
    "for samp in sorted(regen): # loop through all samples; regen[samp][locus] is a list of files\n",
    "    if samp in t['converted'].tolist(): # assert sample name\n",
    "        for locus in sorted(loci,reverse=True):\n",
    "            if locus in regen[samp].keys(): # if a samp has been genotyped for this locus\n",
    "                \n",
    "                # determine genotype calls across all files with samp genotyped for this locus\n",
    "                calls = getcalls(samp,locus)\n",
    "                calls = [call for call in calls if not call == ('NA','NA')] # don't need blanks\n",
    "                if len(calls) > 2:\n",
    "                    print calls\n",
    "                clens.append(len(calls))\n",
    "                \n",
    "                if len(calls) == 0:   # if all missing data\n",
    "                    final[samp]['first'][locus]  = 0\n",
    "                    final[samp]['second'][locus] = 0\n",
    "                    if locus in nuc:\n",
    "                        final[samp]['first'][\"%s_2\" % locus]  = 0\n",
    "                        final[samp]['second'][\"%s_2\" % locus] = 0\n",
    "                elif len(calls) == 1: # if only one good genotyping\n",
    "                    final[samp]['first'][locus]  = calls[0][0]\n",
    "                    final[samp]['second'][locus] = 0\n",
    "                    if locus in nuc:\n",
    "                        final[samp]['first'][\"%s_2\" % locus]  = calls[0][1]\n",
    "                        final[samp]['second'][\"%s_2\" % locus] = 0\n",
    "                elif len(calls) > 1: # for len(calls) {2,3}, all with len(calls)==3 are ok to use 1st & 2nd calls\n",
    "                    final[samp]['first'][locus]  = calls[0][0]\n",
    "                    final[samp]['second'][locus] = calls[1][0]\n",
    "                    if locus in nuc:\n",
    "                        final[samp]['first'][\"%s_2\" % locus]  = calls[0][1]\n",
    "                        final[samp]['second'][\"%s_2\" % locus] = calls[1][1]\n",
    "                \n",
    "#                 # how many calls aren't blank?\n",
    "#                 full = len([call for call in calls if not call == ('NA','NA')])\n",
    "                \n",
    "#                 # fill in dict(final)\n",
    "#                 if full > 0: # if calls aren't all blank\n",
    "#                     if len(calls) > 1:\n",
    "#                         cs = [call for call in calls if not call == ('NA','NA')]\n",
    "#                         assert len(cs) < 4\n",
    "#                         clens.append(len(cs))\n",
    "                        \n",
    "#                     else: #if only one call; can't be zero calls because full would = 0 and else would take effect\n",
    "#                         final[samp]['first'][locus] = calls[0][0]\n",
    "#                         final[samp]['second'][locus]= 0\n",
    "#                         if locus in nuc:\n",
    "#                             final[samp]['first']['%s_2' % locus] = calls[0][1]\n",
    "#                             final[samp]['second']['%s_2' % locus]= 0\n",
    "#                     if len(calls) == 0:\n",
    "#                         print 'crap'\n",
    "                        \n",
    "                        \n",
    "#                 else: # fill all as blank\n",
    "#                     final[samp]['first'][locus]  = 0\n",
    "#                     final[samp]['second'][locus] = 0\n",
    "#                     if locus in nuc:\n",
    "#                         final[samp]['first'][\"%s_2\" % locus]  = 0\n",
    "#                         final[samp]['second'][\"%s_2\" % locus] = 0\n",
    "\n",
    "            \n",
    "            else:\n",
    "                print '%s has no locus %s' % (samp,locus)\n",
    "    else:\n",
    "        print \"%s not in TFK\" % samp"
   ]
  },
  {
   "cell_type": "code",
   "execution_count": null,
   "metadata": {},
   "outputs": [],
   "source": [
    "table(clens)"
   ]
  },
  {
   "cell_type": "markdown",
   "metadata": {},
   "source": [
    "# print results to table"
   ]
  },
  {
   "cell_type": "code",
   "execution_count": null,
   "metadata": {},
   "outputs": [],
   "source": [
    "final[final.keys()[0]]['first'].keys()"
   ]
  },
  {
   "cell_type": "code",
   "execution_count": null,
   "metadata": {},
   "outputs": [],
   "source": [
    "final[final.keys()[0]]['first'].values()"
   ]
  },
  {
   "cell_type": "code",
   "execution_count": null,
   "metadata": {},
   "outputs": [],
   "source": [
    "final[final.keys()[0]]['first']"
   ]
  },
  {
   "cell_type": "code",
   "execution_count": null,
   "metadata": {},
   "outputs": [],
   "source": [
    "sorted(loci,reverse=True)"
   ]
  },
  {
   "cell_type": "code",
   "execution_count": null,
   "metadata": {},
   "outputs": [],
   "source": [
    "#write out the results to a df\n",
    "nuc = ['rps39','rps12','rps2','rps50']\n",
    "cols = ['rps50',\n",
    "        'rps50_2',\n",
    "        'rps39',\n",
    "        'rps39_2',\n",
    "        'rps2',\n",
    "        'rps2_2',\n",
    "        'rps12',\n",
    "        'rps12_2',\n",
    "        'pt87268',\n",
    "        'pt71936',\n",
    "        'pc10']\n",
    "filE = '/home/lindb/teakettle/genemarker/results_after_jan.tsv'\n",
    "with open(filE,'wb') as o:\n",
    "    text = 'samp' + '\\t' + '\\t'.join([l for l in cols]) + '\\n'\n",
    "    o.write(\"%s\" % text)\n",
    "    for samp in sorted(final):\n",
    "        for typing in final[samp]:\n",
    "            text = samp + '\\t' + '\\t'.join([str(val) for val in final[samp][typing].values()]) +'\\n'\n",
    "    #         print text\n",
    "    #         print samp\n",
    "            o.write(\"%s\" % text)"
   ]
  },
  {
   "cell_type": "code",
   "execution_count": null,
   "metadata": {},
   "outputs": [],
   "source": [
    "genotypes = pd.read_csv('/home/lindb/teakettle/genemarker/results_after_jan.tsv',sep='\\t')\n",
    "genotypes.replace(np.nan,\"NA\",inplace=True)\n",
    "genotypes.head()"
   ]
  },
  {
   "cell_type": "code",
   "execution_count": null,
   "metadata": {},
   "outputs": [],
   "source": [
    "'691uc1_691' in genotypes['samp'].tolist()"
   ]
  },
  {
   "cell_type": "code",
   "execution_count": null,
   "metadata": {},
   "outputs": [],
   "source": [
    "'uc2_9920' in genotypes['samp'].tolist()"
   ]
  },
  {
   "cell_type": "code",
   "execution_count": null,
   "metadata": {},
   "outputs": [],
   "source": [
    "'uc1_691' in genotypes['samp'].tolist()"
   ]
  },
  {
   "cell_type": "code",
   "execution_count": null,
   "metadata": {},
   "outputs": [],
   "source": [
    "genotypes[genotypes.samp.str.contains('bc1_1216')]"
   ]
  },
  {
   "cell_type": "code",
   "execution_count": null,
   "metadata": {},
   "outputs": [],
   "source": [
    "nrow(genotypes) == 2*luni(genotypes['samp'])"
   ]
  },
  {
   "cell_type": "code",
   "execution_count": null,
   "metadata": {},
   "outputs": [],
   "source": [
    "regen['bc1_1179']"
   ]
  },
  {
   "cell_type": "code",
   "execution_count": null,
   "metadata": {},
   "outputs": [],
   "source": []
  }
 ],
 "metadata": {
  "kernelspec": {
   "display_name": "Python 2",
   "language": "python",
   "name": "python2"
  },
  "language_info": {
   "codemirror_mode": {
    "name": "ipython",
    "version": 2
   },
   "file_extension": ".py",
   "mimetype": "text/x-python",
   "name": "python",
   "nbconvert_exporter": "python",
   "pygments_lexer": "ipython2",
   "version": "2.7.14"
  }
 },
 "nbformat": 4,
 "nbformat_minor": 2
}
