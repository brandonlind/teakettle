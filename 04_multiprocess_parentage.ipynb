{
 "cells": [
  {
   "cell_type": "code",
   "execution_count": null,
   "metadata": {},
   "outputs": [],
   "source": [
    "imp = open('/home/lindb/pythonimports.py').read()\n",
    "exec(imp)\n",
    "from __future__ import division\n",
    "%matplotlib inline "
   ]
  },
  {
   "cell_type": "code",
   "execution_count": null,
   "metadata": {},
   "outputs": [],
   "source": [
    "DIR = '/home/lindb/teakettle/data/moran/dependencies'\n",
    "if not op.exists(DIR):\n",
    "    os.makedirs(DIR)"
   ]
  },
  {
   "cell_type": "code",
   "execution_count": null,
   "metadata": {},
   "outputs": [],
   "source": [
    "DIR = '/home/lindb/teakettle/data/moran/amat_files'\n",
    "if not op.exists(DIR):\n",
    "    os.makedirs(DIR)\n",
    "\n",
    "def writer(ij):\n",
    "    i,j = ij\n",
    "    import os\n",
    "    from os import path as op\n",
    "    text = '''\n",
    "source('/home/lindb/imports.R')\n",
    "\n",
    "#load dependencies\n",
    "dname = '/home/lindb/teakettle/data/moran/dependencies/'\n",
    "files = c()\n",
    "for (f in list.files(dname)){\n",
    "    if (endsWith(f,'RDS'))\n",
    "    {\n",
    "        sprintf (\"loading %%s file\",f)\n",
    "        fname = paste(dname,f,sep=\"\")\n",
    "        obj = strsplit(f,split='.RDS')[[1]]\n",
    "        assign(obj,readRDS(fname))    \n",
    "    }\n",
    "}\n",
    "\n",
    "amat <- numeric(0)\n",
    "for (k in 1:noff)\n",
    "{\n",
    "    a <- matrix(0,(nadult+1),(nadult+1)) \n",
    "    amat <- append(amat,list(a))\n",
    "}\n",
    "    \n",
    "i <- %s\n",
    "j <- %s\n",
    "print (\"i=\")\n",
    "print(i)\n",
    "print(\"j=\")\n",
    "print(j)\n",
    "\n",
    "\n",
    "if(i>0) #we want it to run no matter what\n",
    "{\n",
    "    print (\"starting loop\")\n",
    "    if(i==j & i<(nadult+1)) #this is the diagonal, can't have same sampled mother and father\n",
    "    {\n",
    "        unimportant = 1+1 # amat is already 0 on the diagonal, save some time by not looping\n",
    "#         for (k in 1:noff)\n",
    "#         {\n",
    "#             amat[[k]][i,j] <- 0   \n",
    "#         }\n",
    "    }\n",
    "    if(i==j & i==(nadult+1)) #can have two out-of-plot parents\n",
    "    { \n",
    "        nmat <- numeric(0)\n",
    "        pg1 <- pgout \n",
    "        pg1.b <- pgout \n",
    "        pg2 <- pgout \n",
    "        pg2.b <- pgout\n",
    "        print (\"starting loci loop\")\n",
    "        for(la in 1:nloci) \n",
    "        {#Calculate probability of offspring genotype given parental genotypes using global allele frequencies\n",
    "            #at the la'th locus\n",
    "            print (la)\n",
    "            nm <- nmat.func(pg1,pg2,pg1.b,pg2.b,la) #returns a matrix with ncol = nrow = nallele @ la'th locus\n",
    "            nmat <- append(nmat,list(nm))\n",
    "        }\n",
    "        print (\"starting offspring loop\")\n",
    "        for(k in 1:noff)\n",
    "        {\n",
    "            print (k)\n",
    "            pq <- 1 #incorrectly overwriting pq is bad, mkay\n",
    "            og <- rbind(goff[[1]][k,],goff[[2]][k,]) #get the offspring's observed first and second alleles\n",
    "            og.b <- rbind(goff.r[[1]][k,],goff.r[[2]][k,]) #get any offspring's observed regenotyping results\n",
    "            print (\"starting loci loop\")\n",
    "            for(la in 1:nloci)\n",
    "            {\n",
    "                print (la)\n",
    "                #om = probability of observing the given offspring genotype given all possible true genotypes\n",
    "                om <- omat.func(og,og.b,la) \n",
    "            #pq = probability of observing the given offspring genotype given the observed parental genotypes\n",
    "                pq <- pq*sum(nmat[[la]]*om)\n",
    "                #if the posited parents are not the parents, no use in doing futher calculations @ other loci\n",
    "                if(pq==0) \n",
    "                {\n",
    "                    break \n",
    "                }\n",
    "            }\n",
    "            print (\"writing amat\")\n",
    "            amat[[k]][i,j] <- pq #pq same as above, for the k'th offspring for the i'th and j'th parent\n",
    "            amat[[k]][j,i] <- pq \n",
    "        }# end offspring loop\n",
    "    }# end two-out-of-plot loop\n",
    "    if(i!=j) #if not on the diagonal\n",
    "    { #all other combos... \n",
    "        nmat <- numeric(0)\n",
    "        if(i<(nadult+1)) #if posited parent one of those who were sampled\n",
    "        {\n",
    "            #gadult# == nrow=nadult ncol=nloci\n",
    "            pg1 <- rbind(gadult[[1]][i,],gadult[[2]][i,])  #get first and second alleles for all loci\n",
    "            pg1.b <- rbind(gadult.r[[1]][i,],gadult.r[[2]][i,]) #get first and second alleles for regenotyping\n",
    "        } \n",
    "        if(j<(nadult+1)) #if posited parent one of those who were sampled\n",
    "        {\n",
    "            pg2 <- rbind(gadultF[[1]][j,],gadultF[[2]][j,])\n",
    "            pg2.b <- rbind(gadultF.r[[1]][j,],gadultF.r[[2]][j,]) \n",
    "        }\n",
    "        if(i==(nadult+1)) #if posited parent is not one of those who were sampled\n",
    "        { \n",
    "            pg1 <- pgout \n",
    "            pg1.b <- pgout\n",
    "        } \n",
    "        if(j==(nadult+1)) #if posited parent is not one of those who were sampled\n",
    "        {\n",
    "            pg2 <- pgout #put in all zeros\n",
    "            pg2.b <- pgout #put in all zeros\n",
    "        }\n",
    "        print (\"starting loci loop\")\n",
    "        for(la in 1:nloci)\n",
    "        {#Calculate probability of offspring genotype given parental genotypes using global allele frequencies\n",
    "            #at the la'th locus\n",
    "            print (la)\n",
    "            nm <- nmat.func(pg1,pg2,pg1.b,pg2.b,la) \n",
    "            nmat <- append(nmat,list(nm))\n",
    "        }\n",
    "        print (\"starting offspring loop\")\n",
    "        for(k in 1:noff)\n",
    "        { #pre-calc nmat at all loci for parent pair\n",
    "            print(k)\n",
    "            pq <- 1 #incorrectly overwriting is still bad, mkay\n",
    "            og <- rbind(goff[[1]][k,],goff[[2]][k,]) #get the k'th offspring's 1st and 2nd alleles @ all loci\n",
    "            og.b <- rbind(goff.r[[1]][k,],goff.r[[2]][k,])\n",
    "            print (\"starting loci loop\")\n",
    "            for(la in 1:nloci)\n",
    "            {\n",
    "                print (la)\n",
    "                #om = probability of observing the given offspring genotype given all possible true genotypes\n",
    "                om <- omat.func(og,og.b,la)\n",
    "                #pq = probability of observing the given offspring genotype given the observed parental genotypes\n",
    "                pq <- pq*sum(nmat[[la]]*om)\n",
    "                if(pq==0) \n",
    "                {\n",
    "                #if the posited parents are not the parents, no use in doing futher calculations @ other loci\n",
    "                    break \n",
    "                }\n",
    "            }\n",
    "            amat[[k]][i,j] <- pq \n",
    "            amat[[k]][j,i] <- pq \n",
    "        }# end offspring loop\n",
    "    }#end \"all other combos\" loop\n",
    "    \n",
    "#     track[i,j] <- 1\n",
    "#     track[j,i] <- 1\n",
    "\n",
    "} \n",
    "\n",
    "print (\"writing RDS files\")\n",
    "DIR = '/home/lindb/teakettle/data/amat_outfiles/'\n",
    "amatfname = paste(DIR,'amat_%s_%s.RDS',sep=\"\")\n",
    "nmatfname = paste(DIR,'nmat_%s_%s.RDS',sep=\"\")\n",
    "sprintf(\"writing %%s\",amatfname)\n",
    "saveRDS(amat,amatfname)\n",
    "sprintf(\"writing %%s\",nmatfname)\n",
    "saveRDS(nmat,nmatfname)\n",
    "\n",
    "''' % (i,\n",
    "       j,\n",
    "       str(i).zfill(3),\n",
    "       str(j).zfill(3),\n",
    "       str(i).zfill(3),\n",
    "       str(j).zfill(3)\n",
    "      )\n",
    "    DIR = '/home/lindb/teakettle/data/moran/amat_files2'\n",
    "    if not op.exists(DIR):\n",
    "        os.makedirs(DIR)\n",
    "    filE = op.join(DIR,\"amat_%s_%s.R\" % (str(i).zfill(3),str(j).zfill(3)))\n",
    "    with open(filE,'wb') as o:\n",
    "        o.write(\"%s\" % text)\n",
    "    return(filE)\n",
    "#dview['writer'] = writer"
   ]
  },
  {
   "cell_type": "code",
   "execution_count": null,
   "metadata": {},
   "outputs": [],
   "source": [
    "from ipyparallel import Client"
   ]
  },
  {
   "cell_type": "code",
   "execution_count": null,
   "metadata": {},
   "outputs": [],
   "source": [
    "rc = Client(profile=\"new\")\n",
    "dview = rc[:]\n",
    "lview = rc.load_balanced_view()\n",
    "len(lview)"
   ]
  },
  {
   "cell_type": "code",
   "execution_count": null,
   "metadata": {},
   "outputs": [],
   "source": [
    "#558*558 = 311,364 comparisons, sigh\n",
    "jobs = []\n",
    "for k in np.arange(558): #558 = nadult\n",
    "    i = k+1 #R doesn't have zeroth elements (lame)\n",
    "    for w in np.arange(558):\n",
    "        j = w+1\n",
    "        jobs.append(lview.apply_async(writer,(i,j)))"
   ]
  },
  {
   "cell_type": "code",
   "execution_count": null,
   "metadata": {},
   "outputs": [],
   "source": [
    "count = 0\n",
    "for k in jobs:\n",
    "    if k.r:\n",
    "        break\n",
    "count"
   ]
  },
  {
   "cell_type": "code",
   "execution_count": null,
   "metadata": {},
   "outputs": [],
   "source": [
    "dont forget about amat[[k]] <- amat[[k]]/sum(amat[[k]])"
   ]
  },
  {
   "cell_type": "code",
   "execution_count": null,
   "metadata": {},
   "outputs": [],
   "source": [
    "DIR = '/home/lindb/teakettle/data/amat_outfiles/'\n",
    "if not op.exists(DIR):\n",
    "    os.makedirs(DIR)"
   ]
  },
  {
   "cell_type": "markdown",
   "metadata": {},
   "source": [
    "# make sh files to run R files"
   ]
  },
  {
   "cell_type": "code",
   "execution_count": null,
   "metadata": {},
   "outputs": [],
   "source": [
    "DIR = '/home/lindb/teakettle/data/moran/amat_files2/'\n",
    "rfiles = fs(DIR)\n",
    "luni(rfiles) #nadult**2"
   ]
  },
  {
   "cell_type": "code",
   "execution_count": null,
   "metadata": {},
   "outputs": [],
   "source": [
    "rfiles[0]"
   ]
  },
  {
   "cell_type": "code",
   "execution_count": null,
   "metadata": {},
   "outputs": [],
   "source": [
    "#realized I only need to run files where i < j \n",
    "    #(bc only doing lowertri, reflecting across diagonal in Rscript, diag == 0)\n",
    "todo = []\n",
    "for q in range(558):\n",
    "    i = q+1\n",
    "    for w in range(558):\n",
    "        j = w+1\n",
    "        if i < j:\n",
    "            filE = '/home/lindb/teakettle/data/moran/amat_files2/amat_%s_%s.R' % (str(i).zfill(3),str(j).zfill(3))\n",
    "            if op.exists(filE):\n",
    "                todo.append(filE)\n",
    "            else:\n",
    "                print filE"
   ]
  },
  {
   "cell_type": "code",
   "execution_count": null,
   "metadata": {},
   "outputs": [],
   "source": [
    "len(todo)"
   ]
  },
  {
   "cell_type": "code",
   "execution_count": null,
   "metadata": {},
   "outputs": [],
   "source": [
    "#check len(todo)\n",
    "count = 0\n",
    "for i in range(558):\n",
    "    for j in range(i):\n",
    "        count += 1\n",
    "count"
   ]
  },
  {
   "cell_type": "code",
   "execution_count": null,
   "metadata": {},
   "outputs": [],
   "source": [
    "# how many r files per sh file?\n",
    "math.ceil(len(todo)/143)"
   ]
  },
  {
   "cell_type": "code",
   "execution_count": null,
   "metadata": {},
   "outputs": [],
   "source": [
    "DIR = '/home/lindb/teakettle/data/moran/amat_runfiles/'\n",
    "if not op.exists(DIR):\n",
    "    os.makedirs(DIR)\n",
    "cd('/home/lindb/teakettle/data/moran/amat_runfiles/')\n",
    "fcount = 0\n",
    "shcount = 0\n",
    "rcount = 0\n",
    "for f in sorted(todo):\n",
    "    if rcount == 0:\n",
    "        text = '''#!/bin/bash\n",
    "#$ -N moran%s\n",
    "#$ -S /bin/bash\n",
    "#$ -V\n",
    "#$ -j y\n",
    "#$ -cwd\n",
    "\n",
    "cd %s\n",
    "R --no-save < %s\n",
    "\n",
    "''' % (str(shcount).zfill(3),\n",
    "       op.dirname(f),\n",
    "       f)\n",
    "    else:\n",
    "        newtext = '''\n",
    "cd %s\n",
    "R --no-save < %s\n",
    "''' % (op.dirname(f),\n",
    "       f)\n",
    "        text = text + newtext\n",
    "    fcount += 1\n",
    "    rcount += 1\n",
    "    \n",
    "    if rcount == 1087 or fcount == len(todo):\n",
    "        filE = op.join(DIR,'amat_%s.sh' % str(shcount).zfill(3))\n",
    "        with open(filE,'wb') as o:\n",
    "            o.write(\"%s\" % text)\n",
    "        \n",
    "        rcount = 0\n",
    "        shcount += 1"
   ]
  },
  {
   "cell_type": "code",
   "execution_count": null,
   "metadata": {},
   "outputs": [],
   "source": [
    "DIR = '/home/lindb/teakettle/data/moran/amat_runfiles/'\n",
    "cd(DIR) #so .o files don't end up some place weird\n",
    "for f in fs(DIR):\n",
    "    !qsub $f"
   ]
  },
  {
   "cell_type": "code",
   "execution_count": null,
   "metadata": {},
   "outputs": [],
   "source": []
  },
  {
   "cell_type": "code",
   "execution_count": null,
   "metadata": {},
   "outputs": [],
   "source": []
  },
  {
   "cell_type": "code",
   "execution_count": null,
   "metadata": {},
   "outputs": [],
   "source": []
  },
  {
   "cell_type": "code",
   "execution_count": null,
   "metadata": {},
   "outputs": [],
   "source": []
  },
  {
   "cell_type": "code",
   "execution_count": null,
   "metadata": {},
   "outputs": [],
   "source": []
  },
  {
   "cell_type": "code",
   "execution_count": null,
   "metadata": {},
   "outputs": [],
   "source": []
  },
  {
   "cell_type": "code",
   "execution_count": null,
   "metadata": {},
   "outputs": [],
   "source": []
  },
  {
   "cell_type": "code",
   "execution_count": null,
   "metadata": {},
   "outputs": [],
   "source": []
  },
  {
   "cell_type": "code",
   "execution_count": null,
   "metadata": {},
   "outputs": [],
   "source": []
  },
  {
   "cell_type": "code",
   "execution_count": null,
   "metadata": {},
   "outputs": [],
   "source": []
  },
  {
   "cell_type": "code",
   "execution_count": null,
   "metadata": {},
   "outputs": [],
   "source": []
  },
  {
   "cell_type": "code",
   "execution_count": null,
   "metadata": {},
   "outputs": [],
   "source": []
  },
  {
   "cell_type": "code",
   "execution_count": null,
   "metadata": {},
   "outputs": [],
   "source": []
  },
  {
   "cell_type": "code",
   "execution_count": null,
   "metadata": {},
   "outputs": [],
   "source": []
  },
  {
   "cell_type": "code",
   "execution_count": null,
   "metadata": {},
   "outputs": [],
   "source": []
  },
  {
   "cell_type": "code",
   "execution_count": null,
   "metadata": {},
   "outputs": [],
   "source": []
  },
  {
   "cell_type": "code",
   "execution_count": null,
   "metadata": {},
   "outputs": [],
   "source": []
  },
  {
   "cell_type": "code",
   "execution_count": null,
   "metadata": {},
   "outputs": [],
   "source": []
  },
  {
   "cell_type": "code",
   "execution_count": null,
   "metadata": {},
   "outputs": [],
   "source": []
  },
  {
   "cell_type": "code",
   "execution_count": null,
   "metadata": {},
   "outputs": [],
   "source": []
  },
  {
   "cell_type": "code",
   "execution_count": null,
   "metadata": {},
   "outputs": [],
   "source": []
  },
  {
   "cell_type": "code",
   "execution_count": null,
   "metadata": {},
   "outputs": [],
   "source": []
  },
  {
   "cell_type": "code",
   "execution_count": null,
   "metadata": {},
   "outputs": [],
   "source": []
  },
  {
   "cell_type": "code",
   "execution_count": null,
   "metadata": {},
   "outputs": [],
   "source": []
  },
  {
   "cell_type": "code",
   "execution_count": null,
   "metadata": {},
   "outputs": [],
   "source": []
  },
  {
   "cell_type": "code",
   "execution_count": null,
   "metadata": {},
   "outputs": [],
   "source": []
  },
  {
   "cell_type": "code",
   "execution_count": null,
   "metadata": {},
   "outputs": [],
   "source": []
  },
  {
   "cell_type": "code",
   "execution_count": null,
   "metadata": {},
   "outputs": [],
   "source": []
  },
  {
   "cell_type": "code",
   "execution_count": null,
   "metadata": {},
   "outputs": [],
   "source": []
  },
  {
   "cell_type": "code",
   "execution_count": null,
   "metadata": {},
   "outputs": [],
   "source": []
  },
  {
   "cell_type": "code",
   "execution_count": null,
   "metadata": {},
   "outputs": [],
   "source": []
  },
  {
   "cell_type": "code",
   "execution_count": null,
   "metadata": {},
   "outputs": [],
   "source": []
  },
  {
   "cell_type": "code",
   "execution_count": null,
   "metadata": {},
   "outputs": [],
   "source": []
  },
  {
   "cell_type": "code",
   "execution_count": null,
   "metadata": {},
   "outputs": [],
   "source": []
  },
  {
   "cell_type": "code",
   "execution_count": null,
   "metadata": {},
   "outputs": [],
   "source": []
  },
  {
   "cell_type": "code",
   "execution_count": null,
   "metadata": {},
   "outputs": [],
   "source": []
  },
  {
   "cell_type": "code",
   "execution_count": null,
   "metadata": {},
   "outputs": [],
   "source": []
  },
  {
   "cell_type": "code",
   "execution_count": null,
   "metadata": {},
   "outputs": [],
   "source": []
  },
  {
   "cell_type": "code",
   "execution_count": null,
   "metadata": {},
   "outputs": [],
   "source": []
  },
  {
   "cell_type": "code",
   "execution_count": null,
   "metadata": {},
   "outputs": [],
   "source": []
  },
  {
   "cell_type": "code",
   "execution_count": null,
   "metadata": {},
   "outputs": [],
   "source": []
  },
  {
   "cell_type": "code",
   "execution_count": null,
   "metadata": {},
   "outputs": [],
   "source": []
  },
  {
   "cell_type": "code",
   "execution_count": null,
   "metadata": {},
   "outputs": [],
   "source": []
  },
  {
   "cell_type": "code",
   "execution_count": null,
   "metadata": {},
   "outputs": [],
   "source": []
  },
  {
   "cell_type": "code",
   "execution_count": null,
   "metadata": {},
   "outputs": [],
   "source": []
  },
  {
   "cell_type": "code",
   "execution_count": null,
   "metadata": {},
   "outputs": [],
   "source": []
  },
  {
   "cell_type": "code",
   "execution_count": null,
   "metadata": {},
   "outputs": [],
   "source": []
  },
  {
   "cell_type": "code",
   "execution_count": null,
   "metadata": {},
   "outputs": [],
   "source": []
  },
  {
   "cell_type": "code",
   "execution_count": null,
   "metadata": {},
   "outputs": [],
   "source": []
  },
  {
   "cell_type": "code",
   "execution_count": null,
   "metadata": {},
   "outputs": [],
   "source": []
  },
  {
   "cell_type": "code",
   "execution_count": null,
   "metadata": {},
   "outputs": [],
   "source": []
  },
  {
   "cell_type": "code",
   "execution_count": null,
   "metadata": {},
   "outputs": [],
   "source": []
  },
  {
   "cell_type": "code",
   "execution_count": null,
   "metadata": {},
   "outputs": [],
   "source": []
  },
  {
   "cell_type": "code",
   "execution_count": null,
   "metadata": {},
   "outputs": [],
   "source": []
  },
  {
   "cell_type": "code",
   "execution_count": null,
   "metadata": {},
   "outputs": [],
   "source": []
  },
  {
   "cell_type": "code",
   "execution_count": null,
   "metadata": {},
   "outputs": [],
   "source": []
  },
  {
   "cell_type": "code",
   "execution_count": null,
   "metadata": {},
   "outputs": [],
   "source": []
  },
  {
   "cell_type": "code",
   "execution_count": null,
   "metadata": {},
   "outputs": [],
   "source": []
  },
  {
   "cell_type": "code",
   "execution_count": null,
   "metadata": {},
   "outputs": [],
   "source": []
  },
  {
   "cell_type": "code",
   "execution_count": null,
   "metadata": {},
   "outputs": [],
   "source": []
  },
  {
   "cell_type": "code",
   "execution_count": null,
   "metadata": {},
   "outputs": [],
   "source": []
  },
  {
   "cell_type": "code",
   "execution_count": null,
   "metadata": {},
   "outputs": [],
   "source": []
  },
  {
   "cell_type": "code",
   "execution_count": null,
   "metadata": {},
   "outputs": [],
   "source": []
  },
  {
   "cell_type": "code",
   "execution_count": null,
   "metadata": {},
   "outputs": [],
   "source": []
  },
  {
   "cell_type": "code",
   "execution_count": null,
   "metadata": {},
   "outputs": [],
   "source": []
  },
  {
   "cell_type": "code",
   "execution_count": null,
   "metadata": {},
   "outputs": [],
   "source": []
  },
  {
   "cell_type": "code",
   "execution_count": null,
   "metadata": {},
   "outputs": [],
   "source": []
  },
  {
   "cell_type": "code",
   "execution_count": null,
   "metadata": {},
   "outputs": [],
   "source": []
  },
  {
   "cell_type": "code",
   "execution_count": null,
   "metadata": {},
   "outputs": [],
   "source": []
  },
  {
   "cell_type": "code",
   "execution_count": null,
   "metadata": {},
   "outputs": [],
   "source": []
  },
  {
   "cell_type": "code",
   "execution_count": null,
   "metadata": {},
   "outputs": [],
   "source": []
  },
  {
   "cell_type": "code",
   "execution_count": null,
   "metadata": {},
   "outputs": [],
   "source": []
  },
  {
   "cell_type": "code",
   "execution_count": null,
   "metadata": {},
   "outputs": [],
   "source": []
  },
  {
   "cell_type": "code",
   "execution_count": null,
   "metadata": {},
   "outputs": [],
   "source": []
  },
  {
   "cell_type": "code",
   "execution_count": null,
   "metadata": {},
   "outputs": [],
   "source": []
  },
  {
   "cell_type": "code",
   "execution_count": null,
   "metadata": {},
   "outputs": [],
   "source": []
  },
  {
   "cell_type": "code",
   "execution_count": null,
   "metadata": {},
   "outputs": [],
   "source": []
  },
  {
   "cell_type": "code",
   "execution_count": null,
   "metadata": {},
   "outputs": [],
   "source": []
  },
  {
   "cell_type": "code",
   "execution_count": null,
   "metadata": {},
   "outputs": [],
   "source": []
  },
  {
   "cell_type": "code",
   "execution_count": null,
   "metadata": {},
   "outputs": [],
   "source": []
  }
 ],
 "metadata": {
  "kernelspec": {
   "display_name": "Python 2",
   "language": "python",
   "name": "python2"
  },
  "language_info": {
   "codemirror_mode": {
    "name": "ipython",
    "version": 2
   },
   "file_extension": ".py",
   "mimetype": "text/x-python",
   "name": "python",
   "nbconvert_exporter": "python",
   "pygments_lexer": "ipython2",
   "version": "2.7.13"
  }
 },
 "nbformat": 4,
 "nbformat_minor": 1
}
