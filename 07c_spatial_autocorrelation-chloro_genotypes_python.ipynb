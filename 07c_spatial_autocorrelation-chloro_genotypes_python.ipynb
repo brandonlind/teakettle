{
 "cells": [
  {
   "cell_type": "code",
   "execution_count": null,
   "metadata": {},
   "outputs": [],
   "source": [
    "imp = open('/home/lindb/pythonimports.py').read()\n",
    "exec(imp)\n",
    "from __future__ import division\n",
    "%matplotlib inline "
   ]
  },
  {
   "cell_type": "code",
   "execution_count": null,
   "metadata": {},
   "outputs": [],
   "source": [
    "mDIR ='/home/lindb/teakettle/postmoran/chloro'\n",
    "if not op.exists(mDIR):\n",
    "    mkdir(mDIR)"
   ]
  },
  {
   "cell_type": "markdown",
   "metadata": {},
   "source": [
    "# for all teakettle - chloro only"
   ]
  },
  {
   "cell_type": "markdown",
   "metadata": {},
   "source": [
    "### Put into R\n",
    "```R\n",
    "source('~/imports.R')\n",
    "library(PopGenReport)\n",
    "library(adegenet)\n",
    "\n",
    "moran     <- read.csv('~/Desktop/moran_infile_final_jan_wconecounts.txt',sep='\\t')\n",
    "simpmoran <- moran[seq(1,nrow(moran),2),] # for spatial stuff\n",
    "\n",
    "### name some stuff\n",
    "chloro <- c('pc10','pt71936','pt87268')\n",
    "nuc    <- c('rps12','rps2','rps39','rps50')\n",
    "loci   <- c(nuc,chloro)\n",
    "\n",
    "### make a blank df to fill in later\n",
    "popgen <- matrix(0,ncol=len(chloro)+1,nrow=luni(moran$samp))\n",
    "popgen <- data.frame(popgen)\n",
    "colnames(popgen) <- c('pop',chloro)\n",
    "rownames(popgen) <- uni(moran$samp)\n",
    "head(popgen)\n",
    "\n",
    "getgt = function(type,df,locus){\n",
    "    if (type == \"nuc\"){\n",
    "        one = df[1,locus]\n",
    "        two = df[1,sprintf(\"%s_2\",locus)]\n",
    "        combined = sprintf(\"%s:%s\",one,two)\n",
    "    } else {\n",
    "        combined = sprintf(\"%s:%s\",df[1,locus],df[1,locus])\n",
    "    }\n",
    "    return(combined)\n",
    "}\n",
    "\n",
    "# make function to make df\n",
    "getdf = function(treatment='tx'){\n",
    "    if (!treatment %in% c('tx','plot','tfk')){\n",
    "        stop(cat(sprintf(\"treatment %s not in %s\",treatment,c('tx','plot','single'))))\n",
    "    }\n",
    "    # make blank df\n",
    "    popgen <- matrix(0,ncol=len(nuc)+1,nrow=luni(moran$samp))\n",
    "    popgen <- data.frame(popgen)\n",
    "    colnames(popgen) <- c('pop',nuc)\n",
    "    rownames(popgen) <- uni(moran$samp)\n",
    "\n",
    "    # fill in blank df\n",
    "    for (samp in uni(moran$samp)){\n",
    "        df <- moran[which(moran$samp == samp),]\n",
    "\n",
    "        plot = strsplit(samp,split=\"_\")[[1]][1]\n",
    "        tx   = substr(plot,1,2)\n",
    "        if (treatment=='tx'){\n",
    "            popgen[samp,'pop'] <- tx\n",
    "        } else if (treatment == 'plot'){\n",
    "            popgen[samp,'pop'] <- plot\n",
    "        } else {\n",
    "            popgen[samp,'pop'] <- 'teakettle'\n",
    "        }\n",
    "        for (locus in nuc){\n",
    "            type = NULL\n",
    "            if (locus %in% nuc){\n",
    "                type = 'nuc'\n",
    "            } else {\n",
    "                type = 'chloro'}\n",
    "            if (df[1,locus] != 0){\n",
    "                popgen[samp,locus] = getgt(type,df,locus)\n",
    "            } else if (df[2,locus] != 0) {\n",
    "                popgen[samp,locus] = getgt(type,df,locus)\n",
    "            } else {\n",
    "                popgen[samp,locus] = NA}}}\n",
    "    return(popgen)}\n",
    "\n",
    "### make dfs with either plot or treatment\n",
    "popgen.tfk  <- getdf(treatment='tfk')  # one single pop\n",
    "head(popgen.tfk)\n",
    "# df with only loci as columns\n",
    "pg.tfk <- popgen.tfk[,names(popgen.tfk[2:len(names(popgen.tfk))])]\n",
    "head(pg.tfk)\n",
    "\n",
    "### convert to class(genind)\n",
    "tfkpop  <- popgen.tfk$pop\n",
    "gentfk  <- df2genind(pg.tfk,ploidy=2,sep=\":\",pop=tfkpop)\n",
    "\n",
    "### calc gen dist\n",
    "gd <- gd.smouse(gentfk)\n",
    "gdmat <- as.matrix(gd)\n",
    "dim(gdmat)\n",
    "gdmat[1:5,1:5]\n",
    "\n",
    "### get euclidian distance\n",
    "distmat <- readRDS('~/fragment/postmoran/final/distmat.RDS')\n",
    "dmat <- distmat[which(rownames(distmat) %in% rownames(gdmat)),which(colnames(distmat) %in% colnames(gdmat))]\n",
    "all(rownames(dmat) == rownames(gdmat))\n",
    "all(colnames(dmat) == colnames(gdmat))\n",
    "luni(rownames(dmat)) == nrow(gdmat)\n",
    "luni(rownames(gdmat)) == nrow(dmat)\n",
    "all(dim(dmat) == dim(gdmat))\n",
    "\n",
    "### get spatial autocorrelation\n",
    "bins = ceiling(.max(dmat)/10) # = 173\n",
    "sauto <- spautocor(gdmat,dmat,bins = 173)\n",
    "range(sauto$r)\n",
    "\n",
    "### save environment\n",
    "cd('~/fragment/postmoran/all_tfk-chloro')\n",
    "rds()\n",
    "```"
   ]
  },
  {
   "cell_type": "code",
   "execution_count": null,
   "metadata": {},
   "outputs": [],
   "source": [
    "DIR = '/home/lindb/teakettle/postmoran/chloro/final'\n",
    "if not op.exists(DIR):\n",
    "    mkdir(DIR)"
   ]
  },
  {
   "cell_type": "code",
   "execution_count": null,
   "metadata": {},
   "outputs": [],
   "source": [
    "# copy from desktop to godel\n",
    "# scp ~/fragment/postmoran/all_tfk-chloro/*RDS godel:/home/lindb/teakettle/postmoran/chloro/final"
   ]
  },
  {
   "cell_type": "markdown",
   "metadata": {},
   "source": [
    "### multiprocess null confidence intervals for spatial autocorrelation"
   ]
  },
  {
   "cell_type": "code",
   "execution_count": null,
   "metadata": {},
   "outputs": [],
   "source": [
    "DIR = '/home/lindb/teakettle/postmoran/chloro/null/rfiles'\n",
    "if not op.exists(DIR):\n",
    "    mkdir(DIR)"
   ]
  },
  {
   "cell_type": "code",
   "execution_count": null,
   "metadata": {},
   "outputs": [],
   "source": [
    "DIR = '/home/lindb/teakettle/postmoran/chloro/null/shfiles'\n",
    "if not op.exists(DIR):\n",
    "    mkdir(DIR)"
   ]
  },
  {
   "cell_type": "code",
   "execution_count": null,
   "metadata": {},
   "outputs": [],
   "source": [
    "if not op.exists('/home/lindb/teakettle/postmoran/chloro/null/outfiles/'):\n",
    "    mkdir('/home/lindb/teakettle/postmoran/chloro/null/outfiles/')"
   ]
  },
  {
   "cell_type": "code",
   "execution_count": null,
   "metadata": {},
   "outputs": [],
   "source": [
    "for i in range(999):\n",
    "    text = '''\n",
    "source('~/imports.R')\n",
    "cd('/home/lindb/teakettle/postmoran/chloro/final')\n",
    "\n",
    "# load dependencies\n",
    "getrds()\n",
    "\n",
    "spautocor <- function (gen.m, eucl.m, shuffle = FALSE, bins = 10) \n",
    "{\n",
    "    gd <- gen.m\n",
    "    ed <- eucl.m\n",
    "    if (shuffle == TRUE) {\n",
    "        gdd <- as.dist(gd)\n",
    "        gdsample <- sample(1:length(gdd), length(gdd))\n",
    "        gd[lower.tri(gd)] <- gdd[gdsample]\n",
    "        gd[upper.tri(gd)] <- gdd[gdsample]\n",
    "        diag(gd) <- 0\n",
    "    }\n",
    "    cdmat <- function(gd) {\n",
    "        dimen <- nrow(gd)\n",
    "        sgd <- sum(gd, na.rm = TRUE)\n",
    "        cscd <- matrix(colSums(gd, na.rm = TRUE), dimen, dimen)\n",
    "        rscd <- matrix(rowSums(gd, na.rm = TRUE), dimen, dimen, \n",
    "            byrow = TRUE)\n",
    "        cd <- 0.5 * (-gd + 1/dimen * (cscd + rscd) - 1/dimen^2 * \n",
    "            (sgd))\n",
    "        cd\n",
    "    }\n",
    "    cd <- cdmat(gd)\n",
    "    ed[upper.tri(ed)] <- NA\n",
    "    diag(ed) <- NA\n",
    "    r <- NA\n",
    "    distance <- NA\n",
    "    N <- NA\n",
    "    steps <- signif(diff(range(ed, na.rm = TRUE))/bins, 4)\n",
    "    for (d in 1:bins) {\n",
    "        index <- which(ed <= d * steps & ed > (d - 1) * steps, \n",
    "            arr.ind = TRUE)\n",
    "        cx <- sum(cd[index])\n",
    "        cxii <- sum(diag(cd)[index[, 1]])\n",
    "        cxjj <- sum(diag(cd)[index[, 2]])\n",
    "        r[d] <- 2 * cx/(cxii + cxjj)\n",
    "        distance[d] <- steps * d\n",
    "        N[d] <- length(index)\n",
    "    }\n",
    "    if (shuffle == FALSE) \n",
    "        res <- data.frame(bin = distance, N = N, r = r)\n",
    "    else res <- data.frame(r = r)\n",
    "    res\n",
    "}\n",
    "\n",
    "# get null value\n",
    "shuff <- spautocor(gdmat,dmat,bins=bins,shuffle=T)\n",
    "filE = sprintf('/home/lindb/teakettle/postmoran/chloro/null/outfiles/shuff_%%s.RDS',sprintf('%%03d',%s))\n",
    "saveRDS(shuff,filE)\n",
    "\n",
    "''' % (i)\n",
    "    filE = '/home/lindb/teakettle/postmoran/chloro/null/rfiles/null_%s.R' % str(i).zfill(3)\n",
    "    with open(filE,'w') as o:\n",
    "        o.write(\"%s\" % text)\n",
    "    o.close()"
   ]
  },
  {
   "cell_type": "code",
   "execution_count": null,
   "metadata": {},
   "outputs": [],
   "source": [
    "files = fs('/home/lindb/teakettle/postmoran/chloro/null/rfiles/')\n",
    "math.ceil(len(files)/195)"
   ]
  },
  {
   "cell_type": "code",
   "execution_count": null,
   "metadata": {},
   "outputs": [],
   "source": [
    "files = fs('/home/lindb/teakettle/postmoran/chloro/null/rfiles/')\n",
    "\n",
    "fcount  = 0\n",
    "shcount = 0\n",
    "rcount  = 0\n",
    "for f in files:\n",
    "    num = op.basename(f).split(\".R\")[0].split(\"_\")[1]\n",
    "    if rcount == 0:\n",
    "        text = '''#!/bin/bash\n",
    "#$ -N shuff%s\n",
    "#$ -S /bin/bash\n",
    "#$ -V\n",
    "#$ -j y\n",
    "#$ -cwd\n",
    "\n",
    "cd %s\n",
    "R --no-save < %s\n",
    "''' % (num,\n",
    "       op.dirname(f),\n",
    "       f)\n",
    "    else:\n",
    "        newtext = '''\n",
    "cd %s\n",
    "R --no-save < %s\n",
    "''' % (op.dirname(f),\n",
    "       f)\n",
    "        text = text + newtext\n",
    "    fcount += 1\n",
    "    rcount += 1\n",
    "    \n",
    "    if rcount == 6 or fcount == len(files):\n",
    "        filE = '/home/lindb/teakettle/postmoran/chloro/null/shfiles/shuff_%s.sh' % str(shcount).zfill(3)\n",
    "        with open(filE,'w') as o:\n",
    "            o.write(\"%s\" % text)\n",
    "        rcount = 0\n",
    "        shcount += 1"
   ]
  },
  {
   "cell_type": "code",
   "execution_count": null,
   "metadata": {},
   "outputs": [],
   "source": [
    "# qsub files\n",
    "# !cd /home/lindb/teakettle/postmoran/chloro/null/shfiles/\n",
    "# !ls *sh | parallel qsub {}"
   ]
  },
  {
   "cell_type": "markdown",
   "metadata": {},
   "source": [
    "### combine null runs"
   ]
  },
  {
   "cell_type": "code",
   "execution_count": null,
   "metadata": {},
   "outputs": [],
   "source": [
    "DIR = '/home/lindb/teakettle/postmoran/chloro/null/outfiles/'\n",
    "text = '''\n",
    "source('~/imports.R')\n",
    "cd('/home/lindb/teakettle/postmoran/chloro/')\n",
    "\n",
    "sauto <- readRDS('/home/lindb/teakettle/postmoran/chloro/final/sauto.RDS')\n",
    "\n",
    "# get a list of all of the null runs\n",
    "DIR = '/home/lindb/teakettle/postmoran/chloro/null/outfiles/'\n",
    "R <- list()\n",
    "for (f in list.files(DIR,full.names=T,pattern='.RDS')){\n",
    "    r <- readRDS(f)\n",
    "    R <- append(R,list(r))\n",
    "    names(R)[len(R)] <- as.character(len(R))\n",
    "}\n",
    "r <- data.frame(sauto$r)\n",
    "names(r) <- 'r'\n",
    "R <- append(R,list(r))\n",
    "names(R)[1000] <- as.character(1000)\n",
    "\n",
    "# get a list for each distance class, appending values from 1000 null runs\n",
    "Rm <- list()\n",
    "for (i in 1:173){\n",
    "    print(i)\n",
    "    lst <- c()\n",
    "    for (j in 1:len(R)){\n",
    "        lst <- c(lst, R[[as.character(j)]][i,'r'])\n",
    "    }\n",
    "    Rm <- append(Rm,list(lst))\n",
    "}\n",
    "\n",
    "# get 2.5th and 97.5th quantiles\n",
    "null <- list()\n",
    "for (i in 1:len(Rm)){\n",
    "    low = sort(Rm[[i]])[25]\n",
    "    high = sort(Rm[[i]])[975]\n",
    "    null <- append(null,list(c(low,high)))\n",
    "}\n",
    "\n",
    "\n",
    "filE = fname(getwd(),'chloro_null.RDS')\n",
    "saveRDS(null,filE)\n",
    "filE = fname(getwd(),'chloro_R.RDS')\n",
    "saveRDS(R,filE)\n",
    "filE = fname(getwd(),'chloro_Rm.RDS')\n",
    "saveRDS(Rm,filE)\n",
    "'''\n",
    "filE = '/home/lindb/teakettle/postmoran/chloro/combine_R_vector_chloro_geno.R'\n",
    "with open(filE,'w') as o:\n",
    "    o.write(\"%s\" % text)\n",
    "o.close()"
   ]
  },
  {
   "cell_type": "markdown",
   "metadata": {},
   "source": [
    "### plot spatial autocorrelation\n",
    "### put into R\n",
    "```R\n",
    "source('~/imports.R')\n",
    "cd('~/Downloads/')\n",
    "\n",
    "### load Rm, R, and sauto\n",
    "# null <- readRDS('/home/lindb/teakettle/postmoran/nuclear/nuclear_null.RDS')\n",
    "# sauto <- readRDS('/home/lindb/teakettle/postmoran/nuclear/final/sauto.RDS')\n",
    "\n",
    "getrds()\n",
    "null <- chloro_null\n",
    "\n",
    "# get quantiles for each distance class\n",
    "lows <- c()\n",
    "his <- c()\n",
    "for (i in 1:len(null)){\n",
    "\tlows <- c(lows,null[[i]][1])\n",
    "\this <- c(his,null[[i]][2])\n",
    "}\n",
    "\n",
    "plot(sauto$bin,sauto$r,type=\"l\",xlab=\"Distance (meters)\",ylab=\"r\",ylim=c(-0.13,0.13),xaxt=\"n\")\n",
    "xtick <- seq(0,max(sauto$bin),100)\n",
    "axis(side=1,at=xtick)\n",
    "polygon(c(rev(sauto$bin),sauto$bin),c(rev(his),lows),col='grey75',border=FALSE)\n",
    "lines(sauto$bin,sauto$r,lwd=2)\n",
    "lines(sauto$bin,lows,col=\"red\",lty=2)\n",
    "lines(sauto$bin,his,col=\"red\",lty=2)\n",
    "```"
   ]
  },
  {
   "cell_type": "code",
   "execution_count": null,
   "metadata": {},
   "outputs": [],
   "source": []
  },
  {
   "cell_type": "code",
   "execution_count": null,
   "metadata": {},
   "outputs": [],
   "source": []
  },
  {
   "cell_type": "code",
   "execution_count": null,
   "metadata": {},
   "outputs": [],
   "source": []
  },
  {
   "cell_type": "code",
   "execution_count": null,
   "metadata": {},
   "outputs": [],
   "source": []
  },
  {
   "cell_type": "code",
   "execution_count": null,
   "metadata": {},
   "outputs": [],
   "source": []
  },
  {
   "cell_type": "code",
   "execution_count": null,
   "metadata": {},
   "outputs": [],
   "source": []
  },
  {
   "cell_type": "code",
   "execution_count": null,
   "metadata": {},
   "outputs": [],
   "source": []
  },
  {
   "cell_type": "code",
   "execution_count": null,
   "metadata": {},
   "outputs": [],
   "source": []
  },
  {
   "cell_type": "code",
   "execution_count": null,
   "metadata": {},
   "outputs": [],
   "source": []
  },
  {
   "cell_type": "code",
   "execution_count": null,
   "metadata": {},
   "outputs": [],
   "source": []
  },
  {
   "cell_type": "code",
   "execution_count": null,
   "metadata": {},
   "outputs": [],
   "source": []
  },
  {
   "cell_type": "code",
   "execution_count": null,
   "metadata": {},
   "outputs": [],
   "source": []
  },
  {
   "cell_type": "code",
   "execution_count": null,
   "metadata": {},
   "outputs": [],
   "source": []
  },
  {
   "cell_type": "code",
   "execution_count": null,
   "metadata": {},
   "outputs": [],
   "source": []
  },
  {
   "cell_type": "code",
   "execution_count": null,
   "metadata": {},
   "outputs": [],
   "source": []
  },
  {
   "cell_type": "code",
   "execution_count": null,
   "metadata": {},
   "outputs": [],
   "source": []
  },
  {
   "cell_type": "code",
   "execution_count": null,
   "metadata": {},
   "outputs": [],
   "source": []
  },
  {
   "cell_type": "code",
   "execution_count": null,
   "metadata": {},
   "outputs": [],
   "source": []
  }
 ],
 "metadata": {
  "kernelspec": {
   "display_name": "Python 2",
   "language": "python",
   "name": "python2"
  },
  "language_info": {
   "codemirror_mode": {
    "name": "ipython",
    "version": 2
   },
   "file_extension": ".py",
   "mimetype": "text/x-python",
   "name": "python",
   "nbconvert_exporter": "python",
   "pygments_lexer": "ipython2",
   "version": "2.7.13"
  }
 },
 "nbformat": 4,
 "nbformat_minor": 2
}
