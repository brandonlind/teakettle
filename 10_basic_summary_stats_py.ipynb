{
 "cells": [
  {
   "cell_type": "code",
   "execution_count": null,
   "metadata": {},
   "outputs": [],
   "source": [
    "imp = open('/home/lindb/pythonimports.py').read()\n",
    "exec(imp)\n",
    "from __future__ import division\n",
    "%matplotlib inline "
   ]
  },
  {
   "cell_type": "markdown",
   "metadata": {},
   "source": [
    "### dependencies"
   ]
  },
  {
   "cell_type": "code",
   "execution_count": null,
   "metadata": {},
   "outputs": [],
   "source": [
    "pg = pd.read_csv('/home/lindb/teakettle/postmoran/popgentx.txt',sep='\\t')\n",
    "#pg.replace(np.nan,\"NA\")\n",
    "pg.head()"
   ]
  },
  {
   "cell_type": "code",
   "execution_count": null,
   "metadata": {},
   "outputs": [],
   "source": [
    "loci = sorted(pg.columns.tolist()[1:])\n",
    "Chloro = loci[:3]\n",
    "nuc = loci[3:]\n",
    "loci"
   ]
  },
  {
   "cell_type": "code",
   "execution_count": null,
   "metadata": {},
   "outputs": [],
   "source": [
    "nuc"
   ]
  },
  {
   "cell_type": "code",
   "execution_count": null,
   "metadata": {},
   "outputs": [],
   "source": [
    "Chloro"
   ]
  },
  {
   "cell_type": "markdown",
   "metadata": {},
   "source": [
    "### missing data including null alleles"
   ]
  },
  {
   "cell_type": "code",
   "execution_count": null,
   "metadata": {},
   "outputs": [],
   "source": [
    "for locus in loci:\n",
    "    print locus\n",
    "    print pg[locus].tolist().count(np.nan)/len(pg[locus].tolist())"
   ]
  },
  {
   "cell_type": "code",
   "execution_count": null,
   "metadata": {},
   "outputs": [],
   "source": [
    "txs = uni(pg['pop'])[:3]\n",
    "txs"
   ]
  },
  {
   "cell_type": "code",
   "execution_count": null,
   "metadata": {},
   "outputs": [],
   "source": [
    "for tx in txs:\n",
    "    print '\\t',tx\n",
    "    df = pg[pg['pop']==tx].copy()\n",
    "    for locus in loci:\n",
    "        print locus\n",
    "        print ' ',df[locus].tolist().count(np.nan)/len(df[locus].tolist())\n",
    "    print ''"
   ]
  },
  {
   "cell_type": "markdown",
   "metadata": {},
   "source": [
    "### distinct chlorotypes"
   ]
  },
  {
   "cell_type": "code",
   "execution_count": null,
   "metadata": {},
   "outputs": [],
   "source": [
    "pg.head()"
   ]
  },
  {
   "cell_type": "code",
   "execution_count": null,
   "metadata": {},
   "outputs": [],
   "source": [
    "chloros = []\n",
    "chloroplots = {}\n",
    "for samp in pg.index:\n",
    "    if pg.loc[samp,:].tolist()[-3:].count(np.nan) == 0:\n",
    "        chloro = \"-\".join(pg.loc[samp,:].tolist()[-3:])\n",
    "        if not chloro in chloros:\n",
    "            chloros.append(chloro)\n",
    "            chloroplots[chloro] = []\n",
    "            if not pg.loc[samp,'pop'] in chloroplots[chloro]:\n",
    "                chloroplots[chloro].append(pg.loc[samp,'pop'])\n",
    "len(chloros)"
   ]
  },
  {
   "cell_type": "code",
   "execution_count": null,
   "metadata": {},
   "outputs": [],
   "source": [
    "len(chloroplots)"
   ]
  },
  {
   "cell_type": "code",
   "execution_count": null,
   "metadata": {},
   "outputs": [],
   "source": [
    "for c in chloroplots:\n",
    "    if len(chloroplots[c]) > 1:\n",
    "        print chloroplots[c]"
   ]
  },
  {
   "cell_type": "code",
   "execution_count": null,
   "metadata": {},
   "outputs": [],
   "source": [
    "len(chloroplots)/nrow(pg)"
   ]
  },
  {
   "cell_type": "code",
   "execution_count": null,
   "metadata": {},
   "outputs": [],
   "source": [
    "# there are no shared chlorotypes among treatments"
   ]
  },
  {
   "cell_type": "markdown",
   "metadata": {},
   "source": [
    "# Genetic diversity parameters"
   ]
  },
  {
   "cell_type": "code",
   "execution_count": null,
   "metadata": {},
   "outputs": [],
   "source": [
    "# create dict for dataframe\n",
    "d = OrderedDict()\n",
    "for tx in txs: # tx is the line, keys of d[tx] will be genetic diversity parameters\n",
    "    d[tx] = OrderedDict()"
   ]
  },
  {
   "cell_type": "markdown",
   "metadata": {},
   "source": [
    "### samp sizes (N) and alleles per tx (A_t) "
   ]
  },
  {
   "cell_type": "code",
   "execution_count": null,
   "metadata": {},
   "outputs": [],
   "source": [
    "pg.head()"
   ]
  },
  {
   "cell_type": "code",
   "execution_count": null,
   "metadata": {},
   "outputs": [],
   "source": [
    "for tx in txs:\n",
    "    print tx\n",
    "    df = pg[pg['pop']==tx].copy()\n",
    "    if not 'N' in d[tx]:\n",
    "        d[tx]['N'] = nrow(df)\n",
    "    print nrow(df)\n",
    "    tot = 0\n",
    "    for locus in loci:\n",
    "        ls = [l for l in df[locus].tolist() if type(l)==str]\n",
    "        ls = uni([l for x in ls for l in x.split(\":\")])\n",
    "        tot += len(ls)\n",
    "    if not 'A_t' in d[tx]:\n",
    "        d[tx]['A_t'] = tot\n",
    "    print 'tot=',tot    "
   ]
  },
  {
   "cell_type": "code",
   "execution_count": null,
   "metadata": {},
   "outputs": [],
   "source": [
    "['new' in x for x in pg.index].count(False)"
   ]
  },
  {
   "cell_type": "code",
   "execution_count": null,
   "metadata": {},
   "outputs": [],
   "source": [
    "for tx in txs:\n",
    "    print tx\n",
    "    df = pg[pg['pop']==tx].copy()\n",
    "    news = ['new' in x for x in df.index].count(True)\n",
    "    ads  = nrow(df) - news\n",
    "    assert news + ads == nrow(df)\n",
    "    print 'new',news\n",
    "    print 'adults',ads"
   ]
  },
  {
   "cell_type": "markdown",
   "metadata": {},
   "source": [
    "### mean alleles per loc (A) , + std dev"
   ]
  },
  {
   "cell_type": "code",
   "execution_count": null,
   "metadata": {},
   "outputs": [],
   "source": [
    "from scipy import stats"
   ]
  },
  {
   "cell_type": "code",
   "execution_count": null,
   "metadata": {},
   "outputs": [],
   "source": [
    "for tx in txs:\n",
    "    df = pg[pg['pop']==tx].copy()\n",
    "    tot = {}\n",
    "    for locus in loci:\n",
    "        ls = [l for l in df[locus].tolist() if type(l)==str]\n",
    "        ls = uni([l for x in ls for l in x.split(\":\")])\n",
    "        tot[locus] = len(ls)\n",
    "    s = np.std(tot.values())\n",
    "    \n",
    "    d[tx]['A'] = \"%.2f (%.2f)\" % (np.mean(tot.values()),\n",
    "                                  s)"
   ]
  },
  {
   "cell_type": "markdown",
   "metadata": {},
   "source": [
    "### effective number of alleles per locus (A_e)\n",
    "take harmonic mean across loci"
   ]
  },
  {
   "cell_type": "code",
   "execution_count": null,
   "metadata": {},
   "outputs": [],
   "source": [
    "Chloro"
   ]
  },
  {
   "cell_type": "code",
   "execution_count": null,
   "metadata": {},
   "outputs": [],
   "source": [
    "nuc"
   ]
  },
  {
   "cell_type": "code",
   "execution_count": null,
   "metadata": {},
   "outputs": [],
   "source": [
    "# calc A_e for each locus, take harmonic mean\n",
    "Aes = {} # keep track of \n",
    "for tx in txs:\n",
    "    df = pg[pg['pop']==tx].copy()\n",
    "    Aes[tx] = {}\n",
    "    for locus in loci:\n",
    "        gts = [l for l in df[locus].tolist() if type(l)==str] # gives each genotype, len = samps with genotypes\n",
    "        if locus in nuc:\n",
    "            denom = 2*len(gts)\n",
    "            allAs = [l for x in gts for l in x.split(\":\")] # all alleles\n",
    "        if locus in Chloro:\n",
    "            denom = len(gts)\n",
    "            allAs = [x.split(\":\")[0] for x in gts] # only first allele since homozygous\n",
    "        uAs   = uni(allAs) # unique alleles\n",
    "        sums = 0\n",
    "        for a in uAs:\n",
    "            freq = allAs.count(a)/denom # nallele / 2N or nallel / N\n",
    "            sums += (freq**2)\n",
    "        sums = 1/sums\n",
    "        Aes[tx][locus] = sums\n",
    "    mn = stats.hmean(Aes[tx].values())\n",
    "    se = np.std(Aes[tx].values())\n",
    "    d[tx]['A_e'] = \"%.2f (%.2f)\" % (stats.hmean(Aes[tx].values()),\n",
    "                                    se)"
   ]
  },
  {
   "cell_type": "code",
   "execution_count": null,
   "metadata": {},
   "outputs": [],
   "source": [
    "d"
   ]
  },
  {
   "cell_type": "markdown",
   "metadata": {},
   "source": [
    "### observed and expected heterozygosity - nuclear markers only"
   ]
  },
  {
   "cell_type": "code",
   "execution_count": null,
   "metadata": {},
   "outputs": [],
   "source": [
    "hobs   = {} # keep track of \n",
    "hexps = {}\n",
    "for tx in txs:\n",
    "    df = pg[pg['pop']==tx].copy()\n",
    "    hobs[tx]   = {}\n",
    "    hexps[tx] = {}\n",
    "    for locus in nuc:\n",
    "        gts = [l for l in df[locus].tolist() if type(l)==str] # gives each genotype, len = samps with genotypes\n",
    "        twoN = 2*len(gts) #2N\n",
    "        hobs[tx][locus] = 0\n",
    "        for g in gts: # calc Hobs\n",
    "            one,two = g.split(\":\")\n",
    "            if one != two:\n",
    "                hobs[tx][locus] += 1\n",
    "        hobs[tx][locus] = hobs[tx][locus]/len(gts)\n",
    "        \n",
    "        allAs = [l for x in gts for l in x.split(\":\")] # all alleles\n",
    "        uAs   = uni(allAs)\n",
    "        exphom = [] # list of expected homozygosities\n",
    "        for a in uAs: # get exphom for each allele\n",
    "            freq = allAs.count(a)/twoN\n",
    "            exphom.append(freq**2)\n",
    "        hexps[tx][locus] = 1-sum(exphom)\n",
    "        \n",
    "    mhexp   = np.mean(hexps[tx].values())\n",
    "    mhexpsd = np.std(hexps[tx].values())\n",
    "    mhobs   = np.mean(hobs[tx].values())\n",
    "    mhobssd = np.std(hobs[tx].values())\n",
    "    \n",
    "    d[tx]['Ho'] = \"%.2f (%.2f)\" % (mhobs,mhobssd)\n",
    "    d[tx]['He'] = \"%.2f (%.2f)\" % (mhexp,mhexpsd)\n",
    "        "
   ]
  },
  {
   "cell_type": "code",
   "execution_count": null,
   "metadata": {},
   "outputs": [],
   "source": [
    "d"
   ]
  },
  {
   "cell_type": "markdown",
   "metadata": {},
   "source": [
    "### private alleles (A_p)"
   ]
  },
  {
   "cell_type": "code",
   "execution_count": null,
   "metadata": {},
   "outputs": [],
   "source": [
    "# get a list of unique alleles per locus\n",
    "Ls = {}\n",
    "for locus in loci:\n",
    "    gts = [g for g in pg[locus].tolist() if type(g)==str]\n",
    "    allAs = [l for x in gts for l in x.split(\":\")]\n",
    "    Ls[locus] = uni(allAs)"
   ]
  },
  {
   "cell_type": "code",
   "execution_count": null,
   "metadata": {},
   "outputs": [],
   "source": [
    "# get a list of unique alleles per treatment\n",
    "pls = {}\n",
    "for tx in txs:\n",
    "    pls[tx] = {}\n",
    "    df = pg[pg['pop']==tx].copy()\n",
    "    for locus in loci:\n",
    "        gts   = [g for g in df[locus].tolist() if type(g)==str]\n",
    "        allAs = [l for x in gts for l in x.split(\":\")]\n",
    "        pls[tx][locus]   = uni(allAs)"
   ]
  },
  {
   "cell_type": "code",
   "execution_count": null,
   "metadata": {},
   "outputs": [],
   "source": [
    "### private alleles per tx\n",
    "prv = {}\n",
    "# bc\n",
    "print 'bc'\n",
    "prv['bc'] = {}\n",
    "for locus in loci:\n",
    "    alleles = pls['bc'][locus]\n",
    "    alleles = [l for l in alleles if not l in pls['uc'][locus]+pls['un'][locus]]\n",
    "    prv['bc'][locus] = alleles\n",
    "    print locus,len(prv['bc'][locus])\n",
    "# uc\n",
    "print 'uc'\n",
    "prv['uc'] = {}\n",
    "for locus in loci:\n",
    "    alleles = pls['uc'][locus]\n",
    "    alleles = [l for l in alleles if not l in pls['bc'][locus]+pls['un'][locus]]\n",
    "    prv['uc'][locus] = alleles\n",
    "    print locus,len(prv['uc'][locus])\n",
    "# un\n",
    "print 'un'\n",
    "prv['un'] = {}\n",
    "for locus in loci:\n",
    "    alleles = pls['un'][locus]\n",
    "    alleles = [l for l in alleles if not l in pls['bc'][locus]+pls['uc'][locus]]\n",
    "    prv['un'][locus] = alleles\n",
    "    print locus,len(prv['un'][locus])"
   ]
  },
  {
   "cell_type": "code",
   "execution_count": null,
   "metadata": {},
   "outputs": [],
   "source": [
    "for tx in txs:\n",
    "    d[tx]['A_p'] = sum([len(x) for x in prv[tx].values()])"
   ]
  },
  {
   "cell_type": "code",
   "execution_count": null,
   "metadata": {},
   "outputs": [],
   "source": [
    "d"
   ]
  },
  {
   "cell_type": "markdown",
   "metadata": {},
   "source": [
    "### overall mean for each category"
   ]
  },
  {
   "cell_type": "code",
   "execution_count": null,
   "metadata": {},
   "outputs": [],
   "source": [
    "d['Overall Mean'] = OrderedDict()\n",
    "for cat in d[tx]:\n",
    "    vals = [d['bc'][cat],d['uc'][cat],d['un'][cat]]\n",
    "    vals = [str(val).split()[0] for val in vals]\n",
    "    print vals\n",
    "    val = np.mean([float(v) for v in vals])\n",
    "    d['Overall Mean'][cat] = \"%.2f\" % val"
   ]
  },
  {
   "cell_type": "code",
   "execution_count": null,
   "metadata": {},
   "outputs": [],
   "source": [
    "d"
   ]
  },
  {
   "cell_type": "code",
   "execution_count": null,
   "metadata": {},
   "outputs": [],
   "source": [
    "DIR = '/home/lindb/teakettle/postmoran/sumstats'\n",
    "if not op.exists(DIR):\n",
    "    mkdir(DIR)\n",
    "cd(DIR)"
   ]
  },
  {
   "cell_type": "code",
   "execution_count": null,
   "metadata": {},
   "outputs": [],
   "source": [
    "filE = op.join(DIR,'sumstats.txt')\n",
    "key0 = d.keys()[0]\n",
    "header = 'Treatment'+'\\t'+'\\t'.join([x for x in d[key0].keys()]) + '\\n'\n",
    "with open(filE,'w') as o:\n",
    "    o.write(\"%s\" % header)\n",
    "    for tx in d:\n",
    "        text = tx + '\\t'+'\\t'.join([str(x) for x in d[tx].values()]) + '\\n'\n",
    "        o.write(\"%s\" % text)\n",
    "o.close()\n",
    "sumstats = pd.read_csv(filE,header=0,sep='\\t')\n",
    "sumstats.head()"
   ]
  },
  {
   "cell_type": "markdown",
   "metadata": {},
   "source": [
    "# hierfstat"
   ]
  },
  {
   "cell_type": "code",
   "execution_count": null,
   "metadata": {},
   "outputs": [],
   "source": [
    "DIR = '/home/lindb/teakettle/postmoran/sumstats/hierf/RDS'\n",
    "if not op.exists(DIR):\n",
    "    mkdir(DIR)"
   ]
  },
  {
   "cell_type": "markdown",
   "metadata": {},
   "source": [
    "#### R magic voodoo"
   ]
  },
  {
   "cell_type": "code",
   "execution_count": null,
   "metadata": {},
   "outputs": [],
   "source": [
    "def setup_r(): \n",
    "    os.environ['R_HOME'] = '/home/lindb/g/R3/lib64/R/' \n",
    "    os.environ['LD_LIBRARY_PATH'] = \"%s/lib:%s\" % (os.environ['R_HOME'], \n",
    "                                                   os.environ['LD_LIBRARY_PATH'])"
   ]
  },
  {
   "cell_type": "code",
   "execution_count": null,
   "metadata": {},
   "outputs": [],
   "source": [
    "setup_r()\n",
    "import readline\n",
    "import rpy2.robjects as robjects\n",
    "from rpy2.robjects import pandas2ri as pd2ri\n",
    "pd2ri.activate()\n",
    "r = robjects.r"
   ]
  },
  {
   "cell_type": "code",
   "execution_count": null,
   "metadata": {},
   "outputs": [],
   "source": [
    "%reload_ext autoreload\n",
    "%autoreload 2\n",
    "%matplotlib inline\n",
    "%load_ext rpy2.ipython\n",
    "%matplotlib inline"
   ]
  },
  {
   "cell_type": "code",
   "execution_count": null,
   "metadata": {},
   "outputs": [],
   "source": [
    "%%R\n",
    "sessionInfo()"
   ]
  },
  {
   "cell_type": "code",
   "execution_count": null,
   "metadata": {},
   "outputs": [],
   "source": [
    "pg.head()"
   ]
  },
  {
   "cell_type": "code",
   "execution_count": null,
   "metadata": {},
   "outputs": [],
   "source": [
    "%%R\n",
    "source('~/imports.R')\n",
    "cd('/home/lindb/teakettle/postmoran/sumstats/hierf/RDS')\n",
    "library(adegenet)\n",
    "library(hierfstat)\n",
    "library(snow)\n",
    "pg   <- read.csv('/home/lindb/teakettle/postmoran/popgentx.txt',sep='\\t')\n",
    "pg <- pg[which(pg[,'pop'] != 'us'),]\n",
    "loci <- colnames(pg)[-1]\n",
    "pg[,'plot'] <- substr(rownames(pg),1,3)\n",
    "\n",
    "pops <- pg[,'pop']\n",
    "plot <- pg[,'plot']\n",
    "pg <- pg[,c('pop','plot',loci)]\n",
    "tfk <- rep('tfk',nrow(pg))\n",
    "strat <- data.frame(cbind(tfk,pops,plot))\n",
    "hierar = ~TFK/Treatment/Plot\n",
    "\n",
    "### get hierfstat df\n",
    "pg2 <- pg[,c(-1,-2)]\n",
    "gentfk <- df2genind(pg2,sep=\":\",pop=pops)\n",
    "pgout <- genind2df(gentfk)\n",
    "whiches <- which(rownames(pg2) %in% rownames(pgout))\n",
    "strat <- strat[whiches,]\n",
    "pops <- pgout[,'pop']\n",
    "pgout <- pgout[,-1]\n",
    "gentfk <- df2genind(pgout,sep=\":\",pop=pops,strata=strat,hierarchy=~tfk/pops/plot)\n",
    "hierdf <- genind2hierfstat(gentfk)\n",
    "head(hierdf)\n",
    "hierdf[,'pop'] <- as.character(hierdf[,'pop'])\n",
    "hierdf[,'pop'] <- replace(hierdf[,'pop'], hierdf[,'pop']=='bc', 1)\n",
    "hierdf[,'pop'] <- replace(hierdf[,'pop'], hierdf[,'pop']=='uc', 2)\n",
    "hierdf[,'pop'] <- replace(hierdf[,'pop'], hierdf[,'pop']=='un', 3)\n",
    "hierdf[,'plot'] <- substr(rownames(pgout),3,3)\n",
    "\n",
    "hierdf <- hierdf[,c('pop','plot',loci)]\n",
    "\n",
    "### functions\n",
    "get_varcomp = function(x) \n",
    "{\n",
    "    library(hierfstat)\n",
    "    loci = data.frame(x)\n",
    "    res <- varcomp(cbind(levels, loci),diploid=T)$overall\n",
    "}\n",
    "\n",
    "finish_varcomp = function(m) \n",
    "{\n",
    "    tot <- apply(m, 2, sum, na.rm = TRUE)\n",
    "    nblevels <- length(tot)\n",
    "    f <- matrix(rep(0, (nblevels - 1)^2), ncol = (nblevels - 1))\n",
    "    for (i in 1:(nblevels - 1)) \n",
    "    {\n",
    "        for (j in i:(nblevels - 1)) \n",
    "        {\n",
    "            f[i, j] <- sum(tot[i:j])/sum(tot[i:nblevels])\n",
    "        }\n",
    "    }\n",
    "    row.names(m) <- lnames\n",
    "    print(names(tot))\n",
    "    tf <- t(f)\n",
    "    row.names(tf) <- fnames\n",
    "    f <- t(tf)\n",
    "    row.names(f) <- c(\"Total\", fnames[-length(fnames)])\n",
    "    return(list(loc = m, overall = tot, F = f))\n",
    "}\n",
    "\n",
    "### do the hierfstat\n",
    "levels = data.frame(hierdf[,1:2])\n",
    "Loci   = hierdf[,loci]\n",
    "lnames = names(Loci)\n",
    "fnames= c(names(levels),\"Ind\")\n",
    "cl = makeSOCKcluster(30)\n",
    "clusterExport(cl, \"levels\", envir=environment())\n",
    "system.time(res <- matrix(parCapply(cl, Loci, get_varcomp), nrow=length(names(Loci)),byrow=T))\n",
    "res = finish_varcomp(res)\n",
    "saveRDS(res, \"hierfstatRUN.RDS\")\n",
    "system.time(bs <- basic.stats(gentfk))\n",
    "saveRDS(bs, \"bs_hierfstatRUN.RDS\")\n",
    "stopCluster(cl)\n",
    "print(\"Done!\")\n",
    "\n",
    "pg2gt <- pg2[which(rownames(pg2) %in% rownames(pgout)),]\n",
    "\n",
    "#rds()"
   ]
  },
  {
   "cell_type": "code",
   "execution_count": null,
   "metadata": {},
   "outputs": [],
   "source": [
    "def get_r_series(key):\n",
    "    s = pd.Series(get_r(key))\n",
    "    s.index = get_r(\"names(%s)\" % key)\n",
    "    return s\n",
    "\n",
    "def get_r_df(key):\n",
    "    df = pd.DataFrame(get_r(key))\n",
    "    try:\n",
    "        rname = get_r(\"rownames(%s)\" % key)\n",
    "        df.index = rname\n",
    "    except:\n",
    "        pass\n",
    "    \n",
    "    try:\n",
    "        cname = get_r(\"colnames(%s)\" % key)\n",
    "        df.columns = cname\n",
    "    except:\n",
    "        pass\n",
    "    \n",
    "    return df\n",
    "\n",
    "def get_r(key):\n",
    "    return r(key)"
   ]
  },
  {
   "cell_type": "code",
   "execution_count": null,
   "metadata": {},
   "outputs": [],
   "source": [
    "%%R\n",
    "res = readRDS(\"/home/lindb/teakettle/postmoran/sumstats/hierf/RDS/hierfstatRUN.RDS\")"
   ]
  },
  {
   "cell_type": "code",
   "execution_count": null,
   "metadata": {},
   "outputs": [],
   "source": [
    "%%R\n",
    "bs  = readRDS(\"/home/lindb/teakettle/postmoran/sumstats/hierf/RDS/bs_hierfstatRUN.RDS\")"
   ]
  },
  {
   "cell_type": "code",
   "execution_count": null,
   "metadata": {},
   "outputs": [],
   "source": [
    "resF = get_r_df(\"res$F\")\n",
    "resF"
   ]
  },
  {
   "cell_type": "code",
   "execution_count": null,
   "metadata": {},
   "outputs": [],
   "source": [
    "bs = get_r_df(\"bs$perloc\")\n",
    "bs.head()"
   ]
  },
  {
   "cell_type": "code",
   "execution_count": null,
   "metadata": {},
   "outputs": [],
   "source": [
    "overall = get_r_df(\"res$overall\")\n",
    "overall"
   ]
  },
  {
   "cell_type": "code",
   "execution_count": null,
   "metadata": {},
   "outputs": [],
   "source": [
    "loc = get_r_df(\"res$loc\")\n",
    "loc.head()"
   ]
  },
  {
   "cell_type": "code",
   "execution_count": null,
   "metadata": {},
   "outputs": [],
   "source": [
    "#multilocus FST\n",
    "def compute_F_plotTotal(series):\n",
    "    Hs = series[0]+series[1]\n",
    "    Ht = sum(series)\n",
    "    return Hs/Ht"
   ]
  },
  {
   "cell_type": "code",
   "execution_count": null,
   "metadata": {},
   "outputs": [],
   "source": [
    "plot_total_fst = loc.apply(compute_F_plotTotal, axis=1)\n",
    "plot_total_fst"
   ]
  },
  {
   "cell_type": "code",
   "execution_count": null,
   "metadata": {},
   "outputs": [],
   "source": [
    "def compute_F_popTotal(series):\n",
    "    return series[0]/sum(series)"
   ]
  },
  {
   "cell_type": "code",
   "execution_count": null,
   "metadata": {},
   "outputs": [],
   "source": [
    "pop_total_fst = loc.apply(compute_F_popTotal, axis = 1)\n",
    "pop_total_fst"
   ]
  },
  {
   "cell_type": "code",
   "execution_count": null,
   "metadata": {},
   "outputs": [],
   "source": [
    "bs['Fst']"
   ]
  },
  {
   "cell_type": "code",
   "execution_count": null,
   "metadata": {},
   "outputs": [],
   "source": [
    "def compute_F_plotPop(series):\n",
    "    return series[1]/sum(series[1:])"
   ]
  },
  {
   "cell_type": "code",
   "execution_count": null,
   "metadata": {},
   "outputs": [],
   "source": [
    "plot_pop_fst = loc.apply(compute_F_plotPop,axis=1)\n",
    "plot_pop_fst"
   ]
  },
  {
   "cell_type": "code",
   "execution_count": null,
   "metadata": {},
   "outputs": [],
   "source": [
    "dfs = [pop_total_fst,plot_total_fst,plot_pop_fst]\n",
    "ds = [\"pop_total\",\"plot_total\",\"plot_pop\"]\n",
    "for i,d in enumerate(dfs):\n",
    "    d = pd.DataFrame(d)\n",
    "    d.columns = [ds[i]]\n",
    "    if i == 0:\n",
    "        df = pd.DataFrame(d)\n",
    "    else:\n",
    "        df = pd.merge(df,d,left_index=True,right_index=True)\n",
    "df.head()"
   ]
  },
  {
   "cell_type": "code",
   "execution_count": null,
   "metadata": {},
   "outputs": [],
   "source": [
    "%%R\n",
    "hierdf = readRDS('/home/lindb/teakettle/postmoran/sumstats/hierf/RDS/hierdf.RDS')"
   ]
  },
  {
   "cell_type": "code",
   "execution_count": null,
   "metadata": {},
   "outputs": [],
   "source": [
    "hierdf = get_r('hierdf')\n",
    "hierdf.replace(-2147483648,'NA',inplace=True)"
   ]
  },
  {
   "cell_type": "code",
   "execution_count": null,
   "metadata": {},
   "outputs": [],
   "source": [
    "hierdf.head()"
   ]
  },
  {
   "cell_type": "markdown",
   "metadata": {},
   "source": [
    "### pairwise FST"
   ]
  },
  {
   "cell_type": "code",
   "execution_count": null,
   "metadata": {},
   "outputs": [],
   "source": [
    "%%R\n",
    "# edited pairwise.WCfst from hierfstat\n",
    "library(hierfstat)\n",
    "library(adegenet)\n",
    "pg2gt <- readRDS('/home/lindb/teakettle/postmoran/sumstats/hierf/RDS/pg2gt.RDS')\n",
    "pg2gt[,'pop'] <- substr(rownames(pg2gt),1,2)\n",
    "pg2gt[,'pop'] <- replace(pg2gt[,'pop'], pg2gt[,'pop']=='bc', 1)\n",
    "pg2gt[,'pop'] <- replace(pg2gt[,'pop'], pg2gt[,'pop']=='uc', 2)\n",
    "pg2gt[,'pop'] <- replace(pg2gt[,'pop'], pg2gt[,'pop']=='un', 3)\n",
    "pg2gt <- pg2gt[,c('pop',colnames(pg2gt)[-5])]\n",
    "pwFST <- function (dat, diploid = TRUE) #### edited from hierfstat - see commented line for change\n",
    "{\n",
    "    ### pairwise.WCfst\n",
    "    dat <- dat[order(dat[, 1]), ]\n",
    "    pops <- unique(dat[, 1])\n",
    "    npop <- length(pops)\n",
    "    fstmat <- matrix(nrow = npop, ncol = npop, dimnames = list(pops,\n",
    "        pops))\n",
    "    rownames(fstmat) <- colnames(fstmat) <- c('bc','uc','un')\n",
    "    if (is.factor(dat[, 1])) {\n",
    "        dat[, 1] <- as.numeric(dat[, 1])\n",
    "        pops <- as.numeric(pops)\n",
    "    }\n",
    "    \n",
    "    for (a in 2:npop) {\n",
    "        for (b in 1:(a - 1)) {\n",
    "            subdat <- dat[dat[, 1] == pops[a] | dat[, 1] == pops[b],\n",
    "                ]\n",
    "            popz <- subdat[,1]\n",
    "            fstmat[a, b] <- fstmat[b, a] <- wc(df2genind(subdat[,-1],sep=\":\",pop=popz), diploid = diploid)$FST\n",
    "#             fstmat[a, b] <- fstmat[b, a] <- wc(subdat, diploid = diploid)$FST\n",
    "        }\n",
    "    }\n",
    "    fstmat\n",
    "}\n",
    "pw <- pwFST(pg2gt)\n",
    "pw[-1,-3]"
   ]
  },
  {
   "cell_type": "code",
   "execution_count": null,
   "metadata": {},
   "outputs": [],
   "source": [
    "%%R\n",
    ".mean(pw[-1,-3])"
   ]
  },
  {
   "cell_type": "markdown",
   "metadata": {},
   "source": [
    "### FST for each treatment, with plots nested in tx"
   ]
  },
  {
   "cell_type": "code",
   "execution_count": null,
   "metadata": {},
   "outputs": [],
   "source": [
    "%%R\n",
    "rm(list=ls())\n",
    "source('~/imports.R')\n",
    "cd('/home/lindb/teakettle/postmoran/sumstats/hierf/RDS')\n",
    "library(adegenet)\n",
    "library(hierfstat)\n",
    "library(snow)\n",
    "pg   <- read.csv('/home/lindb/teakettle/postmoran/popgentx.txt',sep='\\t')\n",
    "pg   <- pg[which(pg[,'pop'] != 'us'),]\n",
    "loci <- colnames(pg)[-1]\n",
    "nuc <- loci[1:4]\n",
    "pg[,'plot'] <- substr(rownames(pg),3,3)\n",
    "pg[,'pop']  <- replace(pg[,'pop'], pg[,'pop']=='bc', 1)\n",
    "pg[,'pop']  <- replace(pg[,'pop'], pg[,'pop']=='uc', 2)\n",
    "pg[,'pop']  <- replace(pg[,'pop'], pg[,'pop']=='un', 3)\n",
    "pg <- pg[,c('pop','plot',nuc)]\n",
    "head(pg)"
   ]
  },
  {
   "cell_type": "code",
   "execution_count": null,
   "metadata": {},
   "outputs": [],
   "source": [
    "%%R\n",
    "print(uni(pg$pop))\n",
    "print(uni(pg$plot))"
   ]
  },
  {
   "cell_type": "code",
   "execution_count": null,
   "metadata": {},
   "outputs": [],
   "source": [
    "%%R\n",
    "bc <- pg[which(pg[,'pop']=='1'),-1]\n",
    "uc <- pg[which(pg[,'pop']=='2'),-1]\n",
    "un <- pg[which(pg[,'pop']=='3'),-1]\n",
    "print(c(nrow(bc),nrow(uc),nrow(un)))"
   ]
  },
  {
   "cell_type": "code",
   "execution_count": null,
   "metadata": {},
   "outputs": [],
   "source": [
    "%%R\n",
    "print(c(uni(bc[,'plot']),\n",
    "        uni(uc[,'plot']),\n",
    "        uni(un[,'plot'])\n",
    "       ))"
   ]
  },
  {
   "cell_type": "code",
   "execution_count": null,
   "metadata": {},
   "outputs": [],
   "source": [
    "%%R\n",
    "bcplots <- bc[,'plot']\n",
    "bch <- df2genind(bc[,-1],sep=\":\",pop=bcplots)\n",
    "# ucplots <- uc[which(uc[,'plot']!=1),'plot']\n",
    "# uch <- df2genind(uc[which(uc[,'plot']!=1),-1],sep=\":\",pop=ucplots)\n",
    "ucplots <- uc[,'plot']\n",
    "uch <- df2genind(uc[,-1],sep=\":\",pop=ucplots)\n",
    "unplots <- un[,'plot']\n",
    "unh <- df2genind(un[,-1],sep=\":\",pop=unplots)"
   ]
  },
  {
   "cell_type": "code",
   "execution_count": null,
   "metadata": {},
   "outputs": [],
   "source": [
    "%%R\n",
    "c(table(bcplots),table(ucplots),table(unplots))"
   ]
  },
  {
   "cell_type": "code",
   "execution_count": null,
   "metadata": {},
   "outputs": [],
   "source": [
    "%%R\n",
    "c(table(genind2df(bch)[,1]),\n",
    "  table(genind2df(uch)[,1]),\n",
    "  table(genind2df(unh)[,1]))"
   ]
  },
  {
   "cell_type": "code",
   "execution_count": null,
   "metadata": {},
   "outputs": [],
   "source": [
    "%%R\n",
    "c(table(genind2df(bch)[,1]),\n",
    "  table(genind2df(uch)[,1]),\n",
    "  table(genind2df(unh)[,1]))"
   ]
  },
  {
   "cell_type": "code",
   "execution_count": null,
   "metadata": {},
   "outputs": [],
   "source": [
    "%%R\n",
    "bcwc <- wc(bch)\n",
    "ucwc <- wc(uch)\n",
    "unwc <- wc(unh)"
   ]
  },
  {
   "cell_type": "code",
   "execution_count": null,
   "metadata": {},
   "outputs": [],
   "source": [
    "%%R\n",
    "names(bcwc)"
   ]
  },
  {
   "cell_type": "code",
   "execution_count": null,
   "metadata": {},
   "outputs": [],
   "source": [
    "%%R\n",
    "plotFST <- data.frame('FST'=rep('NA',3),'FIS'=rep('NA',3))\n",
    "plotFST[1,] <- c(bcwc$FST,bcwc$FIS)\n",
    "plotFST[2,] <- c(ucwc$FST,ucwc$FIS)\n",
    "plotFST[3,] <- c(unwc$FST,unwc$FIS)"
   ]
  },
  {
   "cell_type": "code",
   "execution_count": null,
   "metadata": {},
   "outputs": [],
   "source": [
    "plotFST = get_r_df('plotFST')\n",
    "for row in plotFST.index:\n",
    "    for col in plotFST.columns:\n",
    "        plotFST.loc[row,col] = round(float(plotFST.loc[row,col]),4)\n",
    "plotFST.index = ['bc','uc','un']\n",
    "plotFST"
   ]
  },
  {
   "cell_type": "markdown",
   "metadata": {},
   "source": [
    "# Exclusion probabilities"
   ]
  },
  {
   "cell_type": "code",
   "execution_count": null,
   "metadata": {},
   "outputs": [],
   "source": [
    "pg.head()"
   ]
  },
  {
   "cell_type": "code",
   "execution_count": null,
   "metadata": {},
   "outputs": [],
   "source": [
    "%%R\n",
    "# get parentage assignment\n",
    "DIR = '/home/lindb/teakettle/data/gibbs/first/end_of_cyc_files'\n",
    "f = readRDS(fname(DIR,'f.RDS'))\n",
    "m = readRDS(fname(DIR,'m.RDS'))\n",
    "DIR = '/home/lindb/teakettle/data/moran/dependencies/'\n",
    "bframe1 = readRDS(fname(DIR,'bframe1.RDS'))\n",
    "bframe2 = readRDS(fname(DIR,'bframe2.RDS'))\n",
    "geno = read.csv('/home/lindb/teakettle/data/moran/moran_infile_final_jan_wconecounts.txt',sep='\\t')\n",
    "head(geno)"
   ]
  },
  {
   "cell_type": "code",
   "execution_count": null,
   "metadata": {},
   "outputs": [],
   "source": [
    "%%R\n",
    "# get samp names\n",
    "adults <- bframe1[seq(1,nrow(bframe1),2),'samp']\n",
    "seedlings <- bframe2[seq(1,nrow(bframe2),2),'samp']"
   ]
  },
  {
   "cell_type": "code",
   "execution_count": null,
   "metadata": {},
   "outputs": [],
   "source": [
    "%%R\n",
    "adults[26]"
   ]
  },
  {
   "cell_type": "code",
   "execution_count": null,
   "metadata": {},
   "outputs": [],
   "source": [
    "# pull into python\n",
    "moms = get_r_df('m')\n",
    "dads = get_r_df('f')\n",
    "adults = get_r_df('adults')\n",
    "seedlings = get_r_df('seedlings')\n",
    "len(adults),len(seedlings)"
   ]
  },
  {
   "cell_type": "code",
   "execution_count": null,
   "metadata": {},
   "outputs": [],
   "source": [
    "# translate between row number and samp name\n",
    "adict = {}\n",
    "for row in adults.index:\n",
    "    adict[row] = adults.loc[row,0]\n",
    "sdict = {}\n",
    "for row in seedlings.index:\n",
    "    sdict[row] = seedlings.loc[row,0]\n",
    "adict[600] = 'out-of-plot'"
   ]
  },
  {
   "cell_type": "code",
   "execution_count": null,
   "metadata": {},
   "outputs": [],
   "source": [
    "adict[600]"
   ]
  },
  {
   "cell_type": "code",
   "execution_count": null,
   "metadata": {},
   "outputs": [],
   "source": [
    "# assign samp names to moms and dads\n",
    "moms.index = sdict.values()\n",
    "dads.index = sdict.values()\n",
    "momma = {}\n",
    "dadda = {}\n",
    "for row in moms.index.tolist():\n",
    "    momname = adict[moms.loc[row,0]]\n",
    "    moms.loc[row,0] = momname\n",
    "    momma[row] = momname\n",
    "    \n",
    "    dadname = adict[dads.loc[row,0]]\n",
    "    dads.loc[row,0] = dadname\n",
    "    dadda[row] = dadname"
   ]
  },
  {
   "cell_type": "code",
   "execution_count": null,
   "metadata": {},
   "outputs": [],
   "source": [
    "pg['mom'] = ''\n",
    "pg['dad'] = ''\n",
    "pg['OffID'] = pg.index.tolist()\n",
    "pg.head()"
   ]
  },
  {
   "cell_type": "code",
   "execution_count": null,
   "metadata": {},
   "outputs": [],
   "source": [
    "# fill in data\n",
    "for row in pg.index.tolist():\n",
    "    if row in seedlings[0].tolist():\n",
    "        pg.loc[row,'mom'] = momma[row]\n",
    "        pg.loc[row,'dad'] = dadda[row]\n",
    "    else:\n",
    "        pg.loc[row,'mom'] = '0'\n",
    "        pg.loc[row,'dad'] = '0'"
   ]
  },
  {
   "cell_type": "code",
   "execution_count": null,
   "metadata": {},
   "outputs": [],
   "source": [
    "pg.head()"
   ]
  },
  {
   "cell_type": "code",
   "execution_count": null,
   "metadata": {},
   "outputs": [],
   "source": [
    "DIR = '/home/lindb/teakettle/postmoran/moran_analysis'\n",
    "if not op.exists(DIR):\n",
    "    mkdir(DIR)\n",
    "pg.to_csv(op.join(DIR,'assignments.txt'),sep=\"\\t\",index=True,header=True)\n",
    "pg2 = pd.read_csv(op.join(DIR,'assignments.txt'),header=0,index_col=0,sep=\"\\t\")\n",
    "pg2.head()"
   ]
  },
  {
   "cell_type": "code",
   "execution_count": null,
   "metadata": {},
   "outputs": [],
   "source": [
    "# get a dataframe for adults\n",
    "adultdf = pg[pg['mom']=='0'].copy()\n",
    "adultdf.head()"
   ]
  },
  {
   "cell_type": "code",
   "execution_count": null,
   "metadata": {},
   "outputs": [],
   "source": [
    "# get a dataframe for seedlings\n",
    "seeddf = pg[pg['mom'] != '0'].copy()\n",
    "seeddf.head()"
   ]
  },
  {
   "cell_type": "code",
   "execution_count": null,
   "metadata": {},
   "outputs": [],
   "source": [
    "def freqs(df,All='all',loci=loci):\n",
    "    assert All in ['nuc','all','chloro']\n",
    "    if All=='nuc':\n",
    "        loci = sorted(loci)[3:]\n",
    "    elif All=='chloro':\n",
    "        loci = sorted(loci)[:3]\n",
    "    af = {}\n",
    "    af['Locus'] = {}\n",
    "    af['Allele'] = {}\n",
    "    af['Freq'] = {}\n",
    "    count = 0\n",
    "    for locus in loci:\n",
    "        gts = [g for g in df[locus].tolist() if type(g)==str]\n",
    "        allAs = [l for x in gts for l in x.split(\":\")]\n",
    "        for a in uni(allAs):\n",
    "            af['Locus'][count] = locus\n",
    "            af['Allele'][count] = a\n",
    "            af['Freq'][count] = allAs.count(a)/len(allAs)\n",
    "            count += 1\n",
    "    af = pd.DataFrame(af)\n",
    "    af = af.loc[:,['Locus','Allele','Freq']]\n",
    "    return af\n",
    "def get_excl(data):\n",
    "    fp = 0\n",
    "    sp = 0\n",
    "    data.index = [str(x) for x in range(len(data.index))]\n",
    "    ind = data.index.tolist()\n",
    "    l = len(ind)\n",
    "#     return (ind,l)\n",
    "    for rowi,i in enumerate(ind):\n",
    "        pi = data['Freq'][rowi]\n",
    "        fp = fp + pi * (1 - pi)**2\n",
    "        for rowj,j in enumerate(ind):\n",
    "            if i != j:\n",
    "                pj = data['Freq'][rowj]\n",
    "                sp = sp + pi**2 * pj**2 * (4 - 3 * pi - 3 * pj)\n",
    "    Pexcl = (fp - 0.5 * sp)\n",
    "    PexclMax = 1 - (2 * l**3 + l**2 - 5 * l + 3)/l**4\n",
    "    return (Pexcl,PexclMax)     \n",
    "def exclusion_prob(f):\n",
    "    loci = uni(f['Locus'])\n",
    "    ret = {}\n",
    "    count = 0\n",
    "    ret['Locus'] = {}\n",
    "    ret['Pexcl'] = {}\n",
    "    ret['PexclMax'] = {}\n",
    "    ret['Fraction'] = {}\n",
    "    for locus in loci:\n",
    "        data = f[f['Locus'] == locus].copy()\n",
    "#         return data\n",
    "        (Pexcl,PexclMax) = get_excl(pd.DataFrame(data))\n",
    "#         return (Pexcl,PexclMax)\n",
    "        ret['Locus'][count] = locus\n",
    "        ret['Pexcl'][count] = Pexcl\n",
    "        ret['PexclMax'][count] = PexclMax\n",
    "        ret['Fraction'][count] = Pexcl/PexclMax\n",
    "        count += 1\n",
    "    ret = pd.DataFrame(ret)\n",
    "    ret = ret.loc[:,['Locus','Pexcl','PexclMax','Fraction']]\n",
    "    return pd.DataFrame(ret)\n",
    "def multexcl(df):\n",
    "    assert 'Pexcl' in df.columns.tolist()\n",
    "    omin = [1-float(x) for x in df['Pexcl'].tolist()]\n",
    "    prod = np.prod(omin)\n",
    "    pmult = 1 - prod\n",
    "    return pmult"
   ]
  },
  {
   "cell_type": "code",
   "execution_count": null,
   "metadata": {},
   "outputs": [],
   "source": [
    "# afs = freqs(pg)\n",
    "adultsfreqs = freqs(adultdf)\n",
    "afreqsnuc   = freqs(adultdf,All='nuc')\n",
    "afreqschl   = freqs(adultdf,All='chloro')"
   ]
  },
  {
   "cell_type": "code",
   "execution_count": null,
   "metadata": {},
   "outputs": [],
   "source": [
    "# probability of exclusion for each locus\n",
    "allexcl = exclusion_prob(adultsfreqs)\n",
    "allexcl # chloro- and nuc-specific excl probabilities won't change from this below"
   ]
  },
  {
   "cell_type": "code",
   "execution_count": null,
   "metadata": {},
   "outputs": [],
   "source": [
    "# multilocus exclusion probability\n",
    "pmult = multexcl(allexcl)\n",
    "pmult"
   ]
  },
  {
   "cell_type": "code",
   "execution_count": null,
   "metadata": {},
   "outputs": [],
   "source": [
    "# look at nuclear exclusion probability\n",
    "nucexcl = exclusion_prob(afreqsnuc)\n",
    "nucmult = multexcl(nucexcl)\n",
    "nucmult"
   ]
  },
  {
   "cell_type": "code",
   "execution_count": null,
   "metadata": {},
   "outputs": [],
   "source": [
    "# look at chloro exclusion probability\n",
    "chlexcl = exclusion_prob(afreqschl)\n",
    "chlmult = multexcl(chlexcl)\n",
    "chlmult"
   ]
  },
  {
   "cell_type": "code",
   "execution_count": null,
   "metadata": {},
   "outputs": [],
   "source": [
    "[x for x in dir() if not str.startswith(x,'_')]"
   ]
  },
  {
   "cell_type": "markdown",
   "metadata": {},
   "source": [
    "# prob of pedigree vs missing data"
   ]
  },
  {
   "cell_type": "code",
   "execution_count": null,
   "metadata": {},
   "outputs": [],
   "source": [
    "f = '/home/lindb/teakettle/postmoran/moran_analysis/pars.pkl'\n",
    "par = pickle.load(open(f))\n",
    "f = '/home/lindb/teakettle/postmoran/moran_analysis/adults.pkl'\n",
    "As = pickle.load(open(f))"
   ]
  },
  {
   "cell_type": "code",
   "execution_count": null,
   "metadata": {},
   "outputs": [],
   "source": [
    "pg.head()"
   ]
  },
  {
   "cell_type": "code",
   "execution_count": null,
   "metadata": {},
   "outputs": [],
   "source": [
    "pg.loc[samp,loci].tolist().count(np.nan)"
   ]
  },
  {
   "cell_type": "code",
   "execution_count": null,
   "metadata": {},
   "outputs": [],
   "source": [
    "# calculate missing data\n",
    "ms = {}\n",
    "for samp in pg.index:\n",
    "    ms[samp] = pg.loc[samp,loci].tolist().count(np.nan)"
   ]
  },
  {
   "cell_type": "code",
   "execution_count": null,
   "metadata": {},
   "outputs": [],
   "source": [
    "missing = []\n",
    "probs = []\n",
    "for seed in par:\n",
    "    df = par[seed].copy()\n",
    "    df.loc[:,'mom'] = [As[int(x)] for x in df['mom'].tolist()]\n",
    "    df.loc[:,'dad'] = [As[int(x)] for x in df['dad'].tolist()]\n",
    "    df = df[df['mom'].isin(adults[0].tolist())].copy()\n",
    "    df = df[df['dad'].isin(adults[0].tolist())].copy()\n",
    "    if nrow(df) > 1:\n",
    "        mom,dad,prob = df.loc[df.prob.idxmax(),:]\n",
    "        m = sum([ms[mom],ms[dad],ms[seed]])/21\n",
    "        missing.append(m)\n",
    "        probs.append(prob)"
   ]
  },
  {
   "cell_type": "code",
   "execution_count": null,
   "metadata": {},
   "outputs": [],
   "source": [
    "plt.scatter(missing,probs)\n",
    "plt.xlabel('Missing data')\n",
    "plt.ylabel('Probability')"
   ]
  },
  {
   "cell_type": "code",
   "execution_count": null,
   "metadata": {},
   "outputs": [],
   "source": [
    "len(np.arange(5))"
   ]
  },
  {
   "cell_type": "code",
   "execution_count": null,
   "metadata": {},
   "outputs": [],
   "source": [
    "slope, intercept, r_value, p_value, std_err = stats.linregress(missing,probs)\n",
    "xi = np.arange(0,len(missing))\n",
    "A = np.array([xi,np.ones(len(missing))])\n",
    "line = slope*xi+intercept\n",
    "plt.plot(missing,probs,'o',missing,line)"
   ]
  },
  {
   "cell_type": "code",
   "execution_count": null,
   "metadata": {},
   "outputs": [],
   "source": [
    "slope"
   ]
  },
  {
   "cell_type": "code",
   "execution_count": null,
   "metadata": {},
   "outputs": [],
   "source": []
  },
  {
   "cell_type": "code",
   "execution_count": null,
   "metadata": {},
   "outputs": [],
   "source": []
  },
  {
   "cell_type": "code",
   "execution_count": null,
   "metadata": {},
   "outputs": [],
   "source": []
  },
  {
   "cell_type": "code",
   "execution_count": null,
   "metadata": {},
   "outputs": [],
   "source": [
    "xs = [x*2 for x in range(20)]\n",
    "ys = [y for y in range(20)]\n",
    "plt.scatter(xs,ys)"
   ]
  },
  {
   "cell_type": "code",
   "execution_count": null,
   "metadata": {},
   "outputs": [],
   "source": []
  }
 ],
 "metadata": {
  "kernelspec": {
   "display_name": "Python 2",
   "language": "python",
   "name": "python2"
  },
  "language_info": {
   "codemirror_mode": {
    "name": "ipython",
    "version": 2
   },
   "file_extension": ".py",
   "mimetype": "text/x-python",
   "name": "python",
   "nbconvert_exporter": "python",
   "pygments_lexer": "ipython2",
   "version": "2.7.13"
  }
 },
 "nbformat": 4,
 "nbformat_minor": 2
}
