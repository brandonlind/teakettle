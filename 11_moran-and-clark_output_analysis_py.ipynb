{
 "cells": [
  {
   "cell_type": "markdown",
   "metadata": {},
   "source": [
    "imp = open('/home/lindb/pythonimports.py').read()\n",
    "exec(imp)\n",
    "from __future__ import division\n",
    "%matplotlib inline "
   ]
  },
  {
   "cell_type": "markdown",
   "metadata": {},
   "source": [
    "##### R magic voodoo"
   ]
  },
  {
   "cell_type": "code",
   "execution_count": null,
   "metadata": {},
   "outputs": [],
   "source": [
    "### set up R\n",
    "def setup_r(): \n",
    "    os.environ['R_HOME'] = '/home/lindb/g/R3/lib64/R/' \n",
    "    os.environ['LD_LIBRARY_PATH'] = \"%s/lib:%s\" % (os.environ['R_HOME'], \n",
    "                                                   os.environ['LD_LIBRARY_PATH'])\n",
    "setup_r()\n",
    "import readline\n",
    "import rpy2.robjects as robjects\n",
    "from rpy2.robjects import pandas2ri as pd2ri\n",
    "pd2ri.activate()\n",
    "r = robjects.r\n",
    "%reload_ext autoreload\n",
    "%autoreload 2\n",
    "%matplotlib inline\n",
    "%load_ext rpy2.ipython\n",
    "%matplotlib inline"
   ]
  },
  {
   "cell_type": "code",
   "execution_count": null,
   "metadata": {},
   "outputs": [],
   "source": [
    "%%R\n",
    "source('/home/lindb/imports.R')\n",
    "sessionInfo()"
   ]
  },
  {
   "cell_type": "code",
   "execution_count": null,
   "metadata": {},
   "outputs": [],
   "source": [
    "def get_r_series(key):\n",
    "    s = pd.Series(get_r(key))\n",
    "    s.index = get_r(\"names(%s)\" % key)\n",
    "    return s\n",
    "\n",
    "def get_r_df(key):\n",
    "    df = pd.DataFrame(get_r(key))\n",
    "    try:\n",
    "        rname = get_r(\"rownames(%s)\" % key)\n",
    "        df.index = rname\n",
    "    except:\n",
    "        pass\n",
    "    \n",
    "    try:\n",
    "        cname = get_r(\"colnames(%s)\" % key)\n",
    "        df.columns = cname\n",
    "    except:\n",
    "        pass\n",
    "    return df\n",
    "\n",
    "def get_r(key):\n",
    "    return r(key)"
   ]
  },
  {
   "cell_type": "markdown",
   "metadata": {},
   "source": [
    "##### dependencies"
   ]
  },
  {
   "cell_type": "code",
   "execution_count": null,
   "metadata": {},
   "outputs": [],
   "source": [
    "pg = pd.read_csv('/home/lindb/teakettle/postmoran/moran_analysis/assignments.txt',index_col=0,sep='\\t')\n",
    "pg.head()"
   ]
  },
  {
   "cell_type": "code",
   "execution_count": null,
   "metadata": {},
   "outputs": [],
   "source": [
    "geno = pd.read_csv('/home/lindb/teakettle/data/moran/moran_infile_final_jan_wconecounts.txt',header=0,sep='\\t')\n",
    "geno = geno[geno.columns[:6]]\n",
    "geno = geno.loc[np.arange(0,nrow(geno),2),:]\n",
    "geno.index = geno['samp'].tolist()\n",
    "geno = geno[geno.columns[1:]]\n",
    "geno.head()"
   ]
  },
  {
   "cell_type": "code",
   "execution_count": null,
   "metadata": {},
   "outputs": [],
   "source": [
    "# combine data\n",
    "comb = pd.merge(pg,geno,left_index=True,right_index=True)\n",
    "comb.head()"
   ]
  },
  {
   "cell_type": "code",
   "execution_count": null,
   "metadata": {},
   "outputs": [],
   "source": [
    "dbh = {}\n",
    "for samp in comb.index:\n",
    "    dbh[samp] = comb['dbh_11'][samp]"
   ]
  },
  {
   "cell_type": "code",
   "execution_count": null,
   "metadata": {},
   "outputs": [],
   "source": [
    "comb.to_csv('/home/lindb/teakettle/postmoran/moran_analysis/infile_gts_combined.txt',header=True,sep='\\t')"
   ]
  },
  {
   "cell_type": "code",
   "execution_count": null,
   "metadata": {},
   "outputs": [],
   "source": [
    "comb = pd.read_csv('/home/lindb/teakettle/postmoran/moran_analysis/infile_gts_combined.txt',header=0,index_col=0,sep='\\t')\n",
    "comb.head()"
   ]
  },
  {
   "cell_type": "code",
   "execution_count": null,
   "metadata": {},
   "outputs": [],
   "source": [
    "comb.loc['uc3_new076',['mom','dad']]"
   ]
  },
  {
   "cell_type": "code",
   "execution_count": null,
   "metadata": {},
   "outputs": [],
   "source": [
    "%%R\n",
    "# read into R\n",
    "par.mat <- readRDS('/home/lindb/teakettle/data/gibbs/first/end_of_cyc_files/par.mat.RDS')\n",
    "bframe1 = readRDS('/home/lindb/teakettle/data/moran/dependencies/bframe1.RDS')\n",
    "bframe2 = readRDS('/home/lindb/teakettle/data/moran/dependencies/bframe2.RDS')\n",
    "adults <- bframe1[seq(1,nrow(bframe1),2),'samp']\n",
    "seedlings <- bframe2[seq(1,nrow(bframe2),2),'samp']"
   ]
  },
  {
   "cell_type": "markdown",
   "metadata": {},
   "source": [
    "# look at fractional parentage using assignment probabilities from moran & clark cycles"
   ]
  },
  {
   "cell_type": "code",
   "execution_count": null,
   "metadata": {},
   "outputs": [],
   "source": [
    "DIR = '/home/lindb/teakettle/postmoran/moran_analysis/seedout'\n",
    "if not op.exists(DIR):\n",
    "    mkdir(DIR)"
   ]
  },
  {
   "cell_type": "code",
   "execution_count": null,
   "metadata": {},
   "outputs": [],
   "source": [
    "%%R\n",
    "# get all potential parents\n",
    "DIR = '/home/lindb/teakettle/postmoran/moran_analysis/seedout'\n",
    "for (k in 1:len(par.mat)){\n",
    "    # get df with all non-zero probs\n",
    "    whiches = which(par.mat[[k]] != 0,arr.ind=T)\n",
    "    df = data.frame(whiches)\n",
    "    colnames(df) = c('mom','dad') # mom and dad columns\n",
    "    stopifnot(round(sum(par.mat[[k]][whiches]),2) == 1)\n",
    "    df[,'prob'] = par.mat[[k]][whiches] # add probs\n",
    "    # save df\n",
    "    sname = seedlings[k]\n",
    "    write.table(df,fname(DIR,sprintf(\"%s.txt\",sname)),sep='\\t',row.names=F)\n",
    "}"
   ]
  },
  {
   "cell_type": "code",
   "execution_count": null,
   "metadata": {},
   "outputs": [],
   "source": [
    "# translate num to samp name\n",
    "As = get_r_df('adults')\n",
    "As.loc[599] = 'out-of-plot'\n",
    "adults = {}\n",
    "for row in As.index:\n",
    "    adults[row+1] = As[0][row]\n",
    "Ss = get_r_df('seedlings')\n",
    "seeds = {}\n",
    "for row in Ss.index:\n",
    "    seeds[row+1] = Ss[0][row]"
   ]
  },
  {
   "cell_type": "code",
   "execution_count": null,
   "metadata": {},
   "outputs": [],
   "source": [
    "# for each seedling get a df with potential parents with probabilities\n",
    "DIR = '/home/lindb/teakettle/postmoran/moran_analysis/seedout'\n",
    "pars = {}\n",
    "for f in fs(DIR):\n",
    "    samp = op.basename(f).split(\".txt\")[0]\n",
    "    df = pd.read_csv(f,sep='\\t')\n",
    "    pars[samp] = df"
   ]
  },
  {
   "cell_type": "code",
   "execution_count": null,
   "metadata": {},
   "outputs": [],
   "source": [
    "pkldump(pars,'/home/lindb/teakettle/postmoran/moran_analysis/pars.pkl')"
   ]
  },
  {
   "cell_type": "code",
   "execution_count": null,
   "metadata": {},
   "outputs": [],
   "source": [
    "pkldump(adults,'/home/lindb/teakettle/postmoran/moran_analysis/adults.pkl')"
   ]
  },
  {
   "cell_type": "code",
   "execution_count": null,
   "metadata": {},
   "outputs": [],
   "source": [
    "pars = pickle.load(open('/home/lindb/teakettle/postmoran/moran_analysis/pars.pkl'))"
   ]
  },
  {
   "cell_type": "code",
   "execution_count": null,
   "metadata": {},
   "outputs": [],
   "source": [
    "adults = pickle.load(open('/home/lindb/teakettle/postmoran/moran_analysis/adults.pkl'))"
   ]
  },
  {
   "cell_type": "code",
   "execution_count": null,
   "metadata": {},
   "outputs": [],
   "source": [
    "pars[samp].head(),sum(pars[samp]['prob'])"
   ]
  },
  {
   "cell_type": "code",
   "execution_count": null,
   "metadata": {},
   "outputs": [],
   "source": [
    "# look at distribution of max probabilities\n",
    "maxs = []\n",
    "for samp in pars.keys():\n",
    "    maxs.append(pars[samp]['prob'].max())\n",
    "plt.hist(maxs)"
   ]
  },
  {
   "cell_type": "code",
   "execution_count": null,
   "metadata": {},
   "outputs": [],
   "source": [
    "# how does the probabilities shake out over probability classes?\n",
    "sums = len(maxs)\n",
    "for thresh in np.arange(0,1,.1):\n",
    "    l = len([x for x in maxs if x > thresh])\n",
    "    sums +- l\n",
    "    print thresh,l\n",
    "sums"
   ]
  },
  {
   "cell_type": "code",
   "execution_count": null,
   "metadata": {},
   "outputs": [],
   "source": [
    "# replicate moran's method of IDing most likely father/mother pair\n",
    "mothers = []\n",
    "fathers = []\n",
    "for samp in pars:\n",
    "    row,col,probidx = pars[samp].idxmax()\n",
    "    row,col,prob = pars[samp].loc[probidx,:]\n",
    "    mothers.append(row)\n",
    "    fathers.append(col)"
   ]
  },
  {
   "cell_type": "code",
   "execution_count": null,
   "metadata": {},
   "outputs": [],
   "source": [
    "# check and compare to table(m) from 06a...ipynb\n",
    "t = table(mothers)\n",
    "t"
   ]
  },
  {
   "cell_type": "code",
   "execution_count": null,
   "metadata": {},
   "outputs": [],
   "source": [
    "# check and compare using samp names\n",
    "# print mother samp name, noff, mother dbh\n",
    "for k,v in t.iteritems():\n",
    "    if adults[int(k)] == 'out-of-plot':\n",
    "        print '\\t',adults[int(k)],v\n",
    "    else:\n",
    "        print adults[int(k)],v, dbh[adults[int(k)]]"
   ]
  },
  {
   "cell_type": "code",
   "execution_count": null,
   "metadata": {},
   "outputs": [],
   "source": [
    "# check and compare to table(f) from 06a...ipynb\n",
    "t2 = table(fathers)\n",
    "t2"
   ]
  },
  {
   "cell_type": "code",
   "execution_count": null,
   "metadata": {},
   "outputs": [],
   "source": [
    "# print father samp name, noff, father dbh\n",
    "for k,v in t2.iteritems():\n",
    "    if adults[int(k)] == 'out-of-plot':\n",
    "        print '\\t',adults[int(k)],v\n",
    "    else:\n",
    "        print adults[int(k)],v, dbh[adults[int(k)]]"
   ]
  },
  {
   "cell_type": "code",
   "execution_count": null,
   "metadata": {},
   "outputs": [],
   "source": [
    "# make sure each df['prob'] sums to 1.0\n",
    "for samp in pars:\n",
    "    assert \"%.2f\" % sum(pars[samp]['prob'].tolist()) == '1.00'"
   ]
  },
  {
   "cell_type": "code",
   "execution_count": null,
   "metadata": {},
   "outputs": [],
   "source": [
    "pars[samp].head()"
   ]
  },
  {
   "cell_type": "code",
   "execution_count": null,
   "metadata": {},
   "outputs": [],
   "source": [
    "# create blank dataframe\n",
    "momheat = OrderedDict()\n",
    "dadheat = OrderedDict()\n",
    "for adult in adults.values():\n",
    "    momheat[adult] = OrderedDict()\n",
    "    dadheat[adult] = OrderedDict()\n",
    "    for juv in seeds.values():\n",
    "        momheat[adult][juv] = float(0.0)\n",
    "        dadheat[adult][juv] = float(0.0)\n",
    "# fill in non-zero probability values\n",
    "for samp in pars:\n",
    "    for idx in pars[samp].index:\n",
    "        mom,dad,prob = pars[samp].loc[idx,]\n",
    "        mom = adults[int(mom)]\n",
    "        dad = adults[int(dad)]\n",
    "        if momheat[mom][samp] == 0.0:\n",
    "            momheat[mom][samp] = float(prob)\n",
    "        else:\n",
    "            momheat[mom][samp] += float(prob)\n",
    "        if dadheat[dad][samp] == 0.0:\n",
    "            dadheat[dad][samp] = float(prob)\n",
    "        else:\n",
    "            dadheat[dad][samp] += float(prob)"
   ]
  },
  {
   "cell_type": "code",
   "execution_count": null,
   "metadata": {},
   "outputs": [],
   "source": [
    "DIR = '/home/lindb/teakettle/postmoran/moran_analysis/heat'\n",
    "if not op.exists(DIR):\n",
    "    mkdir(DIR)\n",
    "mh = pd.DataFrame(momheat)\n",
    "mh.to_csv(op.join(DIR,'momheat.txt'),sep='\\t')\n",
    "dh = pd.DataFrame(dadheat)\n",
    "dh.to_csv(op.join(DIR,'dadheat.txt'),sep='\\t')"
   ]
  },
  {
   "cell_type": "code",
   "execution_count": null,
   "metadata": {},
   "outputs": [],
   "source": [
    "mh.head()"
   ]
  },
  {
   "cell_type": "code",
   "execution_count": null,
   "metadata": {},
   "outputs": [],
   "source": [
    "head(dh)"
   ]
  },
  {
   "cell_type": "code",
   "execution_count": null,
   "metadata": {},
   "outputs": [],
   "source": [
    "# assert probs sum to 1\n",
    "for row in dh.index:\n",
    "    assert round(sum(dh.loc[row,:].tolist()),2) == 1"
   ]
  },
  {
   "cell_type": "code",
   "execution_count": null,
   "metadata": {},
   "outputs": [],
   "source": [
    "# assert probs sum to 1\n",
    "for row in mh.index:\n",
    "    assert round(sum(mh.loc[row,:].tolist()),2) == 1"
   ]
  },
  {
   "cell_type": "code",
   "execution_count": null,
   "metadata": {},
   "outputs": [],
   "source": [
    "%%R\n",
    "# prep matrices for heatmap\n",
    "mom = read.csv('~/teakettle/postmoran/moran_analysis/heat/momheat.txt',sep='\\t',stringsAsFactors=F)\n",
    "rownames(mom) <- mom$X\n",
    "seedlings <- rownames(mom)\n",
    "adults <- colnames(mom)\n",
    "mom <- mom[,-1]\n",
    "dad = read.csv('/home/lindb/teakettle/postmoran/moran_analysis/heat/dadheat.txt',sep='\\t',stringsAsFactors=F)\n",
    "rownames(dad) <- dad$X\n",
    "dad <- dad[,-1]\n",
    "m = as.matrix(mom)\n",
    "d = as.matrix(dad)\n",
    "# log transform non-zero values\n",
    "whiches    = which(m != 0)\n",
    "m[whiches] = log(m[whiches],base=10) #,base=10\n",
    "whiches    = which(d != 0)\n",
    "d[whiches] = log(d[whiches],base=10)"
   ]
  },
  {
   "cell_type": "code",
   "execution_count": null,
   "metadata": {},
   "outputs": [],
   "source": [
    "%%R\n",
    "# determine abline locations\n",
    "# which seedlings belong to which treatments\n",
    "bcs = which(grepl('bc',seedlings) == T)\n",
    "ucs = which(grepl('uc',seedlings) == T)\n",
    "uns = which(grepl('un',seedlings) == T)\n",
    "bcseedline = max(bcs) # border line\n",
    "ucseedline = max(ucs) # border line\n",
    "# which adults belong to which treatments\n",
    "abc = which(grepl('bc',adults) == T)\n",
    "auc = which(grepl('uc',adults) == T)\n",
    "aun = which(grepl('un',adults) == T)\n",
    "bcad = max(abc)\n",
    "ucad = max(auc)\n",
    "# was going to use this to label margins, but will just do this in Illustrator\n",
    "bcsat = (diff(range(bcs))/2)+min(bcs)\n",
    "ucsat = (diff(range(ucs))/2)+min(ucs)\n",
    "unsat = (diff(range(uns))/2)+min(uns)\n",
    "abcat = (diff(range(abc))/2)+min(abc)\n",
    "aucat = (diff(range(auc))/2)+min(auc)\n",
    "aunat = (diff(range(aun))/2)+min(aun)"
   ]
  },
  {
   "cell_type": "code",
   "execution_count": null,
   "metadata": {},
   "outputs": [],
   "source": [
    "%%R\n",
    "# plot heatmap for fractional parentage for seedling assignment to a given mother tree\n",
    "#pdf('/home/lindb/teakettle/postmoran/figs/momheat.pdf')\n",
    "my_palette <- colorRampPalette(rev(c(\"black\",\"red\",\"orange\",\"yellow\",\"white\")))(n = 499)\n",
    "heatmap(m,col=my_palette,Rowv=NA,Colv=NA,scale=\"none\",\n",
    "        labRow=FALSE,labCol=FALSE,xlab=\"Mothers\",ylab=\"Seedlings\",margins=c(2,2),\n",
    "        add.expr = abline(h=c(bcseedline,ucseedline), v=c(bcad,ucad),lwd=.75,col=\"white\")\n",
    "       )\n",
    "#dev.off()"
   ]
  },
  {
   "cell_type": "code",
   "execution_count": null,
   "metadata": {},
   "outputs": [],
   "source": [
    "%%R\n",
    "# plot heatmap for fractional parentage for seedling assignment to a given father tree\n",
    "#pdf('/home/lindb/teakettle/postmoran/figs/dadheat.pdf')\n",
    "heatmap(d,col=my_palette,Rowv=NA,Colv=NA,scale=\"none\",\n",
    "        labRow=FALSE,labCol=FALSE,xlab=\"Fathers\",ylab=\"Seedlings\",margins=c(4,4),\n",
    "        add.expr = abline(h=c(bcseedline,ucseedline), v=c(bcad,ucad),lwd=.75,col=\"white\")\n",
    "       )\n",
    "mtext(c('bc','uc','un'),side=2,at=c(bcsat,ucsat,unsat))\n",
    "#dev.off()"
   ]
  },
  {
   "cell_type": "code",
   "execution_count": null,
   "metadata": {},
   "outputs": [],
   "source": [
    "%%R\n",
    "# make sure partitions are where I expect them to be\n",
    "lapply(list(bcs,ucs,uns),FUN=len)"
   ]
  },
  {
   "cell_type": "code",
   "execution_count": null,
   "metadata": {},
   "outputs": [],
   "source": [
    "%%R\n",
    "# make sure partitions are where I expect them to be\n",
    "lapply(list(abc,auc,aun),FUN=len)"
   ]
  },
  {
   "cell_type": "code",
   "execution_count": null,
   "metadata": {},
   "outputs": [],
   "source": [
    "# triple check blocking of figure"
   ]
  },
  {
   "cell_type": "markdown",
   "metadata": {},
   "source": [
    "# ideas to test"
   ]
  },
  {
   "cell_type": "markdown",
   "metadata": {},
   "source": [
    "* compare all below by treatment and between seeds/pollen (mom to seed, father to seed, father to mother)\n",
    "\n",
    "\n",
    "1. mean dispersal distance within treatment \n",
    "    1. father to seed could be an 'extended/effective dispersal'\n",
    "1. mean dispersal distance out of treatment - but how to account for proximity of other plots?\n",
    "    1. can address concern with permutations\n",
    "1. number of out of plot dispersals \n",
    "    1. may be able to account for prox of plots by lumping 'unknown parents' and 'out-of-plot' parents\n",
    "1. ratio of within to without \n",
    "    1. number of dispersals\n",
    "    1. distances of dispersals\n",
    "\n",
    "\n",
    "* using vector of potential parents (PP)\n",
    "\n",
    "\n",
    "1. mean number of PPs within treatment\n",
    "1. mean number of PPs outside of treatment\n",
    "1. also by weighting PP by prob"
   ]
  },
  {
   "cell_type": "markdown",
   "metadata": {},
   "source": [
    "### dependencies"
   ]
  },
  {
   "cell_type": "code",
   "execution_count": null,
   "metadata": {},
   "outputs": [],
   "source": [
    "# transpose dataframes so I can more easily access fractional parentage by key=seedling.ID\n",
    "dhtrans = dh.transpose()\n",
    "mhtrans = mh.transpose()"
   ]
  },
  {
   "cell_type": "code",
   "execution_count": null,
   "metadata": {},
   "outputs": [],
   "source": [
    "dhtrans.head()"
   ]
  },
  {
   "cell_type": "code",
   "execution_count": null,
   "metadata": {},
   "outputs": [],
   "source": [
    "comb.head()"
   ]
  },
  {
   "cell_type": "code",
   "execution_count": null,
   "metadata": {},
   "outputs": [],
   "source": [
    "# get utm coordinates for each sample\n",
    "utm = {}\n",
    "for samp in comb.index.tolist():\n",
    "    utm[samp] = [comb['xutm'][samp],\n",
    "                 comb['yutm'][samp]]"
   ]
  },
  {
   "cell_type": "code",
   "execution_count": null,
   "metadata": {},
   "outputs": [],
   "source": [
    "def collapsedf(df,par):\n",
    "    # sum probs for a given mom or dad if they appear in more than one pedigree\n",
    "    # don't actually need this, but oh well\n",
    "    if nrow(df) == 0:\n",
    "        return df\n",
    "    df2 = OrderedDict()\n",
    "    for x in ['mom','dad','prob']:\n",
    "        df2[x] = OrderedDict()\n",
    "    if par == 'mom':\n",
    "        col = df.columns[0]\n",
    "        seedcol = df.columns[1]\n",
    "    else:\n",
    "        col = df.columns[1]\n",
    "        seedcol = df.columns[0]\n",
    "    assert luni(df[seedcol]) == 1\n",
    "    seed = uni(df[seedcol])[0]\n",
    "    if luni(df[col]) == nrow(df):\n",
    "        return df\n",
    "    else:\n",
    "        count = 0\n",
    "        df2[col] = OrderedDict()\n",
    "        df2[seedcol] = OrderedDict()\n",
    "        df2['prob'] = OrderedDict()\n",
    "        for p in uni(df[col]):\n",
    "            d = df[df[col]==p].copy()\n",
    "            sums = sum(d['prob'])\n",
    "            df2[col][count] = p\n",
    "            df2[seedcol][count] = seed\n",
    "            df2['prob'][count] = sums\n",
    "            count += 1\n",
    "    return pd.DataFrame(df2)\n",
    "def distance(i1 ,i2):\n",
    "    # euclidean distance\n",
    "    xdiff = (utm[i1][0] - utm[i2][0])**2\n",
    "    ydiff = (utm[i1][1] - utm[i2][1])**2\n",
    "    return np.sqrt(xdiff+ydiff)\n",
    "def wtd_dist(seed,par,bytx=False,without=False,byplot=False,bynum=False,weights=False):\n",
    "    # weight par-off or mother-father distances by probability of parentage\n",
    "    df = pars[seed].copy()\n",
    "    if par == 'mom':\n",
    "        df = df[df['mom'] != 600].copy()\n",
    "        df.loc[:,'mom'] = [adults[int(x)] for x in df['mom']]\n",
    "        df.loc[:,'dad'] = [seed for x in range(len(df))]\n",
    "        df = collapsedf(df,'mom')\n",
    "    elif par == 'dad':\n",
    "        df = df[df['dad'] != 600].copy()\n",
    "        df.loc[:,'dad'] = [adults[int(x)] for x in df['dad']]\n",
    "        df.loc[:,'mom'] = [seed for x in range(len(df))]\n",
    "        df = collapsedf(df,'dad')\n",
    "    else:\n",
    "        df = df[df['mom'] != 600].copy()\n",
    "        df = df[df['dad'] != 600].copy()\n",
    "        df.loc[:,'mom'] = [adults[int(x)] for x in df['mom'].tolist()]\n",
    "        df.loc[:,'dad'] = [adults[int(x)] for x in df['dad'].tolist()] \n",
    "#        return df\n",
    "    if bytx == True or byplot == True:\n",
    "        if bytx:\n",
    "            tx = seed[:2]\n",
    "            Dict = txsamps\n",
    "        if byplot:\n",
    "            tx = seed[:3]\n",
    "            Dict = plotsamps\n",
    "#         if luni(df['mom']) == 1: # but what about nrow(df) == 1\n",
    "        if par == 'mom':\n",
    "            cols = ['mom']\n",
    "#         elif luni(df['dad']) == 1:\n",
    "        elif par == 'dad':\n",
    "            cols = ['dad']\n",
    "        else:\n",
    "            cols = ['mom','dad']\n",
    "        for col in cols:\n",
    "            if without == False: # if only looking at samps within the tx/plot\n",
    "                df = df[df[col].isin(Dict[tx])].copy()\n",
    "            else:\n",
    "                df = df[df[col].isin(Dict[tx])==False].copy()\n",
    "    if bynum == True:\n",
    "        if weights == False:\n",
    "            return(nrow(df))\n",
    "        else:\n",
    "            probsum = sum(df['prob'])\n",
    "            return [nrow(df),probsum]\n",
    "    if nrow(df) == 0:\n",
    "        return 'NA'\n",
    "    sums = 0\n",
    "    probsum = sum(df['prob'])\n",
    "    df.index = range(nrow(df))\n",
    "    for idx in df.index:\n",
    "        ind1,ind2,prob = df.loc[idx,]\n",
    "        d = distance(ind1,ind2)\n",
    "        p = prob/probsum\n",
    "        s = d*p\n",
    "        sums += s\n",
    "    return sums"
   ]
  },
  {
   "cell_type": "markdown",
   "metadata": {},
   "source": [
    "# overal mean dispersal from moran & clark outputs"
   ]
  },
  {
   "cell_type": "code",
   "execution_count": null,
   "metadata": {},
   "outputs": [],
   "source": [
    "# ID most likely father/mother pair for each seedling\n",
    "assignment = {}\n",
    "for samp in pars:\n",
    "    row,col,probidx = pars[samp].idxmax()\n",
    "    row,col,prob = pars[samp].loc[probidx,:]\n",
    "    assignment[samp] = [adults[int(row)],adults[int(col)]]\n",
    "#    print samp,assignment[samp]"
   ]
  },
  {
   "cell_type": "markdown",
   "metadata": {},
   "source": [
    "#### mother-offspring"
   ]
  },
  {
   "cell_type": "code",
   "execution_count": null,
   "metadata": {},
   "outputs": [],
   "source": [
    "moffdisp = {}\n",
    "moffdisptx = {}\n",
    "for samp in assignment:\n",
    "    plot = samp[:3]\n",
    "    tx   = samp[:2]\n",
    "    if not plot in moffdisp:\n",
    "        moffdisp[plot] = []\n",
    "    if not tx in moffdisptx:\n",
    "        moffdisptx[tx] = []\n",
    "    mom,dad = assignment[samp]\n",
    "    if mom != 'out-of-plot':\n",
    "        d = distance(mom,samp)\n",
    "        moffdisp[plot].append(d)\n",
    "        moffdisptx[tx].append(d)\n",
    "for tx in moffdisptx:\n",
    "    print tx,np.mean(moffdisptx[tx]),np.median(moffdisptx[tx])"
   ]
  },
  {
   "cell_type": "code",
   "execution_count": null,
   "metadata": {},
   "outputs": [],
   "source": [
    "print stats.kruskal(moffdisptx['bc'],moffdisptx['uc'],moffdisptx['un']).pvalue\n",
    "for i,txi in enumerate(moffdisptx.keys()):\n",
    "    for j,txj in enumerate(moffdisptx.keys()):\n",
    "        if i > j:\n",
    "            print txi,round(np.median(moffdisptx[txi]),2),txj,round(np.median(moffdisptx[txj]),2)\n",
    "            print stats.kruskal(moffdisptx[txi],moffdisptx[txj])"
   ]
  },
  {
   "cell_type": "code",
   "execution_count": null,
   "metadata": {},
   "outputs": [],
   "source": [
    "type(range(1,4,1))"
   ]
  },
  {
   "cell_type": "code",
   "execution_count": null,
   "metadata": {},
   "outputs": [],
   "source": [
    "#yerr = [np.std(moffdisptx[tx]) for tx in moffdisptx]\n",
    "f = plt.figure()\n",
    "#plt.bar(range(3),[np.median(moffdisptx[tx]) for tx in moffdisptx],yerr=yerr)[-1]\n",
    "plt.boxplot([moffdisptx[tx] for tx in moffdisptx])\n",
    "plt.xticks(range(1,4,1),list(['UN','UC','BC']))\n",
    "plt.ylabel('Mother-Offspring Distances (m)')\n",
    "plt.ylim((-1,145))\n",
    "f.savefig('/home/lindb/teakettle/postmoran/figs/moff_true_parents.pdf')"
   ]
  },
  {
   "cell_type": "markdown",
   "metadata": {},
   "source": [
    "#### mother-father"
   ]
  },
  {
   "cell_type": "code",
   "execution_count": null,
   "metadata": {},
   "outputs": [],
   "source": [
    "mfdisp = {}\n",
    "mfdisptx = {}\n",
    "for samp in assignment:\n",
    "    plot = samp[:3]\n",
    "    tx = samp[:2]\n",
    "    if not plot in mfdisp:\n",
    "        mfdisp[plot] = []\n",
    "    if not tx in mfdisptx:\n",
    "        mfdisptx[tx] = []\n",
    "    mom,dad = assignment[samp]\n",
    "    if not 'out-of-plot' in [mom,dad]:\n",
    "        d = distance(mom,dad)\n",
    "        mfdisp[plot].append(d)\n",
    "        mfdisptx[tx].append(d)\n",
    "for tx in mfdisptx:\n",
    "    print tx,np.mean(mfdisptx[tx]),np.median(mfdisptx[tx])"
   ]
  },
  {
   "cell_type": "code",
   "execution_count": null,
   "metadata": {},
   "outputs": [],
   "source": [
    "print stats.kruskal(mfdisptx['bc'],mfdisptx['uc'],mfdisptx['un']).pvalue\n",
    "for i,txi in enumerate(mfdisptx.keys()):\n",
    "    for j,txj in enumerate(mfdisptx.keys()):\n",
    "        if i > j:\n",
    "            print txi,txj\n",
    "            print stats.kruskal(mfdisptx[txi],mfdisptx[txj])"
   ]
  },
  {
   "cell_type": "code",
   "execution_count": null,
   "metadata": {},
   "outputs": [],
   "source": [
    "#yerr = [np.std(moffdisptx[tx]) for tx in moffdisptx]\n",
    "f = plt.figure()\n",
    "#plt.bar(range(3),[np.median(moffdisptx[tx]) for tx in moffdisptx],yerr=yerr)[-1]\n",
    "plt.boxplot([mfdisptx[tx] for tx in mfdisptx])\n",
    "plt.xticks(range(1,4,1),list(['UN','UC','BC']))\n",
    "plt.ylabel('Father-Mother Distances (m)')\n",
    "plt.ylim((-1,225))\n",
    "f.savefig('/home/lindb/teakettle/postmoran/figs/mf_true_parents.pdf')"
   ]
  },
  {
   "cell_type": "markdown",
   "metadata": {},
   "source": [
    "#### father-offspring"
   ]
  },
  {
   "cell_type": "code",
   "execution_count": null,
   "metadata": {},
   "outputs": [],
   "source": [
    "doffdisp = {}\n",
    "doffdisptx = {}\n",
    "for samp in assignment:\n",
    "    plot = samp[:3]\n",
    "    tx = samp[:2]\n",
    "    if not plot in doffdisp:\n",
    "        doffdisp[plot] = []\n",
    "    if not tx in doffdisptx:\n",
    "        doffdisptx[tx] = []\n",
    "    mom,dad = assignment[samp]\n",
    "    if not dad == 'out-of-plot':\n",
    "        d = distance(samp,dad)\n",
    "        doffdisp[plot].append(d)\n",
    "        doffdisptx[tx].append(d)\n",
    "for tx in doffdisptx:\n",
    "    print tx,np.mean(doffdisptx[tx]),np.median(doffdisptx[tx])"
   ]
  },
  {
   "cell_type": "code",
   "execution_count": null,
   "metadata": {},
   "outputs": [],
   "source": [
    "print stats.kruskal(doffdisptx['bc'],doffdisptx['uc'],doffdisptx['un']).pvalue\n",
    "for i,txi in enumerate(doffdisptx.keys()):\n",
    "    for j,txj in enumerate(doffdisptx.keys()):\n",
    "        if i > j:\n",
    "            print txi,txj\n",
    "            print stats.kruskal(doffdisptx[txi],doffdisptx[txj]).pvalue"
   ]
  },
  {
   "cell_type": "markdown",
   "metadata": {},
   "source": [
    "# overall mean dispersal from fractional parentage"
   ]
  },
  {
   "cell_type": "markdown",
   "metadata": {},
   "source": [
    "## $D_{i} = \\sum_{j=1}^n (d_{j}*p_{j}) / n$\n",
    "### $p_{j} = $ \n",
    "\n",
    "where $D_i$ = weighted mean distance for $seedling_i$ over each *j* of the *n* non-zero parent-offspring or mother-father probabilities each with distance $d_j$ and probability $p_j$"
   ]
  },
  {
   "cell_type": "code",
   "execution_count": null,
   "metadata": {},
   "outputs": [],
   "source": [
    "# problem is that I can only calc distances for non out-of-plot, \n",
    "# therefore it is likely that for any list of possible in-plot parents sum(probs) << 1"
   ]
  },
  {
   "cell_type": "code",
   "execution_count": null,
   "metadata": {},
   "outputs": [],
   "source": [
    "### mother-offspring distances\n",
    "# can't do for each mother since vector of off probs won't sum to 1\n",
    "# can only do for each seed\n",
    "moff = {}\n",
    "for seed in mh.index.tolist():\n",
    "    moff[seed] = wtd_dist(seed,'mom')\n",
    "#     print seed,moff[seed]"
   ]
  },
  {
   "cell_type": "code",
   "execution_count": null,
   "metadata": {},
   "outputs": [],
   "source": [
    "vals = []\n",
    "[vals.append(val) for val in moffdisptx[tx] for tx in moffdisptx]\n",
    "print np.mean(vals),np.median(vals)\n",
    "plt.hist(vals,bins=100)[-1]"
   ]
  },
  {
   "cell_type": "code",
   "execution_count": null,
   "metadata": {},
   "outputs": [],
   "source": [
    "vals = [val for val in moff.values() if not val == 'NA']\n",
    "print np.mean(vals),np.median(vals)\n",
    "plt.hist(vals,bins=100)[-1]"
   ]
  },
  {
   "cell_type": "code",
   "execution_count": null,
   "metadata": {},
   "outputs": [],
   "source": [
    "### father-offspring distances\n",
    "# can't do for each father since vector of off probs won't sum to 1\n",
    "# can only do for each seed\n",
    "doff = {}\n",
    "for seed in mh.index.tolist():\n",
    "    doff[seed] = wtd_dist(seed,'dad')\n",
    "#     print seed,doff[seed]"
   ]
  },
  {
   "cell_type": "code",
   "execution_count": null,
   "metadata": {},
   "outputs": [],
   "source": [
    "print np.mean(doff.values()),np.median(doff.values())\n",
    "plt.hist(doff.values(),bins=15)[-1]"
   ]
  },
  {
   "cell_type": "code",
   "execution_count": null,
   "metadata": {},
   "outputs": [],
   "source": [
    "# mother-father distances\n",
    "mfs = []\n",
    "for seed in pars:\n",
    "    mfs.append( wtd_dist(seed,'par'))"
   ]
  },
  {
   "cell_type": "code",
   "execution_count": null,
   "metadata": {},
   "outputs": [],
   "source": [
    "plt.hist([x for x in mfs if x!='NA'],bins=50)[-1]"
   ]
  },
  {
   "cell_type": "markdown",
   "metadata": {},
   "source": [
    "# mean dispersal by tx using fractional parentage"
   ]
  },
  {
   "cell_type": "code",
   "execution_count": null,
   "metadata": {},
   "outputs": [],
   "source": [
    "# list of samps by tx\n",
    "txsamps = {}\n",
    "txseeds = {}\n",
    "for pop in uni(comb['pop'].tolist()):\n",
    "    if not pop == 'us':\n",
    "        df = comb[comb['pop']==pop].copy()\n",
    "        txsamps[pop] = df.index.tolist()\n",
    "        txseeds[pop] = [x for x in df.index.tolist() if 'new' in x]\n",
    "        print pop,len(txsamps[pop]),len(txseeds[pop])"
   ]
  },
  {
   "cell_type": "code",
   "execution_count": null,
   "metadata": {},
   "outputs": [],
   "source": [
    "# list of samps by plot\n",
    "plotsamps  = {}\n",
    "plotseeds  = {}\n",
    "plotadults = {}\n",
    "for samp in comb.index.tolist():\n",
    "    plot = samp[:3]\n",
    "    if not plot == 'us3':\n",
    "        if not plot in plotsamps:\n",
    "            plotsamps[plot] = []\n",
    "        if not plot in plotseeds:\n",
    "            plotseeds[plot] = []\n",
    "        if not plot in plotadults:\n",
    "            plotadults[plot] = []\n",
    "        if 'new' in samp:\n",
    "            plotseeds[plot].append(samp)\n",
    "        else:\n",
    "            plotadults[plot].append(samp)\n",
    "        plotsamps[plot].append(samp) # want adults and seeds\n",
    "        assert len(plotsamps[plot]) == len(plotseeds[plot]) + len(plotadults[plot])\n",
    "for plot in plotsamps:\n",
    "    print plot, len(plotsamps[plot]),len(plotseeds[plot]),len(plotadults[plot])"
   ]
  },
  {
   "cell_type": "code",
   "execution_count": null,
   "metadata": {},
   "outputs": [],
   "source": [
    "'new' in 'bc1_1179','new' in 'bc1_new003'"
   ]
  },
  {
   "cell_type": "markdown",
   "metadata": {},
   "source": [
    "#### mother-offspring distances by treatment"
   ]
  },
  {
   "cell_type": "code",
   "execution_count": null,
   "metadata": {},
   "outputs": [],
   "source": [
    "txmoff = {}\n",
    "for tx in txseeds:\n",
    "    txmoff[tx] = {}\n",
    "    for samp in txseeds[tx]:\n",
    "        txmoff[tx][samp] = wtd_dist(samp,'mom')"
   ]
  },
  {
   "cell_type": "code",
   "execution_count": null,
   "metadata": {},
   "outputs": [],
   "source": [
    "f = plt.figure()\n",
    "vals = {}\n",
    "for tx in txsamps:\n",
    "    vals[tx] = [val for val in txmoff[tx].values() if not val == 'NA']\n",
    "    print tx,np.mean(vals[tx]),np.median(vals[tx])\n",
    "plt.boxplot([vals[tx] for tx in vals])\n",
    "f.set_size_inches(6, 8)\n",
    "plt.xticks(range(1,4,1),list([tx.upper() for tx in vals]))\n",
    "plt.ylim((0,535))\n",
    "plt.ylabel('Mother-Offspring Distances (m)')\n",
    "f.savefig('/home/lindb/teakettle/postmoran/figs/txmoff.pdf')"
   ]
  },
  {
   "cell_type": "code",
   "execution_count": null,
   "metadata": {},
   "outputs": [],
   "source": [
    "f = plt.figure()\n",
    "vals = {}\n",
    "for tx in txsamps:\n",
    "    v = [val for val in txmoff[tx].values() if not val == 'NA']\n",
    "    vals[tx] = np.median(v)\n",
    "    print tx,np.mean(v),np.median(v)\n",
    "x = np.arange(3)\n",
    "plt.bar(range(len(vals)),list(vals.values()))[-1]\n",
    "plt.xticks(range(len(vals)), list([v.upper() for v in vals.keys()]))\n",
    "plt.ylabel('Distance (m)')\n",
    "plt.ylim((0,60))\n",
    "#plt.title('Mother-offspring distances by treatment')\n",
    "f.savefig('/home/lindb/teakettle/postmoran/figs/txmoffbar.pdf')"
   ]
  },
  {
   "cell_type": "code",
   "execution_count": null,
   "metadata": {},
   "outputs": [],
   "source": [
    "bcs = [x for x in txmoff['bc'].values() if not x == 'NA' ]\n",
    "ucs = [x for x in txmoff['uc'].values() if not x == 'NA' ]\n",
    "uns = [x for x in txmoff['un'].values() if not x == 'NA' ]\n",
    "bcucuns = [bcs,ucs,uns]\n",
    "print stats.kruskal(bcs,ucs,uns)\n",
    "for i,txi in enumerate(['bc','uc','un']):\n",
    "    for j,txj in enumerate(['bc','uc','un']):\n",
    "        if i > j:\n",
    "            print txi,round(np.median(bcucuns[i]),2),txj,round(np.median(bcucuns[j]),2)\n",
    "            print stats.kruskal(bcucuns[i],bcucuns[j])"
   ]
  },
  {
   "cell_type": "markdown",
   "metadata": {},
   "source": [
    "#### father-offspring distances by treatment"
   ]
  },
  {
   "cell_type": "code",
   "execution_count": null,
   "metadata": {},
   "outputs": [],
   "source": [
    "txdoff = {}\n",
    "for tx in txsamps:\n",
    "    txdoff[tx] = {}\n",
    "    for samp in txseeds[tx]:\n",
    "        txdoff[tx][samp] = wtd_dist(samp,'dad')"
   ]
  },
  {
   "cell_type": "code",
   "execution_count": null,
   "metadata": {},
   "outputs": [],
   "source": [
    "vals = {}\n",
    "for tx in txsamps:\n",
    "    v = [val for val in txdoff[tx].values() if not val == 'NA']\n",
    "    vals[tx] = np.mean(v)\n",
    "    print tx,np.mean(v),np.median(v)\n",
    "x = np.arange(3)\n",
    "plt.bar(range(len(vals)),list(vals.values()))[-1]\n",
    "plt.xticks(range(len(vals)), list(vals.keys()))\n",
    "plt.title('Father-offspring distances by treatment')"
   ]
  },
  {
   "cell_type": "markdown",
   "metadata": {},
   "source": [
    "#### mother-father distances by treatment"
   ]
  },
  {
   "cell_type": "code",
   "execution_count": null,
   "metadata": {},
   "outputs": [],
   "source": [
    "txmf = {}\n",
    "for tx in txsamps:\n",
    "    txmf[tx] = {}\n",
    "    for samp in txseeds[tx]:\n",
    "        txmf[tx][samp] = wtd_dist(samp,'par')"
   ]
  },
  {
   "cell_type": "code",
   "execution_count": null,
   "metadata": {},
   "outputs": [],
   "source": [
    "[v.upper() for v in vals.keys()]"
   ]
  },
  {
   "cell_type": "code",
   "execution_count": null,
   "metadata": {},
   "outputs": [],
   "source": [
    "f = plt.figure()\n",
    "vals = {}\n",
    "for tx in txmf:\n",
    "    vals[tx] = [val for val in txmf[tx].values() if not val == 'NA']\n",
    "    print tx,np.mean(vals[tx]),np.median(vals[tx])\n",
    "plt.boxplot([vals[tx] for tx in vals])\n",
    "f.set_size_inches(6, 8)\n",
    "plt.xticks(range(1,4,1),list([tx.upper() for tx in vals]))\n",
    "plt.ylabel('Father-Mother Distances (m)')\n",
    "f.savefig('/home/lindb/teakettle/postmoran/figs/txmf.pdf')"
   ]
  },
  {
   "cell_type": "code",
   "execution_count": null,
   "metadata": {},
   "outputs": [],
   "source": [
    "f = plt.figure()\n",
    "vals = {}\n",
    "for tx in txsamps:\n",
    "    v = [val for val in txmf[tx].values() if not val == 'NA']\n",
    "    vals[tx] = np.median(v)\n",
    "    print tx,np.mean(v),np.median(v)\n",
    "x = np.arange(3)\n",
    "plt.bar(range(len(vals)),list(vals.values()))[-1]\n",
    "plt.xticks(range(len(vals)), list([v.upper() for v in vals.keys()]))\n",
    "plt.ylim(0,155)\n",
    "plt.ylabel('Distance (m)')\n",
    "#plt.title('Mother-father distances by treatment')\n",
    "f.savefig('/home/lindb/teakettle/postmoran/figs/txmfbar.pdf')"
   ]
  },
  {
   "cell_type": "code",
   "execution_count": null,
   "metadata": {},
   "outputs": [],
   "source": [
    "bcs = [x for x in txmf['bc'].values() if not x == 'NA' ]\n",
    "ucs = [x for x in txmf['uc'].values() if not x == 'NA' ]\n",
    "uns = [x for x in txmf['un'].values() if not x == 'NA' ]\n",
    "bcucuns = [bcs,ucs,uns]\n",
    "print stats.kruskal(bcs,ucs,uns)\n",
    "for i,txi in enumerate(['bc','uc','un']):\n",
    "    for j,txj in enumerate(['bc','uc','un']):\n",
    "        if i > j:\n",
    "            print txi,round(np.median(bcucuns[i]),2),txj,round(np.median(bcucuns[j]),2)\n",
    "            print stats.kruskal(bcucuns[i],bcucuns[j])"
   ]
  },
  {
   "cell_type": "code",
   "execution_count": null,
   "metadata": {},
   "outputs": [],
   "source": []
  },
  {
   "cell_type": "markdown",
   "metadata": {},
   "source": [
    "# mean dispersal within tx using fractional parentage"
   ]
  },
  {
   "cell_type": "markdown",
   "metadata": {},
   "source": [
    "### mean dispersal by tx to within tx using fractional parentage\n",
    "#### mother-offspring distances"
   ]
  },
  {
   "cell_type": "code",
   "execution_count": null,
   "metadata": {},
   "outputs": [],
   "source": [
    "wtxmoff = {}\n",
    "for tx in txseeds:\n",
    "    wtxmoff[tx] = {}\n",
    "    for samp in txseeds[tx]:\n",
    "        wtxmoff[tx][samp] = wtd_dist(samp,'mom',bytx=True)"
   ]
  },
  {
   "cell_type": "code",
   "execution_count": null,
   "metadata": {},
   "outputs": [],
   "source": [
    "vals = {}\n",
    "for tx in txsamps:\n",
    "    v = [val for val in wtxmoff[tx].values() if not val == 'NA']\n",
    "    vals[tx] = np.mean(v)\n",
    "    print tx,np.mean(v),np.median(v)\n",
    "x = np.arange(3)\n",
    "plt.bar(range(len(vals)),list(vals.values()))[-1]\n",
    "plt.xticks(range(len(vals)), list(vals.keys()))\n",
    "plt.title('Mother-offspring distances within treatment')"
   ]
  },
  {
   "cell_type": "markdown",
   "metadata": {},
   "source": [
    "#### father-offspring distances"
   ]
  },
  {
   "cell_type": "code",
   "execution_count": null,
   "metadata": {},
   "outputs": [],
   "source": [
    "wtxdoff ={}\n",
    "for tx in txseeds:\n",
    "    wtxdoff[tx] = {}\n",
    "    for samp in txseeds[tx]:\n",
    "        wtxdoff[tx][samp] = wtd_dist(samp,'dad',bytx=True)"
   ]
  },
  {
   "cell_type": "code",
   "execution_count": null,
   "metadata": {},
   "outputs": [],
   "source": [
    "vals = {}\n",
    "for tx in txsamps:\n",
    "    v = [val for val in wtxdoff[tx].values() if not val == 'NA']\n",
    "    vals[tx] = np.mean(v)\n",
    "    print tx,np.mean(v),np.median(v)\n",
    "x = np.arange(3)\n",
    "plt.bar(range(len(vals)),list(vals.values()))[-1]\n",
    "plt.xticks(range(len(vals)), list(vals.keys()))\n",
    "plt.title('father-offspring distances within treatment')"
   ]
  },
  {
   "cell_type": "markdown",
   "metadata": {},
   "source": [
    "#### mother-father distances"
   ]
  },
  {
   "cell_type": "code",
   "execution_count": null,
   "metadata": {},
   "outputs": [],
   "source": [
    "wtxmf = {}\n",
    "for tx in txseeds:\n",
    "    wtxmf[tx] = {}\n",
    "    for samp in txseeds[tx]:\n",
    "        wtxmf[tx][samp] = wtd_dist(samp,'par',bytx=True)"
   ]
  },
  {
   "cell_type": "code",
   "execution_count": null,
   "metadata": {},
   "outputs": [],
   "source": [
    "vals = {}\n",
    "for tx in txsamps:\n",
    "    v = [val for val in wtxmf[tx].values() if not val == 'NA']\n",
    "    vals[tx] = np.mean(v)\n",
    "    print tx,np.mean(v),np.median(v)\n",
    "x = np.arange(3)\n",
    "plt.bar(range(len(vals)),list(vals.values()))[-1]\n",
    "plt.xticks(range(len(vals)), list(vals.keys()))\n",
    "plt.title('Mother-father distances within treatment')"
   ]
  },
  {
   "cell_type": "markdown",
   "metadata": {},
   "source": [
    "### mean dispersal by tx to outside of tx using fractional parentage"
   ]
  },
  {
   "cell_type": "markdown",
   "metadata": {},
   "source": [
    "#### mother-offspring distances"
   ]
  },
  {
   "cell_type": "code",
   "execution_count": null,
   "metadata": {},
   "outputs": [],
   "source": [
    "otxmoff = {}\n",
    "for tx in txseeds:\n",
    "    otxmoff[tx] = {}\n",
    "    for samp in txseeds[tx]:\n",
    "        otxmoff[tx][samp] = wtd_dist(samp,'mom',bytx=True,without=True)"
   ]
  },
  {
   "cell_type": "code",
   "execution_count": null,
   "metadata": {},
   "outputs": [],
   "source": [
    "vals = {}\n",
    "for tx in txsamps:\n",
    "    v = [val for val in otxmoff[tx].values() if not val == 'NA']\n",
    "    vals[tx] = np.mean(v)\n",
    "    print tx,np.mean(v),np.median(v)\n",
    "x = np.arange(3)\n",
    "plt.bar(range(len(vals)),list(vals.values()))[-1]\n",
    "plt.xticks(range(len(vals)), list(vals.keys()))\n",
    "plt.title('Mother-offspring distances outside of treatment')"
   ]
  },
  {
   "cell_type": "markdown",
   "metadata": {},
   "source": [
    "#### father-offspring distances"
   ]
  },
  {
   "cell_type": "code",
   "execution_count": null,
   "metadata": {},
   "outputs": [],
   "source": [
    "otxdoff = {}\n",
    "for tx in txseeds:\n",
    "    otxdoff[tx] = {}\n",
    "    for samp in txseeds[tx]:\n",
    "        otxdoff[tx][samp] = wtd_dist(samp,'dad',bytx=True,without=True)"
   ]
  },
  {
   "cell_type": "code",
   "execution_count": null,
   "metadata": {},
   "outputs": [],
   "source": [
    "vals = {}\n",
    "for tx in txsamps:\n",
    "    v = [val for val in otxdoff[tx].values() if not val == 'NA']\n",
    "    vals[tx] = np.mean(v)\n",
    "    print tx,np.mean(v),np.median(v)\n",
    "x = np.arange(3)\n",
    "plt.bar(range(len(vals)),list(vals.values()))[-1]\n",
    "plt.xticks(range(len(vals)), list(vals.keys()))\n",
    "plt.title('Father-offspring distances outside of treatment')"
   ]
  },
  {
   "cell_type": "markdown",
   "metadata": {},
   "source": [
    "#### mother-father distances"
   ]
  },
  {
   "cell_type": "code",
   "execution_count": null,
   "metadata": {},
   "outputs": [],
   "source": [
    "otxmf = {}\n",
    "for tx in txseeds:\n",
    "    otxmf[tx] = {}\n",
    "    for samp in txseeds[tx]:\n",
    "        otxmf[tx][samp] = wtd_dist(samp,'par',bytx=True,without=True)"
   ]
  },
  {
   "cell_type": "code",
   "execution_count": null,
   "metadata": {},
   "outputs": [],
   "source": [
    "vals = {}\n",
    "for tx in txsamps:\n",
    "    v = [val for val in otxmf[tx].values() if not val == 'NA']\n",
    "    vals[tx] = np.mean(v)\n",
    "    print tx,np.mean(v),np.median(v)\n",
    "x = np.arange(3)\n",
    "plt.bar(range(len(vals)),list(vals.values()))[-1]\n",
    "plt.xticks(range(len(vals)), list(vals.keys()))\n",
    "plt.title('Mother-father distances outside of treatment')"
   ]
  },
  {
   "cell_type": "markdown",
   "metadata": {},
   "source": [
    "# mean dispersal within plot using fractional parentage"
   ]
  },
  {
   "cell_type": "markdown",
   "metadata": {},
   "source": [
    "#### mother-offspring distances"
   ]
  },
  {
   "cell_type": "code",
   "execution_count": null,
   "metadata": {},
   "outputs": [],
   "source": [
    "wplotmoff = {}\n",
    "for plot in plotsamps:\n",
    "    wplotmoff[plot] = {}\n",
    "    for samp in plotseeds[plot]:\n",
    "        wplotmoff[plot][samp] = wtd_dist(samp,'mom',byplot=True)"
   ]
  },
  {
   "cell_type": "code",
   "execution_count": null,
   "metadata": {},
   "outputs": [],
   "source": [
    "vals = {}\n",
    "for plot in plotsamps:\n",
    "    v = [val for val in wplotmoff[plot].values() if not val == 'NA']\n",
    "    vals[plot] = np.mean(v)\n",
    "    print plot,np.mean(v),np.median(v)\n",
    "\n",
    "plt.bar(range(len(vals)),list(vals.values()))[-1]\n",
    "plt.xticks(range(len(vals)), list(vals.keys()))\n",
    "plt.title('Mother-offspring distances within plot')"
   ]
  },
  {
   "cell_type": "code",
   "execution_count": null,
   "metadata": {},
   "outputs": [],
   "source": [
    "wplotmofftx = {}\n",
    "for plot in wplotmoff:\n",
    "    tx = plot[:2]\n",
    "    if not tx in wplotmofftx:\n",
    "        wplotmofftx[tx] = []\n",
    "    for samp in wplotmoff[plot]:\n",
    "        wplotmofftx[tx].append(wplotmoff[plot][samp])\n",
    "stats.kruskal(wplotmofftx['uc'],wplotmofftx['bc'],wplotmofftx['un'])"
   ]
  },
  {
   "cell_type": "code",
   "execution_count": null,
   "metadata": {},
   "outputs": [],
   "source": [
    "for i,txi in enumerate(wplotmofftx):\n",
    "    for j,txj in enumerate(wplotmofftx):\n",
    "        if i>j:\n",
    "            print txi,txj\n",
    "            js = [x for x in wplotmofftx[txj] if x != 'NA']\n",
    "            Is = [x for x in wplotmofftx[txi] if x != 'NA']\n",
    "            print np.median(Is),np.median(js)\n",
    "            print stats.kruskal(Is,js)"
   ]
  },
  {
   "cell_type": "code",
   "execution_count": null,
   "metadata": {},
   "outputs": [],
   "source": [
    "for i,txi in enumerate(wplotmofftx):\n",
    "    for j,txj in enumerate(wplotmofftx):\n",
    "        if i>j:\n",
    "            print txi,txj\n",
    "            js = [x for x in wplotmofftx[txj] if x != 'NA']\n",
    "            Is = [x for x in wplotmofftx[txi] if x != 'NA']\n",
    "            print np.median(Is),np.median(js)\n",
    "            print stats.kruskal(Is,js).pvalue"
   ]
  },
  {
   "cell_type": "code",
   "execution_count": null,
   "metadata": {},
   "outputs": [],
   "source": [
    "f = plt.figure()\n",
    "vals = {}\n",
    "for tx in txmf:\n",
    "    vals[tx] = [val for val in wplotmofftx[tx] if not val == 'NA']\n",
    "    print tx,np.mean(vals[tx]),np.median(vals[tx])\n",
    "plt.boxplot([vals[tx] for tx in vals])\n",
    "f.set_size_inches(6, 8)\n",
    "plt.xticks(range(1,4,1),list([tx.upper() for tx in vals]))\n",
    "plt.ylabel('Mother-Offspring Distances (m)')\n",
    "f.savefig('/home/lindb/teakettle/postmoran/figs/wplotmofftx.pdf')"
   ]
  },
  {
   "cell_type": "code",
   "execution_count": null,
   "metadata": {},
   "outputs": [],
   "source": [
    "vals = {}\n",
    "for tx in wplotmofftx:\n",
    "    v = [val for val in wplotmofftx[tx] if not val == 'NA']\n",
    "    vals[tx] = np.median(v)\n",
    "    print tx,np.mean(v),np.median(v)\n",
    "\n",
    "bar = plt.bar(range(len(vals)),list(vals.values()),color='grey')\n",
    "for i,rect in enumerate(bar):\n",
    "    h = rect.get_height()\n",
    "    plt.text(rect.get_x() + rect.get_width()/2.0,h,['A','B','C'][i],ha='center',va='bottom')\n",
    "plt.xticks(range(len(vals)), list([v.upper() for v in vals.keys()]))\n",
    "plt.title('Mother-offspring distances within plot by treatment')"
   ]
  },
  {
   "cell_type": "markdown",
   "metadata": {},
   "source": [
    "#### father-offspring distances"
   ]
  },
  {
   "cell_type": "code",
   "execution_count": null,
   "metadata": {},
   "outputs": [],
   "source": [
    "wplotdoff = {}\n",
    "for plot in plotsamps:\n",
    "    wplotdoff[plot] = {}\n",
    "    for samp in plotseeds[plot]:\n",
    "        wplotdoff[plot][samp] = wtd_dist(samp,'dad',byplot=True)"
   ]
  },
  {
   "cell_type": "code",
   "execution_count": null,
   "metadata": {},
   "outputs": [],
   "source": [
    "vals = {}\n",
    "for plot in plotsamps:\n",
    "    v = [val for val in wplotdoff[plot].values() if not val == 'NA']\n",
    "    vals[plot] = np.mean(v)\n",
    "    print plot,np.mean(v),np.median(v)\n",
    "\n",
    "plt.bar(range(len(vals)),list(vals.values()))[-1]\n",
    "plt.xticks(range(len(vals)), list(vals.keys()))\n",
    "plt.title('Father-offspring distances within plot')"
   ]
  },
  {
   "cell_type": "code",
   "execution_count": null,
   "metadata": {},
   "outputs": [],
   "source": [
    "wplotdofftx = {}\n",
    "for plot in wplotdoff:\n",
    "    tx = plot[:2]\n",
    "    if not tx in wplotdofftx:\n",
    "        wplotdofftx[tx] = []\n",
    "    for samp in wplotdoff[plot]:\n",
    "        wplotdofftx[tx].append(wplotdoff[plot][samp])\n",
    "stats.kruskal(wplotdofftx['uc'],wplotdofftx['bc'],wplotdofftx['un'])"
   ]
  },
  {
   "cell_type": "code",
   "execution_count": null,
   "metadata": {},
   "outputs": [],
   "source": [
    "for i,txi in enumerate(wplotdofftx):\n",
    "    for j,txj in enumerate(wplotdofftx):\n",
    "        if i>j:\n",
    "            print txi,txj\n",
    "            js = [x for x in wplotdofftx[txj] if x != 'NA']\n",
    "            Is = [x for x in wplotdofftx[txi] if x != 'NA']\n",
    "            print np.median(Is),np.median(js)\n",
    "            print stats.kruskal(Is,js)"
   ]
  },
  {
   "cell_type": "code",
   "execution_count": null,
   "metadata": {},
   "outputs": [],
   "source": [
    "vals = {}\n",
    "for tx in wplotdofftx:\n",
    "    v = [val for val in wplotdofftx[tx] if not val == 'NA']\n",
    "    vals[tx] = np.median(v)\n",
    "    print tx,np.mean(v),np.median(v)\n",
    "\n",
    "plt.bar(range(len(vals)),list(vals.values()))[-1]\n",
    "plt.xticks(range(len(vals)), list(vals.keys()))\n",
    "plt.title('Father-offspring distances within plot by treatment')"
   ]
  },
  {
   "cell_type": "markdown",
   "metadata": {},
   "source": [
    "#### mother-father distances"
   ]
  },
  {
   "cell_type": "code",
   "execution_count": null,
   "metadata": {},
   "outputs": [],
   "source": [
    "# number\n",
    "nmf = {}\n",
    "nmftx = {}\n",
    "for plot in plotseeds:\n",
    "    nmf[plot] = []\n",
    "    tx = plot[:2]\n",
    "    if not tx in nmftx:\n",
    "        nmftx[tx] = []\n",
    "    for samp in plotseeds[plot]:\n",
    "        dad = assignment[samp][0]\n",
    "        dadplot = dad[:3]\n",
    "        dadtx = dad[:2]\n",
    "        if dadplot == plot:            \n",
    "            nmf[plot].append(1)\n",
    "            nmftx[tx].append(1)\n",
    "        else:\n",
    "            nmf[plot].append(0)\n",
    "            nmftx[tx].append(0)\n",
    "print [(plot,np.mean(nmf[plot])) for plot in nmf]\n",
    "print [np.mean(nmftx[tx]) for tx in nmftx]"
   ]
  },
  {
   "cell_type": "code",
   "execution_count": null,
   "metadata": {},
   "outputs": [],
   "source": [
    "[(plot,sum(nmf[plot])) for plot in nmf]"
   ]
  },
  {
   "cell_type": "code",
   "execution_count": null,
   "metadata": {},
   "outputs": [],
   "source": [
    "vals = {}\n",
    "for plot in plotsamps:\n",
    "    v = [val for val in wplotmf[plot].values() if not val == 'NA']\n",
    "    vals[plot] = np.mean(v)\n",
    "    print plot,np.mean(v),np.median(v)\n",
    "\n",
    "plt.bar(range(len(vals)),list(vals.values()))[-1]\n",
    "plt.xticks(range(len(vals)), list(vals.keys()))\n",
    "plt.title('Mother-Father distances within plot')"
   ]
  },
  {
   "cell_type": "code",
   "execution_count": null,
   "metadata": {},
   "outputs": [],
   "source": [
    "wplotmftx = {}\n",
    "for plot in wplotdoff:\n",
    "    tx = plot[:2]\n",
    "    if not tx in wplotmftx:\n",
    "        wplotmftx[tx] = []\n",
    "    for samp in wplotdoff[plot]:\n",
    "        wplotmftx[tx].append(wplotdoff[plot][samp])\n",
    "stats.kruskal(wplotmftx['uc'],wplotmftx['bc'],wplotmftx['un'])"
   ]
  },
  {
   "cell_type": "code",
   "execution_count": null,
   "metadata": {},
   "outputs": [],
   "source": [
    "for i,txi in enumerate(wplotmftx):\n",
    "    for j,txj in enumerate(wplotmftx):\n",
    "        if i>j:\n",
    "            print txi,txj\n",
    "            js = [x for x in wplotmftx[txj] if x != 'NA']\n",
    "            Is = [x for x in wplotmftx[txi] if x != 'NA']\n",
    "            print np.median(Is),np.median(js)\n",
    "            print stats.kruskal(Is,js)"
   ]
  },
  {
   "cell_type": "code",
   "execution_count": null,
   "metadata": {},
   "outputs": [],
   "source": [
    "f = plt.figure()\n",
    "vals = {}\n",
    "for tx in txmf:\n",
    "    vals[tx] = [val for val in wplotmftx[tx] if not val == 'NA']\n",
    "    print tx,np.mean(vals[tx]),np.median(vals[tx])\n",
    "plt.boxplot([vals[tx] for tx in vals])\n",
    "f.set_size_inches(6, 8)\n",
    "plt.xticks(range(1,4,1),list([tx.upper() for tx in vals]))\n",
    "plt.ylabel('Father-Mother Distances (m)')\n",
    "f.savefig('/home/lindb/teakettle/postmoran/figs/wplotmftx.pdf')"
   ]
  },
  {
   "cell_type": "code",
   "execution_count": null,
   "metadata": {},
   "outputs": [],
   "source": [
    "vals = {}\n",
    "for tx in wplotmftx:\n",
    "    v = [val for val in wplotmftx[tx] if not val == 'NA']\n",
    "    vals[tx] = np.median(v)\n",
    "    print tx,np.mean(v),np.median(v)\n",
    "\n",
    "plt.bar(range(len(vals)),list(vals.values()))[-1]\n",
    "plt.xticks(range(len(vals)), list(vals.keys()))\n",
    "plt.title('Mother-Father distances within plot by treatment')"
   ]
  },
  {
   "cell_type": "markdown",
   "metadata": {},
   "source": [
    "# mean dispersal by plot to out-of-plot"
   ]
  },
  {
   "cell_type": "markdown",
   "metadata": {},
   "source": [
    "#### mother-offspring distances"
   ]
  },
  {
   "cell_type": "code",
   "execution_count": null,
   "metadata": {},
   "outputs": [],
   "source": [
    "oplotmoff = {}\n",
    "for plot in plotsamps:\n",
    "    oplotmoff[plot] = {}\n",
    "    for samp in plotseeds[plot]:\n",
    "        oplotmoff[plot][samp] = wtd_dist(samp,'mom',byplot=True,without=True)"
   ]
  },
  {
   "cell_type": "code",
   "execution_count": null,
   "metadata": {},
   "outputs": [],
   "source": [
    "vals = {}\n",
    "for plot in plotsamps:\n",
    "    v = [val for val in oplotmoff[plot].values() if not val == 'NA']\n",
    "    vals[plot] = np.mean(v)\n",
    "    print plot,np.mean(v),np.median(v)\n",
    "\n",
    "plt.bar(range(len(vals)),list(vals.values()))[-1]\n",
    "plt.xticks(range(len(vals)), list(vals.keys()))\n",
    "plt.title('Mother-offspring distances outside of plot')"
   ]
  },
  {
   "cell_type": "markdown",
   "metadata": {},
   "source": [
    "#### father-offspring distances"
   ]
  },
  {
   "cell_type": "code",
   "execution_count": null,
   "metadata": {},
   "outputs": [],
   "source": [
    "oplotdoff = {}\n",
    "for plot in plotsamps:\n",
    "    oplotdoff[plot] = {}\n",
    "    for samp in plotseeds[plot]:\n",
    "        oplotdoff[plot][samp] = wtd_dist(samp,'dad',byplot=True,without=True)"
   ]
  },
  {
   "cell_type": "code",
   "execution_count": null,
   "metadata": {},
   "outputs": [],
   "source": [
    "vals = {}\n",
    "for plot in plotsamps:\n",
    "    v = [val for val in oplotdoff[plot].values() if not val == 'NA']\n",
    "    vals[plot] = np.mean(v)\n",
    "    print plot,np.mean(v),np.median(v)\n",
    "\n",
    "plt.bar(range(len(vals)),list(vals.values()))[-1]\n",
    "plt.xticks(range(len(vals)), list(vals.keys()))\n",
    "plt.title('Father-offspring distances outside of plot')"
   ]
  },
  {
   "cell_type": "markdown",
   "metadata": {},
   "source": [
    "# number of dispersals within plot"
   ]
  },
  {
   "cell_type": "markdown",
   "metadata": {},
   "source": [
    "#### mother-offspring numbers"
   ]
  },
  {
   "cell_type": "code",
   "execution_count": null,
   "metadata": {},
   "outputs": [],
   "source": [
    "# number\n",
    "nmoff = {}\n",
    "nmofftx = {}\n",
    "for plot in plotseeds:\n",
    "    nmoff[plot] = []\n",
    "    tx = plot[:2]\n",
    "    if not tx in nmofftx:\n",
    "        nmofftx[tx] = []\n",
    "    for samp in plotseeds[plot]:\n",
    "        mom = assignment[samp][0]\n",
    "        momplot = mom[:3]\n",
    "        momtx = mom[:2]\n",
    "        if momplot == plot:            \n",
    "            nmoff[plot].append(1)\n",
    "            nmofftx[tx].append(1)\n",
    "        else:\n",
    "            nmoff[plot].append(0)\n",
    "            nmofftx[tx].append(0)\n",
    "print [(plot,np.mean(nmoff[plot])) for plot in nmoff]\n",
    "print [np.mean(nmofftx[tx]) for tx in nmofftx]"
   ]
  },
  {
   "cell_type": "code",
   "execution_count": null,
   "metadata": {},
   "outputs": [],
   "source": [
    "for plot in plots:\n",
    "    print plot, sum(nmoff[plot])"
   ]
  },
  {
   "cell_type": "code",
   "execution_count": null,
   "metadata": {},
   "outputs": [],
   "source": [
    "sum(nmoff[plot])"
   ]
  },
  {
   "cell_type": "code",
   "execution_count": null,
   "metadata": {},
   "outputs": [],
   "source": [
    "range(1,10,1)"
   ]
  },
  {
   "cell_type": "code",
   "execution_count": null,
   "metadata": {},
   "outputs": [],
   "source": [
    "# by plot\n",
    "plt.bar(range(1,10,1),list([sum(nmoff[plot]) for plot in nmoff]))\n",
    "plt.xticks(range(1,10,1),list(plots))\n",
    "plt.title('Mother-offspring numbers within plot')"
   ]
  },
  {
   "cell_type": "code",
   "execution_count": null,
   "metadata": {},
   "outputs": [],
   "source": [
    "plt.bar(range(1,4,1),list([sum(nmofftx[tx]) for tx in nmofftx]))\n",
    "plt.xticks(range(1,4,1),list(nmofftx.keys()))\n",
    "plt.title('Mother-offspring numbers within tx')"
   ]
  },
  {
   "cell_type": "code",
   "execution_count": null,
   "metadata": {},
   "outputs": [],
   "source": [
    "# by tx\n",
    "plt.bar(range(1,4,1),list([np.mean(nmofftx[tx]) for tx in nmofftx]))\n",
    "plt.xticks(range(1,4,1),list([tx.upper() for tx in nmofftx.keys()]))\n",
    "plt.title('Mother-offspring numbers within plot')"
   ]
  },
  {
   "cell_type": "code",
   "execution_count": null,
   "metadata": {},
   "outputs": [],
   "source": [
    "# scaled by number of seeds\n",
    "vals = {}\n",
    "for plot in plotsamps:\n",
    "    lst = []\n",
    "    for samp in nmoff[plot]:\n",
    "        lst.append(nmoff[plot][samp])\n",
    "    vals[plot] = np.mean(lst)/len(plotseeds[plot])\n",
    "plt.bar(range(len(vals)),list(vals.values()))[-1]\n",
    "plt.xticks(range(len(vals)),list(vals.keys()))\n",
    "plt.title('Mother-offspring numbers within plot scaled by nseeds/plot')"
   ]
  },
  {
   "cell_type": "code",
   "execution_count": null,
   "metadata": {},
   "outputs": [],
   "source": [
    "# by tx scaled by nseeds\n",
    "vals = {}\n",
    "for tx in nmofftx:\n",
    "    lst = []\n",
    "    for samp in nmofftx[tx]:\n",
    "        lst.append(nmofftx[tx][samp])\n",
    "    vals[tx] = np.mean(lst)/len(txseeds[tx])\n",
    "plt.bar(range(len(vals)),list(vals.values()))[-1]\n",
    "plt.xticks(range(len(vals)),list(vals.keys()))\n",
    "plt.title('Mother-offspring numbers within plot by tx scaled by nseeds/plot')"
   ]
  },
  {
   "cell_type": "code",
   "execution_count": null,
   "metadata": {},
   "outputs": [],
   "source": [
    "vals['bc']"
   ]
  },
  {
   "cell_type": "code",
   "execution_count": null,
   "metadata": {},
   "outputs": [],
   "source": [
    "np.mean(nmofftx['bc'])"
   ]
  },
  {
   "cell_type": "code",
   "execution_count": null,
   "metadata": {},
   "outputs": [],
   "source": [
    "np.mean(nmofftx['bc'])/len(plotseeds)"
   ]
  },
  {
   "cell_type": "code",
   "execution_count": null,
   "metadata": {},
   "outputs": [],
   "source": [
    "# scaled by number of adults\n",
    "vals = {}\n",
    "for plot in plotsamps:\n",
    "    lst = []\n",
    "    for samp in nmoff[plot]:\n",
    "        lst.append(nmoff[plot][samp])\n",
    "    vals[plot] = np.mean(lst)/len(plotadults[plot])\n",
    "plt.bar(range(len(vals)),list(vals.values()))[-1]\n",
    "plt.xticks(range(len(vals)),list(vals.keys()))\n",
    "plt.title('Mother-offspring numbers within plot scaled by nadults/plot')"
   ]
  },
  {
   "cell_type": "code",
   "execution_count": null,
   "metadata": {},
   "outputs": [],
   "source": [
    "# scaled by possible parent-offspring pairs\n",
    "vals = {}\n",
    "for plot in plotsamps:\n",
    "    lst = []\n",
    "    for samp in nmoff[plot]:\n",
    "        lst.append(nmoff[plot][samp])\n",
    "    vals[plot] = np.mean(lst)/(len(plotadults[plot])*len(plotseeds[plot]))\n",
    "plt.bar(range(len(vals)),list(vals.values()))[-1]\n",
    "plt.xticks(range(len(vals)),list(vals.keys()))\n",
    "plt.title('Mother-offspring numbers within plot scaled by nadults/plot')"
   ]
  },
  {
   "cell_type": "markdown",
   "metadata": {},
   "source": [
    "#### father-offspring numbers"
   ]
  },
  {
   "cell_type": "code",
   "execution_count": null,
   "metadata": {},
   "outputs": [],
   "source": [
    "ndoff = {}\n",
    "for plot in plotseeds:\n",
    "    ndoff[plot] = []\n",
    "    for samp in plotseeds[plot]:\n",
    "        ndoff[plot].append(wtd_dist(samp,'dad',byplot=True,bynum=True))"
   ]
  },
  {
   "cell_type": "code",
   "execution_count": null,
   "metadata": {},
   "outputs": [],
   "source": [
    "vals = {}\n",
    "for plot in plotsamps:\n",
    "    lst = []\n",
    "    for samp in ndoff[plot]:\n",
    "        lst.append(ndoff[plot][samp])\n",
    "    vals[plot] = np.mean(lst)\n",
    "plt.bar(range(len(vals)),list(vals.values()))[-1]\n",
    "plt.xticks(range(len(vals)),list(vals.keys()))\n",
    "plt.title('Father-offspring numbers within plot')"
   ]
  },
  {
   "cell_type": "code",
   "execution_count": null,
   "metadata": {},
   "outputs": [],
   "source": [
    "vals = {}\n",
    "for plot in plotsamps:\n",
    "    lst = []\n",
    "    for samp in ndoff[plot]:\n",
    "        lst.append(ndoff[plot][samp])\n",
    "    vals[plot] = np.mean(lst)/len(plotseeds[plot])\n",
    "plt.bar(range(len(vals)),list(vals.values()))[-1]\n",
    "plt.xticks(range(len(vals)),list(vals.keys()))\n",
    "plt.title('Father-offspring numbers within plot scaled by nseeds/plot')"
   ]
  },
  {
   "cell_type": "code",
   "execution_count": null,
   "metadata": {},
   "outputs": [],
   "source": [
    "vals = {}\n",
    "for plot in plotsamps:\n",
    "    lst = []\n",
    "    for samp in ndoff[plot]:\n",
    "        lst.append(ndoff[plot][samp])\n",
    "    vals[plot] = np.mean(lst)/len(plotadults[plot])\n",
    "plt.bar(range(len(vals)),list(vals.values()))[-1]\n",
    "plt.xticks(range(len(vals)),list(vals.keys()))\n",
    "plt.title('Father-offspring numbers within plot scaled by nadults/plot')"
   ]
  },
  {
   "cell_type": "markdown",
   "metadata": {},
   "source": [
    "#### mother-father numbers"
   ]
  },
  {
   "cell_type": "code",
   "execution_count": null,
   "metadata": {},
   "outputs": [],
   "source": [
    "# number\n",
    "nmf = {}\n",
    "nmftx = {}\n",
    "for plot in plotseeds:\n",
    "    nmf[plot] = []\n",
    "    tx = plot[:2]\n",
    "    if not tx in nmftx:\n",
    "        nmftx[tx] = []\n",
    "    for samp in plotseeds[plot]:\n",
    "        mom = assignment[samp][0]\n",
    "        momplot = mom[:3]\n",
    "        momtx   = mom[:2]\n",
    "        dad = assignment[samp][1]\n",
    "        dadplot = dad[:3]\n",
    "        dadtx = dad[:2]\n",
    "        if dadplot == momplot:          \n",
    "            nmf[plot].append(1)\n",
    "        else:\n",
    "            nmf[plot].append(0)\n",
    "        if dadtx == momtx:\n",
    "            nmftx[tx].append(1)\n",
    "        else:\n",
    "            nmftx[tx].append(0)\n",
    "print [(plot,np.mean(nmf[plot])) for plot in nmf]\n",
    "print [np.mean(nmftx[tx]) for tx in nmftx]"
   ]
  },
  {
   "cell_type": "code",
   "execution_count": null,
   "metadata": {},
   "outputs": [],
   "source": [
    "# by plot\n",
    "plt.bar(range(1,10,1),list([sum(nmf[plot]) for plot in nmf]))\n",
    "plt.xticks(range(1,10,1),list(plots))\n",
    "plt.title('Father-mother numbers within plot')"
   ]
  },
  {
   "cell_type": "code",
   "execution_count": null,
   "metadata": {},
   "outputs": [],
   "source": [
    "plt.bar(range(1,4,1),list([sum(nmftx[tx]) for tx in nmftx]))\n",
    "plt.xticks(range(1,4,1),list(nmftx.keys()))\n",
    "plt.title('Father-mother numbers within tx')"
   ]
  },
  {
   "cell_type": "code",
   "execution_count": null,
   "metadata": {},
   "outputs": [],
   "source": [
    "# by tx\n",
    "plt.bar(range(1,4,1),list([np.mean(nmftx[tx]) for tx in nmftx]))\n",
    "plt.xticks(range(1,4,1),list([tx.upper() for tx in nmftx.keys()]))\n",
    "plt.title('Father-mother numbers within plot')"
   ]
  },
  {
   "cell_type": "markdown",
   "metadata": {},
   "source": [
    "# number of dispersals outside of plot"
   ]
  },
  {
   "cell_type": "markdown",
   "metadata": {},
   "source": [
    "#### mother-offspring numbers"
   ]
  },
  {
   "cell_type": "code",
   "execution_count": null,
   "metadata": {},
   "outputs": [],
   "source": [
    "plots = ['bc1','bc2','bc3','uc1','uc2','uc3','un1','un2','un3']"
   ]
  },
  {
   "cell_type": "code",
   "execution_count": null,
   "metadata": {},
   "outputs": [],
   "source": [
    "# for each plot, which known mothers dispersed seeds to known seedlings out of plot\n",
    "momout = {}\n",
    "for plot in plots:\n",
    "    if not plot in momout:\n",
    "        momout[plot] = 0\n",
    "    for seed in plotseeds[plot]:\n",
    "        mom = assignment[seed][0] # the most likely mother\n",
    "        if mom != 'out-of-plot':  # if a known mother\n",
    "            print seed, mom\n",
    "            momplot = mom[:3]\n",
    "            if not momplot in momout:\n",
    "                momout[momplot] = 0\n",
    "            if momplot != plot:   # if a known mother from another plot dispersed seed to this plot\n",
    "                momout[momplot] += 1 # count it\n",
    "                print 'counting'\n",
    "        else: # count \n",
    "momout # there are no known mothers that dispersed seed to another plot"
   ]
  },
  {
   "cell_type": "code",
   "execution_count": null,
   "metadata": {},
   "outputs": [],
   "source": [
    "# num of seedlings with out-of-plot mother, don't need to add in-plot mother dispersing to \n",
    "                                                    # known seedling outside of plot bc never happens\n",
    "outdisp = {}\n",
    "for plot in plots:\n",
    "    tx = plot[:2]\n",
    "    outdisp[plot] = 0\n",
    "    for samp in plotseeds[plot]:\n",
    "        n = 0\n",
    "        mom = assignment[samp][0]\n",
    "        momtx = mom[:2]\n",
    "        if mom == 'out-of-plot': # if un-IDed\n",
    "            n += 1\n",
    "        elif momtx != tx:        # or from another plot\n",
    "            n += 1\n",
    "            print 'mama out'     # never prints\n",
    "        outdisp[plot] += n\n",
    "outdisp"
   ]
  },
  {
   "cell_type": "code",
   "execution_count": null,
   "metadata": {},
   "outputs": [],
   "source": [
    "# plot out-of-plot events\n",
    "f = plt.figure()\n",
    "outdisptx = {}\n",
    "for plot in outdisp:\n",
    "    tx = plot[:2]\n",
    "    if not tx in outdisptx:\n",
    "        outdisptx[tx] = []\n",
    "    outdisptx[tx].append(outdisp[plot])\n",
    "yerr = [np.std(outdisptx[tx]) for tx in outdisptx]\n",
    "plt.bar(range(1,4,1),list([np.mean(outdisptx[tx]) for tx in outdisptx]),yerr=yerr,color='gray')\n",
    "plt.xticks(range(1,4,1),list([tx.upper() for tx in outdisptx]))\n",
    "plt.ylabel('Mother-offspring out-of-plot dispersal events')\n",
    "plt.ylim(0,170)\n",
    "f.savefig('/home/lindb/teakettle/postmoran/figs/moff_out-of-plot_disp_events.pdf')"
   ]
  },
  {
   "cell_type": "code",
   "execution_count": null,
   "metadata": {},
   "outputs": [],
   "source": [
    "print stats.kruskal(outdisptx['bc'],outdisptx['uc'],outdisptx['un'])"
   ]
  },
  {
   "cell_type": "code",
   "execution_count": null,
   "metadata": {},
   "outputs": [],
   "source": [
    "# ratio of within to without of plot\n",
    "nmoffsum = {}\n",
    "outtoin = {}\n",
    "for plot in nmoff:\n",
    "    nmoffsum[plot] = sum(nmoff[plot])\n",
    "    outtoin[plot] = nmoffsum[plot] / outdisp[plot]\n",
    "    print plot, outtoin[plot]"
   ]
  },
  {
   "cell_type": "code",
   "execution_count": null,
   "metadata": {},
   "outputs": [],
   "source": [
    "# plot num in-plot dispersal\n",
    "f = plt.figure()\n",
    "nmoffbytx = {}\n",
    "for plot in nmoffsum:\n",
    "    tx = plot[:2]\n",
    "    if not tx in nmoffbytx:\n",
    "        nmoffbytx[tx] = []\n",
    "    nmoffbytx[tx].append(nmoffsum[plot])\n",
    "nmoffbytx\n",
    "yerr = [np.std(nmoffbytx[tx]) for tx in nmoffbytx]\n",
    "plt.bar(range(1,4,1),list([np.mean(nmoffbytx[tx]) for tx in nmoffbytx]),yerr=yerr,color='gray')\n",
    "plt.xticks(range(1,4,1),list([tx.upper() for tx in nmoffbytx]))\n",
    "plt.ylabel('Mother-offspring in-plot dispersal events')\n",
    "plt.ylim((0,90))\n",
    "f.savefig('/home/lindb/teakettle/postmoran/figs/moff_in-plot_disp_events.pdf')"
   ]
  },
  {
   "cell_type": "code",
   "execution_count": null,
   "metadata": {},
   "outputs": [],
   "source": [
    "print stats.kruskal(nmoffbytx['bc'],nmoffbytx['uc'],nmoffbytx['un'])"
   ]
  },
  {
   "cell_type": "code",
   "execution_count": null,
   "metadata": {},
   "outputs": [],
   "source": [
    "# plot ratio\n",
    "plt.bar(range(1,10,1),list(outtoin.values()))\n",
    "plt.xticks(range(1,10,1),list(outtoin.keys()))\n",
    "plt.title('In-to-out ratio mother-offspring numbers')"
   ]
  },
  {
   "cell_type": "code",
   "execution_count": null,
   "metadata": {},
   "outputs": [],
   "source": [
    "range(1,4,1)"
   ]
  },
  {
   "cell_type": "code",
   "execution_count": null,
   "metadata": {},
   "outputs": [],
   "source": [
    "# combine to treatment\n",
    "rattx = {}\n",
    "for tx in nmofftx:\n",
    "    rattx[tx] = []\n",
    "    for i in [1,2,3]:\n",
    "        plot = \"%s%s\" % (tx,i)\n",
    "        rattx[tx].append(outtoin[plot])\n",
    "rattx"
   ]
  },
  {
   "cell_type": "code",
   "execution_count": null,
   "metadata": {},
   "outputs": [],
   "source": [
    "# plot mean ratio across replicates by tx\n",
    "f = plt.figure()\n",
    "yerr = [np.std(rattx[tx]) for tx in rattx]\n",
    "plt.bar(range(1,4,1),list([np.mean(rattx[tx]) for tx in rattx]),yerr=yerr,color='gray')\n",
    "plt.xticks(range(1,4,1),list([k.upper() for k in rattx.keys()]))\n",
    "#plt.title('In-to-out ratio mother-offspring numbers by tx')\n",
    "plt.ylim((0,0.7))\n",
    "plt.ylabel('Mother-offspring dispersal events ratio')\n",
    "f.savefig('/home/lindb/teakettle/postmoran/figs/ratio_in-to-out_by_tx.pdf')"
   ]
  },
  {
   "cell_type": "code",
   "execution_count": null,
   "metadata": {},
   "outputs": [],
   "source": [
    "print stats.kruskal(rattx['bc'],rattx['uc'],rattx['un'])"
   ]
  },
  {
   "cell_type": "code",
   "execution_count": null,
   "metadata": {},
   "outputs": [],
   "source": []
  },
  {
   "cell_type": "markdown",
   "metadata": {},
   "source": [
    "#### father-mother numbers"
   ]
  },
  {
   "cell_type": "code",
   "execution_count": null,
   "metadata": {},
   "outputs": [],
   "source": [
    "plots"
   ]
  },
  {
   "cell_type": "code",
   "execution_count": null,
   "metadata": {},
   "outputs": [],
   "source": [
    "txs = ['un','uc','bc']\n",
    "txs"
   ]
  },
  {
   "cell_type": "code",
   "execution_count": null,
   "metadata": {},
   "outputs": [],
   "source": [
    "# get pedigree info and combine by plot\n",
    "plotpars = {}\n",
    "inplots = {}\n",
    "for plot in plots:\n",
    "    plotpars[plot] = []\n",
    "    inplots[plot] = []\n",
    "for samp in assignment:\n",
    "    outs = 0\n",
    "    mom,dad = assignment[samp]\n",
    "    if not mom == 'out-of-plot':\n",
    "        momplot = mom[:3]\n",
    "        momtx = mom[:2]\n",
    "    else:\n",
    "        outs += 1\n",
    "    if not dad == 'out-of-plot':\n",
    "        dadplot = dad[:3]\n",
    "        dadtx = dad[:2]\n",
    "    else:\n",
    "        outs += 1\n",
    "        \n",
    "    if outs == 0 : # if both parents sampled\n",
    "        if dadplot == momplot: # \n",
    "            inplots[dadplot].append(1)\n",
    "        else: # each plot gets a tick\n",
    "            plotpars[dadplot].append(1)\n",
    "            plotpars[momplot].append(1)\n",
    "    if outs == 1 : # if only one parent sampled\n",
    "        if not mom == 'out-of-plot': # if the mom is sampled but not the dad\n",
    "            plotpars[momplot].append(1)\n",
    "        if not dad == 'out-of-plot': # if the dad is sampled but not the mom\n",
    "            plotpars[dadplot].append(1)\n",
    "    if outs == 2 : # if both parents unsampled\n",
    "        1 + 1 # can't bin these by plots "
   ]
  },
  {
   "cell_type": "code",
   "execution_count": null,
   "metadata": {},
   "outputs": [],
   "source": []
  },
  {
   "cell_type": "code",
   "execution_count": null,
   "metadata": {},
   "outputs": [],
   "source": [
    "from collections import Counter"
   ]
  },
  {
   "cell_type": "code",
   "execution_count": null,
   "metadata": {},
   "outputs": [],
   "source": [
    "# for each seed (for each mother)\n",
    "# count if received pollen from out-of-plot\n",
    "c = Counter()\n",
    "for samp in assignment:\n",
    "    mom,dad = assignment[samp]\n",
    "    if not (mom,dad) == ('out-of-plot','out-of-plot'): # if at least one of them is sampled\n",
    "        if not mom == 'out-of-plot':            \n",
    "            momplot = mom[:3]\n",
    "            dadplot = dad[:3]\n",
    "            if momplot != dadplot: # dad could be from another plot or 'out' ('out-of-plot'[:3])\n",
    "                c[momplot] += 1\n",
    "c    "
   ]
  },
  {
   "cell_type": "code",
   "execution_count": null,
   "metadata": {},
   "outputs": [],
   "source": [
    "# count in-plot similarly\n",
    "d = Counter()\n",
    "for samp in assignment:\n",
    "    mom,dad = assignment[samp]\n",
    "    if mom != 'out-of-plot' and dad != 'out-of-plot': # if both parents sampled\n",
    "        momplot = mom[:3]\n",
    "        dadplot = dad[:3]\n",
    "        if momplot == dadplot:\n",
    "            d[momplot] += 1\n",
    "d"
   ]
  },
  {
   "cell_type": "code",
   "execution_count": null,
   "metadata": {},
   "outputs": [],
   "source": [
    "# plot in-plot events\n",
    "f = plt.figure()\n",
    "dsums = {}\n",
    "for plot in d:\n",
    "    tx = plot[:2]\n",
    "    if not tx in dsums:\n",
    "        dsums[tx] = []\n",
    "    dsums[tx].append(d[plot])\n",
    "yerr = [np.std(dsums[tx]) for tx in dsums]\n",
    "plt.bar(range(1,4,1),list([np.mean(dsums[tx]) for tx in dsums]),yerr=yerr,color='gray')\n",
    "plt.xticks(range(1,4,1),list([tx.upper() for tx in dsums]))\n",
    "plt.ylabel('Father-mother in-plot dispersal events')\n",
    "f.savefig('/home/lindb/teakettle/postmoran/figs/mf_in-plot_disp_events.pdf')"
   ]
  },
  {
   "cell_type": "code",
   "execution_count": null,
   "metadata": {},
   "outputs": [],
   "source": [
    "print stats.kruskal(dsums['bc'],dsums['uc'],dsums['un'])"
   ]
  },
  {
   "cell_type": "code",
   "execution_count": null,
   "metadata": {},
   "outputs": [],
   "source": [
    "# plot in-plot events\n",
    "f = plt.figure()\n",
    "csums = {}\n",
    "for plot in c:\n",
    "    tx = plot[:2]\n",
    "    if not tx in csums:\n",
    "        csums[tx] = []\n",
    "    csums[tx].append(c[plot])\n",
    "yerr = [np.std(csums[tx]) for tx in csums]\n",
    "plt.bar(range(1,4,1),list([np.mean(csums[tx]) for tx in csums]),yerr=yerr,color='gray')\n",
    "plt.xticks(range(1,4,1),list([tx.upper() for tx in csums]))\n",
    "plt.ylabel('Father-mother out-of-plot dispersal events')\n",
    "f.savefig('/home/lindb/teakettle/postmoran/figs/mf_out-of-plot_disp_events.pdf')"
   ]
  },
  {
   "cell_type": "code",
   "execution_count": null,
   "metadata": {},
   "outputs": [],
   "source": [
    "csums['bc'].append(0)"
   ]
  },
  {
   "cell_type": "code",
   "execution_count": null,
   "metadata": {},
   "outputs": [],
   "source": [
    "print stats.kruskal(csums['bc'],csums['uc'],csums['un'])"
   ]
  },
  {
   "cell_type": "code",
   "execution_count": null,
   "metadata": {},
   "outputs": [],
   "source": [
    "# plot ratio\n",
    "f = plt.figure()\n",
    "rat = {}\n",
    "for plot in c:\n",
    "    tx = plot[:2]\n",
    "    if not tx in rat:\n",
    "        rat[tx] = []\n",
    "    rat[tx].append(d[plot]/c[plot])\n",
    "yerr = [np.std(rat[tx]) for tx in rat]\n",
    "plt.bar(range(1,4,1),list([np.mean(rat[tx]) for tx in rat]),yerr=yerr,color='gray')\n",
    "plt.xticks(range(1,4,1),list([tx.upper() for tx in rat]))\n",
    "plt.ylabel('Father-mother dispersal events ratio')\n",
    "f.savefig('/home/lindb/teakettle/postmoran/figs/mf_ratio_in-to-out_by_tx.pdf')"
   ]
  },
  {
   "cell_type": "code",
   "execution_count": null,
   "metadata": {},
   "outputs": [],
   "source": [
    "print stats.kruskal(rat['bc'],rat['uc'],rat['un'])"
   ]
  },
  {
   "cell_type": "code",
   "execution_count": null,
   "metadata": {},
   "outputs": [],
   "source": [
    "[(tx,np.mean(rat[tx])) for tx in rat]"
   ]
  },
  {
   "cell_type": "code",
   "execution_count": null,
   "metadata": {},
   "outputs": [],
   "source": [
    "d"
   ]
  },
  {
   "cell_type": "code",
   "execution_count": null,
   "metadata": {},
   "outputs": [],
   "source": []
  },
  {
   "cell_type": "code",
   "execution_count": null,
   "metadata": {},
   "outputs": [],
   "source": []
  },
  {
   "cell_type": "code",
   "execution_count": null,
   "metadata": {},
   "outputs": [],
   "source": []
  },
  {
   "cell_type": "markdown",
   "metadata": {},
   "source": [
    "#### mother-father numbers"
   ]
  },
  {
   "cell_type": "markdown",
   "metadata": {},
   "source": [
    "# what I think I can do\n",
    "1. father-mother distance greater/smaller than expected by chance\n",
    "    1. null would be distribution of all in-plot adults to any adults\n",
    "1. seedling-mother distance greater/smaller than expected by chance\n",
    "    1. null would be distribution of all seedling-mother distances\n",
    "1. father-seedling distances \"\" \"\"\n",
    "    1. \"\" \"\""
   ]
  },
  {
   "cell_type": "markdown",
   "metadata": {},
   "source": [
    "# pollen pool heterogeneity"
   ]
  },
  {
   "cell_type": "code",
   "execution_count": null,
   "metadata": {},
   "outputs": [],
   "source": [
    "# get a list of seedlings per mom with potential fathers\n",
    "moms = {}\n",
    "for seed in assignment:\n",
    "    mom,dad = assignment[seed]\n",
    "    if not mom == 'out-of-plot':\n",
    "        if not dad == 'out-of-plot':\n",
    "            if not mom in moms:\n",
    "                moms[mom] = {}\n",
    "                moms[mom]['seeds'] = []\n",
    "                moms[mom]['dads'] = []\n",
    "            moms[mom]['seeds'].append(seed)\n",
    "            moms[mom]['dads'].append(dad)"
   ]
  },
  {
   "cell_type": "code",
   "execution_count": null,
   "metadata": {},
   "outputs": [],
   "source": [
    "# include only those with greater than one seed\n",
    "nums = []\n",
    "for mom in moms:\n",
    "    l = len(moms[mom]['seeds'])\n",
    "    if l > 1:\n",
    "        print mom, l\n",
    "        nums.append(l)"
   ]
  },
  {
   "cell_type": "code",
   "execution_count": null,
   "metadata": {},
   "outputs": [],
   "source": [
    "plt.hist(nums)[-1]"
   ]
  },
  {
   "cell_type": "code",
   "execution_count": null,
   "metadata": {},
   "outputs": [],
   "source": []
  },
  {
   "cell_type": "code",
   "execution_count": null,
   "metadata": {},
   "outputs": [],
   "source": []
  },
  {
   "cell_type": "code",
   "execution_count": null,
   "metadata": {},
   "outputs": [],
   "source": []
  },
  {
   "cell_type": "code",
   "execution_count": null,
   "metadata": {},
   "outputs": [],
   "source": []
  },
  {
   "cell_type": "code",
   "execution_count": null,
   "metadata": {},
   "outputs": [],
   "source": []
  },
  {
   "cell_type": "code",
   "execution_count": null,
   "metadata": {},
   "outputs": [],
   "source": []
  },
  {
   "cell_type": "code",
   "execution_count": null,
   "metadata": {},
   "outputs": [],
   "source": []
  },
  {
   "cell_type": "code",
   "execution_count": null,
   "metadata": {},
   "outputs": [],
   "source": []
  },
  {
   "cell_type": "code",
   "execution_count": null,
   "metadata": {},
   "outputs": [],
   "source": []
  }
 ],
 "metadata": {
  "kernelspec": {
   "display_name": "Python 2",
   "language": "python",
   "name": "python2"
  },
  "language_info": {
   "codemirror_mode": {
    "name": "ipython",
    "version": 2
   },
   "file_extension": ".py",
   "mimetype": "text/x-python",
   "name": "python",
   "nbconvert_exporter": "python",
   "pygments_lexer": "ipython2",
   "version": "2.7.13"
  }
 },
 "nbformat": 4,
 "nbformat_minor": 2
}
