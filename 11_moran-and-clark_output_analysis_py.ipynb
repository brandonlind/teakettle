{
 "cells": [
  {
   "cell_type": "code",
   "execution_count": null,
   "metadata": {},
   "outputs": [],
   "source": [
    "imp = open('/home/lindb/pythonimports.py').read()\n",
    "exec(imp)\n",
    "from __future__ import division\n",
    "%matplotlib inline "
   ]
  },
  {
   "cell_type": "markdown",
   "metadata": {},
   "source": [
    "##### R magic voodoo"
   ]
  },
  {
   "cell_type": "code",
   "execution_count": null,
   "metadata": {},
   "outputs": [],
   "source": [
    "### set up R\n",
    "def setup_r(): \n",
    "    os.environ['R_HOME'] = '/home/lindb/g/R3/lib64/R/' \n",
    "    os.environ['LD_LIBRARY_PATH'] = \"%s/lib:%s\" % (os.environ['R_HOME'], \n",
    "                                                   os.environ['LD_LIBRARY_PATH'])\n",
    "setup_r()\n",
    "import readline\n",
    "import rpy2.robjects as robjects\n",
    "from rpy2.robjects import pandas2ri as pd2ri\n",
    "pd2ri.activate()\n",
    "r = robjects.r\n",
    "%reload_ext autoreload\n",
    "%autoreload 2\n",
    "%matplotlib inline\n",
    "%load_ext rpy2.ipython\n",
    "%matplotlib inline"
   ]
  },
  {
   "cell_type": "code",
   "execution_count": null,
   "metadata": {},
   "outputs": [],
   "source": [
    "%%R\n",
    "source('/home/lindb/imports.R')\n",
    "sessionInfo()"
   ]
  },
  {
   "cell_type": "code",
   "execution_count": null,
   "metadata": {},
   "outputs": [],
   "source": [
    "def get_r_series(key):\n",
    "    s = pd.Series(get_r(key))\n",
    "    s.index = get_r(\"names(%s)\" % key)\n",
    "    return s\n",
    "\n",
    "def get_r_df(key):\n",
    "    df = pd.DataFrame(get_r(key))\n",
    "    try:\n",
    "        rname = get_r(\"rownames(%s)\" % key)\n",
    "        df.index = rname\n",
    "    except:\n",
    "        pass\n",
    "    \n",
    "    try:\n",
    "        cname = get_r(\"colnames(%s)\" % key)\n",
    "        df.columns = cname\n",
    "    except:\n",
    "        pass\n",
    "    return df\n",
    "\n",
    "def get_r_list(key):\n",
    "    \n",
    "\n",
    "def get_r(key):\n",
    "    return r(key)"
   ]
  },
  {
   "cell_type": "markdown",
   "metadata": {},
   "source": [
    "##### dependencies"
   ]
  },
  {
   "cell_type": "code",
   "execution_count": null,
   "metadata": {},
   "outputs": [],
   "source": [
    "pg = pd.read_csv('/home/lindb/teakettle/postmoran/moran_analysis/assignments.txt',index_col=0,sep='\\t')\n",
    "pg.head()"
   ]
  },
  {
   "cell_type": "code",
   "execution_count": null,
   "metadata": {},
   "outputs": [],
   "source": [
    "geno = pd.read_csv('/home/lindb/teakettle/data/moran/moran_infile_final_jan_wconecounts.txt',header=0,sep='\\t')\n",
    "geno = geno[geno.columns[:6]]\n",
    "geno = geno.loc[np.arange(0,nrow(geno),2),:]\n",
    "geno.index = geno['samp'].tolist()\n",
    "geno = geno[geno.columns[1:]]\n",
    "geno.head()"
   ]
  },
  {
   "cell_type": "code",
   "execution_count": null,
   "metadata": {},
   "outputs": [],
   "source": [
    "# combine data\n",
    "comb = pd.merge(pg,geno,left_index=True,right_index=True)\n",
    "comb.head()"
   ]
  },
  {
   "cell_type": "code",
   "execution_count": null,
   "metadata": {},
   "outputs": [],
   "source": [
    "dbh = {}\n",
    "for samp in comb.index:\n",
    "    dbh[samp] = comb['dbh_11'][samp]"
   ]
  },
  {
   "cell_type": "code",
   "execution_count": null,
   "metadata": {},
   "outputs": [],
   "source": [
    "comb.to_csv('/home/lindb/teakettle/postmoran/moran_analysis/infile_gts_combined.txt',header=True,sep='\\t')"
   ]
  },
  {
   "cell_type": "code",
   "execution_count": null,
   "metadata": {},
   "outputs": [],
   "source": [
    "comb.loc['uc3_new076',['mom','dad']]"
   ]
  },
  {
   "cell_type": "code",
   "execution_count": null,
   "metadata": {},
   "outputs": [],
   "source": [
    "%%R\n",
    "# read into R\n",
    "par.mat <- readRDS('/home/lindb/teakettle/data/gibbs/first/end_of_cyc_files/par.mat.RDS')\n",
    "bframe1 = readRDS('/home/lindb/teakettle/data/moran/dependencies/bframe1.RDS')\n",
    "bframe2 = readRDS('/home/lindb/teakettle/data/moran/dependencies/bframe2.RDS')\n",
    "adults <- bframe1[seq(1,nrow(bframe1),2),'samp']\n",
    "seedlings <- bframe2[seq(1,nrow(bframe2),2),'samp']"
   ]
  },
  {
   "cell_type": "markdown",
   "metadata": {},
   "source": [
    "# look at fractional parentage using assignment probabilities from moran & clark cycles"
   ]
  },
  {
   "cell_type": "code",
   "execution_count": null,
   "metadata": {},
   "outputs": [],
   "source": [
    "DIR = '/home/lindb/teakettle/postmoran/moran_analysis/seedout'\n",
    "if not op.exists(DIR):\n",
    "    mkdir(DIR)"
   ]
  },
  {
   "cell_type": "code",
   "execution_count": null,
   "metadata": {},
   "outputs": [],
   "source": [
    "%%R\n",
    "# get all potential parents\n",
    "DIR = '/home/lindb/teakettle/postmoran/moran_analysis/seedout'\n",
    "for (k in 1:len(par.mat)){\n",
    "    # get df with all non-zero probs\n",
    "    whiches = which(par.mat[[k]] != 0,arr.ind=T)\n",
    "    df = data.frame(whiches)\n",
    "    colnames(df) = c('mom','dad') # mom and dad columns\n",
    "    stopifnot(round(sum(par.mat[[k]][whiches]),2) == 1)\n",
    "    df[,'prob'] = par.mat[[k]][whiches] # add probs\n",
    "    # save df\n",
    "    sname = seedlings[k]\n",
    "    write.table(df,fname(DIR,sprintf(\"%s.txt\",sname)),sep='\\t',row.names=F)\n",
    "}"
   ]
  },
  {
   "cell_type": "code",
   "execution_count": null,
   "metadata": {},
   "outputs": [],
   "source": [
    "# translate num to samp name\n",
    "As = get_r_df('adults')\n",
    "As.loc[599] = 'out-of-plot'\n",
    "adults = {}\n",
    "for row in As.index:\n",
    "    adults[row+1] = As[0][row]\n",
    "Ss = get_r_df('seedlings')\n",
    "seeds = {}\n",
    "for row in Ss.index:\n",
    "    seeds[row+1] = Ss[0][row]"
   ]
  },
  {
   "cell_type": "code",
   "execution_count": null,
   "metadata": {},
   "outputs": [],
   "source": [
    "# for each seedling get a df with potential parents with probabilities\n",
    "DIR = '/home/lindb/teakettle/postmoran/moran_analysis/seedout'\n",
    "pars = {}\n",
    "for f in fs(DIR):\n",
    "    samp = op.basename(f).split(\".txt\")[0]\n",
    "    df = pd.read_csv(f,sep='\\t')\n",
    "    pars[samp] = df"
   ]
  },
  {
   "cell_type": "code",
   "execution_count": null,
   "metadata": {},
   "outputs": [],
   "source": [
    "pkldump(pars,'/home/lindb/teakettle/postmoran/moran_analysis/pars.pkl')"
   ]
  },
  {
   "cell_type": "code",
   "execution_count": null,
   "metadata": {},
   "outputs": [],
   "source": [
    "pkldump(adults,'/home/lindb/teakettle/postmoran/moran_analysis/adults.pkl')"
   ]
  },
  {
   "cell_type": "code",
   "execution_count": null,
   "metadata": {},
   "outputs": [],
   "source": [
    "pars[samp].head(),sum(pars[samp]['prob'])"
   ]
  },
  {
   "cell_type": "code",
   "execution_count": null,
   "metadata": {},
   "outputs": [],
   "source": [
    "# look at distribution of max probabilities\n",
    "maxs = []\n",
    "for samp in pars.keys():\n",
    "    maxs.append(pars[samp]['prob'].max())\n",
    "plt.hist(maxs)"
   ]
  },
  {
   "cell_type": "code",
   "execution_count": null,
   "metadata": {},
   "outputs": [],
   "source": [
    "# how does the probabilities shake out over probability classes?\n",
    "sums = len(maxs)\n",
    "for thresh in np.arange(0,1,.1):\n",
    "    l = len([x for x in maxs if x > thresh])\n",
    "    sums +- l\n",
    "    print thresh,l\n",
    "sums"
   ]
  },
  {
   "cell_type": "code",
   "execution_count": null,
   "metadata": {},
   "outputs": [],
   "source": [
    "# replicate moran's method of IDing most likely father/mother pair\n",
    "mothers = []\n",
    "fathers = []\n",
    "for samp in pars:\n",
    "    row,col,probidx = pars[samp].idxmax()\n",
    "    row,col,prob = pars[samp].loc[probidx,:]\n",
    "    mothers.append(row)\n",
    "    fathers.append(col)"
   ]
  },
  {
   "cell_type": "code",
   "execution_count": null,
   "metadata": {},
   "outputs": [],
   "source": [
    "# check and compare to table(m) from 06a...ipynb\n",
    "t = table(mothers)\n",
    "t"
   ]
  },
  {
   "cell_type": "code",
   "execution_count": null,
   "metadata": {},
   "outputs": [],
   "source": [
    "# check and compare using samp names\n",
    "# print mother samp name, noff, mother dbh\n",
    "for k,v in t.iteritems():\n",
    "    if adults[int(k)] == 'out-of-plot':\n",
    "        print '\\t',adults[int(k)],v\n",
    "    else:\n",
    "        print adults[int(k)],v, dbh[adults[int(k)]]"
   ]
  },
  {
   "cell_type": "code",
   "execution_count": null,
   "metadata": {},
   "outputs": [],
   "source": [
    "# check and compare to table(f) from 06a...ipynb\n",
    "t2 = table(fathers)\n",
    "t2"
   ]
  },
  {
   "cell_type": "code",
   "execution_count": null,
   "metadata": {},
   "outputs": [],
   "source": [
    "# print father samp name, noff, father dbh\n",
    "for k,v in t2.iteritems():\n",
    "    if adults[int(k)] == 'out-of-plot':\n",
    "        print '\\t',adults[int(k)],v\n",
    "    else:\n",
    "        print adults[int(k)],v, dbh[adults[int(k)]]"
   ]
  },
  {
   "cell_type": "code",
   "execution_count": null,
   "metadata": {},
   "outputs": [],
   "source": [
    "# make sure each df['prob'] sums to 1.0\n",
    "for samp in pars:\n",
    "    assert \"%.2f\" % sum(pars[samp]['prob'].tolist()) == '1.00'"
   ]
  },
  {
   "cell_type": "code",
   "execution_count": null,
   "metadata": {},
   "outputs": [],
   "source": [
    "pars[samp].head()"
   ]
  },
  {
   "cell_type": "code",
   "execution_count": null,
   "metadata": {},
   "outputs": [],
   "source": [
    "# create blank dataframe\n",
    "momheat = OrderedDict()\n",
    "dadheat = OrderedDict()\n",
    "for adult in adults.values():\n",
    "    momheat[adult] = OrderedDict()\n",
    "    dadheat[adult] = OrderedDict()\n",
    "    for juv in seeds.values():\n",
    "        momheat[adult][juv] = float(0.0)\n",
    "        dadheat[adult][juv] = float(0.0)\n",
    "# fill in non-zero probability values\n",
    "for samp in pars:\n",
    "    for idx in pars[samp].index:\n",
    "        mom,dad,prob = pars[samp].loc[idx,]\n",
    "        mom = adults[int(mom)]\n",
    "        dad = adults[int(dad)]\n",
    "        if momheat[mom][samp] == 0.0:\n",
    "            momheat[mom][samp] = float(prob)\n",
    "        else:\n",
    "            momheat[mom][samp] += float(prob)\n",
    "        if dadheat[dad][samp] == 0.0:\n",
    "            dadheat[dad][samp] = float(prob)\n",
    "        else:\n",
    "            dadheat[dad][samp] += float(prob)"
   ]
  },
  {
   "cell_type": "code",
   "execution_count": null,
   "metadata": {},
   "outputs": [],
   "source": [
    "DIR = '/home/lindb/teakettle/postmoran/moran_analysis/heat'\n",
    "if not op.exists(DIR):\n",
    "    mkdir(DIR)\n",
    "mh = pd.DataFrame(momheat)\n",
    "mh.to_csv(op.join(DIR,'momheat.txt'),sep='\\t')\n",
    "dh = pd.DataFrame(dadheat)\n",
    "dh.to_csv(op.join(DIR,'dadheat.txt'),sep='\\t')"
   ]
  },
  {
   "cell_type": "code",
   "execution_count": null,
   "metadata": {},
   "outputs": [],
   "source": [
    "mh.head()"
   ]
  },
  {
   "cell_type": "code",
   "execution_count": null,
   "metadata": {},
   "outputs": [],
   "source": [
    "head(dh)"
   ]
  },
  {
   "cell_type": "code",
   "execution_count": null,
   "metadata": {},
   "outputs": [],
   "source": [
    "# assert probs sum to 1\n",
    "for row in dh.index:\n",
    "    assert round(sum(dh.loc[row,:].tolist()),2) == 1"
   ]
  },
  {
   "cell_type": "code",
   "execution_count": null,
   "metadata": {},
   "outputs": [],
   "source": [
    "# assert probs sum to 1\n",
    "for row in mh.index:\n",
    "    assert round(sum(mh.loc[row,:].tolist()),2) == 1"
   ]
  },
  {
   "cell_type": "code",
   "execution_count": null,
   "metadata": {},
   "outputs": [],
   "source": [
    "%%R\n",
    "# prep matrices for heatmap\n",
    "mom = read.csv('~/teakettle/postmoran/moran_analysis/heat/momheat.txt',sep='\\t',stringsAsFactors=F)\n",
    "rownames(mom) <- mom$X\n",
    "seedlings <- rownames(mom)\n",
    "adults <- colnames(mom)\n",
    "mom <- mom[,-1]\n",
    "dad = read.csv('/home/lindb/teakettle/postmoran/moran_analysis/heat/dadheat.txt',sep='\\t',stringsAsFactors=F)\n",
    "rownames(dad) <- dad$X\n",
    "dad <- dad[,-1]\n",
    "m = as.matrix(mom)\n",
    "d = as.matrix(dad)\n",
    "# log transform non-zero values\n",
    "whiches    = which(m != 0)\n",
    "m[whiches] = log(m[whiches],base=10) #,base=10\n",
    "whiches    = which(d != 0)\n",
    "d[whiches] = log(d[whiches],base=10)"
   ]
  },
  {
   "cell_type": "code",
   "execution_count": null,
   "metadata": {},
   "outputs": [],
   "source": [
    "%%R\n",
    "# determine abline locations\n",
    "# which seedlings belong to which treatments\n",
    "bcs = which(grepl('bc',seedlings) == T)\n",
    "ucs = which(grepl('uc',seedlings) == T)\n",
    "uns = which(grepl('un',seedlings) == T)\n",
    "bcseedline = max(bcs) # border line\n",
    "ucseedline = max(ucs) # border line\n",
    "# which adults belong to which treatments\n",
    "abc = which(grepl('bc',adults) == T)\n",
    "auc = which(grepl('uc',adults) == T)\n",
    "aun = which(grepl('un',adults) == T)\n",
    "bcad = max(abc)\n",
    "ucad = max(auc)\n",
    "# was going to use this to label margins, but will just do this in Illustrator\n",
    "bcsat = (diff(range(bcs))/2)+min(bcs)\n",
    "ucsat = (diff(range(ucs))/2)+min(ucs)\n",
    "unsat = (diff(range(uns))/2)+min(uns)\n",
    "abcat = (diff(range(abc))/2)+min(abc)\n",
    "aucat = (diff(range(auc))/2)+min(auc)\n",
    "aunat = (diff(range(aun))/2)+min(aun)"
   ]
  },
  {
   "cell_type": "code",
   "execution_count": null,
   "metadata": {},
   "outputs": [],
   "source": [
    "%%R\n",
    "# plot heatmap for fractional parentage for seedling assignment to a given mother tree\n",
    "my_palette <- colorRampPalette(rev(c(\"black\",\"red\",\"orange\",\"yellow\",\"white\")))(n = 499)\n",
    "heatmap(m,col=my_palette,Rowv=NA,Colv=NA,scale=\"none\",\n",
    "        labRow=FALSE,labCol=FALSE,xlab=\"Mothers\",ylab=\"Seedlings\",margins=c(2,2),\n",
    "        add.expr = abline(h=c(bcseedline,ucseedline), v=c(bcad,ucad),lwd=.75,col=\"white\")\n",
    "       )"
   ]
  },
  {
   "cell_type": "code",
   "execution_count": null,
   "metadata": {},
   "outputs": [],
   "source": [
    "%%R\n",
    "# plot heatmap for fractional parentage for seedling assignment to a given father tree\n",
    "heatmap(d,col=my_palette,Rowv=NA,Colv=NA,scale=\"none\",\n",
    "        labRow=FALSE,labCol=FALSE,xlab=\"Fathers\",ylab=\"Seedlings\",margins=c(4,4),\n",
    "        add.expr = abline(h=c(bcseedline,ucseedline), v=c(bcad,ucad),lwd=.75,col=\"white\")\n",
    "       )\n",
    "mtext(c('bc','uc','un'),side=2,at=c(bcsat,ucsat,unsat))"
   ]
  },
  {
   "cell_type": "code",
   "execution_count": null,
   "metadata": {},
   "outputs": [],
   "source": [
    "%%R\n",
    "# make sure partitions are where I expect them to be\n",
    "lapply(list(bcs,ucs,uns),FUN=len)"
   ]
  },
  {
   "cell_type": "code",
   "execution_count": null,
   "metadata": {},
   "outputs": [],
   "source": [
    "%%R\n",
    "# make sure partitions are where I expect them to be\n",
    "lapply(list(abc,auc,aun),FUN=len)"
   ]
  },
  {
   "cell_type": "code",
   "execution_count": null,
   "metadata": {},
   "outputs": [],
   "source": [
    "# triple check blocking of figure"
   ]
  },
  {
   "cell_type": "markdown",
   "metadata": {},
   "source": [
    "# ideas to test"
   ]
  },
  {
   "cell_type": "markdown",
   "metadata": {},
   "source": [
    "* compare all below by treatment and between seeds/pollen (mom to seed, father to seed, father to mother)\n",
    "\n",
    "\n",
    "1. mean dispersal distance within treatment \n",
    "    1. father to seed could be an 'extended/effective dispersal'\n",
    "1. mean dispersal distance out of treatment - but how to account for proximity of other plots?\n",
    "    1. can address concern with permutations\n",
    "1. number of out of plot dispersals \n",
    "    1. may be able to account for prox of plots by lumping 'unknown parents' and 'out-of-plot' parents\n",
    "1. ratio of within to without \n",
    "    1. number of dispersals\n",
    "    1. distances of dispersals\n",
    "\n",
    "\n",
    "* using vector of potential parents (PP)\n",
    "\n",
    "\n",
    "1. mean number of PPs within treatment\n",
    "1. mean number of PPs outside of treatment\n",
    "1. also by weighting PP by prob"
   ]
  },
  {
   "cell_type": "markdown",
   "metadata": {},
   "source": [
    "### dependencies"
   ]
  },
  {
   "cell_type": "code",
   "execution_count": null,
   "metadata": {},
   "outputs": [],
   "source": [
    "# transpose dataframes so I can more easily access fractional parentage by key=seedling.ID\n",
    "dhtrans = dh.transpose()\n",
    "mhtrans = mh.transpose()"
   ]
  },
  {
   "cell_type": "code",
   "execution_count": null,
   "metadata": {},
   "outputs": [],
   "source": [
    "dhtrans.head()"
   ]
  },
  {
   "cell_type": "code",
   "execution_count": null,
   "metadata": {},
   "outputs": [],
   "source": [
    "comb.head()"
   ]
  },
  {
   "cell_type": "code",
   "execution_count": null,
   "metadata": {},
   "outputs": [],
   "source": [
    "# get utm coordinates for each sample\n",
    "utm = {}\n",
    "for samp in comb.index.tolist():\n",
    "    utm[samp] = [comb['xutm'][samp],\n",
    "                 comb['yutm'][samp]]"
   ]
  },
  {
   "cell_type": "code",
   "execution_count": null,
   "metadata": {},
   "outputs": [],
   "source": [
    "def collapsedf(df,par):\n",
    "    # sum probs for a given mom or dad if they appear in more than one pedigree\n",
    "    # don't actually need this, but oh well\n",
    "    if nrow(df) == 0:\n",
    "        return df\n",
    "    df2 = OrderedDict()\n",
    "    for x in ['mom','dad','prob']:\n",
    "        df2[x] = OrderedDict()\n",
    "    if par == 'mom':\n",
    "        col = df.columns[0]\n",
    "        seedcol = df.columns[1]\n",
    "    else:\n",
    "        col = df.columns[1]\n",
    "        seedcol = df.columns[0]\n",
    "    assert luni(df[seedcol]) == 1\n",
    "    seed = uni(df[seedcol])[0]\n",
    "    if luni(df[col]) == nrow(df):\n",
    "        return df\n",
    "    else:\n",
    "        count = 0\n",
    "        df2[col] = OrderedDict()\n",
    "        df2[seedcol] = OrderedDict()\n",
    "        df2['prob'] = OrderedDict()\n",
    "        for p in uni(df[col]):\n",
    "            d = df[df[col]==p].copy()\n",
    "            sums = sum(d['prob'])\n",
    "            df2[col][count] = p\n",
    "            df2[seedcol][count] = seed\n",
    "            df2['prob'][count] = sums\n",
    "            count += 1\n",
    "    return pd.DataFrame(df2)\n",
    "def distance(i1 ,i2):\n",
    "    # euclidean distance\n",
    "    xdiff = (utm[i1][0] - utm[i2][0])**2\n",
    "    ydiff = (utm[i1][1] - utm[i2][1])**2\n",
    "    return np.sqrt(xdiff+ydiff)\n",
    "def wtd_dist(seed,par,bytx=False,without=False,byplot=False,bynum=False,weights=False):\n",
    "    # weight par-off or mother-father distances by probability of parentage\n",
    "    df = pars[seed].copy()\n",
    "    if par == 'mom':\n",
    "        df = df[df['mom'] != 600].copy()\n",
    "        df.loc[:,'mom'] = [adults[int(x)] for x in df['mom']]\n",
    "        df.loc[:,'dad'] = [seed for x in range(len(df))]\n",
    "        df = collapsedf(df,'mom')\n",
    "    elif par == 'dad':\n",
    "        df = df[df['dad'] != 600].copy()\n",
    "        df.loc[:,'dad'] = [adults[int(x)] for x in df['dad']]\n",
    "        df.loc[:,'mom'] = [seed for x in range(len(df))]\n",
    "        df = collapsedf(df,'dad')\n",
    "    else:\n",
    "        df = df[df['mom'] != 600].copy()\n",
    "        df = df[df['dad'] != 600].copy()\n",
    "        df.loc[:,'mom'] = [adults[int(x)] for x in df['mom'].tolist()]\n",
    "        df.loc[:,'dad'] = [adults[int(x)] for x in df['dad'].tolist()] \n",
    "#        return df\n",
    "    if bytx == True or byplot == True:\n",
    "        if bytx:\n",
    "            tx = seed[:2]\n",
    "            Dict = txsamps\n",
    "        if byplot:\n",
    "            tx = seed[:3]\n",
    "            Dict = plotsamps\n",
    "#         if luni(df['mom']) == 1: # but what about nrow(df) == 1\n",
    "        if par == 'mom':\n",
    "            cols = ['mom']\n",
    "#         elif luni(df['dad']) == 1:\n",
    "        elif par == 'dad':\n",
    "            cols = ['dad']\n",
    "        else:\n",
    "            cols = ['mom','dad']\n",
    "        for col in cols:\n",
    "            if without == False: # if only looking at samps within the tx/plot\n",
    "                df = df[df[col].isin(Dict[tx])].copy()\n",
    "            else:\n",
    "                df = df[df[col].isin(Dict[tx])==False].copy()\n",
    "    if bynum == True:\n",
    "        if weights == False:\n",
    "            return(nrow(df))\n",
    "        else:\n",
    "            probsum = sum(df['prob'])\n",
    "            return [nrow(df),probsum]\n",
    "    if nrow(df) == 0:\n",
    "        return 'NA'\n",
    "    sums = 0\n",
    "    probsum = sum(df['prob'])\n",
    "    df.index = range(nrow(df))\n",
    "    for idx in df.index:\n",
    "        ind1,ind2,prob = df.loc[idx,]\n",
    "        d = distance(ind1,ind2)\n",
    "        p = prob/probsum\n",
    "        s = d*p\n",
    "        sums += s\n",
    "    return sums"
   ]
  },
  {
   "cell_type": "code",
   "execution_count": null,
   "metadata": {},
   "outputs": [],
   "source": [
    "wtd = {}\n",
    "for plot in plotseeds:\n",
    "    wts = []\n",
    "    ns  = []\n",
    "    nwtd = []\n",
    "    wtd[plot] = []\n",
    "    for seed in plotseeds[plot]:\n",
    "        n,probsum = wtd_dist(seed,'mom',byplot=True,bynum=True,weights=True)\n",
    "        ns.append(n)\n",
    "        wts.append(probsum)\n",
    "        nwtd.append(n*probsum)\n",
    "    denom = np.mean(wts)*len(plotadults[plot])\n",
    "#     num = sum(nwtd)/len(plotseeds[plot])\n",
    "    num = sum(nwtd)\n",
    "    print plot, num/denom\n",
    "    wtd[plot] = num/denom\n",
    "wtdtx = {}\n",
    "for plot in plotseeds:\n",
    "    tx = plot[:2]\n",
    "    if not tx in wtdtx:\n",
    "        wtdtx[tx] = []\n",
    "    wtdtx[tx].append(wtd[plot])\n",
    "for tx in wtdtx:\n",
    "    print tx,np.mean(wtdtx[tx])"
   ]
  },
  {
   "cell_type": "code",
   "execution_count": null,
   "metadata": {},
   "outputs": [],
   "source": [
    "wtd = {}\n",
    "for plot in plotseeds:\n",
    "    wts = []\n",
    "    ns  = []\n",
    "    nwtd = []\n",
    "    wtd[plot] = []\n",
    "    for seed in plotseeds[plot]:\n",
    "        n,probsum = wtd_dist(seed,'par',byplot=True,bynum=True,weights=True)\n",
    "        ns.append(n)\n",
    "        wts.append(probsum)\n",
    "        nwtd.append(n*probsum)\n",
    "    denom = np.mean(wts)*len(plotadults[plot])\n",
    "#     num = sum(nwtd)/len(plotseeds[plot])\n",
    "    num = sum(nwtd)\n",
    "    print plot, num/denom ,len(plotsamps[plot]),len(plotadults[plot]),len(plotseeds[plot])\n",
    "    wtd[plot] = num/denom\n",
    "wtdtx = {}\n",
    "for plot in plotseeds:\n",
    "    tx = plot[:2]\n",
    "    if not tx in wtdtx:\n",
    "        wtdtx[tx] = []\n",
    "    wtdtx[tx].append(wtd[plot])\n",
    "for tx in wtdtx:\n",
    "    print tx,np.mean(wtdtx[tx])"
   ]
  },
  {
   "cell_type": "code",
   "execution_count": null,
   "metadata": {},
   "outputs": [],
   "source": [
    "wtd = {}\n",
    "for plot in plotseeds:\n",
    "    wts = []\n",
    "    ns  = []\n",
    "    nwtd = []\n",
    "    wtd[plot] = []\n",
    "    for seed in plotseeds[plot]:\n",
    "        n,probsum = wtd_dist(seed,'par',byplot=True,bynum=True,weights=True)\n",
    "        ns.append(n)\n",
    "        wts.append(probsum)\n",
    "        nwtd.append(n*probsum)\n",
    "    denom = np.mean(wts)*len(plotadults[plot])\n",
    "#     num = sum(nwtd)/len(plotseeds[plot])\n",
    "#     num = sum(nwtd)\n",
    "    num = sum(nwtd)/len(plotseeds[plot])\n",
    "#     print plot, num/denom ,len(plotsamps[plot]),len(plotadults[plot]),len(plotseeds[plot])\n",
    "#     wtd[plot] = num/denom\n",
    "    wtd[plot] = num\n",
    "    print plot, num, len(plotadults[plot])\n",
    "wtdtx = {}\n",
    "for plot in plotseeds:\n",
    "    tx = plot[:2]\n",
    "    if not tx in wtdtx:\n",
    "        wtdtx[tx] = []\n",
    "    wtdtx[tx].append(wtd[plot])\n",
    "for tx in wtdtx:\n",
    "    print tx,np.mean(wtdtx[tx])"
   ]
  },
  {
   "cell_type": "code",
   "execution_count": null,
   "metadata": {},
   "outputs": [],
   "source": [
    "print seed\n",
    "df = pars[seed].copy()\n",
    "df.loc[:,'mom'] = [adults[int(x)] for x in df['mom'].tolist()]\n",
    "df.loc[:,'dad'] = [adults[int(x)] for x in df['dad'].tolist()]\n",
    "df[df['mom'].isin(txsamps['un'])==False]"
   ]
  },
  {
   "cell_type": "markdown",
   "metadata": {},
   "source": [
    "# overal mean dispersal from moran & clark outputs"
   ]
  },
  {
   "cell_type": "code",
   "execution_count": null,
   "metadata": {},
   "outputs": [],
   "source": [
    "# ID most likely father/mother pair for each seedling\n",
    "assignment = {}\n",
    "for samp in pars:\n",
    "    row,col,probidx = pars[samp].idxmax()\n",
    "    row,col,prob = pars[samp].loc[probidx,:]\n",
    "    assignment[samp] = [adults[int(row)],adults[int(col)]]\n",
    "#    print samp,assignment[samp]"
   ]
  },
  {
   "cell_type": "markdown",
   "metadata": {},
   "source": [
    "#### mother-offspring"
   ]
  },
  {
   "cell_type": "code",
   "execution_count": null,
   "metadata": {},
   "outputs": [],
   "source": [
    "moffdisp = {}\n",
    "moffdisptx = {}\n",
    "for samp in assignment:\n",
    "    plot = samp[:3]\n",
    "    tx   = samp[:2]\n",
    "    if not plot in moffdisp:\n",
    "        moffdisp[plot] = []\n",
    "    if not tx in moffdisptx:\n",
    "        moffdisptx[tx] = []\n",
    "    mom,dad = assignment[samp]\n",
    "    if mom != 'out-of-plot':\n",
    "        d = distance(mom,samp)\n",
    "        moffdisp[plot].append(d)\n",
    "        moffdisptx[tx].append(d)\n",
    "for tx in moffdisptx:\n",
    "    print tx,np.mean(moffdisptx[tx]),np.median(moffdisptx[tx])"
   ]
  },
  {
   "cell_type": "code",
   "execution_count": null,
   "metadata": {},
   "outputs": [],
   "source": [
    "print stats.kruskal(moffdisptx['bc'],moffdisptx['uc'],moffdisptx['un']).pvalue\n",
    "for i,txi in enumerate(moffdisptx.keys()):\n",
    "    for j,txj in enumerate(moffdisptx.keys()):\n",
    "        if i > j:\n",
    "            print txi,round(np.median(moffdisptx[txi]),2),txj,round(np.median(moffdisptx[txj]),2)\n",
    "            print stats.kruskal(moffdisptx[txi],moffdisptx[txj]).pvalue"
   ]
  },
  {
   "cell_type": "markdown",
   "metadata": {},
   "source": [
    "#### mother-father"
   ]
  },
  {
   "cell_type": "code",
   "execution_count": null,
   "metadata": {},
   "outputs": [],
   "source": [
    "mfdisp = {}\n",
    "mfdisptx = {}\n",
    "for samp in assignment:\n",
    "    plot = samp[:3]\n",
    "    tx = samp[:2]\n",
    "    if not plot in mfdisp:\n",
    "        mfdisp[plot] = []\n",
    "    if not tx in mfdisptx:\n",
    "        mfdisptx[tx] = []\n",
    "    mom,dad = assignment[samp]\n",
    "    if not 'out-of-plot' in [mom,dad]:\n",
    "        d = distance(mom,dad)\n",
    "        mfdisp[plot].append(d)\n",
    "        mfdisptx[tx].append(d)\n",
    "for tx in mfdisptx:\n",
    "    print tx,np.mean(mfdisptx[tx]),np.median(mfdisptx[tx])"
   ]
  },
  {
   "cell_type": "code",
   "execution_count": null,
   "metadata": {},
   "outputs": [],
   "source": [
    "print stats.kruskal(mfdisptx['bc'],mfdisptx['uc'],mfdisptx['un']).pvalue\n",
    "for i,txi in enumerate(mfdisptx.keys()):\n",
    "    for j,txj in enumerate(mfdisptx.keys()):\n",
    "        if i > j:\n",
    "            print txi,txj\n",
    "            print stats.kruskal(mfdisptx[txi],mfdisptx[txj]).pvalue"
   ]
  },
  {
   "cell_type": "code",
   "execution_count": null,
   "metadata": {},
   "outputs": [],
   "source": [
    "x = stats.kruskal(mfdisptx['bc'],mfdisptx['uc'],mfdisptx['un'])\n",
    "x.pvalue"
   ]
  },
  {
   "cell_type": "markdown",
   "metadata": {},
   "source": [
    "#### father-offspring"
   ]
  },
  {
   "cell_type": "code",
   "execution_count": null,
   "metadata": {},
   "outputs": [],
   "source": [
    "doffdisp = {}\n",
    "doffdisptx = {}\n",
    "for samp in assignment:\n",
    "    plot = samp[:3]\n",
    "    tx = samp[:2]\n",
    "    if not plot in doffdisp:\n",
    "        doffdisp[plot] = []\n",
    "    if not tx in doffdisptx:\n",
    "        doffdisptx[tx] = []\n",
    "    mom,dad = assignment[samp]\n",
    "    if not dad == 'out-of-plot':\n",
    "        d = distance(samp,dad)\n",
    "        doffdisp[plot].append(d)\n",
    "        doffdisptx[tx].append(d)\n",
    "for tx in doffdisptx:\n",
    "    print tx,np.mean(doffdisptx[tx]),np.median(doffdisptx[tx])"
   ]
  },
  {
   "cell_type": "code",
   "execution_count": null,
   "metadata": {},
   "outputs": [],
   "source": [
    "print stats.kruskal(doffdisptx['bc'],doffdisptx['uc'],doffdisptx['un']).pvalue\n",
    "for i,txi in enumerate(doffdisptx.keys()):\n",
    "    for j,txj in enumerate(doffdisptx.keys()):\n",
    "        if i > j:\n",
    "            print txi,txj\n",
    "            print stats.kruskal(doffdisptx[txi],doffdisptx[txj]).pvalue"
   ]
  },
  {
   "cell_type": "code",
   "execution_count": null,
   "metadata": {},
   "outputs": [],
   "source": []
  },
  {
   "cell_type": "code",
   "execution_count": null,
   "metadata": {},
   "outputs": [],
   "source": []
  },
  {
   "cell_type": "code",
   "execution_count": null,
   "metadata": {},
   "outputs": [],
   "source": []
  },
  {
   "cell_type": "markdown",
   "metadata": {},
   "source": [
    "# overall mean dispersal from fractional parentage"
   ]
  },
  {
   "cell_type": "markdown",
   "metadata": {},
   "source": [
    "## $D_{i} = \\sum_{j=1}^n (d_{j}*p_{j}) / n$\n",
    "### $p_{j} = $ \n",
    "\n",
    "where $D_i$ = weighted mean distance for $seedling_i$ over each *j* of the *n* non-zero parent-offspring or mother-father probabilities each with distance $d_j$ and probability $p_j$"
   ]
  },
  {
   "cell_type": "code",
   "execution_count": null,
   "metadata": {},
   "outputs": [],
   "source": [
    "# problem is that I can only calc distances for non out-of-plot, \n",
    "# therefore it is likely that for any list of possible in-plot parents sum(probs) << 1"
   ]
  },
  {
   "cell_type": "code",
   "execution_count": null,
   "metadata": {},
   "outputs": [],
   "source": [
    "### mother-offspring distances\n",
    "# can't do for each mother since vector of off probs won't sum to 1\n",
    "# can only do for each seed\n",
    "moff = {}\n",
    "for seed in mh.index.tolist():\n",
    "    moff[seed] = wtd_dist(seed,'mom')\n",
    "#     print seed,moff[seed]"
   ]
  },
  {
   "cell_type": "code",
   "execution_count": null,
   "metadata": {},
   "outputs": [],
   "source": [
    "vals = [val for val in moff.values() if not val == 'NA']\n",
    "print np.mean(vals),np.median(vals)\n",
    "plt.hist(vals,bins=100)[-1]"
   ]
  },
  {
   "cell_type": "code",
   "execution_count": null,
   "metadata": {},
   "outputs": [],
   "source": [
    "### father-offspring distances\n",
    "# can't do for each father since vector of off probs won't sum to 1\n",
    "# can only do for each seed\n",
    "doff = {}\n",
    "for seed in mh.index.tolist():\n",
    "    doff[seed] = wtd_dist(seed,'dad')\n",
    "#     print seed,doff[seed]"
   ]
  },
  {
   "cell_type": "code",
   "execution_count": null,
   "metadata": {},
   "outputs": [],
   "source": [
    "print np.mean(doff.values()),np.median(doff.values())\n",
    "plt.hist(doff.values(),bins=15)[-1]"
   ]
  },
  {
   "cell_type": "code",
   "execution_count": null,
   "metadata": {},
   "outputs": [],
   "source": [
    "# mother-father distances\n",
    "mfs = []\n",
    "for seed in pars:\n",
    "    mfs.append( wtd_dist(seed,'par'))"
   ]
  },
  {
   "cell_type": "code",
   "execution_count": null,
   "metadata": {},
   "outputs": [],
   "source": [
    "plt.hist([x for x in mfs if x!='NA'],bins=50)[-1]"
   ]
  },
  {
   "cell_type": "markdown",
   "metadata": {},
   "source": [
    "# mean dispersal by tx using fractional parentage"
   ]
  },
  {
   "cell_type": "code",
   "execution_count": null,
   "metadata": {},
   "outputs": [],
   "source": [
    "# list of samps by tx\n",
    "txsamps = {}\n",
    "txseeds = {}\n",
    "for pop in uni(comb['pop'].tolist()):\n",
    "    if not pop == 'us':\n",
    "        df = comb[comb['pop']==pop].copy()\n",
    "        txsamps[pop] = df.index.tolist()\n",
    "        txseeds[pop] = [x for x in df.index.tolist() if 'new' in x]\n",
    "        print pop,len(txsamps[pop]),len(txseeds[pop])"
   ]
  },
  {
   "cell_type": "code",
   "execution_count": null,
   "metadata": {},
   "outputs": [],
   "source": [
    "# list of samps by plot\n",
    "plotsamps  = {}\n",
    "plotseeds  = {}\n",
    "plotadults = {}\n",
    "for samp in comb.index.tolist():\n",
    "    plot = samp[:3]\n",
    "    if not plot == 'us3':\n",
    "        if not plot in plotsamps:\n",
    "            plotsamps[plot] = []\n",
    "        if not plot in plotseeds:\n",
    "            plotseeds[plot] = []\n",
    "        if not plot in plotadults:\n",
    "            plotadults[plot] = []\n",
    "        if 'new' in samp:\n",
    "            plotseeds[plot].append(samp)\n",
    "        else:\n",
    "            plotadults[plot].append(samp)\n",
    "        plotsamps[plot].append(samp) # want adults and seeds\n",
    "        assert len(plotsamps[plot]) == len(plotseeds[plot]) + len(plotadults[plot])\n",
    "for plot in plotsamps:\n",
    "    print plot, len(plotsamps[plot]),len(plotseeds[plot]),len(plotadults[plot])"
   ]
  },
  {
   "cell_type": "code",
   "execution_count": null,
   "metadata": {},
   "outputs": [],
   "source": [
    "'new' in 'bc1_1179','new' in 'bc1_new003'"
   ]
  },
  {
   "cell_type": "markdown",
   "metadata": {},
   "source": [
    "#### mother-offspring distances by treatment"
   ]
  },
  {
   "cell_type": "code",
   "execution_count": null,
   "metadata": {},
   "outputs": [],
   "source": [
    "txmoff = {}\n",
    "for tx in txsamps:\n",
    "    txmoff[tx] = {}\n",
    "    for samp in txseeds[tx]:\n",
    "        txmoff[tx][samp] = wtd_dist(samp,'mom')"
   ]
  },
  {
   "cell_type": "code",
   "execution_count": null,
   "metadata": {},
   "outputs": [],
   "source": [
    "vals = {}\n",
    "for tx in txsamps:\n",
    "    v = [val for val in txmoff[tx].values() if not val == 'NA']\n",
    "    vals[tx] = np.mean(v)\n",
    "    print tx,np.mean(v),np.median(v)\n",
    "x = np.arange(3)\n",
    "plt.bar(range(len(vals)),list(vals.values()))[-1]\n",
    "plt.xticks(range(len(vals)), list(vals.keys()))\n",
    "plt.title('Mother-offspring distances by treatment')"
   ]
  },
  {
   "cell_type": "markdown",
   "metadata": {},
   "source": [
    "#### father-offspring distances by treatment"
   ]
  },
  {
   "cell_type": "code",
   "execution_count": null,
   "metadata": {},
   "outputs": [],
   "source": [
    "txdoff = {}\n",
    "for tx in txsamps:\n",
    "    txdoff[tx] = {}\n",
    "    for samp in txseeds[tx]:\n",
    "        txdoff[tx][samp] = wtd_dist(samp,'dad')"
   ]
  },
  {
   "cell_type": "code",
   "execution_count": null,
   "metadata": {},
   "outputs": [],
   "source": [
    "vals = {}\n",
    "for tx in txsamps:\n",
    "    v = [val for val in txdoff[tx].values() if not val == 'NA']\n",
    "    vals[tx] = np.mean(v)\n",
    "    print tx,np.mean(v),np.median(v)\n",
    "x = np.arange(3)\n",
    "plt.bar(range(len(vals)),list(vals.values()))[-1]\n",
    "plt.xticks(range(len(vals)), list(vals.keys()))\n",
    "plt.title('Father-offspring distances by treatment')"
   ]
  },
  {
   "cell_type": "markdown",
   "metadata": {},
   "source": [
    "#### mother-father distances by treatment"
   ]
  },
  {
   "cell_type": "code",
   "execution_count": null,
   "metadata": {},
   "outputs": [],
   "source": [
    "txmf = {}\n",
    "for tx in txsamps:\n",
    "    txmf[tx] = {}\n",
    "    for samp in txseeds[tx]:\n",
    "        txmf[tx][samp] = wtd_dist(samp,'par')"
   ]
  },
  {
   "cell_type": "code",
   "execution_count": null,
   "metadata": {},
   "outputs": [],
   "source": [
    "vals = {}\n",
    "for tx in txsamps:\n",
    "    v = [val for val in txmf[tx].values() if not val == 'NA']\n",
    "    vals[tx] = np.mean(v)\n",
    "    print tx,np.mean(v),np.median(v)\n",
    "x = np.arange(3)\n",
    "plt.bar(range(len(vals)),list(vals.values()))[-1]\n",
    "plt.xticks(range(len(vals)), list(vals.keys()))\n",
    "plt.title('Mother-father distances by treatment')"
   ]
  },
  {
   "cell_type": "markdown",
   "metadata": {},
   "source": [
    "# mean dispersal within tx using fractional parentage"
   ]
  },
  {
   "cell_type": "markdown",
   "metadata": {},
   "source": [
    "### mean dispersal by tx to within tx using fractional parentage\n",
    "#### mother-offspring distances"
   ]
  },
  {
   "cell_type": "code",
   "execution_count": null,
   "metadata": {},
   "outputs": [],
   "source": [
    "wtxmoff = {}\n",
    "for tx in txseeds:\n",
    "    wtxmoff[tx] = {}\n",
    "    for samp in txseeds[tx]:\n",
    "        wtxmoff[tx][samp] = wtd_dist(samp,'mom',bytx=True)"
   ]
  },
  {
   "cell_type": "code",
   "execution_count": null,
   "metadata": {},
   "outputs": [],
   "source": [
    "vals = {}\n",
    "for tx in txsamps:\n",
    "    v = [val for val in wtxmoff[tx].values() if not val == 'NA']\n",
    "    vals[tx] = np.mean(v)\n",
    "    print tx,np.mean(v),np.median(v)\n",
    "x = np.arange(3)\n",
    "plt.bar(range(len(vals)),list(vals.values()))[-1]\n",
    "plt.xticks(range(len(vals)), list(vals.keys()))\n",
    "plt.title('Mother-offspring distances within treatment')"
   ]
  },
  {
   "cell_type": "markdown",
   "metadata": {},
   "source": [
    "#### father-offspring distances"
   ]
  },
  {
   "cell_type": "code",
   "execution_count": null,
   "metadata": {},
   "outputs": [],
   "source": [
    "wtxdoff ={}\n",
    "for tx in txseeds:\n",
    "    wtxdoff[tx] = {}\n",
    "    for samp in txseeds[tx]:\n",
    "        wtxdoff[tx][samp] = wtd_dist(samp,'dad',bytx=True)"
   ]
  },
  {
   "cell_type": "code",
   "execution_count": null,
   "metadata": {},
   "outputs": [],
   "source": [
    "vals = {}\n",
    "for tx in txsamps:\n",
    "    v = [val for val in wtxdoff[tx].values() if not val == 'NA']\n",
    "    vals[tx] = np.mean(v)\n",
    "    print tx,np.mean(v),np.median(v)\n",
    "x = np.arange(3)\n",
    "plt.bar(range(len(vals)),list(vals.values()))[-1]\n",
    "plt.xticks(range(len(vals)), list(vals.keys()))\n",
    "plt.title('father-offspring distances within treatment')"
   ]
  },
  {
   "cell_type": "markdown",
   "metadata": {},
   "source": [
    "#### mother-father distances"
   ]
  },
  {
   "cell_type": "code",
   "execution_count": null,
   "metadata": {},
   "outputs": [],
   "source": [
    "wtxmf = {}\n",
    "for tx in txseeds:\n",
    "    wtxmf[tx] = {}\n",
    "    for samp in txseeds[tx]:\n",
    "        wtxmf[tx][samp] = wtd_dist(samp,'par',bytx=True)"
   ]
  },
  {
   "cell_type": "code",
   "execution_count": null,
   "metadata": {},
   "outputs": [],
   "source": [
    "vals = {}\n",
    "for tx in txsamps:\n",
    "    v = [val for val in wtxmf[tx].values() if not val == 'NA']\n",
    "    vals[tx] = np.mean(v)\n",
    "    print tx,np.mean(v),np.median(v)\n",
    "x = np.arange(3)\n",
    "plt.bar(range(len(vals)),list(vals.values()))[-1]\n",
    "plt.xticks(range(len(vals)), list(vals.keys()))\n",
    "plt.title('Mother-father distances within treatment')"
   ]
  },
  {
   "cell_type": "markdown",
   "metadata": {},
   "source": [
    "### mean dispersal by tx to outside of tx using fractional parentage"
   ]
  },
  {
   "cell_type": "markdown",
   "metadata": {},
   "source": [
    "#### mother-offspring distances"
   ]
  },
  {
   "cell_type": "code",
   "execution_count": null,
   "metadata": {},
   "outputs": [],
   "source": [
    "otxmoff = {}\n",
    "for tx in txseeds:\n",
    "    otxmoff[tx] = {}\n",
    "    for samp in txseeds[tx]:\n",
    "        otxmoff[tx][samp] = wtd_dist(samp,'mom',bytx=True,without=True)"
   ]
  },
  {
   "cell_type": "code",
   "execution_count": null,
   "metadata": {},
   "outputs": [],
   "source": [
    "vals = {}\n",
    "for tx in txsamps:\n",
    "    v = [val for val in otxmoff[tx].values() if not val == 'NA']\n",
    "    vals[tx] = np.mean(v)\n",
    "    print tx,np.mean(v),np.median(v)\n",
    "x = np.arange(3)\n",
    "plt.bar(range(len(vals)),list(vals.values()))[-1]\n",
    "plt.xticks(range(len(vals)), list(vals.keys()))\n",
    "plt.title('Mother-offspring distances outside of treatment')"
   ]
  },
  {
   "cell_type": "markdown",
   "metadata": {},
   "source": [
    "#### father-offspring distances"
   ]
  },
  {
   "cell_type": "code",
   "execution_count": null,
   "metadata": {},
   "outputs": [],
   "source": [
    "otxdoff = {}\n",
    "for tx in txseeds:\n",
    "    otxdoff[tx] = {}\n",
    "    for samp in txseeds[tx]:\n",
    "        otxdoff[tx][samp] = wtd_dist(samp,'dad',bytx=True,without=True)"
   ]
  },
  {
   "cell_type": "code",
   "execution_count": null,
   "metadata": {},
   "outputs": [],
   "source": [
    "vals = {}\n",
    "for tx in txsamps:\n",
    "    v = [val for val in otxdoff[tx].values() if not val == 'NA']\n",
    "    vals[tx] = np.mean(v)\n",
    "    print tx,np.mean(v),np.median(v)\n",
    "x = np.arange(3)\n",
    "plt.bar(range(len(vals)),list(vals.values()))[-1]\n",
    "plt.xticks(range(len(vals)), list(vals.keys()))\n",
    "plt.title('Father-offspring distances outside of treatment')"
   ]
  },
  {
   "cell_type": "markdown",
   "metadata": {},
   "source": [
    "#### mother-father distances"
   ]
  },
  {
   "cell_type": "code",
   "execution_count": null,
   "metadata": {},
   "outputs": [],
   "source": [
    "otxmf = {}\n",
    "for tx in txseeds:\n",
    "    otxmf[tx] = {}\n",
    "    for samp in txseeds[tx]:\n",
    "        otxmf[tx][samp] = wtd_dist(samp,'par',bytx=True,without=True)"
   ]
  },
  {
   "cell_type": "code",
   "execution_count": null,
   "metadata": {},
   "outputs": [],
   "source": [
    "vals = {}\n",
    "for tx in txsamps:\n",
    "    v = [val for val in otxmf[tx].values() if not val == 'NA']\n",
    "    vals[tx] = np.mean(v)\n",
    "    print tx,np.mean(v),np.median(v)\n",
    "x = np.arange(3)\n",
    "plt.bar(range(len(vals)),list(vals.values()))[-1]\n",
    "plt.xticks(range(len(vals)), list(vals.keys()))\n",
    "plt.title('Mother-father distances outside of treatment')"
   ]
  },
  {
   "cell_type": "markdown",
   "metadata": {},
   "source": [
    "# mean dispersal within plot using fractional parentage"
   ]
  },
  {
   "cell_type": "markdown",
   "metadata": {},
   "source": [
    "#### mother-offspring distances"
   ]
  },
  {
   "cell_type": "code",
   "execution_count": null,
   "metadata": {},
   "outputs": [],
   "source": [
    "wplotmoff = {}\n",
    "for plot in plotsamps:\n",
    "    wplotmoff[plot] = {}\n",
    "    for samp in plotseeds[plot]:\n",
    "        wplotmoff[plot][samp] = wtd_dist(samp,'mom',byplot=True)"
   ]
  },
  {
   "cell_type": "code",
   "execution_count": null,
   "metadata": {},
   "outputs": [],
   "source": [
    "vals = {}\n",
    "for plot in plotsamps:\n",
    "    v = [val for val in wplotmoff[plot].values() if not val == 'NA']\n",
    "    vals[plot] = np.mean(v)\n",
    "    print plot,np.mean(v),np.median(v)\n",
    "\n",
    "plt.bar(range(len(vals)),list(vals.values()))[-1]\n",
    "plt.xticks(range(len(vals)), list(vals.keys()))\n",
    "plt.title('Mother-offspring distances within plot')"
   ]
  },
  {
   "cell_type": "markdown",
   "metadata": {},
   "source": [
    "#### father-offspring distances"
   ]
  },
  {
   "cell_type": "code",
   "execution_count": null,
   "metadata": {},
   "outputs": [],
   "source": [
    "wplotdoff = {}\n",
    "for plot in plotsamps:\n",
    "    wplotdoff[plot] = {}\n",
    "    for samp in plotseeds[plot]:\n",
    "        wplotdoff[plot][samp] = wtd_dist(samp,'dad',byplot=True)"
   ]
  },
  {
   "cell_type": "code",
   "execution_count": null,
   "metadata": {},
   "outputs": [],
   "source": [
    "vals = {}\n",
    "for plot in plotsamps:\n",
    "    v = [val for val in wplotdoff[plot].values() if not val == 'NA']\n",
    "    vals[plot] = np.mean(v)\n",
    "    print plot,np.mean(v),np.median(v)\n",
    "\n",
    "plt.bar(range(len(vals)),list(vals.values()))[-1]\n",
    "plt.xticks(range(len(vals)), list(vals.keys()))\n",
    "plt.title('Father-offspring distances within plot')"
   ]
  },
  {
   "cell_type": "markdown",
   "metadata": {},
   "source": [
    "#### mother-father distances"
   ]
  },
  {
   "cell_type": "code",
   "execution_count": null,
   "metadata": {},
   "outputs": [],
   "source": [
    "wplotmf = {}\n",
    "for plot in plotsamps:\n",
    "    wplotmf[plot] = {}\n",
    "    for samp in plotseeds[plot]:\n",
    "        wplotmf[plot][samp] = wtd_dist(samp,'par',byplot=True)"
   ]
  },
  {
   "cell_type": "code",
   "execution_count": null,
   "metadata": {},
   "outputs": [],
   "source": [
    "vals = {}\n",
    "for plot in plotsamps:\n",
    "    v = [val for val in wplotmf[plot].values() if not val == 'NA']\n",
    "    vals[plot] = np.mean(v)\n",
    "    print plot,np.mean(v),np.median(v)\n",
    "\n",
    "plt.bar(range(len(vals)),list(vals.values()))[-1]\n",
    "plt.xticks(range(len(vals)), list(vals.keys()))\n",
    "plt.title('Mother-Father distances within plot')"
   ]
  },
  {
   "cell_type": "markdown",
   "metadata": {},
   "source": [
    "# mean dispersal by plot to out-of-plot"
   ]
  },
  {
   "cell_type": "markdown",
   "metadata": {},
   "source": [
    "#### mother-offspring distances"
   ]
  },
  {
   "cell_type": "code",
   "execution_count": null,
   "metadata": {},
   "outputs": [],
   "source": [
    "oplotmoff = {}\n",
    "for plot in plotsamps:\n",
    "    oplotmoff[plot] = {}\n",
    "    for samp in plotseeds[plot]:\n",
    "        oplotmoff[plot][samp] = wtd_dist(samp,'mom',byplot=True,without=True)"
   ]
  },
  {
   "cell_type": "code",
   "execution_count": null,
   "metadata": {},
   "outputs": [],
   "source": [
    "vals = {}\n",
    "for plot in plotsamps:\n",
    "    v = [val for val in oplotmoff[plot].values() if not val == 'NA']\n",
    "    vals[plot] = np.mean(v)\n",
    "    print plot,np.mean(v),np.median(v)\n",
    "\n",
    "plt.bar(range(len(vals)),list(vals.values()))[-1]\n",
    "plt.xticks(range(len(vals)), list(vals.keys()))\n",
    "plt.title('Mother-offspring distances outside of plot')"
   ]
  },
  {
   "cell_type": "markdown",
   "metadata": {},
   "source": [
    "#### father-offspring distances"
   ]
  },
  {
   "cell_type": "code",
   "execution_count": null,
   "metadata": {},
   "outputs": [],
   "source": [
    "oplotdoff = {}\n",
    "for plot in plotsamps:\n",
    "    oplotdoff[plot] = {}\n",
    "    for samp in plotseeds[plot]:\n",
    "        oplotdoff[plot][samp] = wtd_dist(samp,'dad',byplot=True,without=True)"
   ]
  },
  {
   "cell_type": "code",
   "execution_count": null,
   "metadata": {},
   "outputs": [],
   "source": [
    "vals = {}\n",
    "for plot in plotsamps:\n",
    "    v = [val for val in oplotdoff[plot].values() if not val == 'NA']\n",
    "    vals[plot] = np.mean(v)\n",
    "    print plot,np.mean(v),np.median(v)\n",
    "\n",
    "plt.bar(range(len(vals)),list(vals.values()))[-1]\n",
    "plt.xticks(range(len(vals)), list(vals.keys()))\n",
    "plt.title('Father-offspring distances outside of plot')"
   ]
  },
  {
   "cell_type": "markdown",
   "metadata": {},
   "source": [
    "# number of dispersals within plot"
   ]
  },
  {
   "cell_type": "markdown",
   "metadata": {},
   "source": [
    "#### mother-offspring numbers"
   ]
  },
  {
   "cell_type": "code",
   "execution_count": null,
   "metadata": {},
   "outputs": [],
   "source": [
    "nmoff = {}\n",
    "for plot in plotseeds:\n",
    "    nmoff[plot] = []\n",
    "    for samp in plotseeds[plot]:\n",
    "        nmoff[plot].append(wtd_dist(samp,'mom',byplot=True,bynum=True))"
   ]
  },
  {
   "cell_type": "code",
   "execution_count": null,
   "metadata": {},
   "outputs": [],
   "source": [
    "vals = {}\n",
    "for plot in plotsamps:\n",
    "    lst = []\n",
    "    for samp in nmoff[plot]:\n",
    "        lst.append(nmoff[plot][samp])\n",
    "    vals[plot] = np.mean(lst)\n",
    "plt.bar(range(len(vals)),list(vals.values()))[-1]\n",
    "plt.xticks(range(len(vals)),list(vals.keys()))\n",
    "plt.title('Mother-offspring numbers within plot')"
   ]
  },
  {
   "cell_type": "code",
   "execution_count": null,
   "metadata": {},
   "outputs": [],
   "source": [
    "vals = {}\n",
    "for plot in plotsamps:\n",
    "    lst = []\n",
    "    for samp in nmoff[plot]:\n",
    "        lst.append(nmoff[plot][samp])\n",
    "    vals[plot] = np.mean(lst)/len(plotseeds[plot])\n",
    "plt.bar(range(len(vals)),list(vals.values()))[-1]\n",
    "plt.xticks(range(len(vals)),list(vals.keys()))\n",
    "plt.title('Mother-offspring numbers within plot scaled by nseeds/plot')"
   ]
  },
  {
   "cell_type": "code",
   "execution_count": null,
   "metadata": {},
   "outputs": [],
   "source": [
    "vals = {}\n",
    "for plot in plotsamps:\n",
    "    lst = []\n",
    "    for samp in nmoff[plot]:\n",
    "        lst.append(nmoff[plot][samp])\n",
    "    vals[plot] = np.mean(lst)/len(plotadults[plot])\n",
    "plt.bar(range(len(vals)),list(vals.values()))[-1]\n",
    "plt.xticks(range(len(vals)),list(vals.keys()))\n",
    "plt.title('Mother-offspring numbers within plot scaled by nadults/plot')"
   ]
  },
  {
   "cell_type": "code",
   "execution_count": null,
   "metadata": {},
   "outputs": [],
   "source": [
    "vals = {}\n",
    "for plot in plotsamps:\n",
    "    lst = []\n",
    "    for samp in nmoff[plot]:\n",
    "        lst.append(nmoff[plot][samp])\n",
    "    vals[plot] = np.mean(lst)/(len(plotadults[plot])*len(plotseeds[plot]))\n",
    "plt.bar(range(len(vals)),list(vals.values()))[-1]\n",
    "plt.xticks(range(len(vals)),list(vals.keys()))\n",
    "plt.title('Mother-offspring numbers within plot scaled by nadults/plot')"
   ]
  },
  {
   "cell_type": "markdown",
   "metadata": {},
   "source": [
    "#### father-offspring numbers"
   ]
  },
  {
   "cell_type": "code",
   "execution_count": null,
   "metadata": {},
   "outputs": [],
   "source": [
    "ndoff = {}\n",
    "for plot in plotseeds:\n",
    "    ndoff[plot] = []\n",
    "    for samp in plotseeds[plot]:\n",
    "        ndoff[plot].append(wtd_dist(samp,'dad',byplot=True,bynum=True))"
   ]
  },
  {
   "cell_type": "code",
   "execution_count": null,
   "metadata": {},
   "outputs": [],
   "source": [
    "vals = {}\n",
    "for plot in plotsamps:\n",
    "    lst = []\n",
    "    for samp in ndoff[plot]:\n",
    "        lst.append(ndoff[plot][samp])\n",
    "    vals[plot] = np.mean(lst)\n",
    "plt.bar(range(len(vals)),list(vals.values()))[-1]\n",
    "plt.xticks(range(len(vals)),list(vals.keys()))\n",
    "plt.title('Father-offspring numbers within plot')"
   ]
  },
  {
   "cell_type": "code",
   "execution_count": null,
   "metadata": {},
   "outputs": [],
   "source": [
    "vals = {}\n",
    "for plot in plotsamps:\n",
    "    lst = []\n",
    "    for samp in ndoff[plot]:\n",
    "        lst.append(ndoff[plot][samp])\n",
    "    vals[plot] = np.mean(lst)/len(plotseeds[plot])\n",
    "plt.bar(range(len(vals)),list(vals.values()))[-1]\n",
    "plt.xticks(range(len(vals)),list(vals.keys()))\n",
    "plt.title('Father-offspring numbers within plot scaled by nseeds/plot')"
   ]
  },
  {
   "cell_type": "code",
   "execution_count": null,
   "metadata": {},
   "outputs": [],
   "source": [
    "vals = {}\n",
    "for plot in plotsamps:\n",
    "    lst = []\n",
    "    for samp in ndoff[plot]:\n",
    "        lst.append(ndoff[plot][samp])\n",
    "    vals[plot] = np.mean(lst)/len(plotadults[plot])\n",
    "plt.bar(range(len(vals)),list(vals.values()))[-1]\n",
    "plt.xticks(range(len(vals)),list(vals.keys()))\n",
    "plt.title('Father-offspring numbers within plot scaled by nadults/plot')"
   ]
  },
  {
   "cell_type": "markdown",
   "metadata": {},
   "source": [
    "#### mother-father numbers"
   ]
  },
  {
   "cell_type": "code",
   "execution_count": null,
   "metadata": {},
   "outputs": [],
   "source": [
    "wnmf = {}\n",
    "for plot in plotseeds:\n",
    "    wnmf[plot]=[]\n",
    "    for samp in plotseeds[plot]:\n",
    "        wnmf[plot].append(wtd_dist(samp,'par',byplot=True,bynum=True))"
   ]
  },
  {
   "cell_type": "code",
   "execution_count": null,
   "metadata": {},
   "outputs": [],
   "source": [
    "vals = {}\n",
    "for plot in plotsamps:\n",
    "    lst = []\n",
    "    for samp in wnmf[plot]:\n",
    "        lst.append(wnmf[plot][samp])\n",
    "    vals[plot] = np.mean(lst)\n",
    "plt.bar(range(len(vals)),list(vals.values()))[-1]\n",
    "plt.xticks(range(len(vals)),list(vals.keys()))\n",
    "plt.title('Mother-father numbers within plot')"
   ]
  },
  {
   "cell_type": "code",
   "execution_count": null,
   "metadata": {},
   "outputs": [],
   "source": [
    "vals = {}\n",
    "for plot in plotsamps:\n",
    "    lst = []\n",
    "    for samp in wnmf[plot]:\n",
    "        lst.append(wnmf[plot][samp])\n",
    "    vals[plot] = np.mean(lst)/len(plotseeds[plot])\n",
    "plt.bar(range(len(vals)),list(vals.values()))[-1]\n",
    "plt.xticks(range(len(vals)),list(vals.keys()))\n",
    "plt.title('Mother-father numbers within plot scaled by nseeds/plot')"
   ]
  },
  {
   "cell_type": "code",
   "execution_count": null,
   "metadata": {},
   "outputs": [],
   "source": [
    "vals = {}\n",
    "for plot in plotsamps:\n",
    "    lst = []\n",
    "    for samp in wnmf[plot]:\n",
    "        lst.append(wnmf[plot][samp])\n",
    "    vals[plot] = np.mean(lst)/len(plotadults[plot])\n",
    "plt.bar(range(len(vals)),list(vals.values()))[-1]\n",
    "plt.xticks(range(len(vals)),list(vals.keys()))\n",
    "plt.title('Mother-father numbers within plot scaled by nadults/plot')"
   ]
  },
  {
   "cell_type": "markdown",
   "metadata": {},
   "source": [
    "# number of dispersals outside of plot"
   ]
  },
  {
   "cell_type": "markdown",
   "metadata": {},
   "source": [
    "#### mother-offspring numbers"
   ]
  },
  {
   "cell_type": "code",
   "execution_count": null,
   "metadata": {},
   "outputs": [],
   "source": [
    "onmoff = {}\n",
    "for plot in plotseeds:\n",
    "    onmoff[plot]=[]\n",
    "    for samp in plotseeds[plot]:\n",
    "        onmoff[plot].append(wtd_dist(samp,'mom',byplot=True,without=True,bynum=True))"
   ]
  },
  {
   "cell_type": "code",
   "execution_count": null,
   "metadata": {},
   "outputs": [],
   "source": [
    "vals = {}\n",
    "for plot in plotsamps:\n",
    "    lst = []\n",
    "    for samp in onmoff[plot]:\n",
    "        lst.append(onmoff[plot][samp])\n",
    "    vals[plot] = np.mean(lst)\n",
    "plt.bar(range(len(vals)),list(vals.values()))[-1]\n",
    "plt.xticks(range(len(vals)),list(vals.keys()))\n",
    "plt.title('Mother-offspring numbers outside of plot')"
   ]
  },
  {
   "cell_type": "code",
   "execution_count": null,
   "metadata": {},
   "outputs": [],
   "source": [
    "vals = {}\n",
    "for plot in plotsamps:\n",
    "    lst = []\n",
    "    for samp in onmoff[plot]:\n",
    "        lst.append(onmoff[plot][samp])\n",
    "    vals[plot] = np.mean(lst)/len(plotseeds[plot])\n",
    "plt.bar(range(len(vals)),list(vals.values()))[-1]\n",
    "plt.xticks(range(len(vals)),list(vals.keys()))\n",
    "plt.title('Mother-offspring numbers outside of plot scaled by nseeds in plot')"
   ]
  },
  {
   "cell_type": "code",
   "execution_count": null,
   "metadata": {},
   "outputs": [],
   "source": [
    "vals = {}\n",
    "for plot in plotsamps:\n",
    "    lst = []\n",
    "    for samp in onmoff[plot]:\n",
    "        lst.append(onmoff[plot][samp])\n",
    "    vals[plot] = np.mean(lst)/len(plotadults[plot])\n",
    "plt.bar(range(len(vals)),list(vals.values()))[-1]\n",
    "plt.xticks(range(len(vals)),list(vals.keys()))\n",
    "plt.title('Mother-offspring numbers outside of plot scaled by nadults in plot')"
   ]
  },
  {
   "cell_type": "code",
   "execution_count": null,
   "metadata": {},
   "outputs": [],
   "source": [
    "vals = {}\n",
    "for plot in plotsamps:\n",
    "    lst = []\n",
    "    for samp in onmoff[plot]:\n",
    "        lst.append(onmoff[plot][samp])\n",
    "    sums = sum([len(plotadults[p]) for p in plotadults if p != plot])\n",
    "    vals[plot] = np.mean(lst)/sums\n",
    "plt.bar(range(len(vals)),list(vals.values()))[-1]\n",
    "plt.xticks(range(len(vals)),list(vals.keys()))\n",
    "plt.title('Mother-offspring numbers outside of plot scaled by nadults outside of plot')"
   ]
  },
  {
   "cell_type": "markdown",
   "metadata": {},
   "source": [
    "#### father-offspring numbers"
   ]
  },
  {
   "cell_type": "code",
   "execution_count": null,
   "metadata": {},
   "outputs": [],
   "source": [
    "ondoff = {}\n",
    "for plot in plotseeds:\n",
    "    ondoff[plot]=[]\n",
    "    for samp in plotseeds[plot]:\n",
    "        ondoff[plot].append(wtd_dist(samp,'mom',byplot=True,without=True,bynum=True))"
   ]
  },
  {
   "cell_type": "code",
   "execution_count": null,
   "metadata": {},
   "outputs": [],
   "source": [
    "vals = {}\n",
    "for plot in plotsamps:\n",
    "    lst = []\n",
    "    for samp in ondoff[plot]:\n",
    "        lst.append(ondoff[plot][samp])\n",
    "    vals[plot] = np.mean(lst)\n",
    "plt.bar(range(len(vals)),list(vals.values()))[-1]\n",
    "plt.xticks(range(len(vals)),list(vals.keys()))\n",
    "plt.title('Father-offspring numbers outside of plot')"
   ]
  },
  {
   "cell_type": "code",
   "execution_count": null,
   "metadata": {},
   "outputs": [],
   "source": [
    "vals = {}\n",
    "for plot in plotsamps:\n",
    "    lst = []\n",
    "    for samp in ondoff[plot]:\n",
    "        lst.append(ondoff[plot][samp])\n",
    "    vals[plot] = np.mean(lst)/len(plotseeds[plot])\n",
    "plt.bar(range(len(vals)),list(vals.values()))[-1]\n",
    "plt.xticks(range(len(vals)),list(vals.keys()))\n",
    "plt.title('Father-offspring numbers outside of plot scaled by nseeds in plot')"
   ]
  },
  {
   "cell_type": "code",
   "execution_count": null,
   "metadata": {},
   "outputs": [],
   "source": [
    "vals = {}\n",
    "for plot in plotsamps:\n",
    "    lst = []\n",
    "    for samp in ondoff[plot]:\n",
    "        lst.append(ondoff[plot][samp])\n",
    "    vals[plot] = np.mean(lst)/len(plotadults[plot])\n",
    "plt.bar(range(len(vals)),list(vals.values()))[-1]\n",
    "plt.xticks(range(len(vals)),list(vals.keys()))\n",
    "plt.title('Father-offspring numbers outside of plot scaled by nadults in plot')"
   ]
  },
  {
   "cell_type": "code",
   "execution_count": null,
   "metadata": {},
   "outputs": [],
   "source": [
    "vals = {}\n",
    "for plot in plotsamps:\n",
    "    lst = []\n",
    "    for samp in ondoff[plot]:\n",
    "        lst.append(ondoff[plot][samp])\n",
    "    sums = sum([len(plotadults[p]) for p in plotadults if p != plot])\n",
    "    vals[plot] = np.mean(lst)/sums\n",
    "plt.bar(range(len(vals)),list(vals.values()))[-1]\n",
    "plt.xticks(range(len(vals)),list(vals.keys()))\n",
    "plt.title('Father-offspring numbers outside of plot scaled by nadults outside of plot')"
   ]
  },
  {
   "cell_type": "markdown",
   "metadata": {},
   "source": [
    "#### mother-father numbers"
   ]
  },
  {
   "cell_type": "code",
   "execution_count": null,
   "metadata": {},
   "outputs": [],
   "source": [
    "onmf = {}\n",
    "for plot in plotsamps:\n",
    "    onmf[plot] = []\n",
    "    for samp in plotseeds[plot]:\n",
    "        onmf[plot].append(wtd_dist(samp,'par',byplot=True,without=True,bynum=True))"
   ]
  },
  {
   "cell_type": "code",
   "execution_count": null,
   "metadata": {},
   "outputs": [],
   "source": [
    "vals = {}\n",
    "for plot in plotsamps:\n",
    "    lst = []\n",
    "    for samp in onmf[plot]:\n",
    "        lst.append(onmf[plot][samp])\n",
    "    vals[plot] = np.mean(lst)\n",
    "plt.bar(range(len(vals)),list(vals.values()))[-1]\n",
    "plt.xticks(range(len(vals)),list(vals.keys()))\n",
    "plt.title('Mother-Father numbers outside of plot')"
   ]
  },
  {
   "cell_type": "code",
   "execution_count": null,
   "metadata": {},
   "outputs": [],
   "source": [
    "vals = {}\n",
    "for plot in plotsamps:\n",
    "    lst = []\n",
    "    for samp in onmf[plot]:\n",
    "        lst.append(onmf[plot][samp])\n",
    "    vals[plot] = np.mean(lst)/len(plotseeds[plot])\n",
    "plt.bar(range(len(vals)),list(vals.values()))[-1]\n",
    "plt.xticks(range(len(vals)),list(vals.keys()))\n",
    "plt.title('Mother-Father numbers outside of plot scaled by nseeds in plot')"
   ]
  },
  {
   "cell_type": "code",
   "execution_count": null,
   "metadata": {},
   "outputs": [],
   "source": [
    "vals = {}\n",
    "for plot in plotsamps:\n",
    "    lst = []\n",
    "    for samp in onmf[plot]:\n",
    "        lst.append(onmf[plot][samp])\n",
    "    vals[plot] = np.mean(lst)/len(plotadults[plot])\n",
    "plt.bar(range(len(vals)),list(vals.values()))[-1]\n",
    "plt.xticks(range(len(vals)),list(vals.keys()))\n",
    "plt.title('Mother-Father numbers outside of plot scaled by nadults in plot')"
   ]
  },
  {
   "cell_type": "code",
   "execution_count": null,
   "metadata": {},
   "outputs": [],
   "source": [
    "vals = {}\n",
    "for plot in plotsamps:\n",
    "    lst = []\n",
    "    for samp in onmf[plot]:\n",
    "        lst.append(onmf[plot][samp])\n",
    "    sums = sum([len(plotadults[p]) for p in plotadults if p != plot])\n",
    "    vals[plot] = np.mean(lst)/sums\n",
    "plt.bar(range(len(vals)),list(vals.values()))[-1]\n",
    "plt.xticks(range(len(vals)),list(vals.keys()))\n",
    "plt.title('Mother-Father numbers outside of plot scaled by nadults outside of plot')"
   ]
  },
  {
   "cell_type": "markdown",
   "metadata": {},
   "source": [
    "# ratio of number of dispersals within to without"
   ]
  },
  {
   "cell_type": "markdown",
   "metadata": {},
   "source": [
    "#### mother-offspring"
   ]
  },
  {
   "cell_type": "code",
   "execution_count": null,
   "metadata": {},
   "outputs": [],
   "source": [
    "rmoff = {}\n",
    "rmofftx = {}\n",
    "for plot in plotsamps:\n",
    "    tx = plot[:2]\n",
    "    if not tx in rmofftx:\n",
    "        rmofftx[tx] = []\n",
    "    if sum(onmoff[plot]) == 0 or sum(nmoff[plot]) == 0:\n",
    "        rmoff[plot] = 0\n",
    "    else:\n",
    "        rmoff[plot] = np.mean(nmoff[plot]) / np.mean(onmoff[plot])\n",
    "#    print plot, rmoff[plot]\n",
    "    rmofftx[tx].append(rmoff[plot])\n",
    "for tx in rmofftx:\n",
    "    print tx,np.mean(rmofftx[tx])"
   ]
  },
  {
   "cell_type": "code",
   "execution_count": null,
   "metadata": {},
   "outputs": [],
   "source": [
    "vals = rmoff\n",
    "plt.bar(range(len(vals)),list(vals.values()))[-1]\n",
    "plt.xticks(range(len(vals)),list(vals.keys()))\n",
    "plt.title('Ratio of Mother-offspring numbers inside:outside')"
   ]
  },
  {
   "cell_type": "markdown",
   "metadata": {},
   "source": [
    "#### father-offspring"
   ]
  },
  {
   "cell_type": "code",
   "execution_count": null,
   "metadata": {},
   "outputs": [],
   "source": [
    "rdoff = {}\n",
    "rdofftx = {}\n",
    "for plot in plotsamps:\n",
    "    tx = plot[:2]\n",
    "    if not tx in rdofftx:\n",
    "        rdofftx[tx] = []\n",
    "    if sum(ondoff[plot]) == 0 or sum(ndoff[plot]) == 0:\n",
    "        rdoff[plot] = 0\n",
    "    else:\n",
    "        rdoff[plot] = np.mean(ndoff[plot]) / np.mean(ondoff[plot])\n",
    "#    print plot, rdoff[plot]\n",
    "    rdofftx[tx].append(rdoff[plot])\n",
    "for tx in rdofftx:\n",
    "    print tx,np.mean(rdofftx[tx])"
   ]
  },
  {
   "cell_type": "code",
   "execution_count": null,
   "metadata": {},
   "outputs": [],
   "source": [
    "vals = rdoff\n",
    "plt.bar(range(len(vals)),list(vals.values()))[-1]\n",
    "plt.xticks(range(len(vals)),list(vals.keys()))\n",
    "plt.title('Ratio of Father-offspring numbers inside:outside')"
   ]
  },
  {
   "cell_type": "markdown",
   "metadata": {},
   "source": [
    "#### mother-father"
   ]
  },
  {
   "cell_type": "code",
   "execution_count": null,
   "metadata": {},
   "outputs": [],
   "source": [
    "rmf = {}\n",
    "rmftx = {}\n",
    "for plot in plotsamps:\n",
    "    tx = plot[:2]\n",
    "    if not tx in rmftx:\n",
    "        rmftx[tx] = []\n",
    "    if sum(onmf[plot]) == 0 or sum(wnmf[plot]) == 0:\n",
    "        rmf[plot] = 0\n",
    "    else:\n",
    "        rmf[plot] = np.mean(wnmf[plot]) / np.mean(onmf[plot])\n",
    "#     print plot, rmf[plot]\n",
    "    rmftx[tx].append(rmf[plot])\n",
    "for tx in rmftx:\n",
    "    print tx,np.mean(rmftx[tx])"
   ]
  },
  {
   "cell_type": "code",
   "execution_count": null,
   "metadata": {},
   "outputs": [],
   "source": [
    "vals = rmf\n",
    "plt.bar(range(len(vals)),list(vals.values()))[-1]\n",
    "plt.xticks(range(len(vals)),list(vals.keys()))\n",
    "plt.title('Ratio of Father-mother numbers inside:outside')"
   ]
  },
  {
   "cell_type": "markdown",
   "metadata": {},
   "source": [
    "# what I think I can do\n",
    "1. father-mother distance greater/smaller than expected by chance\n",
    "    1. null would be distribution of all in-plot adults to any adults\n",
    "1. seedling-mother distance greater/smaller than expected by chance\n",
    "    1. null would be distribution of all seedling-mother distances\n",
    "1. father-seedling distances \"\" \"\"\n",
    "    1. \"\" \"\""
   ]
  },
  {
   "cell_type": "markdown",
   "metadata": {},
   "source": [
    "# pollen pool heterogeneity"
   ]
  },
  {
   "cell_type": "code",
   "execution_count": null,
   "metadata": {},
   "outputs": [],
   "source": [
    "# get a list of seedlings per mom with potential fathers\n",
    "moms = {}\n",
    "for seed in assignment:\n",
    "    mom,dad = assignment[seed]\n",
    "    if not mom == 'out-of-plot':\n",
    "        if not dad == 'out-of-plot':\n",
    "            if not mom in moms:\n",
    "                moms[mom] = {}\n",
    "                moms[mom]['seeds'] = []\n",
    "                moms[mom]['dads'] = []\n",
    "            moms[mom]['seeds'].append(seed)\n",
    "            moms[mom]['dads'].append(dad)"
   ]
  },
  {
   "cell_type": "code",
   "execution_count": null,
   "metadata": {},
   "outputs": [],
   "source": [
    "# include only those with greater than one seed\n",
    "nums = []\n",
    "for mom in moms:\n",
    "    l = len(moms[mom]['seeds'])\n",
    "    if l > 1:\n",
    "        print mom, l\n",
    "        nums.append(l)"
   ]
  },
  {
   "cell_type": "code",
   "execution_count": null,
   "metadata": {},
   "outputs": [],
   "source": [
    "plt.hist(nums)[-1]"
   ]
  },
  {
   "cell_type": "code",
   "execution_count": null,
   "metadata": {},
   "outputs": [],
   "source": []
  },
  {
   "cell_type": "code",
   "execution_count": null,
   "metadata": {},
   "outputs": [],
   "source": []
  },
  {
   "cell_type": "code",
   "execution_count": null,
   "metadata": {},
   "outputs": [],
   "source": []
  },
  {
   "cell_type": "code",
   "execution_count": null,
   "metadata": {},
   "outputs": [],
   "source": []
  },
  {
   "cell_type": "code",
   "execution_count": null,
   "metadata": {},
   "outputs": [],
   "source": []
  },
  {
   "cell_type": "code",
   "execution_count": null,
   "metadata": {},
   "outputs": [],
   "source": []
  },
  {
   "cell_type": "code",
   "execution_count": null,
   "metadata": {},
   "outputs": [],
   "source": []
  },
  {
   "cell_type": "code",
   "execution_count": null,
   "metadata": {},
   "outputs": [],
   "source": []
  },
  {
   "cell_type": "code",
   "execution_count": null,
   "metadata": {},
   "outputs": [],
   "source": []
  }
 ],
 "metadata": {
  "kernelspec": {
   "display_name": "Python 2",
   "language": "python",
   "name": "python2"
  },
  "language_info": {
   "codemirror_mode": {
    "name": "ipython",
    "version": 2
   },
   "file_extension": ".py",
   "mimetype": "text/x-python",
   "name": "python",
   "nbconvert_exporter": "python",
   "pygments_lexer": "ipython2",
   "version": "2.7.13"
  }
 },
 "nbformat": 4,
 "nbformat_minor": 2
}
