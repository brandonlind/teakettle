{
 "cells": [
  {
   "cell_type": "code",
   "execution_count": null,
   "metadata": {},
   "outputs": [],
   "source": [
    "imp = open('/home/lindb/pythonimports.py').read()\n",
    "exec(imp)\n",
    "from __future__ import division\n",
    "%matplotlib inline "
   ]
  },
  {
   "cell_type": "markdown",
   "metadata": {},
   "source": [
    "# outline \n",
    "1. [Get tree data](#treedata)\n",
    "1. [Combine tree data and genotype data](#combine)"
   ]
  },
  {
   "cell_type": "markdown",
   "metadata": {},
   "source": [
    "<a id=\"treedata\"></a>\n",
    "# get tree location data from master data, add X Y to geno df"
   ]
  },
  {
   "cell_type": "code",
   "execution_count": null,
   "metadata": {},
   "outputs": [],
   "source": [
    "#get tree location data from master data \n",
    "filE = '/home/lindb/teakettle/data/trees_with_converted.txt'\n",
    "t = pd.read_csv(filE,sep='\\t')\n",
    "t.head()"
   ]
  },
  {
   "cell_type": "code",
   "execution_count": null,
   "metadata": {},
   "outputs": [],
   "source": [
    "#keep only necessary columns\n",
    "grid = ['converted','seedling','x','y','z','xutm','yutm','zutm','dbh_11','dbh_04','dbh_13']\n",
    "info = t.loc[:,grid]\n",
    "info.head()"
   ]
  },
  {
   "cell_type": "code",
   "execution_count": null,
   "metadata": {},
   "outputs": [],
   "source": [
    "#make sure no duplicates\n",
    "nrow(info) == luni(info['converted'])"
   ]
  },
  {
   "cell_type": "code",
   "execution_count": null,
   "metadata": {},
   "outputs": [],
   "source": [
    "#make sure either True or MD (missing data)\n",
    "uni(t['sampled'])"
   ]
  },
  {
   "cell_type": "code",
   "execution_count": null,
   "metadata": {},
   "outputs": [],
   "source": [
    "'bc1_new010' in info['converted'].tolist()"
   ]
  },
  {
   "cell_type": "code",
   "execution_count": null,
   "metadata": {},
   "outputs": [],
   "source": [
    "for row in info.index:\n",
    "    if info.loc[row,'seedling'] == False:\n",
    "        if math.isnan(info.loc[row,'dbh_11']):\n",
    "            if math.isnan(info.loc[row,'dbh_04']) == False:\n",
    "                print '%s given regression' % info.loc[row,'converted']\n",
    "                info.loc[row,'dbh_11'] = info.loc[row,'dbh_04']*0.9699+5.1995 #lm(dbh_11 ~ dbh_04)\n",
    "            else:\n",
    "                print \"%s given median\" % info['converted'][row] \n",
    "                info.loc[row,'dbh_11'] = 28.37125 #(median + mean)/2 -- 6 trees"
   ]
  },
  {
   "cell_type": "markdown",
   "metadata": {},
   "source": [
    "<a id=\"combine\"></a>\n",
    "# combine dfs"
   ]
  },
  {
   "cell_type": "code",
   "execution_count": null,
   "metadata": {},
   "outputs": [],
   "source": [
    "# get genotype calls\n",
    "g = pd.read_csv('/home/lindb/teakettle/genemarker/results_after_jan.tsv',sep='\\t')\n",
    "g.index = g['samp']\n",
    "g.head()"
   ]
  },
  {
   "cell_type": "code",
   "execution_count": null,
   "metadata": {},
   "outputs": [],
   "source": [
    "info.index = info['converted']\n",
    "info.head()"
   ]
  },
  {
   "cell_type": "code",
   "execution_count": null,
   "metadata": {},
   "outputs": [],
   "source": [
    "c = pd.merge(g,info,left_index=True,right_index=True)\n",
    "c.head()"
   ]
  },
  {
   "cell_type": "code",
   "execution_count": null,
   "metadata": {},
   "outputs": [],
   "source": [
    "len(c.columns)"
   ]
  },
  {
   "cell_type": "code",
   "execution_count": null,
   "metadata": {},
   "outputs": [],
   "source": [
    "ccols = ['samp',\n",
    " 'x',\n",
    " 'y',\n",
    " 'dbh_11',\n",
    " 'xutm',\n",
    " 'yutm',\n",
    " 'seedling',\n",
    " 'rps12',\n",
    " 'rps12_2',\n",
    " 'rps2',\n",
    " 'rps2_2',\n",
    " 'rps39',\n",
    " 'rps39_2',\n",
    " 'rps50',\n",
    " 'rps50_2',\n",
    " 'pc10',\n",
    " 'pt71936',\n",
    " 'pt87268']\n",
    "c = c[ccols]\n",
    "c.index = range(nrow(c))\n",
    "c.head()"
   ]
  },
  {
   "cell_type": "code",
   "execution_count": null,
   "metadata": {},
   "outputs": [],
   "source": [
    "nrow(c) == luni(c['samp'])*2"
   ]
  },
  {
   "cell_type": "code",
   "execution_count": null,
   "metadata": {},
   "outputs": [],
   "source": [
    "c.head()"
   ]
  },
  {
   "cell_type": "markdown",
   "metadata": {},
   "source": [
    "# double check each tree has all necessary data"
   ]
  },
  {
   "cell_type": "code",
   "execution_count": null,
   "metadata": {},
   "outputs": [],
   "source": [
    "# these samples weren't in the tfk data set. Likely just outside of a plot\n",
    "# therefore these don't have either 'seedling' or x/y/xutm/yutm coordinates\n",
    "badtrees = ['uc2_3141','uc2_5114','uc2_5185','uc2_9554','uc2_9592','un1_3964','un1_5774','un3_3258']\n",
    "newc = c[~c['samp'].isin(badtrees)]\n",
    "nrow(newc)"
   ]
  },
  {
   "cell_type": "code",
   "execution_count": null,
   "metadata": {},
   "outputs": [],
   "source": [
    "nrow(c) - 2*len(badtrees) == nrow(newc)"
   ]
  },
  {
   "cell_type": "code",
   "execution_count": null,
   "metadata": {},
   "outputs": [],
   "source": [
    "len(badtrees)"
   ]
  },
  {
   "cell_type": "markdown",
   "metadata": {},
   "source": [
    "# if 'new' in samp, assert seedling == True"
   ]
  },
  {
   "cell_type": "code",
   "execution_count": null,
   "metadata": {},
   "outputs": [],
   "source": [
    "uni(newc['seedling']) # {True,False}"
   ]
  },
  {
   "cell_type": "code",
   "execution_count": null,
   "metadata": {},
   "outputs": [],
   "source": [
    "np.where(newc.columns == 'seedling')[0][0]"
   ]
  },
  {
   "cell_type": "code",
   "execution_count": null,
   "metadata": {},
   "outputs": [],
   "source": [
    "newc.columns[6] # 'seedling'"
   ]
  },
  {
   "cell_type": "code",
   "execution_count": null,
   "metadata": {},
   "outputs": [],
   "source": [
    "for row in newc.index:\n",
    "    if newc.loc[row,'seedling'] == False:\n",
    "        if 'new' in newc.loc[row,'samp']:\n",
    "#             print newc.loc[row,'samp']\n",
    "            newc.loc[row,newc.columns[6]] = True"
   ]
  },
  {
   "cell_type": "code",
   "execution_count": null,
   "metadata": {},
   "outputs": [],
   "source": [
    "nrow(newc) == 2*luni(newc['samp'])"
   ]
  },
  {
   "cell_type": "markdown",
   "metadata": {},
   "source": [
    "# write file"
   ]
  },
  {
   "cell_type": "code",
   "execution_count": null,
   "metadata": {},
   "outputs": [],
   "source": [
    "# # i updated the data\n",
    "# src = '/home/lindb/teakettle/data/'\n",
    "# dst = '/home/lindb/teakettle/data_old'\n",
    "# if not op.exists(dst):\n",
    "#     mv(src,dst)\n",
    "\n",
    "DIR = '/home/lindb/teakettle/data/moran'\n",
    "if not op.exists(DIR):\n",
    "    os.makedirs(DIR)\n",
    "newc.to_csv(op.join(DIR,'moran_infile_final_jan.txt'),header=True,index=False,sep='\\t')"
   ]
  },
  {
   "cell_type": "code",
   "execution_count": null,
   "metadata": {},
   "outputs": [],
   "source": []
  }
 ],
 "metadata": {
  "kernelspec": {
   "display_name": "Python 2",
   "language": "python",
   "name": "python2"
  },
  "language_info": {
   "codemirror_mode": {
    "name": "ipython",
    "version": 2
   },
   "file_extension": ".py",
   "mimetype": "text/x-python",
   "name": "python",
   "nbconvert_exporter": "python",
   "pygments_lexer": "ipython2",
   "version": "2.7.13"
  }
 },
 "nbformat": 4,
 "nbformat_minor": 2
}
